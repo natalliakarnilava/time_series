{
 "cells": [
  {
   "cell_type": "markdown",
   "metadata": {
    "toc": true
   },
   "source": [
    "<h1>Содержание<span class=\"tocSkip\"></span></h1>\n",
    "<div class=\"toc\"><ul class=\"toc-item\"><li><span><a href=\"#Подготовка\" data-toc-modified-id=\"Подготовка-1\"><span class=\"toc-item-num\">1&nbsp;&nbsp;</span>Подготовка</a></span></li><li><span><a href=\"#Анализ\" data-toc-modified-id=\"Анализ-2\"><span class=\"toc-item-num\">2&nbsp;&nbsp;</span>Анализ</a></span></li><li><span><a href=\"#Обучение\" data-toc-modified-id=\"Обучение-3\"><span class=\"toc-item-num\">3&nbsp;&nbsp;</span>Обучение</a></span><ul class=\"toc-item\"><li><span><a href=\"#Линейная-регрессия\" data-toc-modified-id=\"Линейная-регрессия-3.1\"><span class=\"toc-item-num\">3.1&nbsp;&nbsp;</span>Линейная регрессия</a></span></li><li><span><a href=\"#Случайный-лес-в-регрессии\" data-toc-modified-id=\"Случайный-лес-в-регрессии-3.2\"><span class=\"toc-item-num\">3.2&nbsp;&nbsp;</span>Случайный лес в регрессии</a></span></li><li><span><a href=\"#Catboost\" data-toc-modified-id=\"Catboost-3.3\"><span class=\"toc-item-num\">3.3&nbsp;&nbsp;</span>Catboost</a></span></li></ul></li><li><span><a href=\"#Тестирование\" data-toc-modified-id=\"Тестирование-4\"><span class=\"toc-item-num\">4&nbsp;&nbsp;</span>Тестирование</a></span><ul class=\"toc-item\"><li><span><a href=\"#Общий-вывод\" data-toc-modified-id=\"Общий-вывод-4.1\"><span class=\"toc-item-num\">4.1&nbsp;&nbsp;</span>Общий вывод</a></span>"
   ]
  },
  {
   "cell_type": "markdown",
   "metadata": {},
   "source": [
    "#  Описание проекта"
   ]
  },
  {
   "cell_type": "markdown",
   "metadata": {},
   "source": [
    "Компания «Чётенькое такси» собрала исторические данные о заказах такси в аэропортах. Чтобы привлекать больше водителей в период пиковой нагрузки, нужно спрогнозировать количество заказов такси на следующий час. Необходимо построить модель для такого предсказания.\n",
    "\n",
    "При этом  *RMSE* на тестовой выборке должно быть не больше 48."
   ]
  },
  {
   "cell_type": "markdown",
   "metadata": {},
   "source": [
    "## Подготовка"
   ]
  },
  {
   "cell_type": "markdown",
   "metadata": {},
   "source": [
    "Импортируем все библиотеки, необходимые для работы:"
   ]
  },
  {
   "cell_type": "code",
   "execution_count": 1,
   "metadata": {},
   "outputs": [],
   "source": [
    "import pandas as pd\n",
    "import matplotlib.pyplot as plt\n",
    "import numpy as np\n",
    "from statsmodels.tsa.seasonal import seasonal_decompose\n",
    "from sklearn.metrics import mean_squared_error\n",
    "from sklearn.linear_model import LinearRegression\n",
    "from sklearn.model_selection import train_test_split\n",
    "from sklearn.tree import DecisionTreeRegressor\n",
    "from sklearn.ensemble import RandomForestRegressor\n",
    "from sklearn.preprocessing import  StandardScaler \n",
    "from catboost import Pool, CatBoostRegressor\n",
    "from statsmodels.tsa.stattools import adfuller\n",
    "from sklearn.model_selection import GridSearchCV\n",
    "from sklearn.model_selection import TimeSeriesSplit"
   ]
  },
  {
   "cell_type": "markdown",
   "metadata": {},
   "source": [
    "Сохраним в переменную data данные из csv-файла:"
   ]
  },
  {
   "cell_type": "code",
   "execution_count": 2,
   "metadata": {
    "scrolled": true
   },
   "outputs": [],
   "source": [
    "data = pd.read_csv('/datasets/taxi.csv', index_col=[0], parse_dates=[0])"
   ]
  },
  {
   "cell_type": "markdown",
   "metadata": {},
   "source": [
    "Просмотрим общую информацию о данных с помощью метода `info()`:"
   ]
  },
  {
   "cell_type": "code",
   "execution_count": 3,
   "metadata": {
    "scrolled": true
   },
   "outputs": [
    {
     "name": "stdout",
     "output_type": "stream",
     "text": [
      "<class 'pandas.core.frame.DataFrame'>\n",
      "DatetimeIndex: 26496 entries, 2018-03-01 00:00:00 to 2018-08-31 23:50:00\n",
      "Data columns (total 1 columns):\n",
      " #   Column      Non-Null Count  Dtype\n",
      "---  ------      --------------  -----\n",
      " 0   num_orders  26496 non-null  int64\n",
      "dtypes: int64(1)\n",
      "memory usage: 414.0 KB\n"
     ]
    }
   ],
   "source": [
    "data.info()"
   ]
  },
  {
   "cell_type": "markdown",
   "metadata": {},
   "source": [
    "Отсортируем таблицу по индексу с помощью метода sort_index():"
   ]
  },
  {
   "cell_type": "code",
   "execution_count": 4,
   "metadata": {
    "scrolled": true
   },
   "outputs": [],
   "source": [
    "data = data.sort_index()"
   ]
  },
  {
   "cell_type": "markdown",
   "metadata": {},
   "source": [
    "Выведем таблицу на экран:"
   ]
  },
  {
   "cell_type": "code",
   "execution_count": 5,
   "metadata": {
    "scrolled": true
   },
   "outputs": [
    {
     "data": {
      "text/html": [
       "<div>\n",
       "<style scoped>\n",
       "    .dataframe tbody tr th:only-of-type {\n",
       "        vertical-align: middle;\n",
       "    }\n",
       "\n",
       "    .dataframe tbody tr th {\n",
       "        vertical-align: top;\n",
       "    }\n",
       "\n",
       "    .dataframe thead th {\n",
       "        text-align: right;\n",
       "    }\n",
       "</style>\n",
       "<table border=\"1\" class=\"dataframe\">\n",
       "  <thead>\n",
       "    <tr style=\"text-align: right;\">\n",
       "      <th></th>\n",
       "      <th>num_orders</th>\n",
       "    </tr>\n",
       "    <tr>\n",
       "      <th>datetime</th>\n",
       "      <th></th>\n",
       "    </tr>\n",
       "  </thead>\n",
       "  <tbody>\n",
       "    <tr>\n",
       "      <th>2018-03-01 00:00:00</th>\n",
       "      <td>9</td>\n",
       "    </tr>\n",
       "    <tr>\n",
       "      <th>2018-03-01 00:10:00</th>\n",
       "      <td>14</td>\n",
       "    </tr>\n",
       "    <tr>\n",
       "      <th>2018-03-01 00:20:00</th>\n",
       "      <td>28</td>\n",
       "    </tr>\n",
       "    <tr>\n",
       "      <th>2018-03-01 00:30:00</th>\n",
       "      <td>20</td>\n",
       "    </tr>\n",
       "    <tr>\n",
       "      <th>2018-03-01 00:40:00</th>\n",
       "      <td>32</td>\n",
       "    </tr>\n",
       "    <tr>\n",
       "      <th>...</th>\n",
       "      <td>...</td>\n",
       "    </tr>\n",
       "    <tr>\n",
       "      <th>2018-08-31 23:10:00</th>\n",
       "      <td>32</td>\n",
       "    </tr>\n",
       "    <tr>\n",
       "      <th>2018-08-31 23:20:00</th>\n",
       "      <td>24</td>\n",
       "    </tr>\n",
       "    <tr>\n",
       "      <th>2018-08-31 23:30:00</th>\n",
       "      <td>27</td>\n",
       "    </tr>\n",
       "    <tr>\n",
       "      <th>2018-08-31 23:40:00</th>\n",
       "      <td>39</td>\n",
       "    </tr>\n",
       "    <tr>\n",
       "      <th>2018-08-31 23:50:00</th>\n",
       "      <td>53</td>\n",
       "    </tr>\n",
       "  </tbody>\n",
       "</table>\n",
       "<p>26496 rows × 1 columns</p>\n",
       "</div>"
      ],
      "text/plain": [
       "                     num_orders\n",
       "datetime                       \n",
       "2018-03-01 00:00:00           9\n",
       "2018-03-01 00:10:00          14\n",
       "2018-03-01 00:20:00          28\n",
       "2018-03-01 00:30:00          20\n",
       "2018-03-01 00:40:00          32\n",
       "...                         ...\n",
       "2018-08-31 23:10:00          32\n",
       "2018-08-31 23:20:00          24\n",
       "2018-08-31 23:30:00          27\n",
       "2018-08-31 23:40:00          39\n",
       "2018-08-31 23:50:00          53\n",
       "\n",
       "[26496 rows x 1 columns]"
      ]
     },
     "execution_count": 5,
     "metadata": {},
     "output_type": "execute_result"
    }
   ],
   "source": [
    "data"
   ]
  },
  {
   "cell_type": "markdown",
   "metadata": {},
   "source": [
    "Как видим, индексы установлены корректно, сортировка выполнена успешно. Помимо этого можно заметить, что в нашей таблице находятся данные за полгода: от 1 марта 2018 года до 31 августа 2018 года."
   ]
  },
  {
   "cell_type": "markdown",
   "metadata": {},
   "source": [
    "Проверим, в хронологическом ли порядке расположены даты и время. Для этого используем атрибут индекса таблицы is_monotonic:"
   ]
  },
  {
   "cell_type": "code",
   "execution_count": 6,
   "metadata": {},
   "outputs": [
    {
     "data": {
      "text/plain": [
       "True"
      ]
     },
     "execution_count": 6,
     "metadata": {},
     "output_type": "execute_result"
    }
   ],
   "source": [
    "data.index.is_monotonic"
   ]
  },
  {
   "cell_type": "markdown",
   "metadata": {},
   "source": [
    "Атрибут вернул `True`, значит порядок соблюдён."
   ]
  },
  {
   "cell_type": "markdown",
   "metadata": {},
   "source": [
    "Выполним ресемплирование. В качестве интервала зададим 1 час, а в качестве агрегированного значения - сумму:"
   ]
  },
  {
   "cell_type": "code",
   "execution_count": 7,
   "metadata": {},
   "outputs": [],
   "source": [
    "data = data.resample('1H').sum()"
   ]
  },
  {
   "cell_type": "markdown",
   "metadata": {},
   "source": [
    "Проверим, как сработало ресемплирование. Для этого выведем первые 5 строк полученной таблицы:"
   ]
  },
  {
   "cell_type": "code",
   "execution_count": 8,
   "metadata": {},
   "outputs": [
    {
     "data": {
      "text/html": [
       "<div>\n",
       "<style scoped>\n",
       "    .dataframe tbody tr th:only-of-type {\n",
       "        vertical-align: middle;\n",
       "    }\n",
       "\n",
       "    .dataframe tbody tr th {\n",
       "        vertical-align: top;\n",
       "    }\n",
       "\n",
       "    .dataframe thead th {\n",
       "        text-align: right;\n",
       "    }\n",
       "</style>\n",
       "<table border=\"1\" class=\"dataframe\">\n",
       "  <thead>\n",
       "    <tr style=\"text-align: right;\">\n",
       "      <th></th>\n",
       "      <th>num_orders</th>\n",
       "    </tr>\n",
       "    <tr>\n",
       "      <th>datetime</th>\n",
       "      <th></th>\n",
       "    </tr>\n",
       "  </thead>\n",
       "  <tbody>\n",
       "    <tr>\n",
       "      <th>2018-03-01 00:00:00</th>\n",
       "      <td>124</td>\n",
       "    </tr>\n",
       "    <tr>\n",
       "      <th>2018-03-01 01:00:00</th>\n",
       "      <td>85</td>\n",
       "    </tr>\n",
       "    <tr>\n",
       "      <th>2018-03-01 02:00:00</th>\n",
       "      <td>71</td>\n",
       "    </tr>\n",
       "    <tr>\n",
       "      <th>2018-03-01 03:00:00</th>\n",
       "      <td>66</td>\n",
       "    </tr>\n",
       "    <tr>\n",
       "      <th>2018-03-01 04:00:00</th>\n",
       "      <td>43</td>\n",
       "    </tr>\n",
       "  </tbody>\n",
       "</table>\n",
       "</div>"
      ],
      "text/plain": [
       "                     num_orders\n",
       "datetime                       \n",
       "2018-03-01 00:00:00         124\n",
       "2018-03-01 01:00:00          85\n",
       "2018-03-01 02:00:00          71\n",
       "2018-03-01 03:00:00          66\n",
       "2018-03-01 04:00:00          43"
      ]
     },
     "execution_count": 8,
     "metadata": {},
     "output_type": "execute_result"
    }
   ],
   "source": [
    "data.head()"
   ]
  },
  {
   "cell_type": "markdown",
   "metadata": {},
   "source": [
    "## Анализ"
   ]
  },
  {
   "cell_type": "markdown",
   "metadata": {},
   "source": [
    "Проанализируем полученные данные. Для этого построим график количества заказов:"
   ]
  },
  {
   "cell_type": "code",
   "execution_count": 9,
   "metadata": {
    "scrolled": true
   },
   "outputs": [
    {
     "data": {
      "image/png": "[encoded data removed]",
      "text/plain": [
       "<Figure size 1080x288 with 1 Axes>"
      ]
     },
     "metadata": {
      "needs_background": "light"
     },
     "output_type": "display_data"
    }
   ],
   "source": [
    "data['rolling_mean_week'] = data.rolling(168).mean()\n",
    "data.plot(figsize = (15,4), title = 'Количество заказов по часам и скользящее среднее за неделю ')\n",
    "data = data.drop('rolling_mean_week', axis=1)"
   ]
  },
  {
   "cell_type": "markdown",
   "metadata": {},
   "source": [
    "Так как ближе к концу графика мы видим небольшой восходящий тренд, то проверим наш временной ряд на стационарность при помощи обобщенного теста Дикки-Фуллера:"
   ]
  },
  {
   "cell_type": "code",
   "execution_count": 10,
   "metadata": {
    "scrolled": true
   },
   "outputs": [
    {
     "name": "stdout",
     "output_type": "stream",
     "text": [
      "adf: -10.891452237749158\n",
      "p-value 4.0549397892403547e-17\n",
      "critical values: {'1%': -4.373775161444573, '5%': -3.8337377543683258, '10%': -3.554095038926073}\n",
      "единичных корней нет, ряд стационарен\n"
     ]
    }
   ],
   "source": [
    "from statsmodels.tsa.stattools import adfuller\n",
    "\n",
    "st_test = adfuller(data['num_orders'], regression='ctt')\n",
    "print('adf:', st_test[0])\n",
    "print('p-value', st_test[1])\n",
    "print('critical values:', st_test[4])\n",
    "if st_test[0] > st_test[4]['5%']:\n",
    "    print('есть единичные корни, ряд не стационарен')\n",
    "else:\n",
    "    print('единичных корней нет, ряд стационарен')"
   ]
  },
  {
   "cell_type": "markdown",
   "metadata": {},
   "source": [
    "По результатам теста наш временной ряд стационарен."
   ]
  },
  {
   "cell_type": "markdown",
   "metadata": {},
   "source": [
    "Для того, чтобы лучше проанализировать данные, воспользуемся функцией `seasonal_decompose()` из модуля `tsa.seasonal` библиотеки `statsmodels`. С помощью нее мы разложим временной ряд на три составляющие: тренд, сезонность и остаток:"
   ]
  },
  {
   "cell_type": "code",
   "execution_count": 11,
   "metadata": {},
   "outputs": [],
   "source": [
    "decomposed = seasonal_decompose(data)"
   ]
  },
  {
   "cell_type": "markdown",
   "metadata": {},
   "source": [
    "Выведем графики тренда, сезонности и остатка:"
   ]
  },
  {
   "cell_type": "code",
   "execution_count": 12,
   "metadata": {},
   "outputs": [
    {
     "data": {
      "image/png": "[encoded data removed]",
      "text/plain": [
       "<Figure size 432x864 with 3 Axes>"
      ]
     },
     "metadata": {
      "needs_background": "light"
     },
     "output_type": "display_data"
    }
   ],
   "source": [
    "plt.figure(figsize=(6, 12))\n",
    "plt.subplot(311)\n",
    "decomposed.trend.plot(ax=plt.gca())\n",
    "plt.title('Trend')\n",
    "plt.subplot(312)\n",
    "decomposed.seasonal.plot(ax=plt.gca())\n",
    "plt.title('Seasonality')\n",
    "plt.subplot(313)\n",
    "decomposed.resid.plot(ax=plt.gca())\n",
    "plt.title('Residuals')\n",
    "plt.tight_layout()"
   ]
  },
  {
   "cell_type": "markdown",
   "metadata": {},
   "source": [
    "Что касается тренда, то из графика видно, что общее количество заказов такси увеличивается. Остатки (Residiuals) необъяснимы. А сезонность разберем подробнее. Для этого выведем ее отдельно для отрезка в 15 дней. Возьмем  период с 1 по 15 марта:"
   ]
  },
  {
   "cell_type": "code",
   "execution_count": 13,
   "metadata": {
    "scrolled": true
   },
   "outputs": [
    {
     "data": {
      "image/png": "[encoded data removed]",
      "text/plain": [
       "<Figure size 1080x288 with 1 Axes>"
      ]
     },
     "metadata": {
      "needs_background": "light"
     },
     "output_type": "display_data"
    }
   ],
   "source": [
    "decomposed.seasonal['2018-03-01':'2018-03-15'].plot(figsize = (15,4), title='График суточной сезонности в период с 1 по 15 марта 2018 года')\n",
    "plt.show()"
   ]
  },
  {
   "cell_type": "markdown",
   "metadata": {},
   "source": [
    "Как видим, для графика сезонности характерно ежедневное наличие 3 пиков. Так как мы исследуем изменение количества заказов такси по часам, то выведем график сезонности подробнее, а именно для периода в 2 дня - с 1 по 2 марта:"
   ]
  },
  {
   "cell_type": "code",
   "execution_count": 14,
   "metadata": {
    "scrolled": true
   },
   "outputs": [
    {
     "data": {
      "image/png": "[encoded data removed]",
      "text/plain": [
       "<Figure size 1080x288 with 1 Axes>"
      ]
     },
     "metadata": {
      "needs_background": "light"
     },
     "output_type": "display_data"
    }
   ],
   "source": [
    "decomposed.seasonal['2018-03-01':'2018-03-02'].plot(figsize = (15,4), title='График суточной сезонности в период с 1 по 2 марта 2018 года')\n",
    "plt.show()"
   ]
  },
  {
   "cell_type": "markdown",
   "metadata": {},
   "source": [
    "Исходя из графика можно сделать следующие выводы:\n",
    "1) Абсолютный минимум заказов в 6 утра\n",
    "\n",
    "2) С 8 до 10 утра наблюдается утренний пик (возможная причина: люди вызывают такси, чтобы не ехать с чемоданами в общественном транспорте в час-пик )\n",
    "\n",
    "3) Второй пик приходится на 15-17 часов (аналогично предыдущему пункту)\n",
    "\n",
    "4) Третий пик наблюдается в вечернее время с 22 до 01 часов. Это можно объяснить тем, что, вероятно, люди  не могут воспользоваться общественным транспортом (уже не ходит в это время), поэтому вызывают такси."
   ]
  },
  {
   "cell_type": "markdown",
   "metadata": {},
   "source": [
    "Теперь исследуем недельную сезонность. Для этого ресемплируем датасет по дням, а затем выведем график сезонности в период с 1 по 31 марта 2018 года"
   ]
  },
  {
   "cell_type": "code",
   "execution_count": 15,
   "metadata": {},
   "outputs": [
    {
     "data": {
      "image/png": "[encoded data removed]",
      "text/plain": [
       "<Figure size 1080x288 with 1 Axes>"
      ]
     },
     "metadata": {
      "needs_background": "light"
     },
     "output_type": "display_data"
    }
   ],
   "source": [
    "decomposed = seasonal_decompose(data.resample('1D').sum())\n",
    "decomposed.seasonal['2018-03-01':'2018-03-31'].plot(figsize = (15,4), title='График недельной сезонности за март 2018 года')\n",
    "plt.show()"
   ]
  },
  {
   "cell_type": "markdown",
   "metadata": {},
   "source": [
    "Исходя из графика можно сделать следующие выводы:\n",
    "\n",
    "* Есть четко выраженная недельная сезонность.\n",
    "\n",
    "* Минимум заказов приходится на вторники и воскресенья\n",
    "\n",
    "* Максимальное количество заказов происходит в понедельники и пятницы"
   ]
  },
  {
   "cell_type": "markdown",
   "metadata": {},
   "source": [
    "## Обучение"
   ]
  },
  {
   "cell_type": "markdown",
   "metadata": {},
   "source": [
    "В нашей таблице всего 1 столбец - количество заказов. Для того, чтобы обучить модели нам надо создать дополнительные признаки. Для этого напишем функцию make_features().\n",
    "\n",
    "* Календарные признаки. Так как в нашей таблице содержатся только данные за пол года, то выделим следующие признаки: день недели, часы\n",
    "\n",
    "* Предыдущие значения. Cоздадим столбцы с отстающими значениями с максимальным размером отставания в 5 часов.\n",
    "\n",
    "* Cкользящее среднее. Ранее мы выяснили, что пики заказов приходятся на промежутки по 2-4 часа. Поэтому зададим ширину окна в 3 часа. Помимо этого создадим скользящее среднее по дням (24 часа) и за 3 дня, так как ранее мы выявили недельную сезонность.\n",
    "\n",
    "На вход функцию make_features() будет принимать последовательно датасет, размер максимального отставания, ширину окна для скользящего среднего.\n"
   ]
  },
  {
   "cell_type": "code",
   "execution_count": 16,
   "metadata": {},
   "outputs": [],
   "source": [
    "def make_features(data, max_lag, rolling_mean_size):\n",
    "\n",
    "    data['dayofweek'] = data.index.dayofweek\n",
    "    data['hour'] = data.index.hour\n",
    "    \n",
    "    for lag in range(1, max_lag + 1):\n",
    "        data['lag_{}'.format(lag)] = data['num_orders'].shift(lag)\n",
    "\n",
    "    data['rolling_mean'] = data['num_orders'].shift().rolling(rolling_mean_size).mean()\n",
    "    data['rolling_mean_2'] = data['num_orders'].shift().rolling(24).mean()#скользящее среднее за сутки\n",
    "    data['rolling_mean_3'] = data['num_orders'].shift().rolling(72).mean()#скользящее среднее за 3 суток\n",
    "\n",
    "\n",
    "make_features(data, 5, 3)\n"
   ]
  },
  {
   "cell_type": "markdown",
   "metadata": {},
   "source": [
    "Удалим строки, содержащие пропуски:"
   ]
  },
  {
   "cell_type": "code",
   "execution_count": 17,
   "metadata": {},
   "outputs": [],
   "source": [
    "data = data.dropna()"
   ]
  },
  {
   "cell_type": "markdown",
   "metadata": {},
   "source": [
    "В качестве дополнительного признака создадим столбец, который будет содержать разницу между количеством заказов в предыдущий и предшествующий тому часы:"
   ]
  },
  {
   "cell_type": "code",
   "execution_count": 18,
   "metadata": {
    "scrolled": false
   },
   "outputs": [],
   "source": [
    "data['lag_1-lag_2'] = data['lag_1']-data['lag_2']"
   ]
  },
  {
   "cell_type": "markdown",
   "metadata": {},
   "source": [
    "Прежде чем обучать модели нам надо разбить датасет на обучающую и тестовую выборки. При этом размер тестовой выборки должен составлять 10% от всей. Целевой признак - столбец 'num_orders':"
   ]
  },
  {
   "cell_type": "code",
   "execution_count": 19,
   "metadata": {},
   "outputs": [],
   "source": [
    "train, test = train_test_split(data, shuffle=False, test_size=0.1)\n",
    "\n",
    "features_train = train.drop('num_orders', axis=1)\n",
    "target_train = train['num_orders']\n",
    "\n",
    "features_test = test.drop('num_orders', axis=1)\n",
    "target_test = test['num_orders']"
   ]
  },
  {
   "cell_type": "markdown",
   "metadata": {},
   "source": [
    "### Линейная регрессия"
   ]
  },
  {
   "cell_type": "markdown",
   "metadata": {},
   "source": [
    "Первой обучим модель линейной регрессии.\n",
    "\n",
    "Для подбора параметров будем использовать GridSearchCV, а для кросс-валидации на временных рядах TimeSeriesSplit.\n",
    "В качестве параметров зададим normalize и fit_intercept:"
   ]
  },
  {
   "cell_type": "code",
   "execution_count": 20,
   "metadata": {},
   "outputs": [
    {
     "data": {
      "text/plain": [
       "{'fit_intercept': False, 'normalize': True}"
      ]
     },
     "execution_count": 20,
     "metadata": {},
     "output_type": "execute_result"
    }
   ],
   "source": [
    "parametrs = {'normalize': [True, False],\n",
    "            'fit_intercept': [True, False]}\n",
    "\n",
    "             \n",
    "linear = LinearRegression()\n",
    "tscv = TimeSeriesSplit(n_splits=10)\n",
    "grid = GridSearchCV(linear, parametrs, cv=tscv, scoring= 'neg_root_mean_squared_error')\n",
    "grid.fit(features_train, target_train)\n",
    "grid.best_params_"
   ]
  },
  {
   "cell_type": "markdown",
   "metadata": {},
   "source": [
    "Выведем лучшее значение RMSE c помощью атрибута best_score_:"
   ]
  },
  {
   "cell_type": "code",
   "execution_count": 21,
   "metadata": {},
   "outputs": [
    {
     "data": {
      "text/plain": [
       "-31.04345413206618"
      ]
     },
     "execution_count": 21,
     "metadata": {},
     "output_type": "execute_result"
    }
   ],
   "source": [
    "grid.best_score_"
   ]
  },
  {
   "cell_type": "markdown",
   "metadata": {},
   "source": [
    "Таким образом минимум RMSE равный 31.04 достигается при normalize=True и fit_intercept=False."
   ]
  },
  {
   "cell_type": "markdown",
   "metadata": {},
   "source": [
    "### Случайный лес в регрессии"
   ]
  },
  {
   "cell_type": "markdown",
   "metadata": {},
   "source": [
    "Далее обучим модель случайного леса в регрессии - RandomForestRegressor(). В качестве изменяемого гиперпараметра выберем n_estimators. Диапазон значений - от 1 до 8 включительно:"
   ]
  },
  {
   "cell_type": "code",
   "execution_count": 22,
   "metadata": {},
   "outputs": [
    {
     "data": {
      "text/plain": [
       "{'n_estimators': 9}"
      ]
     },
     "execution_count": 22,
     "metadata": {},
     "output_type": "execute_result"
    }
   ],
   "source": [
    "parametrs = {'n_estimators': range(1, 10)}\n",
    "\n",
    "             \n",
    "random_forest = RandomForestRegressor(random_state=12345)\n",
    "tscv = TimeSeriesSplit(n_splits=10)\n",
    "grid = GridSearchCV(random_forest, parametrs, cv=tscv, scoring= 'neg_root_mean_squared_error')\n",
    "grid.fit(features_train, target_train)\n",
    "grid.best_params_"
   ]
  },
  {
   "cell_type": "code",
   "execution_count": 23,
   "metadata": {},
   "outputs": [
    {
     "data": {
      "text/plain": [
       "-25.091856831404776"
      ]
     },
     "execution_count": 23,
     "metadata": {},
     "output_type": "execute_result"
    }
   ],
   "source": [
    "grid.best_score_"
   ]
  },
  {
   "cell_type": "markdown",
   "metadata": {},
   "source": [
    "Как видим, минимум RMSE равный 25.09 достигается при n_estimators=9."
   ]
  },
  {
   "cell_type": "markdown",
   "metadata": {},
   "source": [
    "### Catboost"
   ]
  },
  {
   "cell_type": "markdown",
   "metadata": {},
   "source": [
    "Далее перейдем к модели градиентного бустинга из библиотеки Catboost - CatBoostRegressor(). Исследуем параметры iterations (максимальное количество деревьев, которые могут быть построены при решении) и  depth (глубина дерева):"
   ]
  },
  {
   "cell_type": "code",
   "execution_count": 24,
   "metadata": {},
   "outputs": [
    {
     "name": "stdout",
     "output_type": "stream",
     "text": [
      "0:\tlearn: 25.7547932\ttotal: 46.4ms\tremaining: 0us\n",
      "0:\tlearn: 26.6653712\ttotal: 361us\tremaining: 0us\n",
      "0:\tlearn: 26.7928867\ttotal: 371us\tremaining: 0us\n",
      "0:\tlearn: 28.1671844\ttotal: 364us\tremaining: 0us\n",
      "0:\tlearn: 28.4439756\ttotal: 402us\tremaining: 0us\n",
      "0:\tlearn: 29.7588511\ttotal: 471us\tremaining: 0us\n",
      "0:\tlearn: 30.1220968\ttotal: 454us\tremaining: 0us\n",
      "0:\tlearn: 30.5683509\ttotal: 562us\tremaining: 0us\n",
      "0:\tlearn: 31.0908160\ttotal: 619us\tremaining: 0us\n",
      "0:\tlearn: 32.5215702\ttotal: 544us\tremaining: 0us\n",
      "0:\tlearn: 25.7547932\ttotal: 221us\tremaining: 221us\n",
      "1:\tlearn: 24.2737274\ttotal: 535us\tremaining: 0us\n",
      "0:\tlearn: 26.6653712\ttotal: 338us\tremaining: 338us\n",
      "1:\tlearn: 24.2959572\ttotal: 799us\tremaining: 0us\n",
      "0:\tlearn: 26.7928867\ttotal: 370us\tremaining: 370us\n",
      "1:\tlearn: 24.9772000\ttotal: 842us\tremaining: 0us\n",
      "0:\tlearn: 28.1671844\ttotal: 471us\tremaining: 471us\n",
      "1:\tlearn: 26.4566646\ttotal: 944us\tremaining: 0us\n",
      "0:\tlearn: 28.4439756\ttotal: 421us\tremaining: 421us\n",
      "1:\tlearn: 26.8980061\ttotal: 935us\tremaining: 0us\n",
      "0:\tlearn: 29.7588511\ttotal: 443us\tremaining: 443us\n",
      "1:\tlearn: 29.0154363\ttotal: 967us\tremaining: 0us\n",
      "0:\tlearn: 30.1220968\ttotal: 497us\tremaining: 497us\n",
      "1:\tlearn: 29.1611384\ttotal: 899us\tremaining: 0us\n",
      "0:\tlearn: 30.5683509\ttotal: 531us\tremaining: 531us\n",
      "1:\tlearn: 29.6208962\ttotal: 1.14ms\tremaining: 0us\n",
      "0:\tlearn: 31.0908160\ttotal: 577us\tremaining: 577us\n",
      "1:\tlearn: 30.1246647\ttotal: 1.16ms\tremaining: 0us\n",
      "0:\tlearn: 32.5215702\ttotal: 606us\tremaining: 606us\n",
      "1:\tlearn: 31.4541662\ttotal: 1.15ms\tremaining: 0us\n",
      "0:\tlearn: 25.7547932\ttotal: 283us\tremaining: 567us\n",
      "1:\tlearn: 24.2737274\ttotal: 616us\tremaining: 308us\n",
      "2:\tlearn: 22.9964143\ttotal: 861us\tremaining: 0us\n",
      "0:\tlearn: 26.6653712\ttotal: 327us\tremaining: 655us\n",
      "1:\tlearn: 24.2959572\ttotal: 826us\tremaining: 413us\n",
      "2:\tlearn: 22.7136338\ttotal: 1.18ms\tremaining: 0us\n",
      "0:\tlearn: 26.7928867\ttotal: 332us\tremaining: 664us\n",
      "1:\tlearn: 24.9772000\ttotal: 737us\tremaining: 368us\n",
      "2:\tlearn: 23.4062738\ttotal: 982us\tremaining: 0us\n",
      "0:\tlearn: 28.1671844\ttotal: 351us\tremaining: 702us\n",
      "1:\tlearn: 26.4566646\ttotal: 717us\tremaining: 358us\n",
      "2:\tlearn: 25.2295969\ttotal: 960us\tremaining: 0us\n",
      "0:\tlearn: 28.4439756\ttotal: 384us\tremaining: 769us\n",
      "1:\tlearn: 26.8980061\ttotal: 880us\tremaining: 440us\n",
      "2:\tlearn: 26.0605037\ttotal: 1.14ms\tremaining: 0us\n",
      "0:\tlearn: 29.7588511\ttotal: 426us\tremaining: 852us\n",
      "1:\tlearn: 29.0154363\ttotal: 850us\tremaining: 425us\n",
      "2:\tlearn: 27.7876765\ttotal: 1.21ms\tremaining: 0us\n",
      "0:\tlearn: 30.1220968\ttotal: 403us\tremaining: 807us\n",
      "1:\tlearn: 29.1611384\ttotal: 959us\tremaining: 479us\n",
      "2:\tlearn: 27.8427974\ttotal: 1.33ms\tremaining: 0us\n",
      "0:\tlearn: 30.5683509\ttotal: 557us\tremaining: 1.11ms\n",
      "1:\tlearn: 29.6208962\ttotal: 1.08ms\tremaining: 539us\n",
      "2:\tlearn: 28.2955514\ttotal: 1.47ms\tremaining: 0us\n",
      "0:\tlearn: 31.0908160\ttotal: 498us\tremaining: 996us\n",
      "1:\tlearn: 30.1246647\ttotal: 1.04ms\tremaining: 520us\n",
      "2:\tlearn: 29.0233774\ttotal: 1.45ms\tremaining: 0us\n",
      "0:\tlearn: 32.5215702\ttotal: 498us\tremaining: 997us\n",
      "1:\tlearn: 31.4541662\ttotal: 1.2ms\tremaining: 599us\n",
      "2:\tlearn: 29.9380178\ttotal: 1.66ms\tremaining: 0us\n",
      "0:\tlearn: 25.7547932\ttotal: 244us\tremaining: 733us\n",
      "1:\tlearn: 24.2737274\ttotal: 543us\tremaining: 543us\n",
      "2:\tlearn: 22.9964143\ttotal: 684us\tremaining: 228us\n",
      "3:\tlearn: 20.8506332\ttotal: 867us\tremaining: 0us\n",
      "0:\tlearn: 26.6653712\ttotal: 275us\tremaining: 827us\n",
      "1:\tlearn: 24.2959572\ttotal: 668us\tremaining: 668us\n",
      "2:\tlearn: 22.7136338\ttotal: 848us\tremaining: 282us\n",
      "3:\tlearn: 21.9326106\ttotal: 1.02ms\tremaining: 0us\n",
      "0:\tlearn: 26.7928867\ttotal: 313us\tremaining: 939us\n",
      "1:\tlearn: 24.9772000\ttotal: 804us\tremaining: 804us\n",
      "2:\tlearn: 23.4062738\ttotal: 1.07ms\tremaining: 356us\n",
      "3:\tlearn: 22.4965311\ttotal: 1.36ms\tremaining: 0us\n",
      "0:\tlearn: 28.1671844\ttotal: 480us\tremaining: 1.44ms\n",
      "1:\tlearn: 26.4566646\ttotal: 957us\tremaining: 957us\n",
      "2:\tlearn: 25.2295969\ttotal: 1.21ms\tremaining: 403us\n",
      "3:\tlearn: 24.2503646\ttotal: 1.47ms\tremaining: 0us\n",
      "0:\tlearn: 28.4439756\ttotal: 399us\tremaining: 1.2ms\n",
      "1:\tlearn: 26.8980061\ttotal: 799us\tremaining: 799us\n",
      "2:\tlearn: 26.0605037\ttotal: 1.09ms\tremaining: 363us\n",
      "3:\tlearn: 25.0203358\ttotal: 1.38ms\tremaining: 0us\n",
      "0:\tlearn: 29.7588511\ttotal: 414us\tremaining: 1.24ms\n",
      "1:\tlearn: 29.0154363\ttotal: 921us\tremaining: 921us\n",
      "2:\tlearn: 27.7876765\ttotal: 1.28ms\tremaining: 425us\n",
      "3:\tlearn: 26.6205085\ttotal: 1.6ms\tremaining: 0us\n",
      "0:\tlearn: 30.1220968\ttotal: 449us\tremaining: 1.35ms\n",
      "1:\tlearn: 29.1611384\ttotal: 993us\tremaining: 993us\n",
      "2:\tlearn: 27.8427974\ttotal: 1.35ms\tremaining: 450us\n",
      "3:\tlearn: 26.7284417\ttotal: 1.7ms\tremaining: 0us\n",
      "0:\tlearn: 30.5683509\ttotal: 479us\tremaining: 1.44ms\n",
      "1:\tlearn: 29.6208962\ttotal: 1.04ms\tremaining: 1.04ms\n",
      "2:\tlearn: 28.2955514\ttotal: 1.37ms\tremaining: 455us\n",
      "3:\tlearn: 27.3548941\ttotal: 1.75ms\tremaining: 0us\n",
      "0:\tlearn: 31.0908160\ttotal: 511us\tremaining: 1.53ms\n",
      "1:\tlearn: 30.1246647\ttotal: 1.12ms\tremaining: 1.12ms\n",
      "2:\tlearn: 29.0233774\ttotal: 1.54ms\tremaining: 513us\n",
      "3:\tlearn: 28.0204405\ttotal: 1.97ms\tremaining: 0us\n",
      "0:\tlearn: 32.5215702\ttotal: 532us\tremaining: 1.6ms\n",
      "1:\tlearn: 31.4541662\ttotal: 1.14ms\tremaining: 1.14ms\n",
      "2:\tlearn: 29.9380178\ttotal: 1.56ms\tremaining: 521us\n",
      "3:\tlearn: 29.2995662\ttotal: 1.98ms\tremaining: 0us\n",
      "0:\tlearn: 25.7547932\ttotal: 225us\tremaining: 902us\n",
      "1:\tlearn: 24.2737274\ttotal: 534us\tremaining: 802us\n",
      "2:\tlearn: 22.9964143\ttotal: 804us\tremaining: 536us\n",
      "3:\tlearn: 20.8506332\ttotal: 1.09ms\tremaining: 271us\n",
      "4:\tlearn: 20.6045861\ttotal: 1.38ms\tremaining: 0us\n",
      "0:\tlearn: 26.6653712\ttotal: 320us\tremaining: 1.28ms\n",
      "1:\tlearn: 24.2959572\ttotal: 726us\tremaining: 1.09ms\n",
      "2:\tlearn: 22.7136338\ttotal: 909us\tremaining: 606us\n",
      "3:\tlearn: 21.9326106\ttotal: 1.1ms\tremaining: 276us\n",
      "4:\tlearn: 21.6075801\ttotal: 1.28ms\tremaining: 0us\n",
      "0:\tlearn: 26.7928867\ttotal: 307us\tremaining: 1.23ms\n",
      "1:\tlearn: 24.9772000\ttotal: 728us\tremaining: 1.09ms\n",
      "2:\tlearn: 23.4062738\ttotal: 942us\tremaining: 628us\n",
      "3:\tlearn: 22.4965311\ttotal: 1.15ms\tremaining: 288us\n",
      "4:\tlearn: 22.0730790\ttotal: 1.36ms\tremaining: 0us\n",
      "0:\tlearn: 28.1671844\ttotal: 352us\tremaining: 1.41ms\n",
      "1:\tlearn: 26.4566646\ttotal: 790us\tremaining: 1.19ms\n",
      "2:\tlearn: 25.2295969\ttotal: 1.04ms\tremaining: 691us\n",
      "3:\tlearn: 24.2503646\ttotal: 1.33ms\tremaining: 331us\n",
      "4:\tlearn: 23.7387228\ttotal: 1.57ms\tremaining: 0us\n",
      "0:\tlearn: 28.4439756\ttotal: 397us\tremaining: 1.59ms\n",
      "1:\tlearn: 26.8980061\ttotal: 849us\tremaining: 1.27ms\n",
      "2:\tlearn: 26.0605037\ttotal: 1.23ms\tremaining: 817us\n",
      "3:\tlearn: 25.0203358\ttotal: 1.57ms\tremaining: 392us\n",
      "4:\tlearn: 24.6778946\ttotal: 1.96ms\tremaining: 0us\n",
      "0:\tlearn: 29.7588511\ttotal: 410us\tremaining: 1.64ms\n",
      "1:\tlearn: 29.0154363\ttotal: 959us\tremaining: 1.44ms\n",
      "2:\tlearn: 27.7876765\ttotal: 1.4ms\tremaining: 930us\n",
      "3:\tlearn: 26.6205085\ttotal: 1.74ms\tremaining: 434us\n",
      "4:\tlearn: 25.8223199\ttotal: 2.11ms\tremaining: 0us\n",
      "0:\tlearn: 30.1220968\ttotal: 449us\tremaining: 1.8ms\n",
      "1:\tlearn: 29.1611384\ttotal: 898us\tremaining: 1.35ms\n",
      "2:\tlearn: 27.8427974\ttotal: 1.32ms\tremaining: 878us\n",
      "3:\tlearn: 26.7284417\ttotal: 1.67ms\tremaining: 417us\n",
      "4:\tlearn: 25.9910842\ttotal: 2.02ms\tremaining: 0us\n",
      "0:\tlearn: 30.5683509\ttotal: 547us\tremaining: 2.19ms\n",
      "1:\tlearn: 29.6208962\ttotal: 1.13ms\tremaining: 1.69ms\n",
      "2:\tlearn: 28.2955514\ttotal: 1.55ms\tremaining: 1.03ms\n",
      "3:\tlearn: 27.3548941\ttotal: 1.95ms\tremaining: 486us\n",
      "4:\tlearn: 26.6260743\ttotal: 2.32ms\tremaining: 0us\n",
      "0:\tlearn: 31.0908160\ttotal: 508us\tremaining: 2.03ms\n",
      "1:\tlearn: 30.1246647\ttotal: 1.11ms\tremaining: 1.66ms\n",
      "2:\tlearn: 29.0233774\ttotal: 1.52ms\tremaining: 1.01ms\n",
      "3:\tlearn: 28.0204405\ttotal: 1.96ms\tremaining: 489us\n",
      "4:\tlearn: 27.1888351\ttotal: 2.39ms\tremaining: 0us\n",
      "0:\tlearn: 32.5215702\ttotal: 547us\tremaining: 2.19ms\n",
      "1:\tlearn: 31.4541662\ttotal: 1.16ms\tremaining: 1.75ms\n",
      "2:\tlearn: 29.9380178\ttotal: 1.61ms\tremaining: 1.08ms\n",
      "3:\tlearn: 29.2995662\ttotal: 2.02ms\tremaining: 504us\n",
      "4:\tlearn: 28.3368235\ttotal: 2.47ms\tremaining: 0us\n",
      "0:\tlearn: 25.7547932\ttotal: 272us\tremaining: 1.36ms\n",
      "1:\tlearn: 24.2737274\ttotal: 628us\tremaining: 1.26ms\n",
      "2:\tlearn: 22.9964143\ttotal: 814us\tremaining: 814us\n",
      "3:\tlearn: 20.8506332\ttotal: 951us\tremaining: 475us\n",
      "4:\tlearn: 20.6045861\ttotal: 1.13ms\tremaining: 225us\n",
      "5:\tlearn: 20.2481570\ttotal: 1.38ms\tremaining: 0us\n",
      "0:\tlearn: 26.6653712\ttotal: 249us\tremaining: 1.25ms\n",
      "1:\tlearn: 24.2959572\ttotal: 522us\tremaining: 1.04ms\n",
      "2:\tlearn: 22.7136338\ttotal: 750us\tremaining: 750us\n",
      "3:\tlearn: 21.9326106\ttotal: 924us\tremaining: 462us\n",
      "4:\tlearn: 21.6075801\ttotal: 1.14ms\tremaining: 227us\n",
      "5:\tlearn: 20.9625943\ttotal: 1.3ms\tremaining: 0us\n",
      "0:\tlearn: 26.7928867\ttotal: 349us\tremaining: 1.75ms\n",
      "1:\tlearn: 24.9772000\ttotal: 771us\tremaining: 1.54ms\n",
      "2:\tlearn: 23.4062738\ttotal: 1.02ms\tremaining: 1.02ms\n",
      "3:\tlearn: 22.4965311\ttotal: 1.25ms\tremaining: 624us\n",
      "4:\tlearn: 22.0730790\ttotal: 1.45ms\tremaining: 289us\n",
      "5:\tlearn: 21.6105547\ttotal: 1.65ms\tremaining: 0us\n",
      "0:\tlearn: 28.1671844\ttotal: 346us\tremaining: 1.73ms\n",
      "1:\tlearn: 26.4566646\ttotal: 772us\tremaining: 1.54ms\n",
      "2:\tlearn: 25.2295969\ttotal: 1.05ms\tremaining: 1.05ms\n",
      "3:\tlearn: 24.2503646\ttotal: 1.37ms\tremaining: 684us\n",
      "4:\tlearn: 23.7387228\ttotal: 1.63ms\tremaining: 325us\n",
      "5:\tlearn: 23.2312972\ttotal: 1.93ms\tremaining: 0us\n",
      "0:\tlearn: 28.4439756\ttotal: 385us\tremaining: 1.93ms\n",
      "1:\tlearn: 26.8980061\ttotal: 877us\tremaining: 1.75ms\n",
      "2:\tlearn: 26.0605037\ttotal: 1.21ms\tremaining: 1.21ms\n",
      "3:\tlearn: 25.0203358\ttotal: 1.52ms\tremaining: 758us\n",
      "4:\tlearn: 24.6778946\ttotal: 1.83ms\tremaining: 365us\n",
      "5:\tlearn: 24.2066862\ttotal: 2.12ms\tremaining: 0us\n",
      "0:\tlearn: 29.7588511\ttotal: 453us\tremaining: 2.27ms\n",
      "1:\tlearn: 29.0154363\ttotal: 1.11ms\tremaining: 2.22ms\n",
      "2:\tlearn: 27.7876765\ttotal: 1.49ms\tremaining: 1.49ms\n",
      "3:\tlearn: 26.6205085\ttotal: 1.86ms\tremaining: 932us\n",
      "4:\tlearn: 25.8223199\ttotal: 2.27ms\tremaining: 454us\n",
      "5:\tlearn: 25.3055048\ttotal: 2.66ms\tremaining: 0us\n",
      "0:\tlearn: 30.1220968\ttotal: 500us\tremaining: 2.5ms\n",
      "1:\tlearn: 29.1611384\ttotal: 1.11ms\tremaining: 2.22ms\n",
      "2:\tlearn: 27.8427974\ttotal: 1.55ms\tremaining: 1.55ms\n",
      "3:\tlearn: 26.7284417\ttotal: 1.95ms\tremaining: 977us\n",
      "4:\tlearn: 25.9910842\ttotal: 2.32ms\tremaining: 464us\n",
      "5:\tlearn: 25.5786320\ttotal: 2.75ms\tremaining: 0us\n",
      "0:\tlearn: 30.5683509\ttotal: 547us\tremaining: 2.73ms\n",
      "1:\tlearn: 29.6208962\ttotal: 1.14ms\tremaining: 2.28ms\n",
      "2:\tlearn: 28.2955514\ttotal: 1.63ms\tremaining: 1.63ms\n",
      "3:\tlearn: 27.3548941\ttotal: 2.03ms\tremaining: 1.02ms\n",
      "4:\tlearn: 26.6260743\ttotal: 2.46ms\tremaining: 491us\n",
      "5:\tlearn: 26.2372039\ttotal: 2.87ms\tremaining: 0us\n",
      "0:\tlearn: 31.0908160\ttotal: 540us\tremaining: 2.7ms\n",
      "1:\tlearn: 30.1246647\ttotal: 1.25ms\tremaining: 2.5ms\n",
      "2:\tlearn: 29.0233774\ttotal: 1.74ms\tremaining: 1.74ms\n",
      "3:\tlearn: 28.0204405\ttotal: 2.18ms\tremaining: 1.09ms\n",
      "4:\tlearn: 27.1888351\ttotal: 2.6ms\tremaining: 520us\n",
      "5:\tlearn: 26.8528965\ttotal: 3.05ms\tremaining: 0us\n",
      "0:\tlearn: 32.5215702\ttotal: 655us\tremaining: 3.28ms\n",
      "1:\tlearn: 31.4541662\ttotal: 1.25ms\tremaining: 2.5ms\n",
      "2:\tlearn: 29.9380178\ttotal: 1.84ms\tremaining: 1.84ms\n",
      "3:\tlearn: 29.2995662\ttotal: 2.48ms\tremaining: 1.24ms\n",
      "4:\tlearn: 28.3368235\ttotal: 3.29ms\tremaining: 657us\n",
      "5:\tlearn: 27.8172706\ttotal: 3.79ms\tremaining: 0us\n",
      "0:\tlearn: 25.7547932\ttotal: 232us\tremaining: 1.39ms\n",
      "1:\tlearn: 24.2737274\ttotal: 639us\tremaining: 1.6ms\n",
      "2:\tlearn: 22.9964143\ttotal: 821us\tremaining: 1.09ms\n",
      "3:\tlearn: 20.8506332\ttotal: 1.11ms\tremaining: 829us\n",
      "4:\tlearn: 20.6045861\ttotal: 1.28ms\tremaining: 514us\n",
      "5:\tlearn: 20.2481570\ttotal: 1.43ms\tremaining: 238us\n",
      "6:\tlearn: 19.5574672\ttotal: 1.59ms\tremaining: 0us\n",
      "0:\tlearn: 26.6653712\ttotal: 270us\tremaining: 1.63ms\n",
      "1:\tlearn: 24.2959572\ttotal: 640us\tremaining: 1.6ms\n",
      "2:\tlearn: 22.7136338\ttotal: 848us\tremaining: 1.13ms\n",
      "3:\tlearn: 21.9326106\ttotal: 1.08ms\tremaining: 813us\n",
      "4:\tlearn: 21.6075801\ttotal: 1.3ms\tremaining: 518us\n",
      "5:\tlearn: 20.9625943\ttotal: 1.47ms\tremaining: 244us\n",
      "6:\tlearn: 20.4877750\ttotal: 1.65ms\tremaining: 0us\n",
      "0:\tlearn: 26.7928867\ttotal: 309us\tremaining: 1.85ms\n",
      "1:\tlearn: 24.9772000\ttotal: 739us\tremaining: 1.85ms\n",
      "2:\tlearn: 23.4062738\ttotal: 983us\tremaining: 1.31ms\n",
      "3:\tlearn: 22.4965311\ttotal: 1.23ms\tremaining: 922us\n",
      "4:\tlearn: 22.0730790\ttotal: 1.5ms\tremaining: 598us\n",
      "5:\tlearn: 21.6105547\ttotal: 1.71ms\tremaining: 285us\n",
      "6:\tlearn: 21.1436393\ttotal: 1.93ms\tremaining: 0us\n",
      "0:\tlearn: 28.1671844\ttotal: 364us\tremaining: 2.19ms\n",
      "1:\tlearn: 26.4566646\ttotal: 889us\tremaining: 2.22ms\n",
      "2:\tlearn: 25.2295969\ttotal: 1.26ms\tremaining: 1.69ms\n",
      "3:\tlearn: 24.2503646\ttotal: 1.59ms\tremaining: 1.19ms\n",
      "4:\tlearn: 23.7387228\ttotal: 1.91ms\tremaining: 762us\n",
      "5:\tlearn: 23.2312972\ttotal: 2.21ms\tremaining: 369us\n",
      "6:\tlearn: 22.6359661\ttotal: 2.6ms\tremaining: 0us\n",
      "0:\tlearn: 28.4439756\ttotal: 378us\tremaining: 2.27ms\n",
      "1:\tlearn: 26.8980061\ttotal: 885us\tremaining: 2.21ms\n",
      "2:\tlearn: 26.0605037\ttotal: 1.2ms\tremaining: 1.59ms\n",
      "3:\tlearn: 25.0203358\ttotal: 1.62ms\tremaining: 1.22ms\n",
      "4:\tlearn: 24.6778946\ttotal: 1.94ms\tremaining: 774us\n",
      "5:\tlearn: 24.2066862\ttotal: 2.26ms\tremaining: 377us\n",
      "6:\tlearn: 23.8993416\ttotal: 2.54ms\tremaining: 0us\n",
      "0:\tlearn: 29.7588511\ttotal: 455us\tremaining: 2.73ms\n",
      "1:\tlearn: 29.0154363\ttotal: 947us\tremaining: 2.37ms\n",
      "2:\tlearn: 27.7876765\ttotal: 1.3ms\tremaining: 1.74ms\n",
      "3:\tlearn: 26.6205085\ttotal: 1.65ms\tremaining: 1.23ms\n",
      "4:\tlearn: 25.8223199\ttotal: 2.03ms\tremaining: 812us\n",
      "5:\tlearn: 25.3055048\ttotal: 2.34ms\tremaining: 390us\n",
      "6:\tlearn: 24.9983984\ttotal: 2.67ms\tremaining: 0us\n",
      "0:\tlearn: 30.1220968\ttotal: 504us\tremaining: 3.03ms\n",
      "1:\tlearn: 29.1611384\ttotal: 1.02ms\tremaining: 2.56ms\n",
      "2:\tlearn: 27.8427974\ttotal: 1.46ms\tremaining: 1.94ms\n",
      "3:\tlearn: 26.7284417\ttotal: 1.8ms\tremaining: 1.35ms\n",
      "4:\tlearn: 25.9910842\ttotal: 2.21ms\tremaining: 882us\n",
      "5:\tlearn: 25.5786320\ttotal: 2.61ms\tremaining: 434us\n",
      "6:\tlearn: 24.9723294\ttotal: 2.98ms\tremaining: 0us\n",
      "0:\tlearn: 30.5683509\ttotal: 500us\tremaining: 3ms\n",
      "1:\tlearn: 29.6208962\ttotal: 1.04ms\tremaining: 2.6ms\n",
      "2:\tlearn: 28.2955514\ttotal: 1.47ms\tremaining: 1.96ms\n",
      "3:\tlearn: 27.3548941\ttotal: 1.85ms\tremaining: 1.39ms\n",
      "4:\tlearn: 26.6260743\ttotal: 2.24ms\tremaining: 897us\n",
      "5:\tlearn: 26.2372039\ttotal: 2.63ms\tremaining: 437us\n",
      "6:\tlearn: 25.6545956\ttotal: 3.01ms\tremaining: 0us\n",
      "0:\tlearn: 31.0908160\ttotal: 500us\tremaining: 3ms\n",
      "1:\tlearn: 30.1246647\ttotal: 1.08ms\tremaining: 2.7ms\n",
      "2:\tlearn: 29.0233774\ttotal: 1.5ms\tremaining: 2ms\n",
      "3:\tlearn: 28.0204405\ttotal: 1.89ms\tremaining: 1.41ms\n",
      "4:\tlearn: 27.1888351\ttotal: 2.27ms\tremaining: 907us\n",
      "5:\tlearn: 26.8528965\ttotal: 2.68ms\tremaining: 447us\n",
      "6:\tlearn: 26.4761422\ttotal: 3.11ms\tremaining: 0us\n",
      "0:\tlearn: 32.5215702\ttotal: 538us\tremaining: 3.23ms\n",
      "1:\tlearn: 31.4541662\ttotal: 1.12ms\tremaining: 2.81ms\n",
      "2:\tlearn: 29.9380178\ttotal: 1.56ms\tremaining: 2.09ms\n",
      "3:\tlearn: 29.2995662\ttotal: 1.99ms\tremaining: 1.49ms\n",
      "4:\tlearn: 28.3368235\ttotal: 2.46ms\tremaining: 983us\n",
      "5:\tlearn: 27.8172706\ttotal: 2.87ms\tremaining: 478us\n",
      "6:\tlearn: 27.3300522\ttotal: 3.36ms\tremaining: 0us\n",
      "0:\tlearn: 25.7547932\ttotal: 220us\tremaining: 1.54ms\n",
      "1:\tlearn: 24.2737274\ttotal: 560us\tremaining: 1.68ms\n",
      "2:\tlearn: 22.9964143\ttotal: 732us\tremaining: 1.22ms\n",
      "3:\tlearn: 20.8506332\ttotal: 1.03ms\tremaining: 1.03ms\n",
      "4:\tlearn: 20.6045861\ttotal: 1.21ms\tremaining: 725us\n",
      "5:\tlearn: 20.2481570\ttotal: 1.35ms\tremaining: 451us\n",
      "6:\tlearn: 19.5574672\ttotal: 1.53ms\tremaining: 218us\n",
      "7:\tlearn: 19.3464200\ttotal: 1.67ms\tremaining: 0us\n",
      "0:\tlearn: 26.6653712\ttotal: 430us\tremaining: 3.01ms\n",
      "1:\tlearn: 24.2959572\ttotal: 801us\tremaining: 2.4ms\n",
      "2:\tlearn: 22.7136338\ttotal: 1.13ms\tremaining: 1.88ms\n",
      "3:\tlearn: 21.9326106\ttotal: 1.34ms\tremaining: 1.34ms\n",
      "4:\tlearn: 21.6075801\ttotal: 1.66ms\tremaining: 994us\n",
      "5:\tlearn: 20.9625943\ttotal: 1.88ms\tremaining: 627us\n",
      "6:\tlearn: 20.4877750\ttotal: 2.14ms\tremaining: 305us\n",
      "7:\tlearn: 20.2568211\ttotal: 2.37ms\tremaining: 0us\n",
      "0:\tlearn: 26.7928867\ttotal: 332us\tremaining: 2.32ms\n",
      "1:\tlearn: 24.9772000\ttotal: 773us\tremaining: 2.32ms\n",
      "2:\tlearn: 23.4062738\ttotal: 1.01ms\tremaining: 1.69ms\n",
      "3:\tlearn: 22.4965311\ttotal: 1.22ms\tremaining: 1.22ms\n",
      "4:\tlearn: 22.0730790\ttotal: 1.54ms\tremaining: 923us\n",
      "5:\tlearn: 21.6105547\ttotal: 1.76ms\tremaining: 585us\n",
      "6:\tlearn: 21.1436393\ttotal: 1.99ms\tremaining: 284us\n",
      "7:\tlearn: 20.9183187\ttotal: 2.22ms\tremaining: 0us\n",
      "0:\tlearn: 28.1671844\ttotal: 350us\tremaining: 2.46ms\n",
      "1:\tlearn: 26.4566646\ttotal: 781us\tremaining: 2.34ms\n",
      "2:\tlearn: 25.2295969\ttotal: 1.04ms\tremaining: 1.74ms\n",
      "3:\tlearn: 24.2503646\ttotal: 1.3ms\tremaining: 1.3ms\n",
      "4:\tlearn: 23.7387228\ttotal: 1.56ms\tremaining: 935us\n",
      "5:\tlearn: 23.2312972\ttotal: 1.85ms\tremaining: 616us\n",
      "6:\tlearn: 22.6359661\ttotal: 2.14ms\tremaining: 305us\n",
      "7:\tlearn: 22.4083341\ttotal: 2.38ms\tremaining: 0us\n",
      "0:\tlearn: 28.4439756\ttotal: 459us\tremaining: 3.22ms\n",
      "1:\tlearn: 26.8980061\ttotal: 964us\tremaining: 2.89ms\n",
      "2:\tlearn: 26.0605037\ttotal: 1.32ms\tremaining: 2.2ms\n",
      "3:\tlearn: 25.0203358\ttotal: 1.61ms\tremaining: 1.61ms\n",
      "4:\tlearn: 24.6778946\ttotal: 1.93ms\tremaining: 1.16ms\n",
      "5:\tlearn: 24.2066862\ttotal: 2.19ms\tremaining: 731us\n",
      "6:\tlearn: 23.8993416\ttotal: 2.59ms\tremaining: 370us\n",
      "7:\tlearn: 23.3466238\ttotal: 2.91ms\tremaining: 0us\n",
      "0:\tlearn: 29.7588511\ttotal: 458us\tremaining: 3.21ms\n",
      "1:\tlearn: 29.0154363\ttotal: 917us\tremaining: 2.75ms\n",
      "2:\tlearn: 27.7876765\ttotal: 1.29ms\tremaining: 2.16ms\n",
      "3:\tlearn: 26.6205085\ttotal: 1.61ms\tremaining: 1.61ms\n",
      "4:\tlearn: 25.8223199\ttotal: 1.89ms\tremaining: 1.14ms\n",
      "5:\tlearn: 25.3055048\ttotal: 2.21ms\tremaining: 735us\n",
      "6:\tlearn: 24.9983984\ttotal: 2.5ms\tremaining: 357us\n",
      "7:\tlearn: 24.3509824\ttotal: 2.81ms\tremaining: 0us\n",
      "0:\tlearn: 30.1220968\ttotal: 448us\tremaining: 3.14ms\n",
      "1:\tlearn: 29.1611384\ttotal: 982us\tremaining: 2.95ms\n",
      "2:\tlearn: 27.8427974\ttotal: 1.29ms\tremaining: 2.15ms\n",
      "3:\tlearn: 26.7284417\ttotal: 1.64ms\tremaining: 1.64ms\n",
      "4:\tlearn: 25.9910842\ttotal: 2.03ms\tremaining: 1.22ms\n",
      "5:\tlearn: 25.5786320\ttotal: 2.37ms\tremaining: 789us\n",
      "6:\tlearn: 24.9723294\ttotal: 2.72ms\tremaining: 388us\n",
      "7:\tlearn: 24.5520360\ttotal: 3.08ms\tremaining: 0us\n",
      "0:\tlearn: 30.5683509\ttotal: 564us\tremaining: 3.95ms\n",
      "1:\tlearn: 29.6208962\ttotal: 1.21ms\tremaining: 3.62ms\n",
      "2:\tlearn: 28.2955514\ttotal: 1.65ms\tremaining: 2.76ms\n",
      "3:\tlearn: 27.3548941\ttotal: 2.06ms\tremaining: 2.06ms\n",
      "4:\tlearn: 26.6260743\ttotal: 2.46ms\tremaining: 1.48ms\n",
      "5:\tlearn: 26.2372039\ttotal: 2.87ms\tremaining: 956us\n",
      "6:\tlearn: 25.6545956\ttotal: 3.28ms\tremaining: 468us\n",
      "7:\tlearn: 25.0862365\ttotal: 3.67ms\tremaining: 0us\n",
      "0:\tlearn: 31.0908160\ttotal: 584us\tremaining: 4.09ms\n",
      "1:\tlearn: 30.1246647\ttotal: 1.18ms\tremaining: 3.53ms\n",
      "2:\tlearn: 29.0233774\ttotal: 1.59ms\tremaining: 2.65ms\n",
      "3:\tlearn: 28.0204405\ttotal: 1.97ms\tremaining: 1.97ms\n",
      "4:\tlearn: 27.1888351\ttotal: 2.37ms\tremaining: 1.42ms\n",
      "5:\tlearn: 26.8528965\ttotal: 2.74ms\tremaining: 914us\n",
      "6:\tlearn: 26.4761422\ttotal: 3.17ms\tremaining: 452us\n",
      "7:\tlearn: 25.9031241\ttotal: 3.59ms\tremaining: 0us\n",
      "0:\tlearn: 32.5215702\ttotal: 580us\tremaining: 4.06ms\n",
      "1:\tlearn: 31.4541662\ttotal: 1.21ms\tremaining: 3.63ms\n",
      "2:\tlearn: 29.9380178\ttotal: 1.63ms\tremaining: 2.71ms\n",
      "3:\tlearn: 29.2995662\ttotal: 2.06ms\tremaining: 2.06ms\n",
      "4:\tlearn: 28.3368235\ttotal: 2.49ms\tremaining: 1.5ms\n",
      "5:\tlearn: 27.8172706\ttotal: 2.88ms\tremaining: 959us\n",
      "6:\tlearn: 27.3300522\ttotal: 3.25ms\tremaining: 464us\n",
      "7:\tlearn: 26.7285774\ttotal: 3.66ms\tremaining: 0us\n",
      "0:\tlearn: 25.7516055\ttotal: 504us\tremaining: 0us\n",
      "0:\tlearn: 24.2449715\ttotal: 471us\tremaining: 0us\n",
      "0:\tlearn: 24.9442562\ttotal: 469us\tremaining: 0us\n",
      "0:\tlearn: 26.4279114\ttotal: 564us\tremaining: 0us\n",
      "0:\tlearn: 26.8056298\ttotal: 605us\tremaining: 0us\n",
      "0:\tlearn: 28.1945381\ttotal: 731us\tremaining: 0us\n",
      "0:\tlearn: 29.0405911\ttotal: 661us\tremaining: 0us\n",
      "0:\tlearn: 29.5758591\ttotal: 684us\tremaining: 0us\n",
      "0:\tlearn: 29.1699776\ttotal: 716us\tremaining: 0us\n",
      "0:\tlearn: 30.7826210\ttotal: 726us\tremaining: 0us\n",
      "0:\tlearn: 25.7516055\ttotal: 324us\tremaining: 324us\n",
      "1:\tlearn: 22.9820060\ttotal: 773us\tremaining: 0us\n",
      "0:\tlearn: 24.2449715\ttotal: 414us\tremaining: 414us\n",
      "1:\tlearn: 22.1794274\ttotal: 818us\tremaining: 0us\n",
      "0:\tlearn: 24.9442562\ttotal: 446us\tremaining: 446us\n",
      "1:\tlearn: 22.9608829\ttotal: 995us\tremaining: 0us\n",
      "0:\tlearn: 26.4279114\ttotal: 532us\tremaining: 532us\n",
      "1:\tlearn: 24.8588056\ttotal: 1.14ms\tremaining: 0us\n",
      "0:\tlearn: 26.8056298\ttotal: 502us\tremaining: 502us\n",
      "1:\tlearn: 24.7134944\ttotal: 1.17ms\tremaining: 0us\n",
      "0:\tlearn: 28.1945381\ttotal: 546us\tremaining: 546us\n",
      "1:\tlearn: 26.2572568\ttotal: 1.18ms\tremaining: 0us\n",
      "0:\tlearn: 29.0405911\ttotal: 647us\tremaining: 647us\n",
      "1:\tlearn: 26.2554205\ttotal: 1.42ms\tremaining: 0us\n",
      "0:\tlearn: 29.5758591\ttotal: 692us\tremaining: 692us\n",
      "1:\tlearn: 26.9645253\ttotal: 1.49ms\tremaining: 0us\n",
      "0:\tlearn: 29.1699776\ttotal: 686us\tremaining: 686us\n",
      "1:\tlearn: 27.0333299\ttotal: 1.42ms\tremaining: 0us\n",
      "0:\tlearn: 30.7826210\ttotal: 729us\tremaining: 729us\n",
      "1:\tlearn: 28.2229636\ttotal: 1.51ms\tremaining: 0us\n",
      "0:\tlearn: 25.7516055\ttotal: 323us\tremaining: 647us\n",
      "1:\tlearn: 22.9820060\ttotal: 688us\tremaining: 344us\n",
      "2:\tlearn: 20.5081238\ttotal: 907us\tremaining: 0us\n",
      "0:\tlearn: 24.2449715\ttotal: 429us\tremaining: 859us\n",
      "1:\tlearn: 22.1794274\ttotal: 935us\tremaining: 467us\n",
      "2:\tlearn: 21.2820646\ttotal: 1.27ms\tremaining: 0us\n",
      "0:\tlearn: 24.9442562\ttotal: 529us\tremaining: 1.06ms\n",
      "1:\tlearn: 22.9608829\ttotal: 1.12ms\tremaining: 559us\n",
      "2:\tlearn: 22.2733512\ttotal: 1.55ms\tremaining: 0us\n",
      "0:\tlearn: 26.4279114\ttotal: 541us\tremaining: 1.08ms\n",
      "1:\tlearn: 24.8588056\ttotal: 1.21ms\tremaining: 606us\n",
      "2:\tlearn: 23.6863417\ttotal: 1.68ms\tremaining: 0us\n",
      "0:\tlearn: 26.8056298\ttotal: 538us\tremaining: 1.08ms\n",
      "1:\tlearn: 24.7134944\ttotal: 1.09ms\tremaining: 543us\n",
      "2:\tlearn: 23.9999646\ttotal: 1.54ms\tremaining: 0us\n",
      "0:\tlearn: 28.1945381\ttotal: 560us\tremaining: 1.12ms\n",
      "1:\tlearn: 26.2572568\ttotal: 1.2ms\tremaining: 597us\n",
      "2:\tlearn: 25.2913837\ttotal: 1.69ms\tremaining: 0us\n",
      "0:\tlearn: 29.0405911\ttotal: 608us\tremaining: 1.22ms\n",
      "1:\tlearn: 26.2554205\ttotal: 1.4ms\tremaining: 701us\n",
      "2:\tlearn: 25.3105543\ttotal: 1.94ms\tremaining: 0us\n",
      "0:\tlearn: 29.5758591\ttotal: 665us\tremaining: 1.33ms\n",
      "1:\tlearn: 26.9645253\ttotal: 1.3ms\tremaining: 650us\n",
      "2:\tlearn: 25.9177689\ttotal: 1.83ms\tremaining: 0us\n",
      "0:\tlearn: 29.1699776\ttotal: 725us\tremaining: 1.45ms\n",
      "1:\tlearn: 27.0333299\ttotal: 1.5ms\tremaining: 747us\n",
      "2:\tlearn: 26.4599449\ttotal: 2.01ms\tremaining: 0us\n",
      "0:\tlearn: 30.7826210\ttotal: 703us\tremaining: 1.41ms\n",
      "1:\tlearn: 28.2229636\ttotal: 1.55ms\tremaining: 776us\n",
      "2:\tlearn: 27.6842819\ttotal: 2.11ms\tremaining: 0us\n",
      "0:\tlearn: 25.7516055\ttotal: 320us\tremaining: 962us\n",
      "1:\tlearn: 22.9820060\ttotal: 809us\tremaining: 809us\n",
      "2:\tlearn: 20.5081238\ttotal: 1.13ms\tremaining: 375us\n",
      "3:\tlearn: 19.9326645\ttotal: 1.35ms\tremaining: 0us\n",
      "0:\tlearn: 24.2449715\ttotal: 414us\tremaining: 1.24ms\n",
      "1:\tlearn: 22.1794274\ttotal: 896us\tremaining: 896us\n",
      "2:\tlearn: 21.2820646\ttotal: 1.27ms\tremaining: 424us\n",
      "3:\tlearn: 20.7195995\ttotal: 1.58ms\tremaining: 0us\n",
      "0:\tlearn: 24.9442562\ttotal: 445us\tremaining: 1.34ms\n",
      "1:\tlearn: 22.9608829\ttotal: 888us\tremaining: 888us\n",
      "2:\tlearn: 22.2733512\ttotal: 1.25ms\tremaining: 417us\n",
      "3:\tlearn: 21.7214082\ttotal: 1.64ms\tremaining: 0us\n",
      "0:\tlearn: 26.4279114\ttotal: 484us\tremaining: 1.45ms\n",
      "1:\tlearn: 24.8588056\ttotal: 965us\tremaining: 965us\n",
      "2:\tlearn: 23.6863417\ttotal: 1.41ms\tremaining: 469us\n",
      "3:\tlearn: 22.9677461\ttotal: 1.8ms\tremaining: 0us\n",
      "0:\tlearn: 26.8056298\ttotal: 554us\tremaining: 1.66ms\n",
      "1:\tlearn: 24.7134944\ttotal: 1.08ms\tremaining: 1.08ms\n",
      "2:\tlearn: 23.9999646\ttotal: 1.59ms\tremaining: 529us\n",
      "3:\tlearn: 23.3215307\ttotal: 2ms\tremaining: 0us\n",
      "0:\tlearn: 28.1945381\ttotal: 568us\tremaining: 1.7ms\n",
      "1:\tlearn: 26.2572568\ttotal: 1.09ms\tremaining: 1.09ms\n",
      "2:\tlearn: 25.2913837\ttotal: 1.54ms\tremaining: 515us\n",
      "3:\tlearn: 24.5223781\ttotal: 2.11ms\tremaining: 0us\n",
      "0:\tlearn: 29.0405911\ttotal: 593us\tremaining: 1.78ms\n",
      "1:\tlearn: 26.2554205\ttotal: 1.22ms\tremaining: 1.22ms\n",
      "2:\tlearn: 25.3105543\ttotal: 1.73ms\tremaining: 576us\n",
      "3:\tlearn: 24.3121631\ttotal: 2.17ms\tremaining: 0us\n",
      "0:\tlearn: 29.5758591\ttotal: 645us\tremaining: 1.94ms\n",
      "1:\tlearn: 26.9645253\ttotal: 1.48ms\tremaining: 1.48ms\n",
      "2:\tlearn: 25.9177689\ttotal: 2.04ms\tremaining: 681us\n",
      "3:\tlearn: 25.0020234\ttotal: 2.55ms\tremaining: 0us\n",
      "0:\tlearn: 29.1699776\ttotal: 753us\tremaining: 2.26ms\n",
      "1:\tlearn: 27.0333299\ttotal: 1.46ms\tremaining: 1.46ms\n",
      "2:\tlearn: 26.4599449\ttotal: 2ms\tremaining: 667us\n",
      "3:\tlearn: 25.1558084\ttotal: 2.62ms\tremaining: 0us\n",
      "0:\tlearn: 30.7826210\ttotal: 657us\tremaining: 1.97ms\n",
      "1:\tlearn: 28.2229636\ttotal: 1.4ms\tremaining: 1.4ms\n",
      "2:\tlearn: 27.6842819\ttotal: 1.97ms\tremaining: 657us\n",
      "3:\tlearn: 26.4086654\ttotal: 2.5ms\tremaining: 0us\n",
      "0:\tlearn: 25.7516055\ttotal: 318us\tremaining: 1.27ms\n",
      "1:\tlearn: 22.9820060\ttotal: 787us\tremaining: 1.18ms\n",
      "2:\tlearn: 20.5081238\ttotal: 1.07ms\tremaining: 712us\n",
      "3:\tlearn: 19.9326645\ttotal: 1.33ms\tremaining: 332us\n",
      "4:\tlearn: 18.9507221\ttotal: 1.56ms\tremaining: 0us\n",
      "0:\tlearn: 24.2449715\ttotal: 389us\tremaining: 1.56ms\n",
      "1:\tlearn: 22.1794274\ttotal: 873us\tremaining: 1.31ms\n",
      "2:\tlearn: 21.2820646\ttotal: 1.19ms\tremaining: 791us\n",
      "3:\tlearn: 20.7195995\ttotal: 1.51ms\tremaining: 377us\n",
      "4:\tlearn: 20.5226386\ttotal: 1.78ms\tremaining: 0us\n",
      "0:\tlearn: 24.9442562\ttotal: 478us\tremaining: 1.91ms\n",
      "1:\tlearn: 22.9608829\ttotal: 1.04ms\tremaining: 1.57ms\n",
      "2:\tlearn: 22.2733512\ttotal: 1.43ms\tremaining: 951us\n",
      "3:\tlearn: 21.7214082\ttotal: 1.86ms\tremaining: 466us\n",
      "4:\tlearn: 21.3752601\ttotal: 2.23ms\tremaining: 0us\n",
      "0:\tlearn: 26.4279114\ttotal: 494us\tremaining: 1.98ms\n",
      "1:\tlearn: 24.8588056\ttotal: 1.2ms\tremaining: 1.8ms\n",
      "2:\tlearn: 23.6863417\ttotal: 1.67ms\tremaining: 1.11ms\n",
      "3:\tlearn: 22.9677461\ttotal: 2.05ms\tremaining: 512us\n",
      "4:\tlearn: 22.0630324\ttotal: 2.55ms\tremaining: 0us\n",
      "0:\tlearn: 26.8056298\ttotal: 597us\tremaining: 2.39ms\n",
      "1:\tlearn: 24.7134944\ttotal: 1.3ms\tremaining: 1.95ms\n",
      "2:\tlearn: 23.9999646\ttotal: 1.83ms\tremaining: 1.22ms\n",
      "3:\tlearn: 23.3215307\ttotal: 2.37ms\tremaining: 592us\n",
      "4:\tlearn: 22.8472527\ttotal: 2.86ms\tremaining: 0us\n",
      "0:\tlearn: 28.1945381\ttotal: 625us\tremaining: 2.5ms\n",
      "1:\tlearn: 26.2572568\ttotal: 1.24ms\tremaining: 1.86ms\n",
      "2:\tlearn: 25.2913837\ttotal: 1.83ms\tremaining: 1.22ms\n",
      "3:\tlearn: 24.5223781\ttotal: 2.38ms\tremaining: 594us\n",
      "4:\tlearn: 23.7448212\ttotal: 2.89ms\tremaining: 0us\n",
      "0:\tlearn: 29.0405911\ttotal: 587us\tremaining: 2.35ms\n",
      "1:\tlearn: 26.2554205\ttotal: 1.15ms\tremaining: 1.73ms\n",
      "2:\tlearn: 25.3105543\ttotal: 1.69ms\tremaining: 1.13ms\n",
      "3:\tlearn: 24.3121631\ttotal: 2.19ms\tremaining: 548us\n",
      "4:\tlearn: 24.0405932\ttotal: 2.62ms\tremaining: 0us\n",
      "0:\tlearn: 29.5758591\ttotal: 669us\tremaining: 2.68ms\n",
      "1:\tlearn: 26.9645253\ttotal: 1.48ms\tremaining: 2.22ms\n",
      "2:\tlearn: 25.9177689\ttotal: 2.02ms\tremaining: 1.35ms\n",
      "3:\tlearn: 25.0020234\ttotal: 2.49ms\tremaining: 622us\n",
      "4:\tlearn: 24.7212390\ttotal: 2.95ms\tremaining: 0us\n",
      "0:\tlearn: 29.1699776\ttotal: 725us\tremaining: 2.9ms\n",
      "1:\tlearn: 27.0333299\ttotal: 1.49ms\tremaining: 2.24ms\n",
      "2:\tlearn: 26.4599449\ttotal: 2.13ms\tremaining: 1.42ms\n",
      "3:\tlearn: 25.1558084\ttotal: 2.69ms\tremaining: 672us\n",
      "4:\tlearn: 24.4205168\ttotal: 3.39ms\tremaining: 0us\n",
      "0:\tlearn: 30.7826210\ttotal: 876us\tremaining: 3.5ms\n",
      "1:\tlearn: 28.2229636\ttotal: 1.66ms\tremaining: 2.49ms\n",
      "2:\tlearn: 27.6842819\ttotal: 2.27ms\tremaining: 1.51ms\n",
      "3:\tlearn: 26.4086654\ttotal: 2.89ms\tremaining: 723us\n",
      "4:\tlearn: 25.6719619\ttotal: 3.56ms\tremaining: 0us\n",
      "0:\tlearn: 25.7516055\ttotal: 565us\tremaining: 2.83ms\n",
      "1:\tlearn: 22.9820060\ttotal: 944us\tremaining: 1.89ms\n",
      "2:\tlearn: 20.5081238\ttotal: 1.22ms\tremaining: 1.22ms\n",
      "3:\tlearn: 19.9326645\ttotal: 1.54ms\tremaining: 769us\n",
      "4:\tlearn: 18.9507221\ttotal: 1.81ms\tremaining: 361us\n",
      "5:\tlearn: 18.7640403\ttotal: 2.13ms\tremaining: 0us\n",
      "0:\tlearn: 24.2449715\ttotal: 368us\tremaining: 1.84ms\n",
      "1:\tlearn: 22.1794274\ttotal: 831us\tremaining: 1.66ms\n",
      "2:\tlearn: 21.2820646\ttotal: 1.12ms\tremaining: 1.12ms\n",
      "3:\tlearn: 20.7195995\ttotal: 1.4ms\tremaining: 700us\n",
      "4:\tlearn: 20.5226386\ttotal: 1.71ms\tremaining: 342us\n",
      "5:\tlearn: 19.8857066\ttotal: 2.05ms\tremaining: 0us\n",
      "0:\tlearn: 24.9442562\ttotal: 642us\tremaining: 3.21ms\n",
      "1:\tlearn: 22.9608829\ttotal: 1.27ms\tremaining: 2.53ms\n",
      "2:\tlearn: 22.2733512\ttotal: 1.71ms\tremaining: 1.71ms\n",
      "3:\tlearn: 21.7214082\ttotal: 2.06ms\tremaining: 1.03ms\n",
      "4:\tlearn: 21.3752601\ttotal: 2.47ms\tremaining: 493us\n",
      "5:\tlearn: 20.6635278\ttotal: 2.85ms\tremaining: 0us\n",
      "0:\tlearn: 26.4279114\ttotal: 631us\tremaining: 3.16ms\n",
      "1:\tlearn: 24.8588056\ttotal: 1.23ms\tremaining: 2.45ms\n",
      "2:\tlearn: 23.6863417\ttotal: 1.67ms\tremaining: 1.67ms\n",
      "3:\tlearn: 22.9677461\ttotal: 2.18ms\tremaining: 1.09ms\n",
      "4:\tlearn: 22.0630324\ttotal: 2.56ms\tremaining: 511us\n",
      "5:\tlearn: 21.3973730\ttotal: 3ms\tremaining: 0us\n",
      "0:\tlearn: 26.8056298\ttotal: 596us\tremaining: 2.98ms\n",
      "1:\tlearn: 24.7134944\ttotal: 1.22ms\tremaining: 2.43ms\n",
      "2:\tlearn: 23.9999646\ttotal: 1.74ms\tremaining: 1.74ms\n",
      "3:\tlearn: 23.3215307\ttotal: 2.2ms\tremaining: 1.1ms\n",
      "4:\tlearn: 22.8472527\ttotal: 2.66ms\tremaining: 532us\n",
      "5:\tlearn: 22.5536373\ttotal: 3.12ms\tremaining: 0us\n",
      "0:\tlearn: 28.1945381\ttotal: 606us\tremaining: 3.03ms\n",
      "1:\tlearn: 26.2572568\ttotal: 1.16ms\tremaining: 2.33ms\n",
      "2:\tlearn: 25.2913837\ttotal: 1.72ms\tremaining: 1.72ms\n",
      "3:\tlearn: 24.5223781\ttotal: 2.24ms\tremaining: 1.12ms\n",
      "4:\tlearn: 23.7448212\ttotal: 2.69ms\tremaining: 537us\n",
      "5:\tlearn: 23.4023770\ttotal: 3.18ms\tremaining: 0us\n",
      "0:\tlearn: 29.0405911\ttotal: 574us\tremaining: 2.87ms\n",
      "1:\tlearn: 26.2554205\ttotal: 1.11ms\tremaining: 2.22ms\n",
      "2:\tlearn: 25.3105543\ttotal: 1.65ms\tremaining: 1.65ms\n",
      "3:\tlearn: 24.3121631\ttotal: 2.13ms\tremaining: 1.07ms\n",
      "4:\tlearn: 24.0405932\ttotal: 2.65ms\tremaining: 531us\n",
      "5:\tlearn: 23.2059587\ttotal: 3.14ms\tremaining: 0us\n",
      "0:\tlearn: 29.5758591\ttotal: 671us\tremaining: 3.35ms\n",
      "1:\tlearn: 26.9645253\ttotal: 1.58ms\tremaining: 3.16ms\n",
      "2:\tlearn: 25.9177689\ttotal: 2.15ms\tremaining: 2.15ms\n",
      "3:\tlearn: 25.0020234\ttotal: 2.62ms\tremaining: 1.31ms\n",
      "4:\tlearn: 24.7212390\ttotal: 3.15ms\tremaining: 630us\n",
      "5:\tlearn: 23.8332434\ttotal: 3.65ms\tremaining: 0us\n",
      "0:\tlearn: 29.1699776\ttotal: 792us\tremaining: 3.96ms\n",
      "1:\tlearn: 27.0333299\ttotal: 1.56ms\tremaining: 3.12ms\n",
      "2:\tlearn: 26.4599449\ttotal: 2.23ms\tremaining: 2.23ms\n",
      "3:\tlearn: 25.1558084\ttotal: 2.89ms\tremaining: 1.44ms\n",
      "4:\tlearn: 24.4205168\ttotal: 3.47ms\tremaining: 693us\n",
      "5:\tlearn: 24.0235579\ttotal: 4.1ms\tremaining: 0us\n",
      "0:\tlearn: 30.7826210\ttotal: 739us\tremaining: 3.7ms\n",
      "1:\tlearn: 28.2229636\ttotal: 1.51ms\tremaining: 3.03ms\n",
      "2:\tlearn: 27.6842819\ttotal: 2.09ms\tremaining: 2.09ms\n",
      "3:\tlearn: 26.4086654\ttotal: 2.69ms\tremaining: 1.34ms\n",
      "4:\tlearn: 25.6719619\ttotal: 3.33ms\tremaining: 666us\n",
      "5:\tlearn: 25.3112118\ttotal: 3.95ms\tremaining: 0us\n",
      "0:\tlearn: 25.7516055\ttotal: 360us\tremaining: 2.16ms\n",
      "1:\tlearn: 22.9820060\ttotal: 831us\tremaining: 2.08ms\n",
      "2:\tlearn: 20.5081238\ttotal: 1.14ms\tremaining: 1.52ms\n",
      "3:\tlearn: 19.9326645\ttotal: 1.4ms\tremaining: 1.05ms\n",
      "4:\tlearn: 18.9507221\ttotal: 1.71ms\tremaining: 684us\n",
      "5:\tlearn: 18.7640403\ttotal: 2ms\tremaining: 334us\n",
      "6:\tlearn: 18.3073706\ttotal: 2.32ms\tremaining: 0us\n",
      "0:\tlearn: 24.2449715\ttotal: 467us\tremaining: 2.8ms\n",
      "1:\tlearn: 22.1794274\ttotal: 1.06ms\tremaining: 2.65ms\n",
      "2:\tlearn: 21.2820646\ttotal: 1.44ms\tremaining: 1.92ms\n",
      "3:\tlearn: 20.7195995\ttotal: 1.77ms\tremaining: 1.32ms\n",
      "4:\tlearn: 20.5226386\ttotal: 2.05ms\tremaining: 821us\n",
      "5:\tlearn: 19.8857066\ttotal: 2.39ms\tremaining: 397us\n",
      "6:\tlearn: 19.5256114\ttotal: 2.7ms\tremaining: 0us\n",
      "0:\tlearn: 24.9442562\ttotal: 507us\tremaining: 3.05ms\n",
      "1:\tlearn: 22.9608829\ttotal: 1.01ms\tremaining: 2.52ms\n",
      "2:\tlearn: 22.2733512\ttotal: 1.44ms\tremaining: 1.93ms\n",
      "3:\tlearn: 21.7214082\ttotal: 1.85ms\tremaining: 1.39ms\n",
      "4:\tlearn: 21.3752601\ttotal: 2.27ms\tremaining: 909us\n",
      "5:\tlearn: 20.6635278\ttotal: 2.64ms\tremaining: 440us\n",
      "6:\tlearn: 20.2150418\ttotal: 3.03ms\tremaining: 0us\n",
      "0:\tlearn: 26.4279114\ttotal: 538us\tremaining: 3.23ms\n",
      "1:\tlearn: 24.8588056\ttotal: 1.26ms\tremaining: 3.15ms\n",
      "2:\tlearn: 23.6863417\ttotal: 1.76ms\tremaining: 2.35ms\n",
      "3:\tlearn: 22.9677461\ttotal: 2.15ms\tremaining: 1.62ms\n",
      "4:\tlearn: 22.0630324\ttotal: 2.57ms\tremaining: 1.03ms\n",
      "5:\tlearn: 21.3973730\ttotal: 2.95ms\tremaining: 491us\n",
      "6:\tlearn: 20.9988606\ttotal: 3.35ms\tremaining: 0us\n",
      "0:\tlearn: 26.8056298\ttotal: 582us\tremaining: 3.5ms\n",
      "1:\tlearn: 24.7134944\ttotal: 1.24ms\tremaining: 3.09ms\n",
      "2:\tlearn: 23.9999646\ttotal: 1.69ms\tremaining: 2.25ms\n",
      "3:\tlearn: 23.3215307\ttotal: 2.11ms\tremaining: 1.58ms\n",
      "4:\tlearn: 22.8472527\ttotal: 2.48ms\tremaining: 993us\n",
      "5:\tlearn: 22.5536373\ttotal: 2.92ms\tremaining: 487us\n",
      "6:\tlearn: 22.1844302\ttotal: 3.38ms\tremaining: 0us\n",
      "0:\tlearn: 28.1945381\ttotal: 546us\tremaining: 3.28ms\n",
      "1:\tlearn: 26.2572568\ttotal: 1.18ms\tremaining: 2.94ms\n",
      "2:\tlearn: 25.2913837\ttotal: 1.62ms\tremaining: 2.16ms\n",
      "3:\tlearn: 24.5223781\ttotal: 2.09ms\tremaining: 1.57ms\n",
      "4:\tlearn: 23.7448212\ttotal: 2.59ms\tremaining: 1.03ms\n",
      "5:\tlearn: 23.4023770\ttotal: 3.01ms\tremaining: 501us\n",
      "6:\tlearn: 23.2205852\ttotal: 3.44ms\tremaining: 0us\n",
      "0:\tlearn: 29.0405911\ttotal: 576us\tremaining: 3.46ms\n",
      "1:\tlearn: 26.2554205\ttotal: 1.29ms\tremaining: 3.23ms\n",
      "2:\tlearn: 25.3105543\ttotal: 1.85ms\tremaining: 2.46ms\n",
      "3:\tlearn: 24.3121631\ttotal: 2.32ms\tremaining: 1.74ms\n",
      "4:\tlearn: 24.0405932\ttotal: 2.73ms\tremaining: 1.09ms\n",
      "5:\tlearn: 23.2059587\ttotal: 3.21ms\tremaining: 534us\n",
      "6:\tlearn: 22.8702290\ttotal: 3.7ms\tremaining: 0us\n",
      "0:\tlearn: 29.5758591\ttotal: 687us\tremaining: 4.13ms\n",
      "1:\tlearn: 26.9645253\ttotal: 1.4ms\tremaining: 3.51ms\n",
      "2:\tlearn: 25.9177689\ttotal: 2.05ms\tremaining: 2.73ms\n",
      "3:\tlearn: 25.0020234\ttotal: 2.59ms\tremaining: 1.94ms\n",
      "4:\tlearn: 24.7212390\ttotal: 3.17ms\tremaining: 1.27ms\n",
      "5:\tlearn: 23.8332434\ttotal: 3.69ms\tremaining: 614us\n",
      "6:\tlearn: 23.4146449\ttotal: 4.19ms\tremaining: 0us\n",
      "0:\tlearn: 29.1699776\ttotal: 705us\tremaining: 4.23ms\n",
      "1:\tlearn: 27.0333299\ttotal: 1.41ms\tremaining: 3.54ms\n",
      "2:\tlearn: 26.4599449\ttotal: 1.98ms\tremaining: 2.64ms\n",
      "3:\tlearn: 25.1558084\ttotal: 2.52ms\tremaining: 1.89ms\n",
      "4:\tlearn: 24.4205168\ttotal: 3.14ms\tremaining: 1.25ms\n",
      "5:\tlearn: 24.0235579\ttotal: 3.65ms\tremaining: 607us\n",
      "6:\tlearn: 23.5897828\ttotal: 4.21ms\tremaining: 0us\n",
      "0:\tlearn: 30.7826210\ttotal: 756us\tremaining: 4.54ms\n",
      "1:\tlearn: 28.2229636\ttotal: 1.68ms\tremaining: 4.19ms\n",
      "2:\tlearn: 27.6842819\ttotal: 2.28ms\tremaining: 3.04ms\n",
      "3:\tlearn: 26.4086654\ttotal: 2.85ms\tremaining: 2.14ms\n",
      "4:\tlearn: 25.6719619\ttotal: 3.45ms\tremaining: 1.38ms\n",
      "5:\tlearn: 25.3112118\ttotal: 3.96ms\tremaining: 660us\n",
      "6:\tlearn: 25.0606860\ttotal: 4.54ms\tremaining: 0us\n",
      "0:\tlearn: 25.7516055\ttotal: 332us\tremaining: 2.33ms\n",
      "1:\tlearn: 22.9820060\ttotal: 779us\tremaining: 2.34ms\n",
      "2:\tlearn: 20.5081238\ttotal: 1.03ms\tremaining: 1.73ms\n",
      "3:\tlearn: 19.9326645\ttotal: 1.25ms\tremaining: 1.25ms\n",
      "4:\tlearn: 18.9507221\ttotal: 1.46ms\tremaining: 874us\n",
      "5:\tlearn: 18.7640403\ttotal: 1.68ms\tremaining: 558us\n",
      "6:\tlearn: 18.3073706\ttotal: 1.9ms\tremaining: 271us\n",
      "7:\tlearn: 17.8188568\ttotal: 2.1ms\tremaining: 0us\n",
      "0:\tlearn: 24.2449715\ttotal: 409us\tremaining: 2.86ms\n",
      "1:\tlearn: 22.1794274\ttotal: 793us\tremaining: 2.38ms\n",
      "2:\tlearn: 21.2820646\ttotal: 1.1ms\tremaining: 1.83ms\n",
      "3:\tlearn: 20.7195995\ttotal: 1.37ms\tremaining: 1.37ms\n",
      "4:\tlearn: 20.5226386\ttotal: 1.68ms\tremaining: 1.01ms\n",
      "5:\tlearn: 19.8857066\ttotal: 1.98ms\tremaining: 659us\n",
      "6:\tlearn: 19.5256114\ttotal: 2.26ms\tremaining: 323us\n",
      "7:\tlearn: 19.1351792\ttotal: 2.58ms\tremaining: 0us\n",
      "0:\tlearn: 24.9442562\ttotal: 470us\tremaining: 3.29ms\n",
      "1:\tlearn: 22.9608829\ttotal: 1.02ms\tremaining: 3.07ms\n",
      "2:\tlearn: 22.2733512\ttotal: 1.34ms\tremaining: 2.23ms\n",
      "3:\tlearn: 21.7214082\ttotal: 1.7ms\tremaining: 1.7ms\n",
      "4:\tlearn: 21.3752601\ttotal: 2.02ms\tremaining: 1.21ms\n",
      "5:\tlearn: 20.6635278\ttotal: 2.38ms\tremaining: 791us\n",
      "6:\tlearn: 20.2150418\ttotal: 2.72ms\tremaining: 388us\n",
      "7:\tlearn: 19.7926466\ttotal: 3.06ms\tremaining: 0us\n",
      "0:\tlearn: 26.4279114\ttotal: 586us\tremaining: 4.11ms\n",
      "1:\tlearn: 24.8588056\ttotal: 1.17ms\tremaining: 3.5ms\n",
      "2:\tlearn: 23.6863417\ttotal: 1.52ms\tremaining: 2.54ms\n",
      "3:\tlearn: 22.9677461\ttotal: 1.94ms\tremaining: 1.94ms\n",
      "4:\tlearn: 22.0630324\ttotal: 2.3ms\tremaining: 1.38ms\n",
      "5:\tlearn: 21.3973730\ttotal: 2.67ms\tremaining: 891us\n",
      "6:\tlearn: 20.9988606\ttotal: 3.13ms\tremaining: 447us\n",
      "7:\tlearn: 20.7184711\ttotal: 3.65ms\tremaining: 0us\n",
      "0:\tlearn: 26.8056298\ttotal: 595us\tremaining: 4.17ms\n",
      "1:\tlearn: 24.7134944\ttotal: 1.2ms\tremaining: 3.6ms\n",
      "2:\tlearn: 23.9999646\ttotal: 1.61ms\tremaining: 2.69ms\n",
      "3:\tlearn: 23.3215307\ttotal: 2.02ms\tremaining: 2.02ms\n",
      "4:\tlearn: 22.8472527\ttotal: 2.52ms\tremaining: 1.51ms\n",
      "5:\tlearn: 22.5536373\ttotal: 2.98ms\tremaining: 993us\n",
      "6:\tlearn: 22.1844302\ttotal: 3.41ms\tremaining: 487us\n",
      "7:\tlearn: 21.9436808\ttotal: 3.8ms\tremaining: 0us\n",
      "0:\tlearn: 28.1945381\ttotal: 828us\tremaining: 5.8ms\n",
      "1:\tlearn: 26.2572568\ttotal: 1.72ms\tremaining: 5.16ms\n",
      "2:\tlearn: 25.2913837\ttotal: 2.5ms\tremaining: 4.17ms\n",
      "3:\tlearn: 24.5223781\ttotal: 3.2ms\tremaining: 3.2ms\n",
      "4:\tlearn: 23.7448212\ttotal: 3.81ms\tremaining: 2.29ms\n",
      "5:\tlearn: 23.4023770\ttotal: 4.5ms\tremaining: 1.5ms\n",
      "6:\tlearn: 23.2205852\ttotal: 5.22ms\tremaining: 745us\n",
      "7:\tlearn: 23.0163026\ttotal: 5.93ms\tremaining: 0us\n",
      "0:\tlearn: 29.0405911\ttotal: 656us\tremaining: 4.6ms\n",
      "1:\tlearn: 26.2554205\ttotal: 1.28ms\tremaining: 3.84ms\n",
      "2:\tlearn: 25.3105543\ttotal: 1.86ms\tremaining: 3.11ms\n",
      "3:\tlearn: 24.3121631\ttotal: 2.38ms\tremaining: 2.38ms\n",
      "4:\tlearn: 24.0405932\ttotal: 3.03ms\tremaining: 1.82ms\n",
      "5:\tlearn: 23.2059587\ttotal: 3.58ms\tremaining: 1.19ms\n",
      "6:\tlearn: 22.8702290\ttotal: 4.09ms\tremaining: 584us\n",
      "7:\tlearn: 22.7318608\ttotal: 4.53ms\tremaining: 0us\n",
      "0:\tlearn: 29.5758591\ttotal: 795us\tremaining: 5.57ms\n",
      "1:\tlearn: 26.9645253\ttotal: 1.42ms\tremaining: 4.27ms\n",
      "2:\tlearn: 25.9177689\ttotal: 1.92ms\tremaining: 3.2ms\n",
      "3:\tlearn: 25.0020234\ttotal: 2.48ms\tremaining: 2.48ms\n",
      "4:\tlearn: 24.7212390\ttotal: 2.97ms\tremaining: 1.78ms\n",
      "5:\tlearn: 23.8332434\ttotal: 3.53ms\tremaining: 1.18ms\n",
      "6:\tlearn: 23.4146449\ttotal: 4.01ms\tremaining: 573us\n",
      "7:\tlearn: 23.2450968\ttotal: 4.51ms\tremaining: 0us\n",
      "0:\tlearn: 29.1699776\ttotal: 684us\tremaining: 4.79ms\n",
      "1:\tlearn: 27.0333299\ttotal: 1.45ms\tremaining: 4.35ms\n",
      "2:\tlearn: 26.4599449\ttotal: 2.1ms\tremaining: 3.51ms\n",
      "3:\tlearn: 25.1558084\ttotal: 2.63ms\tremaining: 2.63ms\n",
      "4:\tlearn: 24.4205168\ttotal: 3.15ms\tremaining: 1.89ms\n",
      "5:\tlearn: 24.0235579\ttotal: 3.65ms\tremaining: 1.22ms\n",
      "6:\tlearn: 23.5897828\ttotal: 4.2ms\tremaining: 599us\n",
      "7:\tlearn: 23.3589065\ttotal: 4.79ms\tremaining: 0us\n",
      "0:\tlearn: 30.7826210\ttotal: 687us\tremaining: 4.81ms\n",
      "1:\tlearn: 28.2229636\ttotal: 1.4ms\tremaining: 4.2ms\n",
      "2:\tlearn: 27.6842819\ttotal: 2.02ms\tremaining: 3.37ms\n",
      "3:\tlearn: 26.4086654\ttotal: 2.59ms\tremaining: 2.59ms\n",
      "4:\tlearn: 25.6719619\ttotal: 3.18ms\tremaining: 1.91ms\n",
      "5:\tlearn: 25.3112118\ttotal: 3.73ms\tremaining: 1.25ms\n",
      "6:\tlearn: 25.0606860\ttotal: 4.3ms\tremaining: 614us\n",
      "7:\tlearn: 24.7306147\ttotal: 4.85ms\tremaining: 0us\n",
      "0:\tlearn: 24.4151628\ttotal: 690us\tremaining: 0us\n",
      "0:\tlearn: 23.9635676\ttotal: 562us\tremaining: 0us\n",
      "0:\tlearn: 22.3076284\ttotal: 606us\tremaining: 0us\n",
      "0:\tlearn: 24.2783120\ttotal: 789us\tremaining: 0us\n",
      "0:\tlearn: 24.3445070\ttotal: 829us\tremaining: 0us\n",
      "0:\tlearn: 25.7895925\ttotal: 734us\tremaining: 0us\n",
      "0:\tlearn: 28.6335227\ttotal: 798us\tremaining: 0us\n",
      "0:\tlearn: 29.1941720\ttotal: 920us\tremaining: 0us\n",
      "0:\tlearn: 27.0217000\ttotal: 881us\tremaining: 0us\n",
      "0:\tlearn: 29.7199403\ttotal: 1.03ms\tremaining: 0us\n",
      "0:\tlearn: 24.4151628\ttotal: 432us\tremaining: 432us\n",
      "1:\tlearn: 19.1814327\ttotal: 929us\tremaining: 0us\n",
      "0:\tlearn: 23.9635676\ttotal: 516us\tremaining: 516us\n",
      "1:\tlearn: 21.4921831\ttotal: 1.17ms\tremaining: 0us\n",
      "0:\tlearn: 22.3076284\ttotal: 676us\tremaining: 676us\n",
      "1:\tlearn: 20.7586351\ttotal: 1.46ms\tremaining: 0us\n",
      "0:\tlearn: 24.2783120\ttotal: 1.14ms\tremaining: 1.14ms\n",
      "1:\tlearn: 22.4132474\ttotal: 1.69ms\tremaining: 0us\n",
      "0:\tlearn: 24.3445070\ttotal: 728us\tremaining: 728us\n",
      "1:\tlearn: 22.3156992\ttotal: 1.53ms\tremaining: 0us\n",
      "0:\tlearn: 25.7895925\ttotal: 775us\tremaining: 775us\n",
      "1:\tlearn: 23.7180336\ttotal: 1.53ms\tremaining: 0us\n",
      "0:\tlearn: 28.6335227\ttotal: 853us\tremaining: 853us\n",
      "1:\tlearn: 25.0257520\ttotal: 1.83ms\tremaining: 0us\n",
      "0:\tlearn: 29.1941720\ttotal: 962us\tremaining: 962us\n",
      "1:\tlearn: 25.6805595\ttotal: 2.07ms\tremaining: 0us\n",
      "0:\tlearn: 27.0217000\ttotal: 996us\tremaining: 996us\n",
      "1:\tlearn: 24.8330754\ttotal: 2.02ms\tremaining: 0us\n",
      "0:\tlearn: 29.7199403\ttotal: 1.17ms\tremaining: 1.17ms\n",
      "1:\tlearn: 27.3601961\ttotal: 2.26ms\tremaining: 0us\n",
      "0:\tlearn: 24.4151628\ttotal: 523us\tremaining: 1.05ms\n",
      "1:\tlearn: 19.1814327\ttotal: 969us\tremaining: 484us\n",
      "2:\tlearn: 17.6328657\ttotal: 1.49ms\tremaining: 0us\n",
      "0:\tlearn: 23.9635676\ttotal: 544us\tremaining: 1.09ms\n",
      "1:\tlearn: 21.4921831\ttotal: 1.29ms\tremaining: 644us\n",
      "2:\tlearn: 20.3909706\ttotal: 1.82ms\tremaining: 0us\n",
      "0:\tlearn: 22.3076284\ttotal: 660us\tremaining: 1.32ms\n",
      "1:\tlearn: 20.7586351\ttotal: 1.31ms\tremaining: 657us\n",
      "2:\tlearn: 20.2591543\ttotal: 1.96ms\tremaining: 0us\n",
      "0:\tlearn: 24.2783120\ttotal: 744us\tremaining: 1.49ms\n",
      "1:\tlearn: 22.4132474\ttotal: 1.46ms\tremaining: 731us\n",
      "2:\tlearn: 21.5357989\ttotal: 1.95ms\tremaining: 0us\n",
      "0:\tlearn: 24.3445070\ttotal: 834us\tremaining: 1.67ms\n",
      "1:\tlearn: 22.3156992\ttotal: 1.6ms\tremaining: 801us\n",
      "2:\tlearn: 21.4547640\ttotal: 2.29ms\tremaining: 0us\n",
      "0:\tlearn: 25.7895925\ttotal: 888us\tremaining: 1.78ms\n",
      "1:\tlearn: 23.7180336\ttotal: 1.68ms\tremaining: 838us\n",
      "2:\tlearn: 22.9775963\ttotal: 2.42ms\tremaining: 0us\n",
      "0:\tlearn: 28.6335227\ttotal: 766us\tremaining: 1.53ms\n",
      "1:\tlearn: 25.0257520\ttotal: 1.58ms\tremaining: 792us\n",
      "2:\tlearn: 23.9532788\ttotal: 2.34ms\tremaining: 0us\n",
      "0:\tlearn: 29.1941720\ttotal: 813us\tremaining: 1.63ms\n",
      "1:\tlearn: 25.6805595\ttotal: 1.84ms\tremaining: 919us\n",
      "2:\tlearn: 24.1015831\ttotal: 2.98ms\tremaining: 0us\n",
      "0:\tlearn: 27.0217000\ttotal: 890us\tremaining: 1.78ms\n",
      "1:\tlearn: 24.8330754\ttotal: 1.8ms\tremaining: 901us\n",
      "2:\tlearn: 24.0578232\ttotal: 2.5ms\tremaining: 0us\n",
      "0:\tlearn: 29.7199403\ttotal: 1ms\tremaining: 2ms\n",
      "1:\tlearn: 27.3601961\ttotal: 2.1ms\tremaining: 1.05ms\n",
      "2:\tlearn: 26.0209900\ttotal: 2.94ms\tremaining: 0us\n",
      "0:\tlearn: 24.4151628\ttotal: 754us\tremaining: 2.26ms\n",
      "1:\tlearn: 19.1814327\ttotal: 1.34ms\tremaining: 1.34ms\n",
      "2:\tlearn: 17.6328657\ttotal: 1.77ms\tremaining: 590us\n",
      "3:\tlearn: 17.1641875\ttotal: 2.14ms\tremaining: 0us\n",
      "0:\tlearn: 23.9635676\ttotal: 522us\tremaining: 1.57ms\n",
      "1:\tlearn: 21.4921831\ttotal: 1.36ms\tremaining: 1.36ms\n",
      "2:\tlearn: 20.3909706\ttotal: 1.8ms\tremaining: 599us\n",
      "3:\tlearn: 19.7637746\ttotal: 2.25ms\tremaining: 0us\n",
      "0:\tlearn: 22.3076284\ttotal: 637us\tremaining: 1.91ms\n",
      "1:\tlearn: 20.7586351\ttotal: 1.43ms\tremaining: 1.43ms\n",
      "2:\tlearn: 20.2591543\ttotal: 2.05ms\tremaining: 682us\n",
      "3:\tlearn: 19.6808788\ttotal: 2.63ms\tremaining: 0us\n",
      "0:\tlearn: 24.2783120\ttotal: 927us\tremaining: 2.78ms\n",
      "1:\tlearn: 22.4132474\ttotal: 1.91ms\tremaining: 1.91ms\n",
      "2:\tlearn: 21.5357989\ttotal: 2.71ms\tremaining: 903us\n",
      "3:\tlearn: 21.3092038\ttotal: 3.66ms\tremaining: 0us\n",
      "0:\tlearn: 24.3445070\ttotal: 860us\tremaining: 2.58ms\n",
      "1:\tlearn: 22.3156992\ttotal: 1.75ms\tremaining: 1.75ms\n",
      "2:\tlearn: 21.4547640\ttotal: 2.41ms\tremaining: 803us\n",
      "3:\tlearn: 21.0013580\ttotal: 3.12ms\tremaining: 0us\n",
      "0:\tlearn: 25.7895925\ttotal: 1.08ms\tremaining: 3.23ms\n",
      "1:\tlearn: 23.7180336\ttotal: 2.26ms\tremaining: 2.26ms\n",
      "2:\tlearn: 22.9775963\ttotal: 3.22ms\tremaining: 1.07ms\n",
      "3:\tlearn: 22.6816262\ttotal: 3.85ms\tremaining: 0us\n",
      "0:\tlearn: 28.6335227\ttotal: 888us\tremaining: 2.67ms\n",
      "1:\tlearn: 25.0257520\ttotal: 1.87ms\tremaining: 1.87ms\n",
      "2:\tlearn: 23.9532788\ttotal: 2.69ms\tremaining: 897us\n",
      "3:\tlearn: 23.3550959\ttotal: 3.55ms\tremaining: 0us\n",
      "0:\tlearn: 29.1941720\ttotal: 807us\tremaining: 2.42ms\n",
      "1:\tlearn: 25.6805595\ttotal: 1.86ms\tremaining: 1.86ms\n",
      "2:\tlearn: 24.1015831\ttotal: 2.56ms\tremaining: 851us\n",
      "3:\tlearn: 23.5024248\ttotal: 3.27ms\tremaining: 0us\n",
      "0:\tlearn: 27.0217000\ttotal: 957us\tremaining: 2.87ms\n",
      "1:\tlearn: 24.8330754\ttotal: 1.71ms\tremaining: 1.71ms\n",
      "2:\tlearn: 24.0578232\ttotal: 2.53ms\tremaining: 844us\n",
      "3:\tlearn: 23.7714136\ttotal: 3.25ms\tremaining: 0us\n",
      "0:\tlearn: 29.7199403\ttotal: 935us\tremaining: 2.81ms\n",
      "1:\tlearn: 27.3601961\ttotal: 1.86ms\tremaining: 1.86ms\n",
      "2:\tlearn: 26.0209900\ttotal: 2.83ms\tremaining: 943us\n",
      "3:\tlearn: 25.4470480\ttotal: 3.89ms\tremaining: 0us\n",
      "0:\tlearn: 24.4151628\ttotal: 505us\tremaining: 2.02ms\n",
      "1:\tlearn: 19.1814327\ttotal: 1.13ms\tremaining: 1.7ms\n",
      "2:\tlearn: 17.6328657\ttotal: 1.62ms\tremaining: 1.08ms\n",
      "3:\tlearn: 17.1641875\ttotal: 2ms\tremaining: 499us\n",
      "4:\tlearn: 16.9457692\ttotal: 2.38ms\tremaining: 0us\n",
      "0:\tlearn: 23.9635676\ttotal: 523us\tremaining: 2.09ms\n",
      "1:\tlearn: 21.4921831\ttotal: 1.25ms\tremaining: 1.88ms\n",
      "2:\tlearn: 20.3909706\ttotal: 1.78ms\tremaining: 1.19ms\n",
      "3:\tlearn: 19.7637746\ttotal: 2.24ms\tremaining: 559us\n",
      "4:\tlearn: 19.3594122\ttotal: 2.68ms\tremaining: 0us\n",
      "0:\tlearn: 22.3076284\ttotal: 629us\tremaining: 2.52ms\n",
      "1:\tlearn: 20.7586351\ttotal: 1.47ms\tremaining: 2.21ms\n",
      "2:\tlearn: 20.2591543\ttotal: 2.34ms\tremaining: 1.56ms\n",
      "3:\tlearn: 19.6808788\ttotal: 2.88ms\tremaining: 720us\n",
      "4:\tlearn: 19.5105245\ttotal: 3.46ms\tremaining: 0us\n",
      "0:\tlearn: 24.2783120\ttotal: 651us\tremaining: 2.6ms\n",
      "1:\tlearn: 22.4132474\ttotal: 1.42ms\tremaining: 2.12ms\n",
      "2:\tlearn: 21.5357989\ttotal: 2.04ms\tremaining: 1.36ms\n",
      "3:\tlearn: 21.3092038\ttotal: 2.65ms\tremaining: 662us\n",
      "4:\tlearn: 21.0318272\ttotal: 3.24ms\tremaining: 0us\n",
      "0:\tlearn: 24.3445070\ttotal: 838us\tremaining: 3.35ms\n",
      "1:\tlearn: 22.3156992\ttotal: 1.84ms\tremaining: 2.76ms\n",
      "2:\tlearn: 21.4547640\ttotal: 2.73ms\tremaining: 1.82ms\n",
      "3:\tlearn: 21.0013580\ttotal: 3.52ms\tremaining: 879us\n",
      "4:\tlearn: 20.7867594\ttotal: 4.17ms\tremaining: 0us\n",
      "0:\tlearn: 25.7895925\ttotal: 838us\tremaining: 3.35ms\n",
      "1:\tlearn: 23.7180336\ttotal: 1.72ms\tremaining: 2.58ms\n",
      "2:\tlearn: 22.9775963\ttotal: 2.39ms\tremaining: 1.59ms\n",
      "3:\tlearn: 22.6816262\ttotal: 3.05ms\tremaining: 763us\n",
      "4:\tlearn: 21.9510530\ttotal: 3.67ms\tremaining: 0us\n",
      "0:\tlearn: 28.6335227\ttotal: 792us\tremaining: 3.17ms\n",
      "1:\tlearn: 25.0257520\ttotal: 1.65ms\tremaining: 2.47ms\n",
      "2:\tlearn: 23.9532788\ttotal: 2.33ms\tremaining: 1.56ms\n",
      "3:\tlearn: 23.3550959\ttotal: 3.06ms\tremaining: 766us\n",
      "4:\tlearn: 22.7395543\ttotal: 3.9ms\tremaining: 0us\n",
      "0:\tlearn: 29.1941720\ttotal: 913us\tremaining: 3.65ms\n",
      "1:\tlearn: 25.6805595\ttotal: 1.83ms\tremaining: 2.75ms\n",
      "2:\tlearn: 24.1015831\ttotal: 2.6ms\tremaining: 1.73ms\n",
      "3:\tlearn: 23.5024248\ttotal: 3.31ms\tremaining: 828us\n",
      "4:\tlearn: 23.2399565\ttotal: 4.04ms\tremaining: 0us\n",
      "0:\tlearn: 27.0217000\ttotal: 954us\tremaining: 3.82ms\n",
      "1:\tlearn: 24.8330754\ttotal: 2.02ms\tremaining: 3.03ms\n",
      "2:\tlearn: 24.0578232\ttotal: 2.75ms\tremaining: 1.84ms\n",
      "3:\tlearn: 23.7714136\ttotal: 3.51ms\tremaining: 877us\n",
      "4:\tlearn: 23.5160108\ttotal: 4.24ms\tremaining: 0us\n",
      "0:\tlearn: 29.7199403\ttotal: 914us\tremaining: 3.66ms\n",
      "1:\tlearn: 27.3601961\ttotal: 1.88ms\tremaining: 2.81ms\n",
      "2:\tlearn: 26.0209900\ttotal: 2.78ms\tremaining: 1.85ms\n",
      "3:\tlearn: 25.4470480\ttotal: 3.58ms\tremaining: 895us\n",
      "4:\tlearn: 24.6724681\ttotal: 4.35ms\tremaining: 0us\n",
      "0:\tlearn: 24.4151628\ttotal: 442us\tremaining: 2.21ms\n",
      "1:\tlearn: 19.1814327\ttotal: 970us\tremaining: 1.94ms\n",
      "2:\tlearn: 17.6328657\ttotal: 1.33ms\tremaining: 1.33ms\n",
      "3:\tlearn: 17.1641875\ttotal: 1.68ms\tremaining: 840us\n",
      "4:\tlearn: 16.9457692\ttotal: 2.01ms\tremaining: 402us\n",
      "5:\tlearn: 16.4767150\ttotal: 2.34ms\tremaining: 0us\n",
      "0:\tlearn: 23.9635676\ttotal: 615us\tremaining: 3.08ms\n",
      "1:\tlearn: 21.4921831\ttotal: 1.24ms\tremaining: 2.47ms\n",
      "2:\tlearn: 20.3909706\ttotal: 1.71ms\tremaining: 1.71ms\n",
      "3:\tlearn: 19.7637746\ttotal: 2.19ms\tremaining: 1.1ms\n",
      "4:\tlearn: 19.3594122\ttotal: 2.58ms\tremaining: 515us\n",
      "5:\tlearn: 19.0097678\ttotal: 3.02ms\tremaining: 0us\n",
      "0:\tlearn: 22.3076284\ttotal: 611us\tremaining: 3.06ms\n",
      "1:\tlearn: 20.7586351\ttotal: 1.25ms\tremaining: 2.49ms\n",
      "2:\tlearn: 20.2591543\ttotal: 1.74ms\tremaining: 1.74ms\n",
      "3:\tlearn: 19.6808788\ttotal: 2.2ms\tremaining: 1.1ms\n",
      "4:\tlearn: 19.5105245\ttotal: 2.67ms\tremaining: 533us\n",
      "5:\tlearn: 19.2461463\ttotal: 3.15ms\tremaining: 0us\n",
      "0:\tlearn: 24.2783120\ttotal: 662us\tremaining: 3.31ms\n",
      "1:\tlearn: 22.4132474\ttotal: 1.33ms\tremaining: 2.66ms\n",
      "2:\tlearn: 21.5357989\ttotal: 1.95ms\tremaining: 1.95ms\n",
      "3:\tlearn: 21.3092038\ttotal: 2.54ms\tremaining: 1.27ms\n",
      "4:\tlearn: 21.0318272\ttotal: 3.16ms\tremaining: 631us\n",
      "5:\tlearn: 20.6578858\ttotal: 3.74ms\tremaining: 0us\n",
      "0:\tlearn: 24.3445070\ttotal: 826us\tremaining: 4.13ms\n",
      "1:\tlearn: 22.3156992\ttotal: 1.6ms\tremaining: 3.21ms\n",
      "2:\tlearn: 21.4547640\ttotal: 2.33ms\tremaining: 2.33ms\n",
      "3:\tlearn: 21.0013580\ttotal: 3ms\tremaining: 1.5ms\n",
      "4:\tlearn: 20.7867594\ttotal: 3.68ms\tremaining: 736us\n",
      "5:\tlearn: 20.4720271\ttotal: 4.41ms\tremaining: 0us\n",
      "0:\tlearn: 25.7895925\ttotal: 869us\tremaining: 4.35ms\n",
      "1:\tlearn: 23.7180336\ttotal: 1.69ms\tremaining: 3.37ms\n",
      "2:\tlearn: 22.9775963\ttotal: 2.41ms\tremaining: 2.41ms\n",
      "3:\tlearn: 22.6816262\ttotal: 3.07ms\tremaining: 1.53ms\n",
      "4:\tlearn: 21.9510530\ttotal: 3.67ms\tremaining: 735us\n",
      "5:\tlearn: 21.6269928\ttotal: 4.29ms\tremaining: 0us\n",
      "0:\tlearn: 28.6335227\ttotal: 812us\tremaining: 4.06ms\n",
      "1:\tlearn: 25.0257520\ttotal: 1.7ms\tremaining: 3.4ms\n",
      "2:\tlearn: 23.9532788\ttotal: 2.42ms\tremaining: 2.42ms\n",
      "3:\tlearn: 23.3550959\ttotal: 3.1ms\tremaining: 1.55ms\n",
      "4:\tlearn: 22.7395543\ttotal: 3.77ms\tremaining: 753us\n",
      "5:\tlearn: 22.0611270\ttotal: 4.43ms\tremaining: 0us\n",
      "0:\tlearn: 29.1941720\ttotal: 986us\tremaining: 4.93ms\n",
      "1:\tlearn: 25.6805595\ttotal: 2.24ms\tremaining: 4.48ms\n",
      "2:\tlearn: 24.1015831\ttotal: 3.2ms\tremaining: 3.2ms\n",
      "3:\tlearn: 23.5024248\ttotal: 4.1ms\tremaining: 2.05ms\n",
      "4:\tlearn: 23.2399565\ttotal: 4.87ms\tremaining: 974us\n",
      "5:\tlearn: 22.5506468\ttotal: 5.67ms\tremaining: 0us\n",
      "0:\tlearn: 27.0217000\ttotal: 941us\tremaining: 4.71ms\n",
      "1:\tlearn: 24.8330754\ttotal: 1.86ms\tremaining: 3.72ms\n",
      "2:\tlearn: 24.0578232\ttotal: 2.75ms\tremaining: 2.75ms\n",
      "3:\tlearn: 23.7714136\ttotal: 3.52ms\tremaining: 1.76ms\n",
      "4:\tlearn: 23.5160108\ttotal: 4.22ms\tremaining: 843us\n",
      "5:\tlearn: 23.3382778\ttotal: 4.92ms\tremaining: 0us\n",
      "0:\tlearn: 29.7199403\ttotal: 943us\tremaining: 4.72ms\n",
      "1:\tlearn: 27.3601961\ttotal: 1.91ms\tremaining: 3.81ms\n",
      "2:\tlearn: 26.0209900\ttotal: 2.77ms\tremaining: 2.77ms\n",
      "3:\tlearn: 25.4470480\ttotal: 3.56ms\tremaining: 1.78ms\n",
      "4:\tlearn: 24.6724681\ttotal: 4.4ms\tremaining: 880us\n",
      "5:\tlearn: 24.4834347\ttotal: 5.2ms\tremaining: 0us\n",
      "0:\tlearn: 24.4151628\ttotal: 478us\tremaining: 2.87ms\n",
      "1:\tlearn: 19.1814327\ttotal: 908us\tremaining: 2.27ms\n",
      "2:\tlearn: 17.6328657\ttotal: 1.3ms\tremaining: 1.73ms\n",
      "3:\tlearn: 17.1641875\ttotal: 1.63ms\tremaining: 1.22ms\n",
      "4:\tlearn: 16.9457692\ttotal: 2.05ms\tremaining: 819us\n",
      "5:\tlearn: 16.4767150\ttotal: 2.41ms\tremaining: 401us\n",
      "6:\tlearn: 15.9426531\ttotal: 2.74ms\tremaining: 0us\n",
      "0:\tlearn: 23.9635676\ttotal: 552us\tremaining: 3.31ms\n",
      "1:\tlearn: 21.4921831\ttotal: 1.25ms\tremaining: 3.11ms\n",
      "2:\tlearn: 20.3909706\ttotal: 1.67ms\tremaining: 2.23ms\n",
      "3:\tlearn: 19.7637746\ttotal: 2.15ms\tremaining: 1.61ms\n",
      "4:\tlearn: 19.3594122\ttotal: 2.59ms\tremaining: 1.03ms\n",
      "5:\tlearn: 19.0097678\ttotal: 3.02ms\tremaining: 502us\n",
      "6:\tlearn: 18.5558452\ttotal: 3.42ms\tremaining: 0us\n",
      "0:\tlearn: 22.3076284\ttotal: 614us\tremaining: 3.69ms\n",
      "1:\tlearn: 20.7586351\ttotal: 1.35ms\tremaining: 3.37ms\n",
      "2:\tlearn: 20.2591543\ttotal: 1.92ms\tremaining: 2.56ms\n",
      "3:\tlearn: 19.6808788\ttotal: 2.47ms\tremaining: 1.85ms\n",
      "4:\tlearn: 19.5105245\ttotal: 2.91ms\tremaining: 1.16ms\n",
      "5:\tlearn: 19.2461463\ttotal: 3.42ms\tremaining: 569us\n",
      "6:\tlearn: 18.9707993\ttotal: 3.85ms\tremaining: 0us\n",
      "0:\tlearn: 24.2783120\ttotal: 712us\tremaining: 4.27ms\n",
      "1:\tlearn: 22.4132474\ttotal: 1.47ms\tremaining: 3.67ms\n",
      "2:\tlearn: 21.5357989\ttotal: 2.01ms\tremaining: 2.68ms\n",
      "3:\tlearn: 21.3092038\ttotal: 2.52ms\tremaining: 1.89ms\n",
      "4:\tlearn: 21.0318272\ttotal: 3.05ms\tremaining: 1.22ms\n",
      "5:\tlearn: 20.6578858\ttotal: 3.59ms\tremaining: 599us\n",
      "6:\tlearn: 20.4135425\ttotal: 4.06ms\tremaining: 0us\n",
      "0:\tlearn: 24.3445070\ttotal: 738us\tremaining: 4.43ms\n",
      "1:\tlearn: 22.3156992\ttotal: 1.48ms\tremaining: 3.7ms\n",
      "2:\tlearn: 21.4547640\ttotal: 2.08ms\tremaining: 2.77ms\n",
      "3:\tlearn: 21.0013580\ttotal: 2.67ms\tremaining: 2ms\n",
      "4:\tlearn: 20.7867594\ttotal: 3.26ms\tremaining: 1.3ms\n",
      "5:\tlearn: 20.4720271\ttotal: 3.89ms\tremaining: 648us\n",
      "6:\tlearn: 20.2847984\ttotal: 4.49ms\tremaining: 0us\n",
      "0:\tlearn: 25.7895925\ttotal: 881us\tremaining: 5.29ms\n",
      "1:\tlearn: 23.7180336\ttotal: 1.7ms\tremaining: 4.24ms\n",
      "2:\tlearn: 22.9775963\ttotal: 2.44ms\tremaining: 3.25ms\n",
      "3:\tlearn: 22.6816262\ttotal: 3.11ms\tremaining: 2.33ms\n",
      "4:\tlearn: 21.9510530\ttotal: 3.85ms\tremaining: 1.54ms\n",
      "5:\tlearn: 21.6269928\ttotal: 4.55ms\tremaining: 759us\n",
      "6:\tlearn: 21.3713782\ttotal: 5.3ms\tremaining: 0us\n",
      "0:\tlearn: 28.6335227\ttotal: 738us\tremaining: 4.43ms\n",
      "1:\tlearn: 25.0257520\ttotal: 1.61ms\tremaining: 4.04ms\n",
      "2:\tlearn: 23.9532788\ttotal: 2.31ms\tremaining: 3.07ms\n",
      "3:\tlearn: 23.3550959\ttotal: 2.91ms\tremaining: 2.18ms\n",
      "4:\tlearn: 22.7395543\ttotal: 3.54ms\tremaining: 1.42ms\n",
      "5:\tlearn: 22.0611270\ttotal: 4.14ms\tremaining: 689us\n",
      "6:\tlearn: 21.8099046\ttotal: 4.76ms\tremaining: 0us\n",
      "0:\tlearn: 29.1941720\ttotal: 904us\tremaining: 5.43ms\n",
      "1:\tlearn: 25.6805595\ttotal: 2ms\tremaining: 5.01ms\n",
      "2:\tlearn: 24.1015831\ttotal: 2.79ms\tremaining: 3.72ms\n",
      "3:\tlearn: 23.5024248\ttotal: 3.5ms\tremaining: 2.63ms\n",
      "4:\tlearn: 23.2399565\ttotal: 4.19ms\tremaining: 1.68ms\n",
      "5:\tlearn: 22.5506468\ttotal: 4.91ms\tremaining: 817us\n",
      "6:\tlearn: 22.3004092\ttotal: 5.59ms\tremaining: 0us\n",
      "0:\tlearn: 27.0217000\ttotal: 1.2ms\tremaining: 7.2ms\n",
      "1:\tlearn: 24.8330754\ttotal: 2.25ms\tremaining: 5.63ms\n",
      "2:\tlearn: 24.0578232\ttotal: 3.31ms\tremaining: 4.41ms\n",
      "3:\tlearn: 23.7714136\ttotal: 4.21ms\tremaining: 3.16ms\n",
      "4:\tlearn: 23.5160108\ttotal: 5ms\tremaining: 2ms\n",
      "5:\tlearn: 23.3382778\ttotal: 5.83ms\tremaining: 972us\n",
      "6:\tlearn: 23.1527770\ttotal: 6.71ms\tremaining: 0us\n",
      "0:\tlearn: 29.7199403\ttotal: 1.36ms\tremaining: 8.16ms\n",
      "1:\tlearn: 27.3601961\ttotal: 2.75ms\tremaining: 6.88ms\n",
      "2:\tlearn: 26.0209900\ttotal: 3.72ms\tremaining: 4.96ms\n",
      "3:\tlearn: 25.4470480\ttotal: 4.59ms\tremaining: 3.44ms\n",
      "4:\tlearn: 24.6724681\ttotal: 5.44ms\tremaining: 2.18ms\n",
      "5:\tlearn: 24.4834347\ttotal: 6.36ms\tremaining: 1.06ms\n",
      "6:\tlearn: 24.3799797\ttotal: 7.2ms\tremaining: 0us\n",
      "0:\tlearn: 24.4151628\ttotal: 490us\tremaining: 3.44ms\n",
      "1:\tlearn: 19.1814327\ttotal: 1.04ms\tremaining: 3.13ms\n",
      "2:\tlearn: 17.6328657\ttotal: 1.44ms\tremaining: 2.4ms\n",
      "3:\tlearn: 17.1641875\ttotal: 1.8ms\tremaining: 1.8ms\n",
      "4:\tlearn: 16.9457692\ttotal: 2.13ms\tremaining: 1.27ms\n",
      "5:\tlearn: 16.4767150\ttotal: 2.48ms\tremaining: 827us\n",
      "6:\tlearn: 15.9426531\ttotal: 2.84ms\tremaining: 406us\n",
      "7:\tlearn: 15.2776339\ttotal: 3.29ms\tremaining: 0us\n",
      "0:\tlearn: 23.9635676\ttotal: 629us\tremaining: 4.41ms\n",
      "1:\tlearn: 21.4921831\ttotal: 1.36ms\tremaining: 4.09ms\n",
      "2:\tlearn: 20.3909706\ttotal: 1.98ms\tremaining: 3.31ms\n",
      "3:\tlearn: 19.7637746\ttotal: 2.46ms\tremaining: 2.46ms\n",
      "4:\tlearn: 19.3594122\ttotal: 2.98ms\tremaining: 1.79ms\n",
      "5:\tlearn: 19.0097678\ttotal: 3.43ms\tremaining: 1.14ms\n",
      "6:\tlearn: 18.5558452\ttotal: 3.91ms\tremaining: 558us\n",
      "7:\tlearn: 18.2339438\ttotal: 4.41ms\tremaining: 0us\n",
      "0:\tlearn: 22.3076284\ttotal: 623us\tremaining: 4.36ms\n",
      "1:\tlearn: 20.7586351\ttotal: 1.37ms\tremaining: 4.12ms\n",
      "2:\tlearn: 20.2591543\ttotal: 1.86ms\tremaining: 3.1ms\n",
      "3:\tlearn: 19.6808788\ttotal: 2.39ms\tremaining: 2.39ms\n",
      "4:\tlearn: 19.5105245\ttotal: 2.83ms\tremaining: 1.7ms\n",
      "5:\tlearn: 19.2461463\ttotal: 3.41ms\tremaining: 1.14ms\n",
      "6:\tlearn: 18.9707993\ttotal: 3.88ms\tremaining: 554us\n",
      "7:\tlearn: 18.5742906\ttotal: 4.33ms\tremaining: 0us\n",
      "0:\tlearn: 24.2783120\ttotal: 685us\tremaining: 4.79ms\n",
      "1:\tlearn: 22.4132474\ttotal: 1.24ms\tremaining: 3.71ms\n",
      "2:\tlearn: 21.5357989\ttotal: 1.82ms\tremaining: 3.04ms\n",
      "3:\tlearn: 21.3092038\ttotal: 2.33ms\tremaining: 2.33ms\n",
      "4:\tlearn: 21.0318272\ttotal: 2.95ms\tremaining: 1.77ms\n",
      "5:\tlearn: 20.6578858\ttotal: 3.57ms\tremaining: 1.19ms\n",
      "6:\tlearn: 20.4135425\ttotal: 4.1ms\tremaining: 585us\n",
      "7:\tlearn: 19.7691953\ttotal: 4.64ms\tremaining: 0us\n",
      "0:\tlearn: 24.3445070\ttotal: 768us\tremaining: 5.38ms\n",
      "1:\tlearn: 22.3156992\ttotal: 1.35ms\tremaining: 4.04ms\n",
      "2:\tlearn: 21.4547640\ttotal: 2.21ms\tremaining: 3.68ms\n",
      "3:\tlearn: 21.0013580\ttotal: 2.85ms\tremaining: 2.85ms\n",
      "4:\tlearn: 20.7867594\ttotal: 3.48ms\tremaining: 2.09ms\n",
      "5:\tlearn: 20.4720271\ttotal: 4.07ms\tremaining: 1.36ms\n",
      "6:\tlearn: 20.2847984\ttotal: 4.73ms\tremaining: 675us\n",
      "7:\tlearn: 20.0424306\ttotal: 5.38ms\tremaining: 0us\n",
      "0:\tlearn: 25.7895925\ttotal: 944us\tremaining: 6.61ms\n",
      "1:\tlearn: 23.7180336\ttotal: 1.58ms\tremaining: 4.75ms\n",
      "2:\tlearn: 22.9775963\ttotal: 2.29ms\tremaining: 3.82ms\n",
      "3:\tlearn: 22.6816262\ttotal: 2.98ms\tremaining: 2.98ms\n",
      "4:\tlearn: 21.9510530\ttotal: 3.72ms\tremaining: 2.23ms\n",
      "5:\tlearn: 21.6269928\ttotal: 4.37ms\tremaining: 1.46ms\n",
      "6:\tlearn: 21.3713782\ttotal: 5.03ms\tremaining: 718us\n",
      "7:\tlearn: 21.1673380\ttotal: 5.71ms\tremaining: 0us\n",
      "0:\tlearn: 28.6335227\ttotal: 732us\tremaining: 5.12ms\n",
      "1:\tlearn: 25.0257520\ttotal: 1.61ms\tremaining: 4.83ms\n",
      "2:\tlearn: 23.9532788\ttotal: 2.33ms\tremaining: 3.89ms\n",
      "3:\tlearn: 23.3550959\ttotal: 2.94ms\tremaining: 2.94ms\n",
      "4:\tlearn: 22.7395543\ttotal: 3.66ms\tremaining: 2.2ms\n",
      "5:\tlearn: 22.0611270\ttotal: 4.39ms\tremaining: 1.46ms\n",
      "6:\tlearn: 21.8099046\ttotal: 5.07ms\tremaining: 724us\n",
      "7:\tlearn: 21.4837496\ttotal: 5.75ms\tremaining: 0us\n",
      "0:\tlearn: 29.1941720\ttotal: 948us\tremaining: 6.64ms\n",
      "1:\tlearn: 25.6805595\ttotal: 1.68ms\tremaining: 5.05ms\n",
      "2:\tlearn: 24.1015831\ttotal: 2.36ms\tremaining: 3.94ms\n",
      "3:\tlearn: 23.5024248\ttotal: 3.1ms\tremaining: 3.1ms\n",
      "4:\tlearn: 23.2399565\ttotal: 3.83ms\tremaining: 2.3ms\n",
      "5:\tlearn: 22.5506468\ttotal: 4.51ms\tremaining: 1.5ms\n",
      "6:\tlearn: 22.3004092\ttotal: 5.17ms\tremaining: 738us\n",
      "7:\tlearn: 22.0874343\ttotal: 5.87ms\tremaining: 0us\n",
      "0:\tlearn: 27.0217000\ttotal: 1.2ms\tremaining: 8.41ms\n",
      "1:\tlearn: 24.8330754\ttotal: 2.16ms\tremaining: 6.48ms\n",
      "2:\tlearn: 24.0578232\ttotal: 3.04ms\tremaining: 5.07ms\n",
      "3:\tlearn: 23.7714136\ttotal: 3.83ms\tremaining: 3.83ms\n",
      "4:\tlearn: 23.5160108\ttotal: 4.61ms\tremaining: 2.77ms\n",
      "5:\tlearn: 23.3382778\ttotal: 5.33ms\tremaining: 1.77ms\n",
      "6:\tlearn: 23.1527770\ttotal: 6.01ms\tremaining: 858us\n",
      "7:\tlearn: 22.5293102\ttotal: 6.77ms\tremaining: 0us\n",
      "0:\tlearn: 29.7199403\ttotal: 966us\tremaining: 6.77ms\n",
      "1:\tlearn: 27.3601961\ttotal: 1.92ms\tremaining: 5.77ms\n",
      "2:\tlearn: 26.0209900\ttotal: 2.72ms\tremaining: 4.53ms\n",
      "3:\tlearn: 25.4470480\ttotal: 3.54ms\tremaining: 3.54ms\n",
      "4:\tlearn: 24.6724681\ttotal: 4.32ms\tremaining: 2.59ms\n",
      "5:\tlearn: 24.4834347\ttotal: 5.1ms\tremaining: 1.7ms\n",
      "6:\tlearn: 24.3799797\ttotal: 5.81ms\tremaining: 830us\n",
      "7:\tlearn: 23.8558864\ttotal: 6.72ms\tremaining: 0us\n",
      "0:\tlearn: 22.5566476\ttotal: 708us\tremaining: 0us\n",
      "0:\tlearn: 22.2760662\ttotal: 857us\tremaining: 0us\n",
      "0:\tlearn: 21.7037931\ttotal: 858us\tremaining: 0us\n",
      "0:\tlearn: 23.8199959\ttotal: 1.03ms\tremaining: 0us\n",
      "0:\tlearn: 24.3674289\ttotal: 1.08ms\tremaining: 0us\n",
      "0:\tlearn: 24.9824489\ttotal: 1.22ms\tremaining: 0us\n",
      "0:\tlearn: 27.1286653\ttotal: 1.07ms\tremaining: 0us\n",
      "0:\tlearn: 27.6549660\ttotal: 1.26ms\tremaining: 0us\n",
      "0:\tlearn: 25.6686099\ttotal: 1.43ms\tremaining: 0us\n",
      "0:\tlearn: 26.9568003\ttotal: 1.35ms\tremaining: 0us\n",
      "0:\tlearn: 22.5566476\ttotal: 662us\tremaining: 662us\n",
      "1:\tlearn: 18.4467066\ttotal: 1.51ms\tremaining: 0us\n",
      "0:\tlearn: 22.2760662\ttotal: 842us\tremaining: 842us\n",
      "1:\tlearn: 19.7229968\ttotal: 1.68ms\tremaining: 0us\n",
      "0:\tlearn: 21.7037931\ttotal: 960us\tremaining: 960us\n",
      "1:\tlearn: 20.2487903\ttotal: 1.85ms\tremaining: 0us\n",
      "0:\tlearn: 23.8199959\ttotal: 988us\tremaining: 988us\n",
      "1:\tlearn: 21.9877700\ttotal: 2.24ms\tremaining: 0us\n",
      "0:\tlearn: 24.3674289\ttotal: 1.05ms\tremaining: 1.05ms\n",
      "1:\tlearn: 22.1562164\ttotal: 2.28ms\tremaining: 0us\n",
      "0:\tlearn: 24.9824489\ttotal: 1.06ms\tremaining: 1.06ms\n",
      "1:\tlearn: 22.5032142\ttotal: 2.29ms\tremaining: 0us\n",
      "0:\tlearn: 27.1286653\ttotal: 1.11ms\tremaining: 1.11ms\n",
      "1:\tlearn: 24.4898009\ttotal: 2.45ms\tremaining: 0us\n",
      "0:\tlearn: 27.6549660\ttotal: 1.14ms\tremaining: 1.14ms\n",
      "1:\tlearn: 24.8150755\ttotal: 2.34ms\tremaining: 0us\n",
      "0:\tlearn: 25.6686099\ttotal: 1.28ms\tremaining: 1.28ms\n",
      "1:\tlearn: 24.0892494\ttotal: 2.74ms\tremaining: 0us\n",
      "0:\tlearn: 26.9568003\ttotal: 1.36ms\tremaining: 1.36ms\n",
      "1:\tlearn: 24.7149582\ttotal: 2.73ms\tremaining: 0us\n",
      "0:\tlearn: 22.5566476\ttotal: 689us\tremaining: 1.38ms\n",
      "1:\tlearn: 18.4467066\ttotal: 1.44ms\tremaining: 719us\n",
      "2:\tlearn: 17.5020788\ttotal: 1.98ms\tremaining: 0us\n",
      "0:\tlearn: 22.2760662\ttotal: 936us\tremaining: 1.87ms\n",
      "1:\tlearn: 19.7229968\ttotal: 1.83ms\tremaining: 913us\n",
      "2:\tlearn: 18.9396170\ttotal: 2.56ms\tremaining: 0us\n",
      "0:\tlearn: 21.7037931\ttotal: 928us\tremaining: 1.86ms\n",
      "1:\tlearn: 20.2487903\ttotal: 2.02ms\tremaining: 1.01ms\n",
      "2:\tlearn: 19.6978089\ttotal: 2.85ms\tremaining: 0us\n",
      "0:\tlearn: 23.8199959\ttotal: 1.38ms\tremaining: 2.76ms\n",
      "1:\tlearn: 21.9877700\ttotal: 2.64ms\tremaining: 1.32ms\n",
      "2:\tlearn: 21.5508713\ttotal: 3.88ms\tremaining: 0us\n",
      "0:\tlearn: 24.3674289\ttotal: 1.05ms\tremaining: 2.11ms\n",
      "1:\tlearn: 22.1562164\ttotal: 2.08ms\tremaining: 1.04ms\n",
      "2:\tlearn: 21.4136613\ttotal: 2.94ms\tremaining: 0us\n",
      "0:\tlearn: 24.9824489\ttotal: 1.03ms\tremaining: 2.06ms\n",
      "1:\tlearn: 22.5032142\ttotal: 2.17ms\tremaining: 1.08ms\n",
      "2:\tlearn: 21.8013644\ttotal: 3.03ms\tremaining: 0us\n",
      "0:\tlearn: 27.1286653\ttotal: 1.06ms\tremaining: 2.12ms\n",
      "1:\tlearn: 24.4898009\ttotal: 2.21ms\tremaining: 1.11ms\n",
      "2:\tlearn: 23.2749667\ttotal: 3.18ms\tremaining: 0us\n",
      "0:\tlearn: 27.6549660\ttotal: 1.17ms\tremaining: 2.34ms\n",
      "1:\tlearn: 24.8150755\ttotal: 2.44ms\tremaining: 1.22ms\n",
      "2:\tlearn: 23.4198243\ttotal: 3.44ms\tremaining: 0us\n",
      "0:\tlearn: 25.6686099\ttotal: 1.27ms\tremaining: 2.54ms\n",
      "1:\tlearn: 24.0892494\ttotal: 2.39ms\tremaining: 1.19ms\n",
      "2:\tlearn: 23.8010095\ttotal: 3.49ms\tremaining: 0us\n",
      "0:\tlearn: 26.9568003\ttotal: 1.34ms\tremaining: 2.69ms\n",
      "1:\tlearn: 24.7149582\ttotal: 2.88ms\tremaining: 1.44ms\n",
      "2:\tlearn: 24.1867530\ttotal: 4.6ms\tremaining: 0us\n",
      "0:\tlearn: 22.5566476\ttotal: 606us\tremaining: 1.82ms\n",
      "1:\tlearn: 18.4467066\ttotal: 1.34ms\tremaining: 1.34ms\n",
      "2:\tlearn: 17.5020788\ttotal: 2.01ms\tremaining: 669us\n",
      "3:\tlearn: 16.7473649\ttotal: 2.55ms\tremaining: 0us\n",
      "0:\tlearn: 22.2760662\ttotal: 759us\tremaining: 2.28ms\n",
      "1:\tlearn: 19.7229968\ttotal: 1.5ms\tremaining: 1.5ms\n",
      "2:\tlearn: 18.9396170\ttotal: 2.17ms\tremaining: 724us\n",
      "3:\tlearn: 18.6244610\ttotal: 2.77ms\tremaining: 0us\n",
      "0:\tlearn: 21.7037931\ttotal: 889us\tremaining: 2.67ms\n",
      "1:\tlearn: 20.2487903\ttotal: 1.72ms\tremaining: 1.72ms\n",
      "2:\tlearn: 19.6978089\ttotal: 2.5ms\tremaining: 834us\n",
      "3:\tlearn: 18.8898544\ttotal: 3.26ms\tremaining: 0us\n",
      "0:\tlearn: 23.8199959\ttotal: 919us\tremaining: 2.76ms\n",
      "1:\tlearn: 21.9877700\ttotal: 1.92ms\tremaining: 1.92ms\n",
      "2:\tlearn: 21.5508713\ttotal: 2.69ms\tremaining: 897us\n",
      "3:\tlearn: 20.5637804\ttotal: 3.42ms\tremaining: 0us\n",
      "0:\tlearn: 24.3674289\ttotal: 971us\tremaining: 2.91ms\n",
      "1:\tlearn: 22.1562164\ttotal: 2.02ms\tremaining: 2.02ms\n",
      "2:\tlearn: 21.4136613\ttotal: 2.85ms\tremaining: 949us\n",
      "3:\tlearn: 20.8589999\ttotal: 3.68ms\tremaining: 0us\n",
      "0:\tlearn: 24.9824489\ttotal: 1.03ms\tremaining: 3.1ms\n",
      "1:\tlearn: 22.5032142\ttotal: 2.06ms\tremaining: 2.06ms\n",
      "2:\tlearn: 21.8013644\ttotal: 3ms\tremaining: 998us\n",
      "3:\tlearn: 21.5486207\ttotal: 3.85ms\tremaining: 0us\n",
      "0:\tlearn: 27.1286653\ttotal: 1.07ms\tremaining: 3.22ms\n",
      "1:\tlearn: 24.4898009\ttotal: 2.25ms\tremaining: 2.25ms\n",
      "2:\tlearn: 23.2749667\ttotal: 3.16ms\tremaining: 1.05ms\n",
      "3:\tlearn: 22.4149433\ttotal: 4.14ms\tremaining: 0us\n",
      "0:\tlearn: 27.6549660\ttotal: 1.1ms\tremaining: 3.31ms\n",
      "1:\tlearn: 24.8150755\ttotal: 2.26ms\tremaining: 2.26ms\n",
      "2:\tlearn: 23.4198243\ttotal: 3.26ms\tremaining: 1.09ms\n",
      "3:\tlearn: 22.9731153\ttotal: 4.18ms\tremaining: 0us\n",
      "0:\tlearn: 25.6686099\ttotal: 1.28ms\tremaining: 3.85ms\n",
      "1:\tlearn: 24.0892494\ttotal: 2.56ms\tremaining: 2.56ms\n",
      "2:\tlearn: 23.8010095\ttotal: 3.6ms\tremaining: 1.2ms\n",
      "3:\tlearn: 23.0908954\ttotal: 4.78ms\tremaining: 0us\n",
      "0:\tlearn: 26.9568003\ttotal: 1.31ms\tremaining: 3.94ms\n",
      "1:\tlearn: 24.7149582\ttotal: 2.66ms\tremaining: 2.66ms\n",
      "2:\tlearn: 24.1867530\ttotal: 3.7ms\tremaining: 1.23ms\n",
      "3:\tlearn: 23.3654273\ttotal: 4.75ms\tremaining: 0us\n",
      "0:\tlearn: 22.5566476\ttotal: 737us\tremaining: 2.95ms\n",
      "1:\tlearn: 18.4467066\ttotal: 1.5ms\tremaining: 2.24ms\n",
      "2:\tlearn: 17.5020788\ttotal: 2.35ms\tremaining: 1.57ms\n",
      "3:\tlearn: 16.7473649\ttotal: 3.05ms\tremaining: 762us\n",
      "4:\tlearn: 16.2990146\ttotal: 3.65ms\tremaining: 0us\n",
      "0:\tlearn: 22.2760662\ttotal: 1.05ms\tremaining: 4.2ms\n",
      "1:\tlearn: 19.7229968\ttotal: 2.26ms\tremaining: 3.38ms\n",
      "2:\tlearn: 18.9396170\ttotal: 3.19ms\tremaining: 2.13ms\n",
      "3:\tlearn: 18.6244610\ttotal: 4.17ms\tremaining: 1.04ms\n",
      "4:\tlearn: 18.3922687\ttotal: 5.15ms\tremaining: 0us\n",
      "0:\tlearn: 21.7037931\ttotal: 874us\tremaining: 3.5ms\n",
      "1:\tlearn: 20.2487903\ttotal: 1.87ms\tremaining: 2.8ms\n",
      "2:\tlearn: 19.6978089\ttotal: 2.72ms\tremaining: 1.81ms\n",
      "3:\tlearn: 18.8898544\ttotal: 3.53ms\tremaining: 881us\n",
      "4:\tlearn: 18.6982309\ttotal: 4.26ms\tremaining: 0us\n",
      "0:\tlearn: 23.8199959\ttotal: 1.07ms\tremaining: 4.3ms\n",
      "1:\tlearn: 21.9877700\ttotal: 2.12ms\tremaining: 3.19ms\n",
      "2:\tlearn: 21.5508713\ttotal: 3.09ms\tremaining: 2.06ms\n",
      "3:\tlearn: 20.5637804\ttotal: 4.08ms\tremaining: 1.02ms\n",
      "4:\tlearn: 20.3735657\ttotal: 4.88ms\tremaining: 0us\n",
      "0:\tlearn: 24.3674289\ttotal: 1ms\tremaining: 4.01ms\n",
      "1:\tlearn: 22.1562164\ttotal: 2.21ms\tremaining: 3.32ms\n",
      "2:\tlearn: 21.4136613\ttotal: 3.24ms\tremaining: 2.16ms\n",
      "3:\tlearn: 20.8589999\ttotal: 4.39ms\tremaining: 1.1ms\n",
      "4:\tlearn: 20.4332165\ttotal: 5.55ms\tremaining: 0us\n",
      "0:\tlearn: 24.9824489\ttotal: 1.01ms\tremaining: 4.05ms\n",
      "1:\tlearn: 22.5032142\ttotal: 1.96ms\tremaining: 2.94ms\n",
      "2:\tlearn: 21.8013644\ttotal: 2.87ms\tremaining: 1.92ms\n",
      "3:\tlearn: 21.5486207\ttotal: 3.7ms\tremaining: 926us\n",
      "4:\tlearn: 21.1150305\ttotal: 4.59ms\tremaining: 0us\n",
      "0:\tlearn: 27.1286653\ttotal: 1.19ms\tremaining: 4.76ms\n",
      "1:\tlearn: 24.4898009\ttotal: 2.52ms\tremaining: 3.77ms\n",
      "2:\tlearn: 23.2749667\ttotal: 3.73ms\tremaining: 2.49ms\n",
      "3:\tlearn: 22.4149433\ttotal: 4.76ms\tremaining: 1.19ms\n",
      "4:\tlearn: 22.0339423\ttotal: 5.75ms\tremaining: 0us\n",
      "0:\tlearn: 27.6549660\ttotal: 1.16ms\tremaining: 4.62ms\n",
      "1:\tlearn: 24.8150755\ttotal: 2.35ms\tremaining: 3.52ms\n",
      "2:\tlearn: 23.4198243\ttotal: 3.42ms\tremaining: 2.28ms\n",
      "3:\tlearn: 22.9731153\ttotal: 4.42ms\tremaining: 1.1ms\n",
      "4:\tlearn: 22.6305509\ttotal: 5.43ms\tremaining: 0us\n",
      "0:\tlearn: 25.6686099\ttotal: 1.37ms\tremaining: 5.49ms\n",
      "1:\tlearn: 24.0892494\ttotal: 2.67ms\tremaining: 4ms\n",
      "2:\tlearn: 23.8010095\ttotal: 3.91ms\tremaining: 2.61ms\n",
      "3:\tlearn: 23.0908954\ttotal: 5.04ms\tremaining: 1.26ms\n",
      "4:\tlearn: 22.7634939\ttotal: 6.14ms\tremaining: 0us\n",
      "0:\tlearn: 26.9568003\ttotal: 1.29ms\tremaining: 5.15ms\n",
      "1:\tlearn: 24.7149582\ttotal: 2.75ms\tremaining: 4.12ms\n",
      "2:\tlearn: 24.1867530\ttotal: 3.86ms\tremaining: 2.58ms\n",
      "3:\tlearn: 23.3654273\ttotal: 5.01ms\tremaining: 1.25ms\n",
      "4:\tlearn: 23.0249587\ttotal: 6.19ms\tremaining: 0us\n",
      "0:\tlearn: 22.5566476\ttotal: 752us\tremaining: 3.76ms\n",
      "1:\tlearn: 18.4467066\ttotal: 1.45ms\tremaining: 2.9ms\n",
      "2:\tlearn: 17.5020788\ttotal: 1.95ms\tremaining: 1.95ms\n",
      "3:\tlearn: 16.7473649\ttotal: 2.45ms\tremaining: 1.22ms\n",
      "4:\tlearn: 16.2990146\ttotal: 2.98ms\tremaining: 595us\n",
      "5:\tlearn: 15.8688304\ttotal: 3.52ms\tremaining: 0us\n",
      "0:\tlearn: 22.2760662\ttotal: 795us\tremaining: 3.98ms\n",
      "1:\tlearn: 19.7229968\ttotal: 1.64ms\tremaining: 3.27ms\n",
      "2:\tlearn: 18.9396170\ttotal: 2.22ms\tremaining: 2.22ms\n",
      "3:\tlearn: 18.6244610\ttotal: 2.78ms\tremaining: 1.39ms\n",
      "4:\tlearn: 18.3922687\ttotal: 3.38ms\tremaining: 675us\n",
      "5:\tlearn: 18.0947517\ttotal: 3.97ms\tremaining: 0us\n",
      "0:\tlearn: 21.7037931\ttotal: 907us\tremaining: 4.54ms\n",
      "1:\tlearn: 20.2487903\ttotal: 1.91ms\tremaining: 3.82ms\n",
      "2:\tlearn: 19.6978089\ttotal: 2.63ms\tremaining: 2.63ms\n",
      "3:\tlearn: 18.8898544\ttotal: 3.33ms\tremaining: 1.67ms\n",
      "4:\tlearn: 18.6982309\ttotal: 4.02ms\tremaining: 803us\n",
      "5:\tlearn: 18.3859901\ttotal: 4.73ms\tremaining: 0us\n",
      "0:\tlearn: 23.8199959\ttotal: 942us\tremaining: 4.71ms\n",
      "1:\tlearn: 21.9877700\ttotal: 1.81ms\tremaining: 3.62ms\n",
      "2:\tlearn: 21.5508713\ttotal: 2.61ms\tremaining: 2.61ms\n",
      "3:\tlearn: 20.5637804\ttotal: 3.48ms\tremaining: 1.74ms\n",
      "4:\tlearn: 20.3735657\ttotal: 4.33ms\tremaining: 865us\n",
      "5:\tlearn: 19.9374157\ttotal: 5.07ms\tremaining: 0us\n",
      "0:\tlearn: 24.3674289\ttotal: 1.04ms\tremaining: 5.2ms\n",
      "1:\tlearn: 22.1562164\ttotal: 2.76ms\tremaining: 5.51ms\n",
      "2:\tlearn: 21.4136613\ttotal: 4.33ms\tremaining: 4.33ms\n",
      "3:\tlearn: 20.8589999\ttotal: 6.02ms\tremaining: 3.01ms\n",
      "4:\tlearn: 20.4332165\ttotal: 7.42ms\tremaining: 1.48ms\n",
      "5:\tlearn: 20.0880981\ttotal: 8.55ms\tremaining: 0us\n",
      "0:\tlearn: 24.9824489\ttotal: 1.2ms\tremaining: 5.99ms\n",
      "1:\tlearn: 22.5032142\ttotal: 2.49ms\tremaining: 4.98ms\n",
      "2:\tlearn: 21.8013644\ttotal: 3.47ms\tremaining: 3.47ms\n",
      "3:\tlearn: 21.5486207\ttotal: 4.42ms\tremaining: 2.21ms\n",
      "4:\tlearn: 21.1150305\ttotal: 5.41ms\tremaining: 1.08ms\n",
      "5:\tlearn: 20.7488897\ttotal: 6.46ms\tremaining: 0us\n",
      "0:\tlearn: 27.1286653\ttotal: 1.19ms\tremaining: 5.94ms\n",
      "1:\tlearn: 24.4898009\ttotal: 2.55ms\tremaining: 5.11ms\n",
      "2:\tlearn: 23.2749667\ttotal: 3.73ms\tremaining: 3.73ms\n",
      "3:\tlearn: 22.4149433\ttotal: 4.93ms\tremaining: 2.46ms\n",
      "4:\tlearn: 22.0339423\ttotal: 6.1ms\tremaining: 1.22ms\n",
      "5:\tlearn: 21.6465404\ttotal: 7.16ms\tremaining: 0us\n",
      "0:\tlearn: 27.6549660\ttotal: 1.3ms\tremaining: 6.5ms\n",
      "1:\tlearn: 24.8150755\ttotal: 2.59ms\tremaining: 5.18ms\n",
      "2:\tlearn: 23.4198243\ttotal: 3.7ms\tremaining: 3.7ms\n",
      "3:\tlearn: 22.9731153\ttotal: 4.9ms\tremaining: 2.45ms\n",
      "4:\tlearn: 22.6305509\ttotal: 6.1ms\tremaining: 1.22ms\n",
      "5:\tlearn: 22.2893731\ttotal: 7.18ms\tremaining: 0us\n",
      "0:\tlearn: 25.6686099\ttotal: 1.34ms\tremaining: 6.71ms\n",
      "1:\tlearn: 24.0892494\ttotal: 2.56ms\tremaining: 5.13ms\n",
      "2:\tlearn: 23.8010095\ttotal: 3.96ms\tremaining: 3.96ms\n",
      "3:\tlearn: 23.0908954\ttotal: 5.13ms\tremaining: 2.56ms\n",
      "4:\tlearn: 22.7634939\ttotal: 6.26ms\tremaining: 1.25ms\n",
      "5:\tlearn: 22.5427016\ttotal: 7.45ms\tremaining: 0us\n",
      "0:\tlearn: 26.9568003\ttotal: 1.44ms\tremaining: 7.19ms\n",
      "1:\tlearn: 24.7149582\ttotal: 2.8ms\tremaining: 5.59ms\n",
      "2:\tlearn: 24.1867530\ttotal: 4.12ms\tremaining: 4.12ms\n",
      "3:\tlearn: 23.3654273\ttotal: 5.44ms\tremaining: 2.72ms\n",
      "4:\tlearn: 23.0249587\ttotal: 6.59ms\tremaining: 1.32ms\n",
      "5:\tlearn: 22.8188521\ttotal: 7.74ms\tremaining: 0us\n",
      "0:\tlearn: 22.5566476\ttotal: 728us\tremaining: 4.37ms\n",
      "1:\tlearn: 18.4467066\ttotal: 1.41ms\tremaining: 3.53ms\n",
      "2:\tlearn: 17.5020788\ttotal: 2.01ms\tremaining: 2.68ms\n",
      "3:\tlearn: 16.7473649\ttotal: 2.57ms\tremaining: 1.93ms\n",
      "4:\tlearn: 16.2990146\ttotal: 3.14ms\tremaining: 1.25ms\n",
      "5:\tlearn: 15.8688304\ttotal: 3.63ms\tremaining: 605us\n",
      "6:\tlearn: 15.2411401\ttotal: 4.12ms\tremaining: 0us\n",
      "0:\tlearn: 22.2760662\ttotal: 847us\tremaining: 5.09ms\n",
      "1:\tlearn: 19.7229968\ttotal: 1.79ms\tremaining: 4.49ms\n",
      "2:\tlearn: 18.9396170\ttotal: 2.66ms\tremaining: 3.55ms\n",
      "3:\tlearn: 18.6244610\ttotal: 3.45ms\tremaining: 2.59ms\n",
      "4:\tlearn: 18.3922687\ttotal: 4.26ms\tremaining: 1.7ms\n",
      "5:\tlearn: 18.0947517\ttotal: 4.98ms\tremaining: 830us\n",
      "6:\tlearn: 17.9206859\ttotal: 5.88ms\tremaining: 0us\n",
      "0:\tlearn: 21.7037931\ttotal: 915us\tremaining: 5.49ms\n",
      "1:\tlearn: 20.2487903\ttotal: 1.91ms\tremaining: 4.76ms\n",
      "2:\tlearn: 19.6978089\ttotal: 2.73ms\tremaining: 3.63ms\n",
      "3:\tlearn: 18.8898544\ttotal: 3.42ms\tremaining: 2.56ms\n",
      "4:\tlearn: 18.6982309\ttotal: 4.16ms\tremaining: 1.66ms\n",
      "5:\tlearn: 18.3859901\ttotal: 4.93ms\tremaining: 821us\n",
      "6:\tlearn: 18.1747994\ttotal: 5.63ms\tremaining: 0us\n",
      "0:\tlearn: 23.8199959\ttotal: 978us\tremaining: 5.87ms\n",
      "1:\tlearn: 21.9877700\ttotal: 1.98ms\tremaining: 4.95ms\n",
      "2:\tlearn: 21.5508713\ttotal: 2.8ms\tremaining: 3.73ms\n",
      "3:\tlearn: 20.5637804\ttotal: 3.66ms\tremaining: 2.74ms\n",
      "4:\tlearn: 20.3735657\ttotal: 4.51ms\tremaining: 1.81ms\n",
      "5:\tlearn: 19.9374157\ttotal: 5.42ms\tremaining: 904us\n",
      "6:\tlearn: 19.1309369\ttotal: 6.35ms\tremaining: 0us\n",
      "0:\tlearn: 24.3674289\ttotal: 1.09ms\tremaining: 6.53ms\n",
      "1:\tlearn: 22.1562164\ttotal: 2.15ms\tremaining: 5.39ms\n",
      "2:\tlearn: 21.4136613\ttotal: 3.12ms\tremaining: 4.16ms\n",
      "3:\tlearn: 20.8589999\ttotal: 4.04ms\tremaining: 3.03ms\n",
      "4:\tlearn: 20.4332165\ttotal: 4.9ms\tremaining: 1.96ms\n",
      "5:\tlearn: 20.0880981\ttotal: 5.77ms\tremaining: 962us\n",
      "6:\tlearn: 19.6594605\ttotal: 6.68ms\tremaining: 0us\n",
      "0:\tlearn: 24.9824489\ttotal: 1.04ms\tremaining: 6.23ms\n",
      "1:\tlearn: 22.5032142\ttotal: 2.51ms\tremaining: 6.28ms\n",
      "2:\tlearn: 21.8013644\ttotal: 3.56ms\tremaining: 4.75ms\n",
      "3:\tlearn: 21.5486207\ttotal: 4.51ms\tremaining: 3.39ms\n",
      "4:\tlearn: 21.1150305\ttotal: 5.51ms\tremaining: 2.2ms\n",
      "5:\tlearn: 20.7488897\ttotal: 6.39ms\tremaining: 1.06ms\n",
      "6:\tlearn: 20.5245566\ttotal: 7.29ms\tremaining: 0us\n",
      "0:\tlearn: 27.1286653\ttotal: 1.14ms\tremaining: 6.84ms\n",
      "1:\tlearn: 24.4898009\ttotal: 2.42ms\tremaining: 6.04ms\n",
      "2:\tlearn: 23.2749667\ttotal: 3.69ms\tremaining: 4.92ms\n",
      "3:\tlearn: 22.4149433\ttotal: 4.95ms\tremaining: 3.71ms\n",
      "4:\tlearn: 22.0339423\ttotal: 6.02ms\tremaining: 2.41ms\n",
      "5:\tlearn: 21.6465404\ttotal: 7.19ms\tremaining: 1.2ms\n",
      "6:\tlearn: 21.2464105\ttotal: 8.26ms\tremaining: 0us\n",
      "0:\tlearn: 27.6549660\ttotal: 1.27ms\tremaining: 7.64ms\n",
      "1:\tlearn: 24.8150755\ttotal: 2.6ms\tremaining: 6.51ms\n",
      "2:\tlearn: 23.4198243\ttotal: 3.75ms\tremaining: 5ms\n",
      "3:\tlearn: 22.9731153\ttotal: 4.94ms\tremaining: 3.7ms\n",
      "4:\tlearn: 22.6305509\ttotal: 6.1ms\tremaining: 2.44ms\n",
      "5:\tlearn: 22.2893731\ttotal: 7.2ms\tremaining: 1.2ms\n",
      "6:\tlearn: 22.0838262\ttotal: 8.31ms\tremaining: 0us\n",
      "0:\tlearn: 25.6686099\ttotal: 1.19ms\tremaining: 7.11ms\n",
      "1:\tlearn: 24.0892494\ttotal: 2.64ms\tremaining: 6.61ms\n",
      "2:\tlearn: 23.8010095\ttotal: 3.71ms\tremaining: 4.95ms\n",
      "3:\tlearn: 23.0908954\ttotal: 4.79ms\tremaining: 3.59ms\n",
      "4:\tlearn: 22.7634939\ttotal: 5.86ms\tremaining: 2.34ms\n",
      "5:\tlearn: 22.5427016\ttotal: 6.85ms\tremaining: 1.14ms\n",
      "6:\tlearn: 22.3587475\ttotal: 7.89ms\tremaining: 0us\n",
      "0:\tlearn: 26.9568003\ttotal: 1.26ms\tremaining: 7.55ms\n",
      "1:\tlearn: 24.7149582\ttotal: 2.69ms\tremaining: 6.73ms\n",
      "2:\tlearn: 24.1867530\ttotal: 3.91ms\tremaining: 5.21ms\n",
      "3:\tlearn: 23.3654273\ttotal: 5.04ms\tremaining: 3.78ms\n",
      "4:\tlearn: 23.0249587\ttotal: 6.04ms\tremaining: 2.42ms\n",
      "5:\tlearn: 22.8188521\ttotal: 7.55ms\tremaining: 1.26ms\n",
      "6:\tlearn: 22.3301129\ttotal: 9.13ms\tremaining: 0us\n",
      "0:\tlearn: 22.5566476\ttotal: 658us\tremaining: 4.61ms\n",
      "1:\tlearn: 18.4467066\ttotal: 1.4ms\tremaining: 4.19ms\n",
      "2:\tlearn: 17.5020788\ttotal: 1.95ms\tremaining: 3.25ms\n",
      "3:\tlearn: 16.7473649\ttotal: 2.54ms\tremaining: 2.54ms\n",
      "4:\tlearn: 16.2990146\ttotal: 3.08ms\tremaining: 1.85ms\n",
      "5:\tlearn: 15.8688304\ttotal: 3.6ms\tremaining: 1.2ms\n",
      "6:\tlearn: 15.2411401\ttotal: 4.13ms\tremaining: 590us\n",
      "7:\tlearn: 14.6587578\ttotal: 4.65ms\tremaining: 0us\n",
      "0:\tlearn: 22.2760662\ttotal: 754us\tremaining: 5.28ms\n",
      "1:\tlearn: 19.7229968\ttotal: 1.7ms\tremaining: 5.11ms\n",
      "2:\tlearn: 18.9396170\ttotal: 2.44ms\tremaining: 4.06ms\n",
      "3:\tlearn: 18.6244610\ttotal: 3.21ms\tremaining: 3.21ms\n",
      "4:\tlearn: 18.3922687\ttotal: 3.91ms\tremaining: 2.34ms\n",
      "5:\tlearn: 18.0947517\ttotal: 4.58ms\tremaining: 1.53ms\n",
      "6:\tlearn: 17.9206859\ttotal: 5.34ms\tremaining: 763us\n",
      "7:\tlearn: 17.2422678\ttotal: 5.93ms\tremaining: 0us\n",
      "0:\tlearn: 21.7037931\ttotal: 967us\tremaining: 6.77ms\n",
      "1:\tlearn: 20.2487903\ttotal: 1.95ms\tremaining: 5.86ms\n",
      "2:\tlearn: 19.6978089\ttotal: 2.79ms\tremaining: 4.64ms\n",
      "3:\tlearn: 18.8898544\ttotal: 3.63ms\tremaining: 3.63ms\n",
      "4:\tlearn: 18.6982309\ttotal: 4.4ms\tremaining: 2.64ms\n",
      "5:\tlearn: 18.3859901\ttotal: 5.11ms\tremaining: 1.7ms\n",
      "6:\tlearn: 18.1747994\ttotal: 5.8ms\tremaining: 828us\n",
      "7:\tlearn: 17.7580697\ttotal: 6.52ms\tremaining: 0us\n",
      "0:\tlearn: 23.8199959\ttotal: 994us\tremaining: 6.96ms\n",
      "1:\tlearn: 21.9877700\ttotal: 1.91ms\tremaining: 5.74ms\n",
      "2:\tlearn: 21.5508713\ttotal: 2.73ms\tremaining: 4.55ms\n",
      "3:\tlearn: 20.5637804\ttotal: 3.61ms\tremaining: 3.61ms\n",
      "4:\tlearn: 20.3735657\ttotal: 4.37ms\tremaining: 2.62ms\n",
      "5:\tlearn: 19.9374157\ttotal: 5.16ms\tremaining: 1.72ms\n",
      "6:\tlearn: 19.1309369\ttotal: 5.91ms\tremaining: 843us\n",
      "7:\tlearn: 18.9035225\ttotal: 6.68ms\tremaining: 0us\n",
      "0:\tlearn: 24.3674289\ttotal: 1.03ms\tremaining: 7.22ms\n",
      "1:\tlearn: 22.1562164\ttotal: 2.1ms\tremaining: 6.32ms\n",
      "2:\tlearn: 21.4136613\ttotal: 2.96ms\tremaining: 4.93ms\n",
      "3:\tlearn: 20.8589999\ttotal: 3.77ms\tremaining: 3.77ms\n",
      "4:\tlearn: 20.4332165\ttotal: 4.58ms\tremaining: 2.75ms\n",
      "5:\tlearn: 20.0880981\ttotal: 5.44ms\tremaining: 1.81ms\n",
      "6:\tlearn: 19.6594605\ttotal: 6.26ms\tremaining: 894us\n",
      "7:\tlearn: 19.3687612\ttotal: 7.07ms\tremaining: 0us\n",
      "0:\tlearn: 24.9824489\ttotal: 1.04ms\tremaining: 7.28ms\n",
      "1:\tlearn: 22.5032142\ttotal: 2.11ms\tremaining: 6.33ms\n",
      "2:\tlearn: 21.8013644\ttotal: 3.07ms\tremaining: 5.12ms\n",
      "3:\tlearn: 21.5486207\ttotal: 3.97ms\tremaining: 3.97ms\n",
      "4:\tlearn: 21.1150305\ttotal: 4.9ms\tremaining: 2.94ms\n",
      "5:\tlearn: 20.7488897\ttotal: 5.8ms\tremaining: 1.93ms\n",
      "6:\tlearn: 20.5245566\ttotal: 6.7ms\tremaining: 956us\n",
      "7:\tlearn: 20.0943113\ttotal: 7.62ms\tremaining: 0us\n",
      "0:\tlearn: 27.1286653\ttotal: 1.09ms\tremaining: 7.67ms\n",
      "1:\tlearn: 24.4898009\ttotal: 2.14ms\tremaining: 6.43ms\n",
      "2:\tlearn: 23.2749667\ttotal: 3.08ms\tremaining: 5.13ms\n",
      "3:\tlearn: 22.4149433\ttotal: 4ms\tremaining: 4ms\n",
      "4:\tlearn: 22.0339423\ttotal: 4.95ms\tremaining: 2.97ms\n",
      "5:\tlearn: 21.6465404\ttotal: 5.93ms\tremaining: 1.98ms\n",
      "6:\tlearn: 21.2464105\ttotal: 6.83ms\tremaining: 976us\n",
      "7:\tlearn: 20.8435684\ttotal: 7.86ms\tremaining: 0us\n",
      "0:\tlearn: 27.6549660\ttotal: 1.06ms\tremaining: 7.4ms\n",
      "1:\tlearn: 24.8150755\ttotal: 2.17ms\tremaining: 6.5ms\n",
      "2:\tlearn: 23.4198243\ttotal: 3.23ms\tremaining: 5.39ms\n",
      "3:\tlearn: 22.9731153\ttotal: 4.17ms\tremaining: 4.17ms\n",
      "4:\tlearn: 22.6305509\ttotal: 5.33ms\tremaining: 3.2ms\n",
      "5:\tlearn: 22.2893731\ttotal: 6.31ms\tremaining: 2.1ms\n",
      "6:\tlearn: 22.0838262\ttotal: 7.24ms\tremaining: 1.03ms\n",
      "7:\tlearn: 21.9235644\ttotal: 8.23ms\tremaining: 0us\n",
      "0:\tlearn: 25.6686099\ttotal: 1.24ms\tremaining: 8.68ms\n",
      "1:\tlearn: 24.0892494\ttotal: 2.53ms\tremaining: 7.59ms\n",
      "2:\tlearn: 23.8010095\ttotal: 3.81ms\tremaining: 6.35ms\n",
      "3:\tlearn: 23.0908954\ttotal: 5ms\tremaining: 5ms\n",
      "4:\tlearn: 22.7634939\ttotal: 6.1ms\tremaining: 3.66ms\n",
      "5:\tlearn: 22.5427016\ttotal: 7.27ms\tremaining: 2.42ms\n",
      "6:\tlearn: 22.3587475\ttotal: 8.32ms\tremaining: 1.19ms\n",
      "7:\tlearn: 21.9043380\ttotal: 9.36ms\tremaining: 0us\n",
      "0:\tlearn: 26.9568003\ttotal: 1.34ms\tremaining: 9.41ms\n",
      "1:\tlearn: 24.7149582\ttotal: 2.72ms\tremaining: 8.16ms\n",
      "2:\tlearn: 24.1867530\ttotal: 3.85ms\tremaining: 6.41ms\n",
      "3:\tlearn: 23.3654273\ttotal: 4.94ms\tremaining: 4.94ms\n",
      "4:\tlearn: 23.0249587\ttotal: 6.09ms\tremaining: 3.65ms\n",
      "5:\tlearn: 22.8188521\ttotal: 7.16ms\tremaining: 2.39ms\n",
      "6:\tlearn: 22.3301129\ttotal: 8.26ms\tremaining: 1.18ms\n",
      "7:\tlearn: 22.0556088\ttotal: 9.48ms\tremaining: 0us\n",
      "0:\tlearn: 18.9748092\ttotal: 1.03ms\tremaining: 0us\n",
      "0:\tlearn: 22.1260800\ttotal: 1.4ms\tremaining: 0us\n",
      "0:\tlearn: 21.2554369\ttotal: 1.22ms\tremaining: 0us\n",
      "0:\tlearn: 23.2433450\ttotal: 1.41ms\tremaining: 0us\n",
      "0:\tlearn: 23.8409630\ttotal: 1.6ms\tremaining: 0us\n",
      "0:\tlearn: 24.3426694\ttotal: 1.43ms\tremaining: 0us\n",
      "0:\tlearn: 25.4206412\ttotal: 2.06ms\tremaining: 0us\n",
      "0:\tlearn: 26.0476303\ttotal: 1.54ms\tremaining: 0us\n",
      "0:\tlearn: 25.3242541\ttotal: 1.73ms\tremaining: 0us\n",
      "0:\tlearn: 26.6432011\ttotal: 1.73ms\tremaining: 0us\n",
      "0:\tlearn: 18.9748092\ttotal: 929us\tremaining: 929us\n",
      "1:\tlearn: 16.6255455\ttotal: 1.96ms\tremaining: 0us\n",
      "0:\tlearn: 22.1260800\ttotal: 1.02ms\tremaining: 1.02ms\n",
      "1:\tlearn: 19.6527927\ttotal: 2.11ms\tremaining: 0us\n",
      "0:\tlearn: 21.2554369\ttotal: 1.39ms\tremaining: 1.39ms\n",
      "1:\tlearn: 20.3661441\ttotal: 2.75ms\tremaining: 0us\n",
      "0:\tlearn: 23.2433450\ttotal: 1.27ms\tremaining: 1.27ms\n",
      "1:\tlearn: 21.4792430\ttotal: 2.55ms\tremaining: 0us\n",
      "0:\tlearn: 23.8409630\ttotal: 1.39ms\tremaining: 1.39ms\n",
      "1:\tlearn: 22.1526668\ttotal: 2.68ms\tremaining: 0us\n",
      "0:\tlearn: 24.3426694\ttotal: 1.4ms\tremaining: 1.4ms\n",
      "1:\tlearn: 22.5158891\ttotal: 2.73ms\tremaining: 0us\n",
      "0:\tlearn: 25.4206412\ttotal: 1.53ms\tremaining: 1.53ms\n",
      "1:\tlearn: 23.4869203\ttotal: 3.24ms\tremaining: 0us\n",
      "0:\tlearn: 26.0476303\ttotal: 1.62ms\tremaining: 1.62ms\n",
      "1:\tlearn: 24.0922471\ttotal: 3.31ms\tremaining: 0us\n",
      "0:\tlearn: 25.3242541\ttotal: 1.59ms\tremaining: 1.59ms\n",
      "1:\tlearn: 23.9517355\ttotal: 3.24ms\tremaining: 0us\n",
      "0:\tlearn: 26.6432011\ttotal: 1.77ms\tremaining: 1.77ms\n",
      "1:\tlearn: 24.5878137\ttotal: 3.36ms\tremaining: 0us\n",
      "0:\tlearn: 18.9748092\ttotal: 1.46ms\tremaining: 2.93ms\n",
      "1:\tlearn: 16.6255455\ttotal: 2.89ms\tremaining: 1.44ms\n",
      "2:\tlearn: 15.6955045\ttotal: 3.88ms\tremaining: 0us\n",
      "0:\tlearn: 22.1260800\ttotal: 1.14ms\tremaining: 2.29ms\n",
      "1:\tlearn: 19.6527927\ttotal: 2.21ms\tremaining: 1.1ms\n",
      "2:\tlearn: 18.7643100\ttotal: 3.39ms\tremaining: 0us\n",
      "0:\tlearn: 21.2554369\ttotal: 1.19ms\tremaining: 2.37ms\n",
      "1:\tlearn: 20.3661441\ttotal: 2.48ms\tremaining: 1.24ms\n",
      "2:\tlearn: 19.7884878\ttotal: 3.44ms\tremaining: 0us\n",
      "0:\tlearn: 23.2433450\ttotal: 1.26ms\tremaining: 2.51ms\n",
      "1:\tlearn: 21.4792430\ttotal: 2.48ms\tremaining: 1.24ms\n",
      "2:\tlearn: 20.6790899\ttotal: 3.56ms\tremaining: 0us\n",
      "0:\tlearn: 23.8409630\ttotal: 1.32ms\tremaining: 2.65ms\n",
      "1:\tlearn: 22.1526668\ttotal: 2.79ms\tremaining: 1.39ms\n",
      "2:\tlearn: 21.4217022\ttotal: 3.96ms\tremaining: 0us\n",
      "0:\tlearn: 24.3426694\ttotal: 1.5ms\tremaining: 3ms\n",
      "1:\tlearn: 22.5158891\ttotal: 3.11ms\tremaining: 1.56ms\n",
      "2:\tlearn: 21.5087303\ttotal: 4.49ms\tremaining: 0us\n",
      "0:\tlearn: 25.4206412\ttotal: 1.49ms\tremaining: 2.98ms\n",
      "1:\tlearn: 23.4869203\ttotal: 2.98ms\tremaining: 1.49ms\n",
      "2:\tlearn: 22.2192863\ttotal: 4.51ms\tremaining: 0us\n",
      "0:\tlearn: 26.0476303\ttotal: 1.5ms\tremaining: 3.01ms\n",
      "1:\tlearn: 24.0922471\ttotal: 2.99ms\tremaining: 1.49ms\n",
      "2:\tlearn: 22.8511960\ttotal: 4.44ms\tremaining: 0us\n",
      "0:\tlearn: 25.3242541\ttotal: 1.67ms\tremaining: 3.35ms\n",
      "1:\tlearn: 23.9517355\ttotal: 3.23ms\tremaining: 1.61ms\n",
      "2:\tlearn: 23.3161866\ttotal: 4.62ms\tremaining: 0us\n",
      "0:\tlearn: 26.6432011\ttotal: 1.64ms\tremaining: 3.29ms\n",
      "1:\tlearn: 24.5878137\ttotal: 3.23ms\tremaining: 1.62ms\n",
      "2:\tlearn: 23.7981819\ttotal: 4.79ms\tremaining: 0us\n",
      "0:\tlearn: 18.9748092\ttotal: 906us\tremaining: 2.72ms\n",
      "1:\tlearn: 16.6255455\ttotal: 1.84ms\tremaining: 1.84ms\n",
      "2:\tlearn: 15.6955045\ttotal: 2.69ms\tremaining: 896us\n",
      "3:\tlearn: 15.0114613\ttotal: 3.46ms\tremaining: 0us\n",
      "0:\tlearn: 22.1260800\ttotal: 1.35ms\tremaining: 4.06ms\n",
      "1:\tlearn: 19.6527927\ttotal: 2.59ms\tremaining: 2.59ms\n",
      "2:\tlearn: 18.7643100\ttotal: 3.6ms\tremaining: 1.2ms\n",
      "3:\tlearn: 17.8449988\ttotal: 4.52ms\tremaining: 0us\n",
      "0:\tlearn: 21.2554369\ttotal: 1.25ms\tremaining: 3.76ms\n",
      "1:\tlearn: 20.3661441\ttotal: 2.33ms\tremaining: 2.33ms\n",
      "2:\tlearn: 19.7884878\ttotal: 3.46ms\tremaining: 1.15ms\n",
      "3:\tlearn: 18.9845733\ttotal: 4.49ms\tremaining: 0us\n",
      "0:\tlearn: 23.2433450\ttotal: 1.24ms\tremaining: 3.72ms\n",
      "1:\tlearn: 21.4792430\ttotal: 2.52ms\tremaining: 2.52ms\n",
      "2:\tlearn: 20.6790899\ttotal: 3.61ms\tremaining: 1.2ms\n",
      "3:\tlearn: 20.3458565\ttotal: 4.76ms\tremaining: 0us\n",
      "0:\tlearn: 23.8409630\ttotal: 1.36ms\tremaining: 4.08ms\n",
      "1:\tlearn: 22.1526668\ttotal: 2.81ms\tremaining: 2.81ms\n",
      "2:\tlearn: 21.4217022\ttotal: 4.09ms\tremaining: 1.36ms\n",
      "3:\tlearn: 20.7021664\ttotal: 5.34ms\tremaining: 0us\n",
      "0:\tlearn: 24.3426694\ttotal: 1.43ms\tremaining: 4.28ms\n",
      "1:\tlearn: 22.5158891\ttotal: 2.91ms\tremaining: 2.91ms\n",
      "2:\tlearn: 21.5087303\ttotal: 4.31ms\tremaining: 1.44ms\n",
      "3:\tlearn: 21.0864193\ttotal: 5.63ms\tremaining: 0us\n",
      "0:\tlearn: 25.4206412\ttotal: 1.5ms\tremaining: 4.51ms\n",
      "1:\tlearn: 23.4869203\ttotal: 2.95ms\tremaining: 2.95ms\n",
      "2:\tlearn: 22.2192863\ttotal: 4.36ms\tremaining: 1.45ms\n",
      "3:\tlearn: 21.7532000\ttotal: 5.75ms\tremaining: 0us\n",
      "0:\tlearn: 26.0476303\ttotal: 1.59ms\tremaining: 4.78ms\n",
      "1:\tlearn: 24.0922471\ttotal: 3.45ms\tremaining: 3.45ms\n",
      "2:\tlearn: 22.8511960\ttotal: 4.94ms\tremaining: 1.65ms\n",
      "3:\tlearn: 22.2470814\ttotal: 6.47ms\tremaining: 0us\n",
      "0:\tlearn: 25.3242541\ttotal: 1.62ms\tremaining: 4.86ms\n",
      "1:\tlearn: 23.9517355\ttotal: 3.14ms\tremaining: 3.14ms\n",
      "2:\tlearn: 23.3161866\ttotal: 4.44ms\tremaining: 1.48ms\n",
      "3:\tlearn: 22.3423207\ttotal: 5.78ms\tremaining: 0us\n",
      "0:\tlearn: 26.6432011\ttotal: 1.67ms\tremaining: 5.01ms\n",
      "1:\tlearn: 24.5878137\ttotal: 3.17ms\tremaining: 3.17ms\n",
      "2:\tlearn: 23.7981819\ttotal: 4.76ms\tremaining: 1.59ms\n",
      "3:\tlearn: 23.2411964\ttotal: 6.15ms\tremaining: 0us\n",
      "0:\tlearn: 18.9748092\ttotal: 1.32ms\tremaining: 5.3ms\n",
      "1:\tlearn: 16.6255455\ttotal: 2.8ms\tremaining: 4.2ms\n",
      "2:\tlearn: 15.6955045\ttotal: 3.88ms\tremaining: 2.59ms\n",
      "3:\tlearn: 15.0114613\ttotal: 4.93ms\tremaining: 1.23ms\n",
      "4:\tlearn: 14.1526067\ttotal: 5.97ms\tremaining: 0us\n",
      "0:\tlearn: 22.1260800\ttotal: 1.02ms\tremaining: 4.08ms\n",
      "1:\tlearn: 19.6527927\ttotal: 2.18ms\tremaining: 3.27ms\n",
      "2:\tlearn: 18.7643100\ttotal: 3.19ms\tremaining: 2.13ms\n",
      "3:\tlearn: 17.8449988\ttotal: 4.14ms\tremaining: 1.03ms\n",
      "4:\tlearn: 17.3931490\ttotal: 5.08ms\tremaining: 0us\n",
      "0:\tlearn: 21.2554369\ttotal: 1.24ms\tremaining: 4.97ms\n",
      "1:\tlearn: 20.3661441\ttotal: 2.5ms\tremaining: 3.75ms\n",
      "2:\tlearn: 19.7884878\ttotal: 3.52ms\tremaining: 2.35ms\n",
      "3:\tlearn: 18.9845733\ttotal: 4.64ms\tremaining: 1.16ms\n",
      "4:\tlearn: 17.9864703\ttotal: 5.77ms\tremaining: 0us\n",
      "0:\tlearn: 23.2433450\ttotal: 1.42ms\tremaining: 5.69ms\n",
      "1:\tlearn: 21.4792430\ttotal: 2.88ms\tremaining: 4.32ms\n",
      "2:\tlearn: 20.6790899\ttotal: 4.17ms\tremaining: 2.78ms\n",
      "3:\tlearn: 20.3458565\ttotal: 5.43ms\tremaining: 1.36ms\n",
      "4:\tlearn: 19.8950318\ttotal: 6.7ms\tremaining: 0us\n",
      "0:\tlearn: 23.8409630\ttotal: 1.47ms\tremaining: 5.9ms\n",
      "1:\tlearn: 22.1526668\ttotal: 2.96ms\tremaining: 4.44ms\n",
      "2:\tlearn: 21.4217022\ttotal: 4.33ms\tremaining: 2.89ms\n",
      "3:\tlearn: 20.7021664\ttotal: 5.66ms\tremaining: 1.41ms\n",
      "4:\tlearn: 20.0602668\ttotal: 6.91ms\tremaining: 0us\n",
      "0:\tlearn: 24.3426694\ttotal: 1.45ms\tremaining: 5.78ms\n",
      "1:\tlearn: 22.5158891\ttotal: 3.05ms\tremaining: 4.58ms\n",
      "2:\tlearn: 21.5087303\ttotal: 4.32ms\tremaining: 2.88ms\n",
      "3:\tlearn: 21.0864193\ttotal: 5.52ms\tremaining: 1.38ms\n",
      "4:\tlearn: 20.6087586\ttotal: 6.42ms\tremaining: 0us\n",
      "0:\tlearn: 25.4206412\ttotal: 1.48ms\tremaining: 5.92ms\n",
      "1:\tlearn: 23.4869203\ttotal: 2.99ms\tremaining: 4.49ms\n",
      "2:\tlearn: 22.2192863\ttotal: 4.33ms\tremaining: 2.89ms\n",
      "3:\tlearn: 21.7532000\ttotal: 5.61ms\tremaining: 1.4ms\n",
      "4:\tlearn: 21.2254453\ttotal: 6.92ms\tremaining: 0us\n",
      "0:\tlearn: 26.0476303\ttotal: 1.52ms\tremaining: 6.1ms\n",
      "1:\tlearn: 24.0922471\ttotal: 3.13ms\tremaining: 4.7ms\n",
      "2:\tlearn: 22.8511960\ttotal: 4.59ms\tremaining: 3.06ms\n",
      "3:\tlearn: 22.2470814\ttotal: 6.03ms\tremaining: 1.51ms\n",
      "4:\tlearn: 21.2998194\ttotal: 7.42ms\tremaining: 0us\n",
      "0:\tlearn: 25.3242541\ttotal: 1.64ms\tremaining: 6.55ms\n",
      "1:\tlearn: 23.9517355\ttotal: 3.36ms\tremaining: 5.04ms\n",
      "2:\tlearn: 23.3161866\ttotal: 4.86ms\tremaining: 3.24ms\n",
      "3:\tlearn: 22.3423207\ttotal: 6.41ms\tremaining: 1.6ms\n",
      "4:\tlearn: 21.9219605\ttotal: 7.88ms\tremaining: 0us\n",
      "0:\tlearn: 26.6432011\ttotal: 1.63ms\tremaining: 6.53ms\n",
      "1:\tlearn: 24.5878137\ttotal: 3.14ms\tremaining: 4.71ms\n",
      "2:\tlearn: 23.7981819\ttotal: 4.62ms\tremaining: 3.08ms\n",
      "3:\tlearn: 23.2411964\ttotal: 6.01ms\tremaining: 1.5ms\n",
      "4:\tlearn: 22.7318313\ttotal: 7.4ms\tremaining: 0us\n",
      "0:\tlearn: 18.9748092\ttotal: 1.17ms\tremaining: 5.85ms\n",
      "1:\tlearn: 16.6255455\ttotal: 2.12ms\tremaining: 4.24ms\n",
      "2:\tlearn: 15.6955045\ttotal: 2.9ms\tremaining: 2.9ms\n",
      "3:\tlearn: 15.0114613\ttotal: 3.75ms\tremaining: 1.88ms\n",
      "4:\tlearn: 14.1526067\ttotal: 4.48ms\tremaining: 896us\n",
      "5:\tlearn: 13.9548564\ttotal: 5.2ms\tremaining: 0us\n",
      "0:\tlearn: 22.1260800\ttotal: 1.01ms\tremaining: 5.05ms\n",
      "1:\tlearn: 19.6527927\ttotal: 2.1ms\tremaining: 4.2ms\n",
      "2:\tlearn: 18.7643100\ttotal: 2.98ms\tremaining: 2.98ms\n",
      "3:\tlearn: 17.8449988\ttotal: 3.86ms\tremaining: 1.93ms\n",
      "4:\tlearn: 17.3931490\ttotal: 4.74ms\tremaining: 947us\n",
      "5:\tlearn: 17.1543874\ttotal: 5.64ms\tremaining: 0us\n",
      "0:\tlearn: 21.2554369\ttotal: 1.28ms\tremaining: 6.43ms\n",
      "1:\tlearn: 20.3661441\ttotal: 2.71ms\tremaining: 5.42ms\n",
      "2:\tlearn: 19.7884878\ttotal: 3.9ms\tremaining: 3.9ms\n",
      "3:\tlearn: 18.9845733\ttotal: 5.05ms\tremaining: 2.52ms\n",
      "4:\tlearn: 17.9864703\ttotal: 6.1ms\tremaining: 1.22ms\n",
      "5:\tlearn: 17.6209882\ttotal: 7.12ms\tremaining: 0us\n",
      "0:\tlearn: 23.2433450\ttotal: 1.26ms\tremaining: 6.28ms\n",
      "1:\tlearn: 21.4792430\ttotal: 2.49ms\tremaining: 4.99ms\n",
      "2:\tlearn: 20.6790899\ttotal: 3.69ms\tremaining: 3.69ms\n",
      "3:\tlearn: 20.3458565\ttotal: 4.87ms\tremaining: 2.44ms\n",
      "4:\tlearn: 19.8950318\ttotal: 6ms\tremaining: 1.2ms\n",
      "5:\tlearn: 19.1032493\ttotal: 7.01ms\tremaining: 0us\n",
      "0:\tlearn: 23.8409630\ttotal: 1.46ms\tremaining: 7.29ms\n",
      "1:\tlearn: 22.1526668\ttotal: 2.96ms\tremaining: 5.91ms\n",
      "2:\tlearn: 21.4217022\ttotal: 4.33ms\tremaining: 4.33ms\n",
      "3:\tlearn: 20.7021664\ttotal: 5.68ms\tremaining: 2.84ms\n",
      "4:\tlearn: 20.0602668\ttotal: 7.02ms\tremaining: 1.4ms\n",
      "5:\tlearn: 19.6248242\ttotal: 8.28ms\tremaining: 0us\n",
      "0:\tlearn: 24.3426694\ttotal: 1.62ms\tremaining: 8.1ms\n",
      "1:\tlearn: 22.5158891\ttotal: 3.27ms\tremaining: 6.54ms\n",
      "2:\tlearn: 21.5087303\ttotal: 4.59ms\tremaining: 4.59ms\n",
      "3:\tlearn: 21.0864193\ttotal: 6.03ms\tremaining: 3.01ms\n",
      "4:\tlearn: 20.6087586\ttotal: 7.05ms\tremaining: 1.41ms\n",
      "5:\tlearn: 20.2005113\ttotal: 8.35ms\tremaining: 0us\n",
      "0:\tlearn: 25.4206412\ttotal: 1.58ms\tremaining: 7.92ms\n",
      "1:\tlearn: 23.4869203\ttotal: 3.17ms\tremaining: 6.33ms\n",
      "2:\tlearn: 22.2192863\ttotal: 4.63ms\tremaining: 4.63ms\n",
      "3:\tlearn: 21.7532000\ttotal: 6.03ms\tremaining: 3.01ms\n",
      "4:\tlearn: 21.2254453\ttotal: 7.48ms\tremaining: 1.5ms\n",
      "5:\tlearn: 20.7977663\ttotal: 8.84ms\tremaining: 0us\n",
      "0:\tlearn: 26.0476303\ttotal: 1.72ms\tremaining: 8.61ms\n",
      "1:\tlearn: 24.0922471\ttotal: 3.59ms\tremaining: 7.17ms\n",
      "2:\tlearn: 22.8511960\ttotal: 5.13ms\tremaining: 5.13ms\n",
      "3:\tlearn: 22.2470814\ttotal: 6.75ms\tremaining: 3.37ms\n",
      "4:\tlearn: 21.2998194\ttotal: 8.22ms\tremaining: 1.65ms\n",
      "5:\tlearn: 20.8638599\ttotal: 9.79ms\tremaining: 0us\n",
      "0:\tlearn: 25.3242541\ttotal: 1.77ms\tremaining: 8.84ms\n",
      "1:\tlearn: 23.9517355\ttotal: 3.77ms\tremaining: 7.53ms\n",
      "2:\tlearn: 23.3161866\ttotal: 5.71ms\tremaining: 5.71ms\n",
      "3:\tlearn: 22.3423207\ttotal: 7.37ms\tremaining: 3.68ms\n",
      "4:\tlearn: 21.9219605\ttotal: 8.96ms\tremaining: 1.79ms\n",
      "5:\tlearn: 21.4578088\ttotal: 10.5ms\tremaining: 0us\n",
      "0:\tlearn: 26.6432011\ttotal: 1.94ms\tremaining: 9.69ms\n",
      "1:\tlearn: 24.5878137\ttotal: 3.72ms\tremaining: 7.44ms\n",
      "2:\tlearn: 23.7981819\ttotal: 5.41ms\tremaining: 5.41ms\n",
      "3:\tlearn: 23.2411964\ttotal: 6.96ms\tremaining: 3.48ms\n",
      "4:\tlearn: 22.7318313\ttotal: 8.6ms\tremaining: 1.72ms\n",
      "5:\tlearn: 22.3416931\ttotal: 10.2ms\tremaining: 0us\n",
      "0:\tlearn: 18.9748092\ttotal: 1.08ms\tremaining: 6.51ms\n",
      "1:\tlearn: 16.6255455\ttotal: 2.1ms\tremaining: 5.25ms\n",
      "2:\tlearn: 15.6955045\ttotal: 2.99ms\tremaining: 3.99ms\n",
      "3:\tlearn: 15.0114613\ttotal: 3.92ms\tremaining: 2.94ms\n",
      "4:\tlearn: 14.1526067\ttotal: 4.72ms\tremaining: 1.89ms\n",
      "5:\tlearn: 13.9548564\ttotal: 5.59ms\tremaining: 931us\n",
      "6:\tlearn: 13.1092540\ttotal: 6.41ms\tremaining: 0us\n",
      "0:\tlearn: 22.1260800\ttotal: 1.22ms\tremaining: 7.31ms\n",
      "1:\tlearn: 19.6527927\ttotal: 2.63ms\tremaining: 6.57ms\n",
      "2:\tlearn: 18.7643100\ttotal: 3.94ms\tremaining: 5.25ms\n",
      "3:\tlearn: 17.8449988\ttotal: 5.06ms\tremaining: 3.79ms\n",
      "4:\tlearn: 17.3931490\ttotal: 6.2ms\tremaining: 2.48ms\n",
      "5:\tlearn: 17.1543874\ttotal: 7.37ms\tremaining: 1.23ms\n",
      "6:\tlearn: 16.3889325\ttotal: 8.32ms\tremaining: 0us\n",
      "0:\tlearn: 21.2554369\ttotal: 1.45ms\tremaining: 8.71ms\n",
      "1:\tlearn: 20.3661441\ttotal: 2.86ms\tremaining: 7.15ms\n",
      "2:\tlearn: 19.7884878\ttotal: 4.24ms\tremaining: 5.65ms\n",
      "3:\tlearn: 18.9845733\ttotal: 5.54ms\tremaining: 4.16ms\n",
      "4:\tlearn: 17.9864703\ttotal: 6.81ms\tremaining: 2.73ms\n",
      "5:\tlearn: 17.6209882\ttotal: 8.07ms\tremaining: 1.34ms\n",
      "6:\tlearn: 17.0921717\ttotal: 9.53ms\tremaining: 0us\n",
      "0:\tlearn: 23.2433450\ttotal: 1.54ms\tremaining: 9.22ms\n",
      "1:\tlearn: 21.4792430\ttotal: 3.1ms\tremaining: 7.75ms\n",
      "2:\tlearn: 20.6790899\ttotal: 4.49ms\tremaining: 5.99ms\n",
      "3:\tlearn: 20.3458565\ttotal: 5.8ms\tremaining: 4.35ms\n",
      "4:\tlearn: 19.8950318\ttotal: 6.99ms\tremaining: 2.79ms\n",
      "5:\tlearn: 19.1032493\ttotal: 8.25ms\tremaining: 1.38ms\n",
      "6:\tlearn: 18.7822599\ttotal: 9.61ms\tremaining: 0us\n",
      "0:\tlearn: 23.8409630\ttotal: 1.31ms\tremaining: 7.88ms\n",
      "1:\tlearn: 22.1526668\ttotal: 2.67ms\tremaining: 6.69ms\n",
      "2:\tlearn: 21.4217022\ttotal: 3.86ms\tremaining: 5.15ms\n",
      "3:\tlearn: 20.7021664\ttotal: 5.06ms\tremaining: 3.8ms\n",
      "4:\tlearn: 20.0602668\ttotal: 6.26ms\tremaining: 2.5ms\n",
      "5:\tlearn: 19.6248242\ttotal: 7.42ms\tremaining: 1.24ms\n",
      "6:\tlearn: 19.2280426\ttotal: 8.86ms\tremaining: 0us\n",
      "0:\tlearn: 24.3426694\ttotal: 1.42ms\tremaining: 8.49ms\n",
      "1:\tlearn: 22.5158891\ttotal: 2.68ms\tremaining: 6.69ms\n",
      "2:\tlearn: 21.5087303\ttotal: 3.87ms\tremaining: 5.16ms\n",
      "3:\tlearn: 21.0864193\ttotal: 5.13ms\tremaining: 3.85ms\n",
      "4:\tlearn: 20.6087586\ttotal: 5.99ms\tremaining: 2.4ms\n",
      "5:\tlearn: 20.2005113\ttotal: 7.13ms\tremaining: 1.19ms\n",
      "6:\tlearn: 19.8234939\ttotal: 8.21ms\tremaining: 0us\n",
      "0:\tlearn: 25.4206412\ttotal: 1.45ms\tremaining: 8.68ms\n",
      "1:\tlearn: 23.4869203\ttotal: 2.95ms\tremaining: 7.37ms\n",
      "2:\tlearn: 22.2192863\ttotal: 4.32ms\tremaining: 5.75ms\n",
      "3:\tlearn: 21.7532000\ttotal: 5.72ms\tremaining: 4.29ms\n",
      "4:\tlearn: 21.2254453\ttotal: 7.02ms\tremaining: 2.81ms\n",
      "5:\tlearn: 20.7977663\ttotal: 8.32ms\tremaining: 1.39ms\n",
      "6:\tlearn: 20.1034939\ttotal: 9.7ms\tremaining: 0us\n",
      "0:\tlearn: 26.0476303\ttotal: 1.42ms\tremaining: 8.55ms\n",
      "1:\tlearn: 24.0922471\ttotal: 2.88ms\tremaining: 7.21ms\n",
      "2:\tlearn: 22.8511960\ttotal: 4.48ms\tremaining: 5.97ms\n",
      "3:\tlearn: 22.2470814\ttotal: 5.91ms\tremaining: 4.43ms\n",
      "4:\tlearn: 21.2998194\ttotal: 7.23ms\tremaining: 2.89ms\n",
      "5:\tlearn: 20.8638599\ttotal: 8.53ms\tremaining: 1.42ms\n",
      "6:\tlearn: 20.4693523\ttotal: 9.85ms\tremaining: 0us\n",
      "0:\tlearn: 25.3242541\ttotal: 1.62ms\tremaining: 9.74ms\n",
      "1:\tlearn: 23.9517355\ttotal: 3.31ms\tremaining: 8.28ms\n",
      "2:\tlearn: 23.3161866\ttotal: 4.79ms\tremaining: 6.39ms\n",
      "3:\tlearn: 22.3423207\ttotal: 6.18ms\tremaining: 4.63ms\n",
      "4:\tlearn: 21.9219605\ttotal: 7.47ms\tremaining: 2.99ms\n",
      "5:\tlearn: 21.4578088\ttotal: 9.01ms\tremaining: 1.5ms\n",
      "6:\tlearn: 20.8942751\ttotal: 10.4ms\tremaining: 0us\n",
      "0:\tlearn: 26.6432011\ttotal: 1.73ms\tremaining: 10.4ms\n",
      "1:\tlearn: 24.5878137\ttotal: 3.25ms\tremaining: 8.12ms\n",
      "2:\tlearn: 23.7981819\ttotal: 4.71ms\tremaining: 6.28ms\n",
      "3:\tlearn: 23.2411964\ttotal: 6.07ms\tremaining: 4.55ms\n",
      "4:\tlearn: 22.7318313\ttotal: 7.52ms\tremaining: 3.01ms\n",
      "5:\tlearn: 22.3416931\ttotal: 8.91ms\tremaining: 1.48ms\n",
      "6:\tlearn: 21.8780806\ttotal: 10.3ms\tremaining: 0us\n",
      "0:\tlearn: 18.9748092\ttotal: 947us\tremaining: 6.63ms\n",
      "1:\tlearn: 16.6255455\ttotal: 1.98ms\tremaining: 5.94ms\n",
      "2:\tlearn: 15.6955045\ttotal: 2.73ms\tremaining: 4.54ms\n",
      "3:\tlearn: 15.0114613\ttotal: 3.48ms\tremaining: 3.48ms\n",
      "4:\tlearn: 14.1526067\ttotal: 4.19ms\tremaining: 2.52ms\n",
      "5:\tlearn: 13.9548564\ttotal: 4.89ms\tremaining: 1.63ms\n",
      "6:\tlearn: 13.1092540\ttotal: 5.62ms\tremaining: 802us\n",
      "7:\tlearn: 12.4898820\ttotal: 6.33ms\tremaining: 0us\n",
      "0:\tlearn: 22.1260800\ttotal: 1.17ms\tremaining: 8.17ms\n",
      "1:\tlearn: 19.6527927\ttotal: 2.68ms\tremaining: 8.04ms\n",
      "2:\tlearn: 18.7643100\ttotal: 3.99ms\tremaining: 6.65ms\n",
      "3:\tlearn: 17.8449988\ttotal: 5.05ms\tremaining: 5.05ms\n",
      "4:\tlearn: 17.3931490\ttotal: 6.41ms\tremaining: 3.84ms\n",
      "5:\tlearn: 17.1543874\ttotal: 7.47ms\tremaining: 2.49ms\n",
      "6:\tlearn: 16.3889325\ttotal: 8.38ms\tremaining: 1.2ms\n",
      "7:\tlearn: 15.8792657\ttotal: 9.3ms\tremaining: 0us\n",
      "0:\tlearn: 21.2554369\ttotal: 1.17ms\tremaining: 8.22ms\n",
      "1:\tlearn: 20.3661441\ttotal: 2.48ms\tremaining: 7.45ms\n",
      "2:\tlearn: 19.7884878\ttotal: 3.52ms\tremaining: 5.87ms\n",
      "3:\tlearn: 18.9845733\ttotal: 4.58ms\tremaining: 4.58ms\n",
      "4:\tlearn: 17.9864703\ttotal: 5.59ms\tremaining: 3.36ms\n",
      "5:\tlearn: 17.6209882\ttotal: 6.61ms\tremaining: 2.2ms\n",
      "6:\tlearn: 17.0921717\ttotal: 7.66ms\tremaining: 1.09ms\n",
      "7:\tlearn: 16.7310094\ttotal: 8.72ms\tremaining: 0us\n",
      "0:\tlearn: 23.2433450\ttotal: 1.34ms\tremaining: 9.39ms\n",
      "1:\tlearn: 21.4792430\ttotal: 2.65ms\tremaining: 7.95ms\n",
      "2:\tlearn: 20.6790899\ttotal: 3.93ms\tremaining: 6.55ms\n",
      "3:\tlearn: 20.3458565\ttotal: 5.11ms\tremaining: 5.11ms\n",
      "4:\tlearn: 19.8950318\ttotal: 6.4ms\tremaining: 3.84ms\n",
      "5:\tlearn: 19.1032493\ttotal: 7.58ms\tremaining: 2.52ms\n",
      "6:\tlearn: 18.7822599\ttotal: 8.72ms\tremaining: 1.25ms\n",
      "7:\tlearn: 18.3377414\ttotal: 9.85ms\tremaining: 0us\n",
      "0:\tlearn: 23.8409630\ttotal: 1.34ms\tremaining: 9.36ms\n",
      "1:\tlearn: 22.1526668\ttotal: 2.68ms\tremaining: 8.04ms\n",
      "2:\tlearn: 21.4217022\ttotal: 3.82ms\tremaining: 6.37ms\n",
      "3:\tlearn: 20.7021664\ttotal: 5.07ms\tremaining: 5.07ms\n",
      "4:\tlearn: 20.0602668\ttotal: 6.29ms\tremaining: 3.77ms\n",
      "5:\tlearn: 19.6248242\ttotal: 7.59ms\tremaining: 2.53ms\n",
      "6:\tlearn: 19.2280426\ttotal: 8.74ms\tremaining: 1.25ms\n",
      "7:\tlearn: 18.9859276\ttotal: 9.86ms\tremaining: 0us\n",
      "0:\tlearn: 24.3426694\ttotal: 1.58ms\tremaining: 11.1ms\n",
      "1:\tlearn: 22.5158891\ttotal: 3.02ms\tremaining: 9.06ms\n",
      "2:\tlearn: 21.5087303\ttotal: 4.35ms\tremaining: 7.25ms\n",
      "3:\tlearn: 21.0864193\ttotal: 5.73ms\tremaining: 5.73ms\n",
      "4:\tlearn: 20.6087586\ttotal: 6.64ms\tremaining: 3.99ms\n",
      "5:\tlearn: 20.2005113\ttotal: 7.85ms\tremaining: 2.62ms\n",
      "6:\tlearn: 19.8234939\ttotal: 9.13ms\tremaining: 1.3ms\n",
      "7:\tlearn: 19.4569880\ttotal: 10.3ms\tremaining: 0us\n",
      "0:\tlearn: 25.4206412\ttotal: 1.58ms\tremaining: 11.1ms\n",
      "1:\tlearn: 23.4869203\ttotal: 3.17ms\tremaining: 9.51ms\n",
      "2:\tlearn: 22.2192863\ttotal: 4.66ms\tremaining: 7.77ms\n",
      "3:\tlearn: 21.7532000\ttotal: 6.08ms\tremaining: 6.08ms\n",
      "4:\tlearn: 21.2254453\ttotal: 7.57ms\tremaining: 4.54ms\n",
      "5:\tlearn: 20.7977663\ttotal: 9.06ms\tremaining: 3.02ms\n",
      "6:\tlearn: 20.1034939\ttotal: 10.5ms\tremaining: 1.5ms\n",
      "7:\tlearn: 19.8361343\ttotal: 11.9ms\tremaining: 0us\n",
      "0:\tlearn: 26.0476303\ttotal: 1.55ms\tremaining: 10.9ms\n",
      "1:\tlearn: 24.0922471\ttotal: 3.08ms\tremaining: 9.24ms\n",
      "2:\tlearn: 22.8511960\ttotal: 4.68ms\tremaining: 7.8ms\n",
      "3:\tlearn: 22.2470814\ttotal: 6.67ms\tremaining: 6.67ms\n",
      "4:\tlearn: 21.2998194\ttotal: 8.11ms\tremaining: 4.87ms\n",
      "5:\tlearn: 20.8638599\ttotal: 9.39ms\tremaining: 3.13ms\n",
      "6:\tlearn: 20.4693523\ttotal: 10.8ms\tremaining: 1.54ms\n",
      "7:\tlearn: 20.2734685\ttotal: 12.5ms\tremaining: 0us\n",
      "0:\tlearn: 25.3242541\ttotal: 1.76ms\tremaining: 12.3ms\n",
      "1:\tlearn: 23.9517355\ttotal: 3.45ms\tremaining: 10.4ms\n",
      "2:\tlearn: 23.3161866\ttotal: 4.92ms\tremaining: 8.2ms\n",
      "3:\tlearn: 22.3423207\ttotal: 6.29ms\tremaining: 6.29ms\n",
      "4:\tlearn: 21.9219605\ttotal: 7.68ms\tremaining: 4.61ms\n",
      "5:\tlearn: 21.4578088\ttotal: 9.16ms\tremaining: 3.05ms\n",
      "6:\tlearn: 20.8942751\ttotal: 10.6ms\tremaining: 1.51ms\n",
      "7:\tlearn: 20.7180618\ttotal: 12ms\tremaining: 0us\n",
      "0:\tlearn: 26.6432011\ttotal: 1.8ms\tremaining: 12.6ms\n",
      "1:\tlearn: 24.5878137\ttotal: 3.54ms\tremaining: 10.6ms\n",
      "2:\tlearn: 23.7981819\ttotal: 5.06ms\tremaining: 8.43ms\n",
      "3:\tlearn: 23.2411964\ttotal: 6.53ms\tremaining: 6.53ms\n",
      "4:\tlearn: 22.7318313\ttotal: 7.93ms\tremaining: 4.76ms\n",
      "5:\tlearn: 22.3416931\ttotal: 9.4ms\tremaining: 3.13ms\n",
      "6:\tlearn: 21.8780806\ttotal: 10.9ms\tremaining: 1.55ms\n",
      "7:\tlearn: 21.5230124\ttotal: 12.3ms\tremaining: 0us\n",
      "0:\tlearn: 18.9499604\ttotal: 2.13ms\tremaining: 0us\n",
      "0:\tlearn: 21.6127614\ttotal: 1.88ms\tremaining: 0us\n",
      "0:\tlearn: 20.9722528\ttotal: 2.15ms\tremaining: 0us\n",
      "0:\tlearn: 22.9368079\ttotal: 3.3ms\tremaining: 0us\n",
      "0:\tlearn: 23.4810910\ttotal: 2.02ms\tremaining: 0us\n",
      "0:\tlearn: 24.2241762\ttotal: 2.15ms\tremaining: 0us\n",
      "0:\tlearn: 24.9645346\ttotal: 2.24ms\tremaining: 0us\n",
      "0:\tlearn: 25.4717363\ttotal: 2.32ms\tremaining: 0us\n",
      "0:\tlearn: 25.0893457\ttotal: 2.32ms\tremaining: 0us\n",
      "0:\tlearn: 26.0470842\ttotal: 2.42ms\tremaining: 0us\n",
      "0:\tlearn: 18.9499604\ttotal: 1.54ms\tremaining: 1.54ms\n",
      "1:\tlearn: 16.9393026\ttotal: 3.1ms\tremaining: 0us\n",
      "0:\tlearn: 21.6127614\ttotal: 1.52ms\tremaining: 1.52ms\n",
      "1:\tlearn: 20.2872774\ttotal: 3.33ms\tremaining: 0us\n",
      "0:\tlearn: 20.9722528\ttotal: 2.12ms\tremaining: 2.12ms\n",
      "1:\tlearn: 19.6396029\ttotal: 4.05ms\tremaining: 0us\n",
      "0:\tlearn: 22.9368079\ttotal: 1.93ms\tremaining: 1.93ms\n",
      "1:\tlearn: 20.8251466\ttotal: 3.78ms\tremaining: 0us\n",
      "0:\tlearn: 23.4810910\ttotal: 1.94ms\tremaining: 1.94ms\n",
      "1:\tlearn: 21.5006918\ttotal: 3.92ms\tremaining: 0us\n",
      "0:\tlearn: 24.2241762\ttotal: 2.41ms\tremaining: 2.41ms\n",
      "1:\tlearn: 22.0717748\ttotal: 4.91ms\tremaining: 0us\n",
      "0:\tlearn: 24.9645346\ttotal: 2.92ms\tremaining: 2.92ms\n",
      "1:\tlearn: 22.6588744\ttotal: 5.33ms\tremaining: 0us\n",
      "0:\tlearn: 25.4717363\ttotal: 2.48ms\tremaining: 2.48ms\n",
      "1:\tlearn: 23.3598497\ttotal: 5ms\tremaining: 0us\n",
      "0:\tlearn: 25.0893457\ttotal: 2.59ms\tremaining: 2.59ms\n",
      "1:\tlearn: 23.2875731\ttotal: 5.01ms\tremaining: 0us\n",
      "0:\tlearn: 26.0470842\ttotal: 3.07ms\tremaining: 3.07ms\n",
      "1:\tlearn: 24.0993167\ttotal: 5.72ms\tremaining: 0us\n",
      "0:\tlearn: 18.9499604\ttotal: 1.44ms\tremaining: 2.88ms\n",
      "1:\tlearn: 16.9393026\ttotal: 2.89ms\tremaining: 1.45ms\n",
      "2:\tlearn: 15.8493014\ttotal: 4.15ms\tremaining: 0us\n",
      "0:\tlearn: 21.6127614\ttotal: 1.54ms\tremaining: 3.08ms\n",
      "1:\tlearn: 20.2872774\ttotal: 3.16ms\tremaining: 1.58ms\n",
      "2:\tlearn: 19.3421495\ttotal: 4.61ms\tremaining: 0us\n",
      "0:\tlearn: 20.9722528\ttotal: 1.78ms\tremaining: 3.57ms\n",
      "1:\tlearn: 19.6396029\ttotal: 3.41ms\tremaining: 1.7ms\n",
      "2:\tlearn: 18.3562234\ttotal: 4.93ms\tremaining: 0us\n",
      "0:\tlearn: 22.9368079\ttotal: 1.82ms\tremaining: 3.63ms\n",
      "1:\tlearn: 20.8251466\ttotal: 3.58ms\tremaining: 1.79ms\n",
      "2:\tlearn: 19.6654061\ttotal: 5.39ms\tremaining: 0us\n",
      "0:\tlearn: 23.4810910\ttotal: 1.91ms\tremaining: 3.83ms\n",
      "1:\tlearn: 21.5006918\ttotal: 3.91ms\tremaining: 1.96ms\n",
      "2:\tlearn: 20.3136154\ttotal: 5.66ms\tremaining: 0us\n",
      "0:\tlearn: 24.2241762\ttotal: 2.06ms\tremaining: 4.12ms\n",
      "1:\tlearn: 22.0717748\ttotal: 4.05ms\tremaining: 2.02ms\n",
      "2:\tlearn: 21.0565200\ttotal: 5.96ms\tremaining: 0us\n",
      "0:\tlearn: 24.9645346\ttotal: 2.17ms\tremaining: 4.34ms\n",
      "1:\tlearn: 22.6588744\ttotal: 4.22ms\tremaining: 2.11ms\n",
      "2:\tlearn: 21.6355589\ttotal: 6.14ms\tremaining: 0us\n",
      "0:\tlearn: 25.4717363\ttotal: 2.26ms\tremaining: 4.53ms\n",
      "1:\tlearn: 23.3598497\ttotal: 4.44ms\tremaining: 2.22ms\n",
      "2:\tlearn: 22.3857847\ttotal: 6.48ms\tremaining: 0us\n",
      "0:\tlearn: 25.0893457\ttotal: 2.43ms\tremaining: 4.86ms\n",
      "1:\tlearn: 23.2875731\ttotal: 4.67ms\tremaining: 2.34ms\n",
      "2:\tlearn: 22.3033502\ttotal: 6.76ms\tremaining: 0us\n",
      "0:\tlearn: 26.0470842\ttotal: 2.62ms\tremaining: 5.23ms\n",
      "1:\tlearn: 24.0993167\ttotal: 4.96ms\tremaining: 2.48ms\n",
      "2:\tlearn: 23.1559493\ttotal: 7.28ms\tremaining: 0us\n",
      "0:\tlearn: 18.9499604\ttotal: 1.49ms\tremaining: 4.46ms\n",
      "1:\tlearn: 16.9393026\ttotal: 3.12ms\tremaining: 3.12ms\n",
      "2:\tlearn: 15.8493014\ttotal: 4.4ms\tremaining: 1.47ms\n",
      "3:\tlearn: 15.4086116\ttotal: 5.69ms\tremaining: 0us\n",
      "0:\tlearn: 21.6127614\ttotal: 1.6ms\tremaining: 4.8ms\n",
      "1:\tlearn: 20.2872774\ttotal: 3.61ms\tremaining: 3.61ms\n",
      "2:\tlearn: 19.3421495\ttotal: 5.15ms\tremaining: 1.72ms\n",
      "3:\tlearn: 18.6185212\ttotal: 6.74ms\tremaining: 0us\n",
      "0:\tlearn: 20.9722528\ttotal: 1.84ms\tremaining: 5.52ms\n",
      "1:\tlearn: 19.6396029\ttotal: 3.66ms\tremaining: 3.66ms\n",
      "2:\tlearn: 18.3562234\ttotal: 5.3ms\tremaining: 1.77ms\n",
      "3:\tlearn: 18.0465309\ttotal: 6.9ms\tremaining: 0us\n",
      "0:\tlearn: 22.9368079\ttotal: 1.94ms\tremaining: 5.83ms\n",
      "1:\tlearn: 20.8251466\ttotal: 3.83ms\tremaining: 3.83ms\n",
      "2:\tlearn: 19.6654061\ttotal: 5.54ms\tremaining: 1.85ms\n",
      "3:\tlearn: 19.2873256\ttotal: 7.28ms\tremaining: 0us\n",
      "0:\tlearn: 23.4810910\ttotal: 1.91ms\tremaining: 5.73ms\n",
      "1:\tlearn: 21.5006918\ttotal: 3.94ms\tremaining: 3.94ms\n",
      "2:\tlearn: 20.3136154\ttotal: 5.88ms\tremaining: 1.96ms\n",
      "3:\tlearn: 19.8214224\ttotal: 7.74ms\tremaining: 0us\n",
      "0:\tlearn: 24.2241762\ttotal: 2.21ms\tremaining: 6.64ms\n",
      "1:\tlearn: 22.0717748\ttotal: 4.28ms\tremaining: 4.28ms\n",
      "2:\tlearn: 21.0565200\ttotal: 6.18ms\tremaining: 2.06ms\n",
      "3:\tlearn: 20.6552592\ttotal: 8.01ms\tremaining: 0us\n",
      "0:\tlearn: 24.9645346\ttotal: 2.16ms\tremaining: 6.47ms\n",
      "1:\tlearn: 22.6588744\ttotal: 4.34ms\tremaining: 4.34ms\n",
      "2:\tlearn: 21.6355589\ttotal: 6.35ms\tremaining: 2.12ms\n",
      "3:\tlearn: 21.1104253\ttotal: 8.29ms\tremaining: 0us\n",
      "0:\tlearn: 25.4717363\ttotal: 2.27ms\tremaining: 6.81ms\n",
      "1:\tlearn: 23.3598497\ttotal: 4.35ms\tremaining: 4.35ms\n",
      "2:\tlearn: 22.3857847\ttotal: 6.47ms\tremaining: 2.15ms\n",
      "3:\tlearn: 21.8300039\ttotal: 9.23ms\tremaining: 0us\n",
      "0:\tlearn: 25.0893457\ttotal: 2.47ms\tremaining: 7.42ms\n",
      "1:\tlearn: 23.2875731\ttotal: 4.81ms\tremaining: 4.81ms\n",
      "2:\tlearn: 22.3033502\ttotal: 6.83ms\tremaining: 2.28ms\n",
      "3:\tlearn: 21.8683657\ttotal: 8.91ms\tremaining: 0us\n",
      "0:\tlearn: 26.0470842\ttotal: 2.42ms\tremaining: 7.27ms\n",
      "1:\tlearn: 24.0993167\ttotal: 4.72ms\tremaining: 4.72ms\n",
      "2:\tlearn: 23.1559493\ttotal: 7.85ms\tremaining: 2.62ms\n",
      "3:\tlearn: 22.8441006\ttotal: 10ms\tremaining: 0us\n",
      "0:\tlearn: 18.9499604\ttotal: 1.42ms\tremaining: 5.68ms\n",
      "1:\tlearn: 16.9393026\ttotal: 2.66ms\tremaining: 3.98ms\n",
      "2:\tlearn: 15.8493014\ttotal: 3.87ms\tremaining: 2.58ms\n",
      "3:\tlearn: 15.4086116\ttotal: 5.12ms\tremaining: 1.28ms\n",
      "4:\tlearn: 14.6408490\ttotal: 6.33ms\tremaining: 0us\n",
      "0:\tlearn: 21.6127614\ttotal: 1.91ms\tremaining: 7.63ms\n",
      "1:\tlearn: 20.2872774\ttotal: 3.51ms\tremaining: 5.26ms\n",
      "2:\tlearn: 19.3421495\ttotal: 5ms\tremaining: 3.33ms\n",
      "3:\tlearn: 18.6185212\ttotal: 6.48ms\tremaining: 1.62ms\n",
      "4:\tlearn: 17.9317766\ttotal: 8.12ms\tremaining: 0us\n",
      "0:\tlearn: 20.9722528\ttotal: 1.78ms\tremaining: 7.14ms\n",
      "1:\tlearn: 19.6396029\ttotal: 3.69ms\tremaining: 5.53ms\n",
      "2:\tlearn: 18.3562234\ttotal: 5.6ms\tremaining: 3.73ms\n",
      "3:\tlearn: 18.0465309\ttotal: 7.22ms\tremaining: 1.8ms\n",
      "4:\tlearn: 17.2724545\ttotal: 8.69ms\tremaining: 0us\n",
      "0:\tlearn: 22.9368079\ttotal: 2.13ms\tremaining: 8.5ms\n",
      "1:\tlearn: 20.8251466\ttotal: 4.06ms\tremaining: 6.08ms\n",
      "2:\tlearn: 19.6654061\ttotal: 5.86ms\tremaining: 3.9ms\n",
      "3:\tlearn: 19.2873256\ttotal: 7.48ms\tremaining: 1.87ms\n",
      "4:\tlearn: 18.7346169\ttotal: 9.22ms\tremaining: 0us\n",
      "0:\tlearn: 23.4810910\ttotal: 2ms\tremaining: 8.02ms\n",
      "1:\tlearn: 21.5006918\ttotal: 3.87ms\tremaining: 5.81ms\n",
      "2:\tlearn: 20.3136154\ttotal: 5.75ms\tremaining: 3.83ms\n",
      "3:\tlearn: 19.8214224\ttotal: 7.5ms\tremaining: 1.88ms\n",
      "4:\tlearn: 19.1835652\ttotal: 9.18ms\tremaining: 0us\n",
      "0:\tlearn: 24.2241762\ttotal: 2.02ms\tremaining: 8.08ms\n",
      "1:\tlearn: 22.0717748\ttotal: 3.95ms\tremaining: 5.92ms\n",
      "2:\tlearn: 21.0565200\ttotal: 5.82ms\tremaining: 3.88ms\n",
      "3:\tlearn: 20.6552592\ttotal: 7.74ms\tremaining: 1.94ms\n",
      "4:\tlearn: 20.2902431\ttotal: 9.58ms\tremaining: 0us\n",
      "0:\tlearn: 24.9645346\ttotal: 2.22ms\tremaining: 8.9ms\n",
      "1:\tlearn: 22.6588744\ttotal: 4.42ms\tremaining: 6.63ms\n",
      "2:\tlearn: 21.6355589\ttotal: 6.48ms\tremaining: 4.32ms\n",
      "3:\tlearn: 21.1104253\ttotal: 8.54ms\tremaining: 2.13ms\n",
      "4:\tlearn: 20.6714169\ttotal: 10.5ms\tremaining: 0us\n",
      "0:\tlearn: 25.4717363\ttotal: 2.3ms\tremaining: 9.2ms\n",
      "1:\tlearn: 23.3598497\ttotal: 4.51ms\tremaining: 6.76ms\n",
      "2:\tlearn: 22.3857847\ttotal: 6.61ms\tremaining: 4.41ms\n",
      "3:\tlearn: 21.8300039\ttotal: 8.51ms\tremaining: 2.13ms\n",
      "4:\tlearn: 21.1797614\ttotal: 10.6ms\tremaining: 0us\n",
      "0:\tlearn: 25.0893457\ttotal: 2.52ms\tremaining: 10.1ms\n",
      "1:\tlearn: 23.2875731\ttotal: 5.24ms\tremaining: 7.86ms\n",
      "2:\tlearn: 22.3033502\ttotal: 7.5ms\tremaining: 5ms\n",
      "3:\tlearn: 21.8683657\ttotal: 9.63ms\tremaining: 2.41ms\n",
      "4:\tlearn: 21.4141043\ttotal: 11.8ms\tremaining: 0us\n",
      "0:\tlearn: 26.0470842\ttotal: 2.86ms\tremaining: 11.4ms\n",
      "1:\tlearn: 24.0993167\ttotal: 5.23ms\tremaining: 7.85ms\n",
      "2:\tlearn: 23.1559493\ttotal: 7.6ms\tremaining: 5.07ms\n",
      "3:\tlearn: 22.8441006\ttotal: 9.7ms\tremaining: 2.42ms\n",
      "4:\tlearn: 22.3332087\ttotal: 12ms\tremaining: 0us\n",
      "0:\tlearn: 18.9499604\ttotal: 1.5ms\tremaining: 7.51ms\n",
      "1:\tlearn: 16.9393026\ttotal: 2.99ms\tremaining: 5.98ms\n",
      "2:\tlearn: 15.8493014\ttotal: 4.33ms\tremaining: 4.33ms\n",
      "3:\tlearn: 15.4086116\ttotal: 5.8ms\tremaining: 2.9ms\n",
      "4:\tlearn: 14.6408490\ttotal: 7.19ms\tremaining: 1.44ms\n",
      "5:\tlearn: 13.5999303\ttotal: 8.79ms\tremaining: 0us\n",
      "0:\tlearn: 21.6127614\ttotal: 1.59ms\tremaining: 7.95ms\n",
      "1:\tlearn: 20.2872774\ttotal: 3.28ms\tremaining: 6.56ms\n",
      "2:\tlearn: 19.3421495\ttotal: 4.64ms\tremaining: 4.64ms\n",
      "3:\tlearn: 18.6185212\ttotal: 6.03ms\tremaining: 3.02ms\n",
      "4:\tlearn: 17.9317766\ttotal: 7.45ms\tremaining: 1.49ms\n",
      "5:\tlearn: 17.1620063\ttotal: 8.97ms\tremaining: 0us\n",
      "0:\tlearn: 20.9722528\ttotal: 1.86ms\tremaining: 9.33ms\n",
      "1:\tlearn: 19.6396029\ttotal: 4.01ms\tremaining: 8.02ms\n",
      "2:\tlearn: 18.3562234\ttotal: 6.08ms\tremaining: 6.08ms\n",
      "3:\tlearn: 18.0465309\ttotal: 7.82ms\tremaining: 3.91ms\n",
      "4:\tlearn: 17.2724545\ttotal: 9.63ms\tremaining: 1.93ms\n",
      "5:\tlearn: 16.8431303\ttotal: 12.3ms\tremaining: 0us\n",
      "0:\tlearn: 22.9368079\ttotal: 1.82ms\tremaining: 9.12ms\n",
      "1:\tlearn: 20.8251466\ttotal: 3.97ms\tremaining: 7.95ms\n",
      "2:\tlearn: 19.6654061\ttotal: 5.74ms\tremaining: 5.74ms\n",
      "3:\tlearn: 19.2873256\ttotal: 7.44ms\tremaining: 3.72ms\n",
      "4:\tlearn: 18.7346169\ttotal: 9.1ms\tremaining: 1.82ms\n",
      "5:\tlearn: 18.1755429\ttotal: 10.7ms\tremaining: 0us\n",
      "0:\tlearn: 23.4810910\ttotal: 2ms\tremaining: 10ms\n",
      "1:\tlearn: 21.5006918\ttotal: 3.96ms\tremaining: 7.93ms\n",
      "2:\tlearn: 20.3136154\ttotal: 5.77ms\tremaining: 5.77ms\n",
      "3:\tlearn: 19.8214224\ttotal: 7.43ms\tremaining: 3.72ms\n",
      "4:\tlearn: 19.1835652\ttotal: 9.18ms\tremaining: 1.83ms\n",
      "5:\tlearn: 18.7374337\ttotal: 11ms\tremaining: 0us\n",
      "0:\tlearn: 24.2241762\ttotal: 2.08ms\tremaining: 10.4ms\n",
      "1:\tlearn: 22.0717748\ttotal: 4.3ms\tremaining: 8.6ms\n",
      "2:\tlearn: 21.0565200\ttotal: 6.19ms\tremaining: 6.19ms\n",
      "3:\tlearn: 20.6552592\ttotal: 7.98ms\tremaining: 3.99ms\n",
      "4:\tlearn: 20.2902431\ttotal: 9.77ms\tremaining: 1.95ms\n",
      "5:\tlearn: 19.6861408\ttotal: 11.6ms\tremaining: 0us\n",
      "0:\tlearn: 24.9645346\ttotal: 2.21ms\tremaining: 11.1ms\n",
      "1:\tlearn: 22.6588744\ttotal: 4.56ms\tremaining: 9.13ms\n",
      "2:\tlearn: 21.6355589\ttotal: 6.84ms\tremaining: 6.84ms\n",
      "3:\tlearn: 21.1104253\ttotal: 9.04ms\tremaining: 4.52ms\n",
      "4:\tlearn: 20.6714169\ttotal: 11.1ms\tremaining: 2.23ms\n",
      "5:\tlearn: 20.0740171\ttotal: 13.3ms\tremaining: 0us\n",
      "0:\tlearn: 25.4717363\ttotal: 2.19ms\tremaining: 11ms\n",
      "1:\tlearn: 23.3598497\ttotal: 4.27ms\tremaining: 8.55ms\n",
      "2:\tlearn: 22.3857847\ttotal: 6.19ms\tremaining: 6.19ms\n",
      "3:\tlearn: 21.8300039\ttotal: 8.01ms\tremaining: 4ms\n",
      "4:\tlearn: 21.1797614\ttotal: 9.86ms\tremaining: 1.97ms\n",
      "5:\tlearn: 20.9076817\ttotal: 11.9ms\tremaining: 0us\n",
      "0:\tlearn: 25.0893457\ttotal: 2.48ms\tremaining: 12.4ms\n",
      "1:\tlearn: 23.2875731\ttotal: 4.66ms\tremaining: 9.33ms\n",
      "2:\tlearn: 22.3033502\ttotal: 7.46ms\tremaining: 7.46ms\n",
      "3:\tlearn: 21.8683657\ttotal: 9.75ms\tremaining: 4.87ms\n",
      "4:\tlearn: 21.4141043\ttotal: 12.5ms\tremaining: 2.5ms\n",
      "5:\tlearn: 20.9534663\ttotal: 15.4ms\tremaining: 0us\n",
      "0:\tlearn: 26.0470842\ttotal: 2.42ms\tremaining: 12.1ms\n",
      "1:\tlearn: 24.0993167\ttotal: 4.7ms\tremaining: 9.4ms\n",
      "2:\tlearn: 23.1559493\ttotal: 6.96ms\tremaining: 6.96ms\n",
      "3:\tlearn: 22.8441006\ttotal: 9.07ms\tremaining: 4.53ms\n",
      "4:\tlearn: 22.3332087\ttotal: 11.2ms\tremaining: 2.24ms\n",
      "5:\tlearn: 21.7496217\ttotal: 13.3ms\tremaining: 0us\n",
      "0:\tlearn: 18.9499604\ttotal: 1.48ms\tremaining: 8.89ms\n",
      "1:\tlearn: 16.9393026\ttotal: 3.02ms\tremaining: 7.56ms\n",
      "2:\tlearn: 15.8493014\ttotal: 4.25ms\tremaining: 5.67ms\n",
      "3:\tlearn: 15.4086116\ttotal: 5.5ms\tremaining: 4.12ms\n",
      "4:\tlearn: 14.6408490\ttotal: 6.65ms\tremaining: 2.66ms\n",
      "5:\tlearn: 13.5999303\ttotal: 7.83ms\tremaining: 1.3ms\n",
      "6:\tlearn: 12.6374987\ttotal: 8.96ms\tremaining: 0us\n",
      "0:\tlearn: 21.6127614\ttotal: 1.62ms\tremaining: 9.71ms\n",
      "1:\tlearn: 20.2872774\ttotal: 3.27ms\tremaining: 8.17ms\n",
      "2:\tlearn: 19.3421495\ttotal: 4.77ms\tremaining: 6.36ms\n",
      "3:\tlearn: 18.6185212\ttotal: 6.23ms\tremaining: 4.67ms\n",
      "4:\tlearn: 17.9317766\ttotal: 7.7ms\tremaining: 3.08ms\n",
      "5:\tlearn: 17.1620063\ttotal: 9.08ms\tremaining: 1.51ms\n",
      "6:\tlearn: 16.5386543\ttotal: 10.4ms\tremaining: 0us\n",
      "0:\tlearn: 20.9722528\ttotal: 1.8ms\tremaining: 10.8ms\n",
      "1:\tlearn: 19.6396029\ttotal: 3.65ms\tremaining: 9.13ms\n",
      "2:\tlearn: 18.3562234\ttotal: 5.23ms\tremaining: 6.98ms\n",
      "3:\tlearn: 18.0465309\ttotal: 6.71ms\tremaining: 5.03ms\n",
      "4:\tlearn: 17.2724545\ttotal: 8.26ms\tremaining: 3.31ms\n",
      "5:\tlearn: 16.8431303\ttotal: 9.83ms\tremaining: 1.64ms\n",
      "6:\tlearn: 16.3294081\ttotal: 11.4ms\tremaining: 0us\n",
      "0:\tlearn: 22.9368079\ttotal: 1.94ms\tremaining: 11.6ms\n",
      "1:\tlearn: 20.8251466\ttotal: 3.73ms\tremaining: 9.33ms\n",
      "2:\tlearn: 19.6654061\ttotal: 5.39ms\tremaining: 7.19ms\n",
      "3:\tlearn: 19.2873256\ttotal: 6.99ms\tremaining: 5.25ms\n",
      "4:\tlearn: 18.7346169\ttotal: 8.69ms\tremaining: 3.48ms\n",
      "5:\tlearn: 18.1755429\ttotal: 10.3ms\tremaining: 1.71ms\n",
      "6:\tlearn: 17.6808272\ttotal: 12.1ms\tremaining: 0us\n",
      "0:\tlearn: 23.4810910\ttotal: 2.07ms\tremaining: 12.4ms\n",
      "1:\tlearn: 21.5006918\ttotal: 4.24ms\tremaining: 10.6ms\n",
      "2:\tlearn: 20.3136154\ttotal: 6.1ms\tremaining: 8.14ms\n",
      "3:\tlearn: 19.8214224\ttotal: 7.91ms\tremaining: 5.93ms\n",
      "4:\tlearn: 19.1835652\ttotal: 9.72ms\tremaining: 3.89ms\n",
      "5:\tlearn: 18.7374337\ttotal: 11.5ms\tremaining: 1.92ms\n",
      "6:\tlearn: 18.4320182\ttotal: 13.3ms\tremaining: 0us\n",
      "0:\tlearn: 24.2241762\ttotal: 2.13ms\tremaining: 12.8ms\n",
      "1:\tlearn: 22.0717748\ttotal: 4.31ms\tremaining: 10.8ms\n",
      "2:\tlearn: 21.0565200\ttotal: 6.29ms\tremaining: 8.39ms\n",
      "3:\tlearn: 20.6552592\ttotal: 8.23ms\tremaining: 6.17ms\n",
      "4:\tlearn: 20.2902431\ttotal: 10ms\tremaining: 4.01ms\n",
      "5:\tlearn: 19.6861408\ttotal: 11.9ms\tremaining: 1.98ms\n",
      "6:\tlearn: 19.1689634\ttotal: 13.8ms\tremaining: 0us\n",
      "0:\tlearn: 24.9645346\ttotal: 2.27ms\tremaining: 13.6ms\n",
      "1:\tlearn: 22.6588744\ttotal: 4.61ms\tremaining: 11.5ms\n",
      "2:\tlearn: 21.6355589\ttotal: 6.66ms\tremaining: 8.88ms\n",
      "3:\tlearn: 21.1104253\ttotal: 8.55ms\tremaining: 6.42ms\n",
      "4:\tlearn: 20.6714169\ttotal: 10.4ms\tremaining: 4.18ms\n",
      "5:\tlearn: 20.0740171\ttotal: 12.3ms\tremaining: 2.05ms\n",
      "6:\tlearn: 19.4613368\ttotal: 14.2ms\tremaining: 0us\n",
      "0:\tlearn: 25.4717363\ttotal: 2.21ms\tremaining: 13.2ms\n",
      "1:\tlearn: 23.3598497\ttotal: 4.4ms\tremaining: 11ms\n",
      "2:\tlearn: 22.3857847\ttotal: 6.48ms\tremaining: 8.63ms\n",
      "3:\tlearn: 21.8300039\ttotal: 8.36ms\tremaining: 6.27ms\n",
      "4:\tlearn: 21.1797614\ttotal: 10.3ms\tremaining: 4.14ms\n",
      "5:\tlearn: 20.9076817\ttotal: 12.3ms\tremaining: 2.05ms\n",
      "6:\tlearn: 20.1684310\ttotal: 14.4ms\tremaining: 0us\n",
      "0:\tlearn: 25.0893457\ttotal: 2.41ms\tremaining: 14.5ms\n",
      "1:\tlearn: 23.2875731\ttotal: 4.99ms\tremaining: 12.5ms\n",
      "2:\tlearn: 22.3033502\ttotal: 7.04ms\tremaining: 9.39ms\n",
      "3:\tlearn: 21.8683657\ttotal: 9.22ms\tremaining: 6.91ms\n",
      "4:\tlearn: 21.4141043\ttotal: 11.4ms\tremaining: 4.54ms\n",
      "5:\tlearn: 20.9534663\ttotal: 13.4ms\tremaining: 2.23ms\n",
      "6:\tlearn: 20.5973537\ttotal: 15.6ms\tremaining: 0us\n",
      "0:\tlearn: 26.0470842\ttotal: 2.64ms\tremaining: 15.8ms\n",
      "1:\tlearn: 24.0993167\ttotal: 5.2ms\tremaining: 13ms\n",
      "2:\tlearn: 23.1559493\ttotal: 7.94ms\tremaining: 10.6ms\n",
      "3:\tlearn: 22.8441006\ttotal: 10.2ms\tremaining: 7.68ms\n",
      "4:\tlearn: 22.3332087\ttotal: 12.5ms\tremaining: 5ms\n",
      "5:\tlearn: 21.7496217\ttotal: 14.8ms\tremaining: 2.47ms\n",
      "6:\tlearn: 21.2306032\ttotal: 17.1ms\tremaining: 0us\n",
      "0:\tlearn: 18.9499604\ttotal: 1.54ms\tremaining: 10.8ms\n",
      "1:\tlearn: 16.9393026\ttotal: 3.05ms\tremaining: 9.16ms\n",
      "2:\tlearn: 15.8493014\ttotal: 4.44ms\tremaining: 7.4ms\n",
      "3:\tlearn: 15.4086116\ttotal: 5.89ms\tremaining: 5.89ms\n",
      "4:\tlearn: 14.6408490\ttotal: 7.41ms\tremaining: 4.45ms\n",
      "5:\tlearn: 13.5999303\ttotal: 8.73ms\tremaining: 2.91ms\n",
      "6:\tlearn: 12.6374987\ttotal: 10ms\tremaining: 1.43ms\n",
      "7:\tlearn: 12.2205764\ttotal: 11.4ms\tremaining: 0us\n",
      "0:\tlearn: 21.6127614\ttotal: 1.72ms\tremaining: 12.1ms\n",
      "1:\tlearn: 20.2872774\ttotal: 3.39ms\tremaining: 10.2ms\n",
      "2:\tlearn: 19.3421495\ttotal: 4.97ms\tremaining: 8.28ms\n",
      "3:\tlearn: 18.6185212\ttotal: 6.52ms\tremaining: 6.52ms\n",
      "4:\tlearn: 17.9317766\ttotal: 8.13ms\tremaining: 4.88ms\n",
      "5:\tlearn: 17.1620063\ttotal: 9.48ms\tremaining: 3.16ms\n",
      "6:\tlearn: 16.5386543\ttotal: 11ms\tremaining: 1.57ms\n",
      "7:\tlearn: 16.0172675\ttotal: 12.4ms\tremaining: 0us\n",
      "0:\tlearn: 20.9722528\ttotal: 1.73ms\tremaining: 12.1ms\n",
      "1:\tlearn: 19.6396029\ttotal: 3.43ms\tremaining: 10.3ms\n",
      "2:\tlearn: 18.3562234\ttotal: 5.06ms\tremaining: 8.44ms\n",
      "3:\tlearn: 18.0465309\ttotal: 6.75ms\tremaining: 6.75ms\n",
      "4:\tlearn: 17.2724545\ttotal: 8.3ms\tremaining: 4.98ms\n",
      "5:\tlearn: 16.8431303\ttotal: 9.92ms\tremaining: 3.31ms\n",
      "6:\tlearn: 16.3294081\ttotal: 11.5ms\tremaining: 1.64ms\n",
      "7:\tlearn: 16.0183832\ttotal: 13.1ms\tremaining: 0us\n",
      "0:\tlearn: 22.9368079\ttotal: 1.92ms\tremaining: 13.5ms\n",
      "1:\tlearn: 20.8251466\ttotal: 3.88ms\tremaining: 11.6ms\n",
      "2:\tlearn: 19.6654061\ttotal: 5.87ms\tremaining: 9.79ms\n",
      "3:\tlearn: 19.2873256\ttotal: 7.61ms\tremaining: 7.61ms\n",
      "4:\tlearn: 18.7346169\ttotal: 9.47ms\tremaining: 5.68ms\n",
      "5:\tlearn: 18.1755429\ttotal: 11.1ms\tremaining: 3.71ms\n",
      "6:\tlearn: 17.6808272\ttotal: 12.8ms\tremaining: 1.83ms\n",
      "7:\tlearn: 17.3353411\ttotal: 14.7ms\tremaining: 0us\n",
      "0:\tlearn: 23.4810910\ttotal: 2.03ms\tremaining: 14.2ms\n",
      "1:\tlearn: 21.5006918\ttotal: 3.91ms\tremaining: 11.7ms\n",
      "2:\tlearn: 20.3136154\ttotal: 5.73ms\tremaining: 9.55ms\n",
      "3:\tlearn: 19.8214224\ttotal: 7.82ms\tremaining: 7.82ms\n",
      "4:\tlearn: 19.1835652\ttotal: 9.51ms\tremaining: 5.7ms\n",
      "5:\tlearn: 18.7374337\ttotal: 11.3ms\tremaining: 3.78ms\n",
      "6:\tlearn: 18.4320182\ttotal: 12.9ms\tremaining: 1.85ms\n",
      "7:\tlearn: 18.0149566\ttotal: 14.7ms\tremaining: 0us\n",
      "0:\tlearn: 24.2241762\ttotal: 2.19ms\tremaining: 15.3ms\n",
      "1:\tlearn: 22.0717748\ttotal: 4.18ms\tremaining: 12.5ms\n",
      "2:\tlearn: 21.0565200\ttotal: 6.12ms\tremaining: 10.2ms\n",
      "3:\tlearn: 20.6552592\ttotal: 8ms\tremaining: 8ms\n",
      "4:\tlearn: 20.2902431\ttotal: 10.4ms\tremaining: 6.22ms\n",
      "5:\tlearn: 19.6861408\ttotal: 12.2ms\tremaining: 4.07ms\n",
      "6:\tlearn: 19.1689634\ttotal: 14.1ms\tremaining: 2.02ms\n",
      "7:\tlearn: 18.7298059\ttotal: 16.1ms\tremaining: 0us\n",
      "0:\tlearn: 24.9645346\ttotal: 2.11ms\tremaining: 14.8ms\n",
      "1:\tlearn: 22.6588744\ttotal: 4.3ms\tremaining: 12.9ms\n",
      "2:\tlearn: 21.6355589\ttotal: 6.17ms\tremaining: 10.3ms\n",
      "3:\tlearn: 21.1104253\ttotal: 8.03ms\tremaining: 8.03ms\n",
      "4:\tlearn: 20.6714169\ttotal: 9.87ms\tremaining: 5.92ms\n",
      "5:\tlearn: 20.0740171\ttotal: 11.8ms\tremaining: 3.92ms\n",
      "6:\tlearn: 19.4613368\ttotal: 13.7ms\tremaining: 1.96ms\n",
      "7:\tlearn: 19.2201812\ttotal: 15.7ms\tremaining: 0us\n",
      "0:\tlearn: 25.4717363\ttotal: 2.62ms\tremaining: 18.3ms\n",
      "1:\tlearn: 23.3598497\ttotal: 5.11ms\tremaining: 15.3ms\n",
      "2:\tlearn: 22.3857847\ttotal: 7.48ms\tremaining: 12.5ms\n",
      "3:\tlearn: 21.8300039\ttotal: 9.81ms\tremaining: 9.81ms\n",
      "4:\tlearn: 21.1797614\ttotal: 12ms\tremaining: 7.19ms\n",
      "5:\tlearn: 20.9076817\ttotal: 14.2ms\tremaining: 4.72ms\n",
      "6:\tlearn: 20.1684310\ttotal: 16.5ms\tremaining: 2.36ms\n",
      "7:\tlearn: 19.9569320\ttotal: 18.7ms\tremaining: 0us\n",
      "0:\tlearn: 25.0893457\ttotal: 2.37ms\tremaining: 16.6ms\n",
      "1:\tlearn: 23.2875731\ttotal: 4.89ms\tremaining: 14.7ms\n",
      "2:\tlearn: 22.3033502\ttotal: 6.9ms\tremaining: 11.5ms\n",
      "3:\tlearn: 21.8683657\ttotal: 8.98ms\tremaining: 8.98ms\n",
      "4:\tlearn: 21.4141043\ttotal: 10.9ms\tremaining: 6.54ms\n",
      "5:\tlearn: 20.9534663\ttotal: 13ms\tremaining: 4.32ms\n",
      "6:\tlearn: 20.5973537\ttotal: 15.1ms\tremaining: 2.16ms\n",
      "7:\tlearn: 20.3423117\ttotal: 17.1ms\tremaining: 0us\n",
      "0:\tlearn: 26.0470842\ttotal: 2.94ms\tremaining: 20.6ms\n",
      "1:\tlearn: 24.0993167\ttotal: 5.79ms\tremaining: 17.4ms\n",
      "2:\tlearn: 23.1559493\ttotal: 8.32ms\tremaining: 13.9ms\n",
      "3:\tlearn: 22.8441006\ttotal: 10.8ms\tremaining: 10.8ms\n",
      "4:\tlearn: 22.3332087\ttotal: 13.4ms\tremaining: 8.02ms\n",
      "5:\tlearn: 21.7496217\ttotal: 15.9ms\tremaining: 5.28ms\n",
      "6:\tlearn: 21.2306032\ttotal: 18.3ms\tremaining: 2.61ms\n",
      "7:\tlearn: 20.8420790\ttotal: 20.8ms\tremaining: 0us\n",
      "0:\tlearn: 19.2550010\ttotal: 3.82ms\tremaining: 0us\n",
      "0:\tlearn: 21.3372423\ttotal: 3.08ms\tremaining: 0us\n",
      "0:\tlearn: 20.7356869\ttotal: 3.21ms\tremaining: 0us\n",
      "0:\tlearn: 22.5848128\ttotal: 3.32ms\tremaining: 0us\n",
      "0:\tlearn: 23.1456872\ttotal: 3.47ms\tremaining: 0us\n",
      "0:\tlearn: 23.8504614\ttotal: 3.59ms\tremaining: 0us\n",
      "0:\tlearn: 23.4867374\ttotal: 3.82ms\tremaining: 0us\n",
      "0:\tlearn: 23.8935192\ttotal: 3.53ms\tremaining: 0us\n",
      "0:\tlearn: 24.7806245\ttotal: 5.02ms\tremaining: 0us\n",
      "0:\tlearn: 25.8433676\ttotal: 4.29ms\tremaining: 0us\n",
      "0:\tlearn: 19.2550010\ttotal: 2.98ms\tremaining: 2.98ms\n",
      "1:\tlearn: 16.4776843\ttotal: 5.47ms\tremaining: 0us\n",
      "0:\tlearn: 21.3372423\ttotal: 2.85ms\tremaining: 2.85ms\n",
      "1:\tlearn: 18.4207394\ttotal: 5.64ms\tremaining: 0us\n",
      "0:\tlearn: 20.7356869\ttotal: 3.02ms\tremaining: 3.02ms\n",
      "1:\tlearn: 18.8473539\ttotal: 5.87ms\tremaining: 0us\n",
      "0:\tlearn: 22.5848128\ttotal: 3.15ms\tremaining: 3.15ms\n",
      "1:\tlearn: 20.1022032\ttotal: 6.42ms\tremaining: 0us\n",
      "0:\tlearn: 23.1456872\ttotal: 3.75ms\tremaining: 3.75ms\n",
      "1:\tlearn: 20.7346340\ttotal: 7.36ms\tremaining: 0us\n",
      "0:\tlearn: 23.8504614\ttotal: 5.39ms\tremaining: 5.39ms\n",
      "1:\tlearn: 21.5500036\ttotal: 10.7ms\tremaining: 0us\n",
      "0:\tlearn: 23.4867374\ttotal: 3.36ms\tremaining: 3.36ms\n",
      "1:\tlearn: 22.0312062\ttotal: 6.93ms\tremaining: 0us\n",
      "0:\tlearn: 23.8935192\ttotal: 3.45ms\tremaining: 3.45ms\n",
      "1:\tlearn: 22.3130514\ttotal: 6.98ms\tremaining: 0us\n",
      "0:\tlearn: 24.7806245\ttotal: 3.65ms\tremaining: 3.65ms\n",
      "1:\tlearn: 22.7673989\ttotal: 7.35ms\tremaining: 0us\n",
      "0:\tlearn: 25.8433676\ttotal: 3.76ms\tremaining: 3.76ms\n",
      "1:\tlearn: 23.6561444\ttotal: 7.61ms\tremaining: 0us\n",
      "0:\tlearn: 19.2550010\ttotal: 2.48ms\tremaining: 4.96ms\n",
      "1:\tlearn: 16.4776843\ttotal: 4.77ms\tremaining: 2.38ms\n",
      "2:\tlearn: 14.7606146\ttotal: 6.92ms\tremaining: 0us\n",
      "0:\tlearn: 21.3372423\ttotal: 2.74ms\tremaining: 5.48ms\n",
      "1:\tlearn: 18.4207394\ttotal: 5.38ms\tremaining: 2.69ms\n",
      "2:\tlearn: 17.4843223\ttotal: 7.82ms\tremaining: 0us\n",
      "0:\tlearn: 20.7356869\ttotal: 2.91ms\tremaining: 5.82ms\n",
      "1:\tlearn: 18.8473539\ttotal: 5.63ms\tremaining: 2.81ms\n",
      "2:\tlearn: 17.6069010\ttotal: 8.29ms\tremaining: 0us\n",
      "0:\tlearn: 22.5848128\ttotal: 3.24ms\tremaining: 6.49ms\n",
      "1:\tlearn: 20.1022032\ttotal: 6.25ms\tremaining: 3.12ms\n",
      "2:\tlearn: 19.6320827\ttotal: 8.8ms\tremaining: 0us\n",
      "0:\tlearn: 23.1456872\ttotal: 3.47ms\tremaining: 6.94ms\n",
      "1:\tlearn: 20.7346340\ttotal: 6.74ms\tremaining: 3.37ms\n",
      "2:\tlearn: 19.9142697\ttotal: 9.87ms\tremaining: 0us\n",
      "0:\tlearn: 23.8504614\ttotal: 3.33ms\tremaining: 6.67ms\n",
      "1:\tlearn: 21.5500036\ttotal: 6.61ms\tremaining: 3.31ms\n",
      "2:\tlearn: 20.7282633\ttotal: 9.69ms\tremaining: 0us\n",
      "0:\tlearn: 23.4867374\ttotal: 3.61ms\tremaining: 7.21ms\n",
      "1:\tlearn: 22.0312062\ttotal: 6.93ms\tremaining: 3.46ms\n",
      "2:\tlearn: 21.0494428\ttotal: 10.1ms\tremaining: 0us\n",
      "0:\tlearn: 23.8935192\ttotal: 3.59ms\tremaining: 7.17ms\n",
      "1:\tlearn: 22.3130514\ttotal: 7ms\tremaining: 3.5ms\n",
      "2:\tlearn: 21.2679939\ttotal: 10.4ms\tremaining: 0us\n",
      "0:\tlearn: 24.7806245\ttotal: 3.81ms\tremaining: 7.62ms\n",
      "1:\tlearn: 22.7673989\ttotal: 7.49ms\tremaining: 3.75ms\n",
      "2:\tlearn: 22.1653306\ttotal: 10.8ms\tremaining: 0us\n",
      "0:\tlearn: 25.8433676\ttotal: 4.03ms\tremaining: 8.07ms\n",
      "1:\tlearn: 23.6561444\ttotal: 7.61ms\tremaining: 3.81ms\n",
      "2:\tlearn: 23.0107135\ttotal: 10.8ms\tremaining: 0us\n",
      "0:\tlearn: 19.2550010\ttotal: 2.43ms\tremaining: 7.28ms\n",
      "1:\tlearn: 16.4776843\ttotal: 4.91ms\tremaining: 4.91ms\n",
      "2:\tlearn: 14.7606146\ttotal: 6.97ms\tremaining: 2.32ms\n",
      "3:\tlearn: 13.7924132\ttotal: 9.13ms\tremaining: 0us\n",
      "0:\tlearn: 21.3372423\ttotal: 2.86ms\tremaining: 8.59ms\n",
      "1:\tlearn: 18.4207394\ttotal: 5.68ms\tremaining: 5.68ms\n",
      "2:\tlearn: 17.4843223\ttotal: 8.14ms\tremaining: 2.71ms\n",
      "3:\tlearn: 17.0431194\ttotal: 10.5ms\tremaining: 0us\n",
      "0:\tlearn: 20.7356869\ttotal: 3ms\tremaining: 9ms\n",
      "1:\tlearn: 18.8473539\ttotal: 5.97ms\tremaining: 5.97ms\n",
      "2:\tlearn: 17.6069010\ttotal: 8.66ms\tremaining: 2.89ms\n",
      "3:\tlearn: 16.8135832\ttotal: 11.3ms\tremaining: 0us\n",
      "0:\tlearn: 22.5848128\ttotal: 3.24ms\tremaining: 9.72ms\n",
      "1:\tlearn: 20.1022032\ttotal: 6.49ms\tremaining: 6.49ms\n",
      "2:\tlearn: 19.6320827\ttotal: 9.23ms\tremaining: 3.08ms\n",
      "3:\tlearn: 19.1077172\ttotal: 12ms\tremaining: 0us\n",
      "0:\tlearn: 23.1456872\ttotal: 4.61ms\tremaining: 13.8ms\n",
      "1:\tlearn: 20.7346340\ttotal: 8.18ms\tremaining: 8.18ms\n",
      "2:\tlearn: 19.9142697\ttotal: 11.7ms\tremaining: 3.9ms\n",
      "3:\tlearn: 18.9024733\ttotal: 15.2ms\tremaining: 0us\n",
      "0:\tlearn: 23.8504614\ttotal: 3.31ms\tremaining: 9.92ms\n",
      "1:\tlearn: 21.5500036\ttotal: 6.38ms\tremaining: 6.38ms\n",
      "2:\tlearn: 20.7282633\ttotal: 9.24ms\tremaining: 3.08ms\n",
      "3:\tlearn: 20.2864860\ttotal: 12.2ms\tremaining: 0us\n",
      "0:\tlearn: 23.4867374\ttotal: 3.27ms\tremaining: 9.83ms\n",
      "1:\tlearn: 22.0312062\ttotal: 6.75ms\tremaining: 6.75ms\n",
      "2:\tlearn: 21.0494428\ttotal: 9.86ms\tremaining: 3.29ms\n",
      "3:\tlearn: 20.6851932\ttotal: 12.8ms\tremaining: 0us\n",
      "0:\tlearn: 23.8935192\ttotal: 3.38ms\tremaining: 10.1ms\n",
      "1:\tlearn: 22.3130514\ttotal: 6.88ms\tremaining: 6.88ms\n",
      "2:\tlearn: 21.2679939\ttotal: 10.1ms\tremaining: 3.37ms\n",
      "3:\tlearn: 21.0140655\ttotal: 13.2ms\tremaining: 0us\n",
      "0:\tlearn: 24.7806245\ttotal: 3.7ms\tremaining: 11.1ms\n",
      "1:\tlearn: 22.7673989\ttotal: 7.38ms\tremaining: 7.38ms\n",
      "2:\tlearn: 22.1653306\ttotal: 10.8ms\tremaining: 3.59ms\n",
      "3:\tlearn: 21.7666859\ttotal: 14.1ms\tremaining: 0us\n",
      "0:\tlearn: 25.8433676\ttotal: 3.78ms\tremaining: 11.3ms\n",
      "1:\tlearn: 23.6561444\ttotal: 8.39ms\tremaining: 8.39ms\n",
      "2:\tlearn: 23.0107135\ttotal: 12.4ms\tremaining: 4.12ms\n",
      "3:\tlearn: 22.4293479\ttotal: 16.8ms\tremaining: 0us\n",
      "0:\tlearn: 19.2550010\ttotal: 2.52ms\tremaining: 10.1ms\n",
      "1:\tlearn: 16.4776843\ttotal: 4.73ms\tremaining: 7.1ms\n",
      "2:\tlearn: 14.7606146\ttotal: 7.2ms\tremaining: 4.8ms\n",
      "3:\tlearn: 13.7924132\ttotal: 9.87ms\tremaining: 2.47ms\n",
      "4:\tlearn: 12.9756796\ttotal: 11.8ms\tremaining: 0us\n",
      "0:\tlearn: 21.3372423\ttotal: 2.8ms\tremaining: 11.2ms\n",
      "1:\tlearn: 18.4207394\ttotal: 5.41ms\tremaining: 8.11ms\n",
      "2:\tlearn: 17.4843223\ttotal: 7.96ms\tremaining: 5.3ms\n",
      "3:\tlearn: 17.0431194\ttotal: 10.4ms\tremaining: 2.6ms\n",
      "4:\tlearn: 16.0685184\ttotal: 12.9ms\tremaining: 0us\n",
      "0:\tlearn: 20.7356869\ttotal: 2.93ms\tremaining: 11.7ms\n",
      "1:\tlearn: 18.8473539\ttotal: 5.72ms\tremaining: 8.59ms\n",
      "2:\tlearn: 17.6069010\ttotal: 8.56ms\tremaining: 5.71ms\n",
      "3:\tlearn: 16.8135832\ttotal: 11.2ms\tremaining: 2.79ms\n",
      "4:\tlearn: 16.1951928\ttotal: 13.8ms\tremaining: 0us\n",
      "0:\tlearn: 22.5848128\ttotal: 2.88ms\tremaining: 11.5ms\n",
      "1:\tlearn: 20.1022032\ttotal: 5.86ms\tremaining: 8.78ms\n",
      "2:\tlearn: 19.6320827\ttotal: 8.51ms\tremaining: 5.67ms\n",
      "3:\tlearn: 19.1077172\ttotal: 11.2ms\tremaining: 2.81ms\n",
      "4:\tlearn: 18.2183725\ttotal: 13.9ms\tremaining: 0us\n",
      "0:\tlearn: 23.1456872\ttotal: 3.24ms\tremaining: 13ms\n",
      "1:\tlearn: 20.7346340\ttotal: 6.85ms\tremaining: 10.3ms\n",
      "2:\tlearn: 19.9142697\ttotal: 10.2ms\tremaining: 6.82ms\n",
      "3:\tlearn: 18.9024733\ttotal: 13.1ms\tremaining: 3.27ms\n",
      "4:\tlearn: 18.0767417\ttotal: 16ms\tremaining: 0us\n",
      "0:\tlearn: 23.8504614\ttotal: 4.15ms\tremaining: 16.6ms\n",
      "1:\tlearn: 21.5500036\ttotal: 8.4ms\tremaining: 12.6ms\n",
      "2:\tlearn: 20.7282633\ttotal: 11.5ms\tremaining: 7.69ms\n",
      "3:\tlearn: 20.2864860\ttotal: 14.5ms\tremaining: 3.63ms\n",
      "4:\tlearn: 19.3203512\ttotal: 18.3ms\tremaining: 0us\n",
      "0:\tlearn: 23.4867374\ttotal: 3.39ms\tremaining: 13.6ms\n",
      "1:\tlearn: 22.0312062\ttotal: 6.75ms\tremaining: 10.1ms\n",
      "2:\tlearn: 21.0494428\ttotal: 10ms\tremaining: 6.69ms\n",
      "3:\tlearn: 20.6851932\ttotal: 13ms\tremaining: 3.26ms\n",
      "4:\tlearn: 19.7663272\ttotal: 16.3ms\tremaining: 0us\n",
      "0:\tlearn: 23.8935192\ttotal: 3.91ms\tremaining: 15.6ms\n",
      "1:\tlearn: 22.3130514\ttotal: 7.6ms\tremaining: 11.4ms\n",
      "2:\tlearn: 21.2679939\ttotal: 11.1ms\tremaining: 7.37ms\n",
      "3:\tlearn: 21.0140655\ttotal: 14.2ms\tremaining: 3.55ms\n",
      "4:\tlearn: 20.0375546\ttotal: 17.4ms\tremaining: 0us\n",
      "0:\tlearn: 24.7806245\ttotal: 4.09ms\tremaining: 16.4ms\n",
      "1:\tlearn: 22.7673989\ttotal: 8.08ms\tremaining: 12.1ms\n",
      "2:\tlearn: 22.1653306\ttotal: 11.6ms\tremaining: 7.71ms\n",
      "3:\tlearn: 21.7666859\ttotal: 15ms\tremaining: 3.76ms\n",
      "4:\tlearn: 20.7249287\ttotal: 18.3ms\tremaining: 0us\n",
      "0:\tlearn: 25.8433676\ttotal: 3.72ms\tremaining: 14.9ms\n",
      "1:\tlearn: 23.6561444\ttotal: 7.68ms\tremaining: 11.5ms\n",
      "2:\tlearn: 23.0107135\ttotal: 11.5ms\tremaining: 7.64ms\n",
      "3:\tlearn: 22.4293479\ttotal: 15.2ms\tremaining: 3.8ms\n",
      "4:\tlearn: 21.5348100\ttotal: 18.9ms\tremaining: 0us\n",
      "0:\tlearn: 19.2550010\ttotal: 2.88ms\tremaining: 14.4ms\n",
      "1:\tlearn: 16.4776843\ttotal: 5.32ms\tremaining: 10.6ms\n",
      "2:\tlearn: 14.7606146\ttotal: 7.92ms\tremaining: 7.92ms\n",
      "3:\tlearn: 13.7924132\ttotal: 10.4ms\tremaining: 5.19ms\n",
      "4:\tlearn: 12.9756796\ttotal: 12.6ms\tremaining: 2.52ms\n",
      "5:\tlearn: 12.3369681\ttotal: 14.9ms\tremaining: 0us\n",
      "0:\tlearn: 21.3372423\ttotal: 3.2ms\tremaining: 16ms\n",
      "1:\tlearn: 18.4207394\ttotal: 6.33ms\tremaining: 12.7ms\n",
      "2:\tlearn: 17.4843223\ttotal: 9.23ms\tremaining: 9.23ms\n",
      "3:\tlearn: 17.0431194\ttotal: 12.1ms\tremaining: 6.03ms\n",
      "4:\tlearn: 16.0685184\ttotal: 15ms\tremaining: 3ms\n",
      "5:\tlearn: 15.5831169\ttotal: 17.9ms\tremaining: 0us\n",
      "0:\tlearn: 20.7356869\ttotal: 3.34ms\tremaining: 16.7ms\n",
      "1:\tlearn: 18.8473539\ttotal: 6.67ms\tremaining: 13.4ms\n",
      "2:\tlearn: 17.6069010\ttotal: 9.94ms\tremaining: 9.94ms\n",
      "3:\tlearn: 16.8135832\ttotal: 13.2ms\tremaining: 6.59ms\n",
      "4:\tlearn: 16.1951928\ttotal: 16.4ms\tremaining: 3.28ms\n",
      "5:\tlearn: 15.8219292\ttotal: 19.5ms\tremaining: 0us\n",
      "0:\tlearn: 22.5848128\ttotal: 3.79ms\tremaining: 19ms\n",
      "1:\tlearn: 20.1022032\ttotal: 7.19ms\tremaining: 14.4ms\n",
      "2:\tlearn: 19.6320827\ttotal: 10.6ms\tremaining: 10.6ms\n",
      "3:\tlearn: 19.1077172\ttotal: 13.9ms\tremaining: 6.94ms\n",
      "4:\tlearn: 18.2183725\ttotal: 17.2ms\tremaining: 3.45ms\n",
      "5:\tlearn: 17.5165182\ttotal: 20.4ms\tremaining: 0us\n",
      "0:\tlearn: 23.1456872\ttotal: 3.23ms\tremaining: 16.2ms\n",
      "1:\tlearn: 20.7346340\ttotal: 6.58ms\tremaining: 13.2ms\n",
      "2:\tlearn: 19.9142697\ttotal: 9.65ms\tremaining: 9.65ms\n",
      "3:\tlearn: 18.9024733\ttotal: 13.1ms\tremaining: 6.55ms\n",
      "4:\tlearn: 18.0767417\ttotal: 16.3ms\tremaining: 3.25ms\n",
      "5:\tlearn: 17.4653567\ttotal: 19.5ms\tremaining: 0us\n",
      "0:\tlearn: 23.8504614\ttotal: 4ms\tremaining: 20ms\n",
      "1:\tlearn: 21.5500036\ttotal: 7.79ms\tremaining: 15.6ms\n",
      "2:\tlearn: 20.7282633\ttotal: 11.2ms\tremaining: 11.2ms\n",
      "3:\tlearn: 20.2864860\ttotal: 14.6ms\tremaining: 7.29ms\n",
      "4:\tlearn: 19.3203512\ttotal: 18.2ms\tremaining: 3.63ms\n",
      "5:\tlearn: 18.7036150\ttotal: 21.6ms\tremaining: 0us\n",
      "0:\tlearn: 23.4867374\ttotal: 3.5ms\tremaining: 17.5ms\n",
      "1:\tlearn: 22.0312062\ttotal: 6.95ms\tremaining: 13.9ms\n",
      "2:\tlearn: 21.0494428\ttotal: 10.1ms\tremaining: 10.1ms\n",
      "3:\tlearn: 20.6851932\ttotal: 13.3ms\tremaining: 6.63ms\n",
      "4:\tlearn: 19.7663272\ttotal: 16.6ms\tremaining: 3.32ms\n",
      "5:\tlearn: 19.3602233\ttotal: 20ms\tremaining: 0us\n",
      "0:\tlearn: 23.8935192\ttotal: 3.43ms\tremaining: 17.2ms\n",
      "1:\tlearn: 22.3130514\ttotal: 6.62ms\tremaining: 13.2ms\n",
      "2:\tlearn: 21.2679939\ttotal: 10.1ms\tremaining: 10.1ms\n",
      "3:\tlearn: 21.0140655\ttotal: 13.2ms\tremaining: 6.59ms\n",
      "4:\tlearn: 20.0375546\ttotal: 16.7ms\tremaining: 3.33ms\n",
      "5:\tlearn: 19.4910961\ttotal: 20ms\tremaining: 0us\n",
      "0:\tlearn: 24.7806245\ttotal: 3.46ms\tremaining: 17.3ms\n",
      "1:\tlearn: 22.7673989\ttotal: 6.81ms\tremaining: 13.6ms\n",
      "2:\tlearn: 22.1653306\ttotal: 9.85ms\tremaining: 9.85ms\n",
      "3:\tlearn: 21.7666859\ttotal: 13ms\tremaining: 6.52ms\n",
      "4:\tlearn: 20.7249287\ttotal: 16.2ms\tremaining: 3.25ms\n",
      "5:\tlearn: 20.0335830\ttotal: 19.8ms\tremaining: 0us\n",
      "0:\tlearn: 25.8433676\ttotal: 3.79ms\tremaining: 18.9ms\n",
      "1:\tlearn: 23.6561444\ttotal: 7.9ms\tremaining: 15.8ms\n",
      "2:\tlearn: 23.0107135\ttotal: 11.8ms\tremaining: 11.8ms\n",
      "3:\tlearn: 22.4293479\ttotal: 15.7ms\tremaining: 7.83ms\n",
      "4:\tlearn: 21.5348100\ttotal: 19.6ms\tremaining: 3.93ms\n",
      "5:\tlearn: 21.0596106\ttotal: 23.5ms\tremaining: 0us\n",
      "0:\tlearn: 19.2550010\ttotal: 2.44ms\tremaining: 14.6ms\n",
      "1:\tlearn: 16.4776843\ttotal: 4.69ms\tremaining: 11.7ms\n",
      "2:\tlearn: 14.7606146\ttotal: 6.77ms\tremaining: 9.03ms\n",
      "3:\tlearn: 13.7924132\ttotal: 8.89ms\tremaining: 6.67ms\n",
      "4:\tlearn: 12.9756796\ttotal: 10.9ms\tremaining: 4.36ms\n",
      "5:\tlearn: 12.3369681\ttotal: 13ms\tremaining: 2.16ms\n",
      "6:\tlearn: 11.1091570\ttotal: 15.1ms\tremaining: 0us\n",
      "0:\tlearn: 21.3372423\ttotal: 2.75ms\tremaining: 16.5ms\n",
      "1:\tlearn: 18.4207394\ttotal: 5.4ms\tremaining: 13.5ms\n",
      "2:\tlearn: 17.4843223\ttotal: 7.86ms\tremaining: 10.5ms\n",
      "3:\tlearn: 17.0431194\ttotal: 10.4ms\tremaining: 7.77ms\n",
      "4:\tlearn: 16.0685184\ttotal: 12.8ms\tremaining: 5.11ms\n",
      "5:\tlearn: 15.5831169\ttotal: 15.3ms\tremaining: 2.55ms\n",
      "6:\tlearn: 14.7062570\ttotal: 17.8ms\tremaining: 0us\n",
      "0:\tlearn: 20.7356869\ttotal: 2.94ms\tremaining: 17.6ms\n",
      "1:\tlearn: 18.8473539\ttotal: 5.8ms\tremaining: 14.5ms\n",
      "2:\tlearn: 17.6069010\ttotal: 8.44ms\tremaining: 11.2ms\n",
      "3:\tlearn: 16.8135832\ttotal: 11.1ms\tremaining: 8.34ms\n",
      "4:\tlearn: 16.1951928\ttotal: 13.7ms\tremaining: 5.48ms\n",
      "5:\tlearn: 15.8219292\ttotal: 16.2ms\tremaining: 2.71ms\n",
      "6:\tlearn: 15.3099108\ttotal: 18.7ms\tremaining: 0us\n",
      "0:\tlearn: 22.5848128\ttotal: 3.23ms\tremaining: 19.4ms\n",
      "1:\tlearn: 20.1022032\ttotal: 6.34ms\tremaining: 15.9ms\n",
      "2:\tlearn: 19.6320827\ttotal: 9.28ms\tremaining: 12.4ms\n",
      "3:\tlearn: 19.1077172\ttotal: 12.3ms\tremaining: 9.22ms\n",
      "4:\tlearn: 18.2183725\ttotal: 15.3ms\tremaining: 6.13ms\n",
      "5:\tlearn: 17.5165182\ttotal: 18.4ms\tremaining: 3.07ms\n",
      "6:\tlearn: 16.9158748\ttotal: 21.3ms\tremaining: 0us\n",
      "0:\tlearn: 23.1456872\ttotal: 3.31ms\tremaining: 19.9ms\n",
      "1:\tlearn: 20.7346340\ttotal: 6.48ms\tremaining: 16.2ms\n",
      "2:\tlearn: 19.9142697\ttotal: 9.37ms\tremaining: 12.5ms\n",
      "3:\tlearn: 18.9024733\ttotal: 12.3ms\tremaining: 9.24ms\n",
      "4:\tlearn: 18.0767417\ttotal: 15.2ms\tremaining: 6.06ms\n",
      "5:\tlearn: 17.4653567\ttotal: 18.3ms\tremaining: 3.05ms\n",
      "6:\tlearn: 16.9093250\ttotal: 21.1ms\tremaining: 0us\n",
      "0:\tlearn: 23.8504614\ttotal: 3.37ms\tremaining: 20.2ms\n",
      "1:\tlearn: 21.5500036\ttotal: 6.57ms\tremaining: 16.4ms\n",
      "2:\tlearn: 20.7282633\ttotal: 9.55ms\tremaining: 12.7ms\n",
      "3:\tlearn: 20.2864860\ttotal: 12.4ms\tremaining: 9.32ms\n",
      "4:\tlearn: 19.3203512\ttotal: 15.3ms\tremaining: 6.13ms\n",
      "5:\tlearn: 18.7036150\ttotal: 18.3ms\tremaining: 3.04ms\n",
      "6:\tlearn: 18.5259332\ttotal: 21.3ms\tremaining: 0us\n",
      "0:\tlearn: 23.4867374\ttotal: 3.63ms\tremaining: 21.8ms\n",
      "1:\tlearn: 22.0312062\ttotal: 7.41ms\tremaining: 18.5ms\n",
      "2:\tlearn: 21.0494428\ttotal: 10.8ms\tremaining: 14.4ms\n",
      "3:\tlearn: 20.6851932\ttotal: 14.3ms\tremaining: 10.7ms\n",
      "4:\tlearn: 19.7663272\ttotal: 17.8ms\tremaining: 7.14ms\n",
      "5:\tlearn: 19.3602233\ttotal: 21.4ms\tremaining: 3.56ms\n",
      "6:\tlearn: 18.8854679\ttotal: 24.7ms\tremaining: 0us\n",
      "0:\tlearn: 23.8935192\ttotal: 3.75ms\tremaining: 22.5ms\n",
      "1:\tlearn: 22.3130514\ttotal: 7.55ms\tremaining: 18.9ms\n",
      "2:\tlearn: 21.2679939\ttotal: 11.1ms\tremaining: 14.8ms\n",
      "3:\tlearn: 21.0140655\ttotal: 14.4ms\tremaining: 10.8ms\n",
      "4:\tlearn: 20.0375546\ttotal: 17.8ms\tremaining: 7.11ms\n",
      "5:\tlearn: 19.4910961\ttotal: 21.4ms\tremaining: 3.57ms\n",
      "6:\tlearn: 18.9943694\ttotal: 24.7ms\tremaining: 0us\n",
      "0:\tlearn: 24.7806245\ttotal: 3.57ms\tremaining: 21.4ms\n",
      "1:\tlearn: 22.7673989\ttotal: 7.23ms\tremaining: 18.1ms\n",
      "2:\tlearn: 22.1653306\ttotal: 10.4ms\tremaining: 13.8ms\n",
      "3:\tlearn: 21.7666859\ttotal: 13.6ms\tremaining: 10.2ms\n",
      "4:\tlearn: 20.7249287\ttotal: 17.1ms\tremaining: 6.83ms\n",
      "5:\tlearn: 20.0335830\ttotal: 20.3ms\tremaining: 3.39ms\n",
      "6:\tlearn: 19.5255463\ttotal: 24.3ms\tremaining: 0us\n",
      "0:\tlearn: 25.8433676\ttotal: 3.96ms\tremaining: 23.8ms\n",
      "1:\tlearn: 23.6561444\ttotal: 7.98ms\tremaining: 19.9ms\n",
      "2:\tlearn: 23.0107135\ttotal: 11.6ms\tremaining: 15.4ms\n",
      "3:\tlearn: 22.4293479\ttotal: 15.3ms\tremaining: 11.5ms\n",
      "4:\tlearn: 21.5348100\ttotal: 19ms\tremaining: 7.62ms\n",
      "5:\tlearn: 21.0596106\ttotal: 22.6ms\tremaining: 3.77ms\n",
      "6:\tlearn: 20.5324513\ttotal: 26ms\tremaining: 0us\n",
      "0:\tlearn: 19.2550010\ttotal: 2.33ms\tremaining: 16.3ms\n",
      "1:\tlearn: 16.4776843\ttotal: 4.6ms\tremaining: 13.8ms\n",
      "2:\tlearn: 14.7606146\ttotal: 7.76ms\tremaining: 12.9ms\n",
      "3:\tlearn: 13.7924132\ttotal: 10ms\tremaining: 10ms\n",
      "4:\tlearn: 12.9756796\ttotal: 12.1ms\tremaining: 7.29ms\n",
      "5:\tlearn: 12.3369681\ttotal: 14.2ms\tremaining: 4.74ms\n",
      "6:\tlearn: 11.1091570\ttotal: 16.3ms\tremaining: 2.33ms\n",
      "7:\tlearn: 10.0133666\ttotal: 18.4ms\tremaining: 0us\n",
      "0:\tlearn: 21.3372423\ttotal: 2.73ms\tremaining: 19.1ms\n",
      "1:\tlearn: 18.4207394\ttotal: 5.42ms\tremaining: 16.2ms\n",
      "2:\tlearn: 17.4843223\ttotal: 7.96ms\tremaining: 13.3ms\n",
      "3:\tlearn: 17.0431194\ttotal: 10.3ms\tremaining: 10.3ms\n",
      "4:\tlearn: 16.0685184\ttotal: 12.9ms\tremaining: 7.75ms\n",
      "5:\tlearn: 15.5831169\ttotal: 15.5ms\tremaining: 5.15ms\n",
      "6:\tlearn: 14.7062570\ttotal: 18ms\tremaining: 2.57ms\n",
      "7:\tlearn: 14.0920065\ttotal: 20.3ms\tremaining: 0us\n",
      "0:\tlearn: 20.7356869\ttotal: 3.17ms\tremaining: 22.2ms\n",
      "1:\tlearn: 18.8473539\ttotal: 6.04ms\tremaining: 18.1ms\n",
      "2:\tlearn: 17.6069010\ttotal: 8.6ms\tremaining: 14.3ms\n",
      "3:\tlearn: 16.8135832\ttotal: 11.3ms\tremaining: 11.3ms\n",
      "4:\tlearn: 16.1951928\ttotal: 13.8ms\tremaining: 8.26ms\n",
      "5:\tlearn: 15.8219292\ttotal: 16.2ms\tremaining: 5.41ms\n",
      "6:\tlearn: 15.3099108\ttotal: 18.8ms\tremaining: 2.68ms\n",
      "7:\tlearn: 14.8225037\ttotal: 21.4ms\tremaining: 0us\n",
      "0:\tlearn: 22.5848128\ttotal: 3.13ms\tremaining: 21.9ms\n",
      "1:\tlearn: 20.1022032\ttotal: 6.84ms\tremaining: 20.5ms\n",
      "2:\tlearn: 19.6320827\ttotal: 9.66ms\tremaining: 16.1ms\n",
      "3:\tlearn: 19.1077172\ttotal: 12.3ms\tremaining: 12.3ms\n",
      "4:\tlearn: 18.2183725\ttotal: 15ms\tremaining: 9.01ms\n",
      "5:\tlearn: 17.5165182\ttotal: 17.8ms\tremaining: 5.92ms\n",
      "6:\tlearn: 16.9158748\ttotal: 20.4ms\tremaining: 2.91ms\n",
      "7:\tlearn: 16.3663263\ttotal: 23.2ms\tremaining: 0us\n",
      "0:\tlearn: 23.1456872\ttotal: 3.23ms\tremaining: 22.6ms\n",
      "1:\tlearn: 20.7346340\ttotal: 6.34ms\tremaining: 19ms\n",
      "2:\tlearn: 19.9142697\ttotal: 9.2ms\tremaining: 15.3ms\n",
      "3:\tlearn: 18.9024733\ttotal: 12.1ms\tremaining: 12.1ms\n",
      "4:\tlearn: 18.0767417\ttotal: 14.9ms\tremaining: 8.96ms\n",
      "5:\tlearn: 17.4653567\ttotal: 17.9ms\tremaining: 5.97ms\n",
      "6:\tlearn: 16.9093250\ttotal: 20.8ms\tremaining: 2.96ms\n",
      "7:\tlearn: 16.5711208\ttotal: 23.8ms\tremaining: 0us\n",
      "0:\tlearn: 23.8504614\ttotal: 3.22ms\tremaining: 22.5ms\n",
      "1:\tlearn: 21.5500036\ttotal: 6.62ms\tremaining: 19.9ms\n",
      "2:\tlearn: 20.7282633\ttotal: 9.6ms\tremaining: 16ms\n",
      "3:\tlearn: 20.2864860\ttotal: 12.5ms\tremaining: 12.5ms\n",
      "4:\tlearn: 19.3203512\ttotal: 15.6ms\tremaining: 9.34ms\n",
      "5:\tlearn: 18.7036150\ttotal: 18.6ms\tremaining: 6.2ms\n",
      "6:\tlearn: 18.5259332\ttotal: 21.7ms\tremaining: 3.1ms\n",
      "7:\tlearn: 18.1132372\ttotal: 24.6ms\tremaining: 0us\n",
      "0:\tlearn: 23.4867374\ttotal: 3.27ms\tremaining: 22.9ms\n",
      "1:\tlearn: 22.0312062\ttotal: 6.58ms\tremaining: 19.7ms\n",
      "2:\tlearn: 21.0494428\ttotal: 9.61ms\tremaining: 16ms\n",
      "3:\tlearn: 20.6851932\ttotal: 12.7ms\tremaining: 12.7ms\n",
      "4:\tlearn: 19.7663272\ttotal: 15.8ms\tremaining: 9.49ms\n",
      "5:\tlearn: 19.3602233\ttotal: 18.9ms\tremaining: 6.3ms\n",
      "6:\tlearn: 18.8854679\ttotal: 21.9ms\tremaining: 3.13ms\n",
      "7:\tlearn: 18.4726353\ttotal: 25ms\tremaining: 0us\n",
      "0:\tlearn: 23.8935192\ttotal: 3.58ms\tremaining: 25.1ms\n",
      "1:\tlearn: 22.3130514\ttotal: 7.1ms\tremaining: 21.3ms\n",
      "2:\tlearn: 21.2679939\ttotal: 10.4ms\tremaining: 17.3ms\n",
      "3:\tlearn: 21.0140655\ttotal: 13.6ms\tremaining: 13.6ms\n",
      "4:\tlearn: 20.0375546\ttotal: 16.9ms\tremaining: 10.1ms\n",
      "5:\tlearn: 19.4910961\ttotal: 20.2ms\tremaining: 6.75ms\n",
      "6:\tlearn: 18.9943694\ttotal: 23.4ms\tremaining: 3.35ms\n",
      "7:\tlearn: 18.5717954\ttotal: 26.8ms\tremaining: 0us\n",
      "0:\tlearn: 24.7806245\ttotal: 4.11ms\tremaining: 28.8ms\n",
      "1:\tlearn: 22.7673989\ttotal: 7.85ms\tremaining: 23.5ms\n",
      "2:\tlearn: 22.1653306\ttotal: 12ms\tremaining: 20ms\n",
      "3:\tlearn: 21.7666859\ttotal: 16.6ms\tremaining: 16.6ms\n",
      "4:\tlearn: 20.7249287\ttotal: 22.8ms\tremaining: 13.7ms\n",
      "5:\tlearn: 20.0335830\ttotal: 28.7ms\tremaining: 9.55ms\n",
      "6:\tlearn: 19.5255463\ttotal: 34.3ms\tremaining: 4.9ms\n",
      "7:\tlearn: 19.3241300\ttotal: 38.3ms\tremaining: 0us\n",
      "0:\tlearn: 25.8433676\ttotal: 3.78ms\tremaining: 26.4ms\n",
      "1:\tlearn: 23.6561444\ttotal: 7.43ms\tremaining: 22.3ms\n",
      "2:\tlearn: 23.0107135\ttotal: 10.8ms\tremaining: 18ms\n",
      "3:\tlearn: 22.4293479\ttotal: 14.3ms\tremaining: 14.3ms\n",
      "4:\tlearn: 21.5348100\ttotal: 19.2ms\tremaining: 11.5ms\n",
      "5:\tlearn: 21.0596106\ttotal: 23.2ms\tremaining: 7.72ms\n",
      "6:\tlearn: 20.5324513\ttotal: 26.5ms\tremaining: 3.78ms\n",
      "7:\tlearn: 20.2327252\ttotal: 30.1ms\tremaining: 0us\n",
      "0:\tlearn: 19.2436826\ttotal: 6.31ms\tremaining: 0us\n",
      "0:\tlearn: 20.8150726\ttotal: 6.03ms\tremaining: 0us\n",
      "0:\tlearn: 20.4636551\ttotal: 6.07ms\tremaining: 0us\n",
      "0:\tlearn: 22.3351201\ttotal: 6.28ms\tremaining: 0us\n",
      "0:\tlearn: 22.8321375\ttotal: 6.22ms\tremaining: 0us\n",
      "0:\tlearn: 23.5473908\ttotal: 6.35ms\tremaining: 0us\n",
      "0:\tlearn: 23.4651003\ttotal: 5.95ms\tremaining: 0us\n",
      "0:\tlearn: 23.8464478\ttotal: 6.28ms\tremaining: 0us\n",
      "0:\tlearn: 24.7337102\ttotal: 6.27ms\tremaining: 0us\n",
      "0:\tlearn: 25.7393127\ttotal: 6.36ms\tremaining: 0us\n",
      "0:\tlearn: 19.2436826\ttotal: 4.3ms\tremaining: 4.3ms\n",
      "1:\tlearn: 16.1403745\ttotal: 8.49ms\tremaining: 0us\n",
      "0:\tlearn: 20.8150726\ttotal: 5.33ms\tremaining: 5.33ms\n",
      "1:\tlearn: 17.6578684\ttotal: 10.6ms\tremaining: 0us\n",
      "0:\tlearn: 20.4636551\ttotal: 5.16ms\tremaining: 5.16ms\n",
      "1:\tlearn: 17.8204146\ttotal: 10.5ms\tremaining: 0us\n",
      "0:\tlearn: 22.3351201\ttotal: 5.79ms\tremaining: 5.79ms\n",
      "1:\tlearn: 20.0764672\ttotal: 11.4ms\tremaining: 0us\n",
      "0:\tlearn: 22.8321375\ttotal: 5.78ms\tremaining: 5.78ms\n",
      "1:\tlearn: 20.6075587\ttotal: 11.5ms\tremaining: 0us\n",
      "0:\tlearn: 23.5473908\ttotal: 5.96ms\tremaining: 5.96ms\n",
      "1:\tlearn: 21.3560712\ttotal: 11.6ms\tremaining: 0us\n",
      "0:\tlearn: 23.4651003\ttotal: 6.33ms\tremaining: 6.33ms\n",
      "1:\tlearn: 21.2509850\ttotal: 12.1ms\tremaining: 0us\n",
      "0:\tlearn: 23.8464478\ttotal: 6.2ms\tremaining: 6.2ms\n",
      "1:\tlearn: 21.7822709\ttotal: 12ms\tremaining: 0us\n",
      "0:\tlearn: 24.7337102\ttotal: 8.97ms\tremaining: 8.97ms\n",
      "1:\tlearn: 22.6303839\ttotal: 15.8ms\tremaining: 0us\n",
      "0:\tlearn: 25.7393127\ttotal: 6.27ms\tremaining: 6.27ms\n",
      "1:\tlearn: 23.6592216\ttotal: 12.7ms\tremaining: 0us\n",
      "0:\tlearn: 19.2436826\ttotal: 4.42ms\tremaining: 8.84ms\n",
      "1:\tlearn: 16.1403745\ttotal: 8.65ms\tremaining: 4.33ms\n",
      "2:\tlearn: 14.0815110\ttotal: 12.6ms\tremaining: 0us\n",
      "0:\tlearn: 20.8150726\ttotal: 5.22ms\tremaining: 10.4ms\n",
      "1:\tlearn: 17.6578684\ttotal: 10.3ms\tremaining: 5.16ms\n",
      "2:\tlearn: 17.0675958\ttotal: 15.1ms\tremaining: 0us\n",
      "0:\tlearn: 20.4636551\ttotal: 4.96ms\tremaining: 9.93ms\n",
      "1:\tlearn: 17.8204146\ttotal: 9.81ms\tremaining: 4.91ms\n",
      "2:\tlearn: 16.7517186\ttotal: 14.5ms\tremaining: 0us\n",
      "0:\tlearn: 22.3351201\ttotal: 5.44ms\tremaining: 10.9ms\n",
      "1:\tlearn: 20.0764672\ttotal: 10.7ms\tremaining: 5.35ms\n",
      "2:\tlearn: 19.0399923\ttotal: 15.7ms\tremaining: 0us\n",
      "0:\tlearn: 22.8321375\ttotal: 5.81ms\tremaining: 11.6ms\n",
      "1:\tlearn: 20.6075587\ttotal: 11.4ms\tremaining: 5.7ms\n",
      "2:\tlearn: 19.6161471\ttotal: 16.8ms\tremaining: 0us\n",
      "0:\tlearn: 23.5473908\ttotal: 5.98ms\tremaining: 12ms\n",
      "1:\tlearn: 21.3560712\ttotal: 11.6ms\tremaining: 5.82ms\n",
      "2:\tlearn: 20.4865593\ttotal: 17.1ms\tremaining: 0us\n",
      "0:\tlearn: 23.4651003\ttotal: 6.1ms\tremaining: 12.2ms\n",
      "1:\tlearn: 21.2509850\ttotal: 12ms\tremaining: 6ms\n",
      "2:\tlearn: 20.3727007\ttotal: 18ms\tremaining: 0us\n",
      "0:\tlearn: 23.8464478\ttotal: 6.18ms\tremaining: 12.4ms\n",
      "1:\tlearn: 21.7822709\ttotal: 12ms\tremaining: 5.99ms\n",
      "2:\tlearn: 20.7742393\ttotal: 17.6ms\tremaining: 0us\n",
      "0:\tlearn: 24.7337102\ttotal: 6.38ms\tremaining: 12.8ms\n",
      "1:\tlearn: 22.6303839\ttotal: 13ms\tremaining: 6.5ms\n",
      "2:\tlearn: 21.9564293\ttotal: 19.8ms\tremaining: 0us\n",
      "0:\tlearn: 25.7393127\ttotal: 6.69ms\tremaining: 13.4ms\n",
      "1:\tlearn: 23.6592216\ttotal: 13.4ms\tremaining: 6.72ms\n",
      "2:\tlearn: 23.0341021\ttotal: 19.9ms\tremaining: 0us\n",
      "0:\tlearn: 19.2436826\ttotal: 4.19ms\tremaining: 12.6ms\n",
      "1:\tlearn: 16.1403745\ttotal: 8.26ms\tremaining: 8.26ms\n",
      "2:\tlearn: 14.0815110\ttotal: 12.1ms\tremaining: 4.04ms\n",
      "3:\tlearn: 12.4911014\ttotal: 15.8ms\tremaining: 0us\n",
      "0:\tlearn: 20.8150726\ttotal: 5.15ms\tremaining: 15.5ms\n",
      "1:\tlearn: 17.6578684\ttotal: 10.1ms\tremaining: 10.1ms\n",
      "2:\tlearn: 17.0675958\ttotal: 14.6ms\tremaining: 4.86ms\n",
      "3:\tlearn: 16.1805441\ttotal: 19.4ms\tremaining: 0us\n",
      "0:\tlearn: 20.4636551\ttotal: 5.23ms\tremaining: 15.7ms\n",
      "1:\tlearn: 17.8204146\ttotal: 10.3ms\tremaining: 10.3ms\n",
      "2:\tlearn: 16.7517186\ttotal: 15.8ms\tremaining: 5.27ms\n",
      "3:\tlearn: 15.7007339\ttotal: 20.5ms\tremaining: 0us\n",
      "0:\tlearn: 22.3351201\ttotal: 6.11ms\tremaining: 18.3ms\n",
      "1:\tlearn: 20.0764672\ttotal: 11.7ms\tremaining: 11.7ms\n",
      "2:\tlearn: 19.0399923\ttotal: 17.1ms\tremaining: 5.69ms\n",
      "3:\tlearn: 17.9758060\ttotal: 21.9ms\tremaining: 0us\n",
      "0:\tlearn: 22.8321375\ttotal: 5.78ms\tremaining: 17.3ms\n",
      "1:\tlearn: 20.6075587\ttotal: 11.4ms\tremaining: 11.4ms\n",
      "2:\tlearn: 19.6161471\ttotal: 17.4ms\tremaining: 5.79ms\n",
      "3:\tlearn: 18.5688925\ttotal: 23ms\tremaining: 0us\n",
      "0:\tlearn: 23.5473908\ttotal: 6.73ms\tremaining: 20.2ms\n",
      "1:\tlearn: 21.3560712\ttotal: 13.2ms\tremaining: 13.2ms\n",
      "2:\tlearn: 20.4865593\ttotal: 19.4ms\tremaining: 6.47ms\n",
      "3:\tlearn: 19.5611368\ttotal: 25.2ms\tremaining: 0us\n",
      "0:\tlearn: 23.4651003\ttotal: 6.18ms\tremaining: 18.5ms\n",
      "1:\tlearn: 21.2509850\ttotal: 12.1ms\tremaining: 12.1ms\n",
      "2:\tlearn: 20.3727007\ttotal: 17.9ms\tremaining: 5.98ms\n",
      "3:\tlearn: 20.0336394\ttotal: 23.7ms\tremaining: 0us\n",
      "0:\tlearn: 23.8464478\ttotal: 10.3ms\tremaining: 30.9ms\n",
      "1:\tlearn: 21.7822709\ttotal: 17.3ms\tremaining: 17.3ms\n",
      "2:\tlearn: 20.7742393\ttotal: 24.3ms\tremaining: 8.1ms\n",
      "3:\tlearn: 20.5292308\ttotal: 32ms\tremaining: 0us\n",
      "0:\tlearn: 24.7337102\ttotal: 6.09ms\tremaining: 18.3ms\n",
      "1:\tlearn: 22.6303839\ttotal: 13ms\tremaining: 13ms\n",
      "2:\tlearn: 21.9564293\ttotal: 19.2ms\tremaining: 6.38ms\n",
      "3:\tlearn: 20.9116543\ttotal: 25.2ms\tremaining: 0us\n",
      "0:\tlearn: 25.7393127\ttotal: 6.31ms\tremaining: 18.9ms\n",
      "1:\tlearn: 23.6592216\ttotal: 12.6ms\tremaining: 12.6ms\n",
      "2:\tlearn: 23.0341021\ttotal: 18.8ms\tremaining: 6.28ms\n",
      "3:\tlearn: 21.8626135\ttotal: 24.6ms\tremaining: 0us\n",
      "0:\tlearn: 19.2436826\ttotal: 4.24ms\tremaining: 17ms\n",
      "1:\tlearn: 16.1403745\ttotal: 8.24ms\tremaining: 12.4ms\n",
      "2:\tlearn: 14.0815110\ttotal: 12.1ms\tremaining: 8.07ms\n",
      "3:\tlearn: 12.4911014\ttotal: 16.3ms\tremaining: 4.07ms\n",
      "4:\tlearn: 11.4312809\ttotal: 20.4ms\tremaining: 0us\n",
      "0:\tlearn: 20.8150726\ttotal: 4.84ms\tremaining: 19.4ms\n",
      "1:\tlearn: 17.6578684\ttotal: 9.47ms\tremaining: 14.2ms\n",
      "2:\tlearn: 17.0675958\ttotal: 14.3ms\tremaining: 9.51ms\n",
      "3:\tlearn: 16.1805441\ttotal: 19ms\tremaining: 4.75ms\n",
      "4:\tlearn: 15.3356356\ttotal: 23.7ms\tremaining: 0us\n",
      "0:\tlearn: 20.4636551\ttotal: 5.42ms\tremaining: 21.7ms\n",
      "1:\tlearn: 17.8204146\ttotal: 10.6ms\tremaining: 15.8ms\n",
      "2:\tlearn: 16.7517186\ttotal: 15.6ms\tremaining: 10.4ms\n",
      "3:\tlearn: 15.7007339\ttotal: 20.3ms\tremaining: 5.07ms\n",
      "4:\tlearn: 15.2253953\ttotal: 25ms\tremaining: 0us\n",
      "0:\tlearn: 22.3351201\ttotal: 5.72ms\tremaining: 22.9ms\n",
      "1:\tlearn: 20.0764672\ttotal: 10.7ms\tremaining: 16ms\n",
      "2:\tlearn: 19.0399923\ttotal: 15.5ms\tremaining: 10.4ms\n",
      "3:\tlearn: 17.9758060\ttotal: 20.2ms\tremaining: 5.06ms\n",
      "4:\tlearn: 17.4583774\ttotal: 25.1ms\tremaining: 0us\n",
      "0:\tlearn: 22.8321375\ttotal: 5.57ms\tremaining: 22.3ms\n",
      "1:\tlearn: 20.6075587\ttotal: 10.8ms\tremaining: 16.2ms\n",
      "2:\tlearn: 19.6161471\ttotal: 16.2ms\tremaining: 10.8ms\n",
      "3:\tlearn: 18.5688925\ttotal: 21.2ms\tremaining: 5.29ms\n",
      "4:\tlearn: 17.9744384\ttotal: 26.8ms\tremaining: 0us\n",
      "0:\tlearn: 23.5473908\ttotal: 5.97ms\tremaining: 23.9ms\n",
      "1:\tlearn: 21.3560712\ttotal: 11.8ms\tremaining: 17.7ms\n",
      "2:\tlearn: 20.4865593\ttotal: 17.3ms\tremaining: 11.5ms\n",
      "3:\tlearn: 19.5611368\ttotal: 22.6ms\tremaining: 5.65ms\n",
      "4:\tlearn: 19.0062030\ttotal: 27.9ms\tremaining: 0us\n",
      "0:\tlearn: 23.4651003\ttotal: 6.06ms\tremaining: 24.2ms\n",
      "1:\tlearn: 21.2509850\ttotal: 12ms\tremaining: 18.1ms\n",
      "2:\tlearn: 20.3727007\ttotal: 17.9ms\tremaining: 11.9ms\n",
      "3:\tlearn: 20.0336394\ttotal: 23.7ms\tremaining: 5.93ms\n",
      "4:\tlearn: 19.5761603\ttotal: 29.6ms\tremaining: 0us\n",
      "0:\tlearn: 23.8464478\ttotal: 6.36ms\tremaining: 25.5ms\n",
      "1:\tlearn: 21.7822709\ttotal: 12.6ms\tremaining: 18.9ms\n",
      "2:\tlearn: 20.7742393\ttotal: 18.5ms\tremaining: 12.4ms\n",
      "3:\tlearn: 20.5292308\ttotal: 24.5ms\tremaining: 6.12ms\n",
      "4:\tlearn: 20.3314702\ttotal: 31.5ms\tremaining: 0us\n",
      "0:\tlearn: 24.7337102\ttotal: 7.49ms\tremaining: 30ms\n",
      "1:\tlearn: 22.6303839\ttotal: 14.6ms\tremaining: 21.8ms\n",
      "2:\tlearn: 21.9564293\ttotal: 21.5ms\tremaining: 14.3ms\n",
      "3:\tlearn: 20.9116543\ttotal: 28.2ms\tremaining: 7.05ms\n",
      "4:\tlearn: 20.4009395\ttotal: 34.9ms\tremaining: 0us\n",
      "0:\tlearn: 25.7393127\ttotal: 7.2ms\tremaining: 28.8ms\n",
      "1:\tlearn: 23.6592216\ttotal: 14.2ms\tremaining: 21.4ms\n",
      "2:\tlearn: 23.0341021\ttotal: 20.9ms\tremaining: 13.9ms\n",
      "3:\tlearn: 21.8626135\ttotal: 28ms\tremaining: 6.99ms\n",
      "4:\tlearn: 21.2788604\ttotal: 35ms\tremaining: 0us\n",
      "0:\tlearn: 19.2436826\ttotal: 4.82ms\tremaining: 24.1ms\n",
      "1:\tlearn: 16.1403745\ttotal: 9.59ms\tremaining: 19.2ms\n",
      "2:\tlearn: 14.0815110\ttotal: 14.1ms\tremaining: 14.1ms\n",
      "3:\tlearn: 12.4911014\ttotal: 18.5ms\tremaining: 9.24ms\n",
      "4:\tlearn: 11.4312809\ttotal: 23ms\tremaining: 4.6ms\n",
      "5:\tlearn: 10.7237810\ttotal: 27.5ms\tremaining: 0us\n",
      "0:\tlearn: 20.8150726\ttotal: 5.21ms\tremaining: 26.1ms\n",
      "1:\tlearn: 17.6578684\ttotal: 10.5ms\tremaining: 21ms\n",
      "2:\tlearn: 17.0675958\ttotal: 16.1ms\tremaining: 16.1ms\n",
      "3:\tlearn: 16.1805441\ttotal: 21.5ms\tremaining: 10.8ms\n",
      "4:\tlearn: 15.3356356\ttotal: 26.8ms\tremaining: 5.36ms\n",
      "5:\tlearn: 14.8002722\ttotal: 32ms\tremaining: 0us\n",
      "0:\tlearn: 20.4636551\ttotal: 6.09ms\tremaining: 30.4ms\n",
      "1:\tlearn: 17.8204146\ttotal: 11.6ms\tremaining: 23.1ms\n",
      "2:\tlearn: 16.7517186\ttotal: 17ms\tremaining: 17ms\n",
      "3:\tlearn: 15.7007339\ttotal: 22.6ms\tremaining: 11.3ms\n",
      "4:\tlearn: 15.2253953\ttotal: 28.3ms\tremaining: 5.66ms\n",
      "5:\tlearn: 14.5138558\ttotal: 33.6ms\tremaining: 0us\n",
      "0:\tlearn: 22.3351201\ttotal: 6.15ms\tremaining: 30.8ms\n",
      "1:\tlearn: 20.0764672\ttotal: 12.5ms\tremaining: 25ms\n",
      "2:\tlearn: 19.0399923\ttotal: 18.4ms\tremaining: 18.4ms\n",
      "3:\tlearn: 17.9758060\ttotal: 24ms\tremaining: 12ms\n",
      "4:\tlearn: 17.4583774\ttotal: 29.6ms\tremaining: 5.91ms\n",
      "5:\tlearn: 16.6904082\ttotal: 35.3ms\tremaining: 0us\n",
      "0:\tlearn: 22.8321375\ttotal: 6.82ms\tremaining: 34.1ms\n",
      "1:\tlearn: 20.6075587\ttotal: 13.4ms\tremaining: 26.8ms\n",
      "2:\tlearn: 19.6161471\ttotal: 20.1ms\tremaining: 20.1ms\n",
      "3:\tlearn: 18.5688925\ttotal: 26.5ms\tremaining: 13.3ms\n",
      "4:\tlearn: 17.9744384\ttotal: 33.1ms\tremaining: 6.61ms\n",
      "5:\tlearn: 17.5520708\ttotal: 39.7ms\tremaining: 0us\n",
      "0:\tlearn: 23.5473908\ttotal: 7.28ms\tremaining: 36.4ms\n",
      "1:\tlearn: 21.3560712\ttotal: 14.2ms\tremaining: 28.3ms\n",
      "2:\tlearn: 20.4865593\ttotal: 21.3ms\tremaining: 21.3ms\n",
      "3:\tlearn: 19.5611368\ttotal: 28.1ms\tremaining: 14.1ms\n",
      "4:\tlearn: 19.0062030\ttotal: 34.9ms\tremaining: 6.99ms\n",
      "5:\tlearn: 18.4317086\ttotal: 41.6ms\tremaining: 0us\n",
      "0:\tlearn: 23.4651003\ttotal: 9.14ms\tremaining: 45.7ms\n",
      "1:\tlearn: 21.2509850\ttotal: 17.6ms\tremaining: 35.2ms\n",
      "2:\tlearn: 20.3727007\ttotal: 24.9ms\tremaining: 24.9ms\n",
      "3:\tlearn: 20.0336394\ttotal: 32.3ms\tremaining: 16.2ms\n",
      "4:\tlearn: 19.5761603\ttotal: 38.7ms\tremaining: 7.74ms\n",
      "5:\tlearn: 18.9041215\ttotal: 45.7ms\tremaining: 0us\n",
      "0:\tlearn: 23.8464478\ttotal: 6.43ms\tremaining: 32.2ms\n",
      "1:\tlearn: 21.7822709\ttotal: 12.8ms\tremaining: 25.7ms\n",
      "2:\tlearn: 20.7742393\ttotal: 18.8ms\tremaining: 18.8ms\n",
      "3:\tlearn: 20.5292308\ttotal: 24.6ms\tremaining: 12.3ms\n",
      "4:\tlearn: 20.3314702\ttotal: 30.8ms\tremaining: 6.16ms\n",
      "5:\tlearn: 19.6944668\ttotal: 36.6ms\tremaining: 0us\n",
      "0:\tlearn: 24.7337102\ttotal: 6.28ms\tremaining: 31.4ms\n",
      "1:\tlearn: 22.6303839\ttotal: 12.5ms\tremaining: 25.1ms\n",
      "2:\tlearn: 21.9564293\ttotal: 18.4ms\tremaining: 18.4ms\n",
      "3:\tlearn: 20.9116543\ttotal: 24.5ms\tremaining: 12.3ms\n",
      "4:\tlearn: 20.4009395\ttotal: 30.4ms\tremaining: 6.07ms\n",
      "5:\tlearn: 20.0890464\ttotal: 36.3ms\tremaining: 0us\n",
      "0:\tlearn: 25.7393127\ttotal: 6.12ms\tremaining: 30.6ms\n",
      "1:\tlearn: 23.6592216\ttotal: 12.3ms\tremaining: 24.7ms\n",
      "2:\tlearn: 23.0341021\ttotal: 18.2ms\tremaining: 18.2ms\n",
      "3:\tlearn: 21.8626135\ttotal: 24.3ms\tremaining: 12.1ms\n",
      "4:\tlearn: 21.2788604\ttotal: 30.3ms\tremaining: 6.07ms\n",
      "5:\tlearn: 20.6562003\ttotal: 36.3ms\tremaining: 0us\n",
      "0:\tlearn: 19.2436826\ttotal: 4.23ms\tremaining: 25.4ms\n",
      "1:\tlearn: 16.1403745\ttotal: 8.28ms\tremaining: 20.7ms\n",
      "2:\tlearn: 14.0815110\ttotal: 12.3ms\tremaining: 16.3ms\n",
      "3:\tlearn: 12.4911014\ttotal: 16ms\tremaining: 12ms\n",
      "4:\tlearn: 11.4312809\ttotal: 19.8ms\tremaining: 7.91ms\n",
      "5:\tlearn: 10.7237810\ttotal: 23.5ms\tremaining: 3.92ms\n",
      "6:\tlearn: 9.6131260\ttotal: 27.6ms\tremaining: 0us\n",
      "0:\tlearn: 20.8150726\ttotal: 4.88ms\tremaining: 29.3ms\n",
      "1:\tlearn: 17.6578684\ttotal: 9.71ms\tremaining: 24.3ms\n",
      "2:\tlearn: 17.0675958\ttotal: 14.2ms\tremaining: 18.9ms\n",
      "3:\tlearn: 16.1805441\ttotal: 18.9ms\tremaining: 14.2ms\n",
      "4:\tlearn: 15.3356356\ttotal: 23.3ms\tremaining: 9.32ms\n",
      "5:\tlearn: 14.8002722\ttotal: 28.1ms\tremaining: 4.68ms\n",
      "6:\tlearn: 13.8492301\ttotal: 32.3ms\tremaining: 0us\n",
      "0:\tlearn: 20.4636551\ttotal: 5.27ms\tremaining: 31.6ms\n",
      "1:\tlearn: 17.8204146\ttotal: 10.4ms\tremaining: 26ms\n",
      "2:\tlearn: 16.7517186\ttotal: 15.3ms\tremaining: 20.4ms\n",
      "3:\tlearn: 15.7007339\ttotal: 20.3ms\tremaining: 15.2ms\n",
      "4:\tlearn: 15.2253953\ttotal: 24.9ms\tremaining: 9.98ms\n",
      "5:\tlearn: 14.5138558\ttotal: 29.4ms\tremaining: 4.91ms\n",
      "6:\tlearn: 13.9764531\ttotal: 34.1ms\tremaining: 0us\n",
      "0:\tlearn: 22.3351201\ttotal: 5.38ms\tremaining: 32.3ms\n",
      "1:\tlearn: 20.0764672\ttotal: 10.4ms\tremaining: 26ms\n",
      "2:\tlearn: 19.0399923\ttotal: 15.4ms\tremaining: 20.5ms\n",
      "3:\tlearn: 17.9758060\ttotal: 20.2ms\tremaining: 15.1ms\n",
      "4:\tlearn: 17.4583774\ttotal: 25ms\tremaining: 9.98ms\n",
      "5:\tlearn: 16.6904082\ttotal: 29.8ms\tremaining: 4.97ms\n",
      "6:\tlearn: 15.7016768\ttotal: 34.8ms\tremaining: 0us\n",
      "0:\tlearn: 22.8321375\ttotal: 5.7ms\tremaining: 34.2ms\n",
      "1:\tlearn: 20.6075587\ttotal: 11.1ms\tremaining: 27.7ms\n",
      "2:\tlearn: 19.6161471\ttotal: 16.2ms\tremaining: 21.6ms\n",
      "3:\tlearn: 18.5688925\ttotal: 21.1ms\tremaining: 15.8ms\n",
      "4:\tlearn: 17.9744384\ttotal: 26.2ms\tremaining: 10.5ms\n",
      "5:\tlearn: 17.5520708\ttotal: 31.2ms\tremaining: 5.2ms\n",
      "6:\tlearn: 16.7423520\ttotal: 36.1ms\tremaining: 0us\n",
      "0:\tlearn: 23.5473908\ttotal: 6.34ms\tremaining: 38.1ms\n",
      "1:\tlearn: 21.3560712\ttotal: 12.3ms\tremaining: 30.6ms\n",
      "2:\tlearn: 20.4865593\ttotal: 17.8ms\tremaining: 23.8ms\n",
      "3:\tlearn: 19.5611368\ttotal: 22.9ms\tremaining: 17.2ms\n",
      "4:\tlearn: 19.0062030\ttotal: 28.3ms\tremaining: 11.3ms\n",
      "5:\tlearn: 18.4317086\ttotal: 33.4ms\tremaining: 5.57ms\n",
      "6:\tlearn: 17.8035562\ttotal: 38.8ms\tremaining: 0us\n",
      "0:\tlearn: 23.4651003\ttotal: 6ms\tremaining: 36ms\n",
      "1:\tlearn: 21.2509850\ttotal: 11.8ms\tremaining: 29.5ms\n",
      "2:\tlearn: 20.3727007\ttotal: 17.6ms\tremaining: 23.5ms\n",
      "3:\tlearn: 20.0336394\ttotal: 23.2ms\tremaining: 17.4ms\n",
      "4:\tlearn: 19.5761603\ttotal: 28.9ms\tremaining: 11.5ms\n",
      "5:\tlearn: 18.9041215\ttotal: 34.2ms\tremaining: 5.71ms\n",
      "6:\tlearn: 18.2345951\ttotal: 39.9ms\tremaining: 0us\n",
      "0:\tlearn: 23.8464478\ttotal: 6.1ms\tremaining: 36.6ms\n",
      "1:\tlearn: 21.7822709\ttotal: 11.8ms\tremaining: 29.6ms\n",
      "2:\tlearn: 20.7742393\ttotal: 17.5ms\tremaining: 23.4ms\n",
      "3:\tlearn: 20.5292308\ttotal: 23.2ms\tremaining: 17.4ms\n",
      "4:\tlearn: 20.3314702\ttotal: 28.9ms\tremaining: 11.6ms\n",
      "5:\tlearn: 19.6944668\ttotal: 34.6ms\tremaining: 5.76ms\n",
      "6:\tlearn: 19.2347736\ttotal: 40.1ms\tremaining: 0us\n",
      "0:\tlearn: 24.7337102\ttotal: 8.79ms\tremaining: 52.8ms\n",
      "1:\tlearn: 22.6303839\ttotal: 15.6ms\tremaining: 39ms\n",
      "2:\tlearn: 21.9564293\ttotal: 21.6ms\tremaining: 28.8ms\n",
      "3:\tlearn: 20.9116543\ttotal: 27.9ms\tremaining: 20.9ms\n",
      "4:\tlearn: 20.4009395\ttotal: 33.8ms\tremaining: 13.5ms\n",
      "5:\tlearn: 20.0890464\ttotal: 39.7ms\tremaining: 6.61ms\n",
      "6:\tlearn: 19.7200439\ttotal: 46ms\tremaining: 0us\n",
      "0:\tlearn: 25.7393127\ttotal: 6.69ms\tremaining: 40.2ms\n",
      "1:\tlearn: 23.6592216\ttotal: 13.2ms\tremaining: 33.1ms\n",
      "2:\tlearn: 23.0341021\ttotal: 19.3ms\tremaining: 25.7ms\n",
      "3:\tlearn: 21.8626135\ttotal: 25.4ms\tremaining: 19.1ms\n",
      "4:\tlearn: 21.2788604\ttotal: 31.7ms\tremaining: 12.7ms\n",
      "5:\tlearn: 20.6562003\ttotal: 37.7ms\tremaining: 6.29ms\n",
      "6:\tlearn: 19.9775843\ttotal: 44ms\tremaining: 0us\n",
      "0:\tlearn: 19.2436826\ttotal: 4.37ms\tremaining: 30.6ms\n",
      "1:\tlearn: 16.1403745\ttotal: 8.45ms\tremaining: 25.4ms\n",
      "2:\tlearn: 14.0815110\ttotal: 12.3ms\tremaining: 20.5ms\n",
      "3:\tlearn: 12.4911014\ttotal: 16.1ms\tremaining: 16.1ms\n",
      "4:\tlearn: 11.4312809\ttotal: 19.8ms\tremaining: 11.9ms\n",
      "5:\tlearn: 10.7237810\ttotal: 23.5ms\tremaining: 7.83ms\n",
      "6:\tlearn: 9.6131260\ttotal: 27.4ms\tremaining: 3.91ms\n",
      "7:\tlearn: 8.8502374\ttotal: 31ms\tremaining: 0us\n",
      "0:\tlearn: 20.8150726\ttotal: 4.92ms\tremaining: 34.4ms\n",
      "1:\tlearn: 17.6578684\ttotal: 9.59ms\tremaining: 28.8ms\n",
      "2:\tlearn: 17.0675958\ttotal: 13.9ms\tremaining: 23.1ms\n",
      "3:\tlearn: 16.1805441\ttotal: 18.3ms\tremaining: 18.3ms\n",
      "4:\tlearn: 15.3356356\ttotal: 23.6ms\tremaining: 14.1ms\n",
      "5:\tlearn: 14.8002722\ttotal: 28.3ms\tremaining: 9.44ms\n",
      "6:\tlearn: 13.8492301\ttotal: 33ms\tremaining: 4.71ms\n",
      "7:\tlearn: 13.2665028\ttotal: 37.7ms\tremaining: 0us\n",
      "0:\tlearn: 20.4636551\ttotal: 5.29ms\tremaining: 37ms\n",
      "1:\tlearn: 17.8204146\ttotal: 10.3ms\tremaining: 30.8ms\n",
      "2:\tlearn: 16.7517186\ttotal: 15.1ms\tremaining: 25.1ms\n",
      "3:\tlearn: 15.7007339\ttotal: 19.7ms\tremaining: 19.7ms\n",
      "4:\tlearn: 15.2253953\ttotal: 24.5ms\tremaining: 14.7ms\n",
      "5:\tlearn: 14.5138558\ttotal: 29.2ms\tremaining: 9.75ms\n",
      "6:\tlearn: 13.9764531\ttotal: 33.8ms\tremaining: 4.82ms\n",
      "7:\tlearn: 13.4046002\ttotal: 38.4ms\tremaining: 0us\n",
      "0:\tlearn: 22.3351201\ttotal: 5.63ms\tremaining: 39.4ms\n",
      "1:\tlearn: 20.0764672\ttotal: 11.3ms\tremaining: 33.8ms\n",
      "2:\tlearn: 19.0399923\ttotal: 16.4ms\tremaining: 27.3ms\n",
      "3:\tlearn: 17.9758060\ttotal: 21.3ms\tremaining: 21.3ms\n",
      "4:\tlearn: 17.4583774\ttotal: 26.3ms\tremaining: 15.8ms\n",
      "5:\tlearn: 16.6904082\ttotal: 31.5ms\tremaining: 10.5ms\n",
      "6:\tlearn: 15.7016768\ttotal: 36.5ms\tremaining: 5.21ms\n",
      "7:\tlearn: 15.2050548\ttotal: 41.3ms\tremaining: 0us\n",
      "0:\tlearn: 22.8321375\ttotal: 6.01ms\tremaining: 42.1ms\n",
      "1:\tlearn: 20.6075587\ttotal: 12.2ms\tremaining: 36.6ms\n",
      "2:\tlearn: 19.6161471\ttotal: 17.9ms\tremaining: 29.8ms\n",
      "3:\tlearn: 18.5688925\ttotal: 23ms\tremaining: 23ms\n",
      "4:\tlearn: 17.9744384\ttotal: 28.2ms\tremaining: 16.9ms\n",
      "5:\tlearn: 17.5520708\ttotal: 33.5ms\tremaining: 11.2ms\n",
      "6:\tlearn: 16.7423520\ttotal: 38.7ms\tremaining: 5.53ms\n",
      "7:\tlearn: 15.7570396\ttotal: 44.1ms\tremaining: 0us\n",
      "0:\tlearn: 23.5473908\ttotal: 5.92ms\tremaining: 41.4ms\n",
      "1:\tlearn: 21.3560712\ttotal: 11.7ms\tremaining: 35.1ms\n",
      "2:\tlearn: 20.4865593\ttotal: 17.2ms\tremaining: 28.7ms\n",
      "3:\tlearn: 19.5611368\ttotal: 22.6ms\tremaining: 22.6ms\n",
      "4:\tlearn: 19.0062030\ttotal: 27.9ms\tremaining: 16.7ms\n",
      "5:\tlearn: 18.4317086\ttotal: 33.3ms\tremaining: 11.1ms\n",
      "6:\tlearn: 17.8035562\ttotal: 38.7ms\tremaining: 5.52ms\n",
      "7:\tlearn: 17.1319520\ttotal: 44.2ms\tremaining: 0us\n",
      "0:\tlearn: 23.4651003\ttotal: 6.05ms\tremaining: 42.4ms\n",
      "1:\tlearn: 21.2509850\ttotal: 11.8ms\tremaining: 35.4ms\n",
      "2:\tlearn: 20.3727007\ttotal: 17.5ms\tremaining: 29.2ms\n",
      "3:\tlearn: 20.0336394\ttotal: 23.2ms\tremaining: 23.2ms\n",
      "4:\tlearn: 19.5761603\ttotal: 29ms\tremaining: 17.4ms\n",
      "5:\tlearn: 18.9041215\ttotal: 34.9ms\tremaining: 11.6ms\n",
      "6:\tlearn: 18.2345951\ttotal: 40.7ms\tremaining: 5.81ms\n",
      "7:\tlearn: 17.8417222\ttotal: 46.2ms\tremaining: 0us\n",
      "0:\tlearn: 23.8464478\ttotal: 6.21ms\tremaining: 43.5ms\n",
      "1:\tlearn: 21.7822709\ttotal: 12.3ms\tremaining: 37ms\n",
      "2:\tlearn: 20.7742393\ttotal: 18.3ms\tremaining: 30.5ms\n",
      "3:\tlearn: 20.5292308\ttotal: 23.7ms\tremaining: 23.7ms\n",
      "4:\tlearn: 20.3314702\ttotal: 29.4ms\tremaining: 17.6ms\n",
      "5:\tlearn: 19.6944668\ttotal: 34.9ms\tremaining: 11.6ms\n",
      "6:\tlearn: 19.2347736\ttotal: 40.7ms\tremaining: 5.81ms\n",
      "7:\tlearn: 18.2017479\ttotal: 46.1ms\tremaining: 0us\n",
      "0:\tlearn: 24.7337102\ttotal: 6.38ms\tremaining: 44.6ms\n",
      "1:\tlearn: 22.6303839\ttotal: 13ms\tremaining: 38.9ms\n",
      "2:\tlearn: 21.9564293\ttotal: 19.3ms\tremaining: 32.2ms\n",
      "3:\tlearn: 20.9116543\ttotal: 26ms\tremaining: 26ms\n",
      "4:\tlearn: 20.4009395\ttotal: 32ms\tremaining: 19.2ms\n",
      "5:\tlearn: 20.0890464\ttotal: 38.2ms\tremaining: 12.7ms\n",
      "6:\tlearn: 19.7200439\ttotal: 44.4ms\tremaining: 6.34ms\n",
      "7:\tlearn: 19.0345445\ttotal: 50.4ms\tremaining: 0us\n",
      "0:\tlearn: 25.7393127\ttotal: 6.42ms\tremaining: 44.9ms\n",
      "1:\tlearn: 23.6592216\ttotal: 12.8ms\tremaining: 38.3ms\n",
      "2:\tlearn: 23.0341021\ttotal: 18.6ms\tremaining: 31ms\n",
      "3:\tlearn: 21.8626135\ttotal: 25.1ms\tremaining: 25.1ms\n",
      "4:\tlearn: 21.2788604\ttotal: 32ms\tremaining: 19.2ms\n",
      "5:\tlearn: 20.6562003\ttotal: 39.9ms\tremaining: 13.3ms\n",
      "6:\tlearn: 19.9775843\ttotal: 47.2ms\tremaining: 6.75ms\n",
      "7:\tlearn: 19.4708197\ttotal: 54.3ms\tremaining: 0us\n",
      "0:\tlearn: 19.4538292\ttotal: 12.3ms\tremaining: 0us\n",
      "0:\tlearn: 20.8803252\ttotal: 10.4ms\tremaining: 0us\n",
      "0:\tlearn: 19.8486502\ttotal: 10.1ms\tremaining: 0us\n",
      "0:\tlearn: 22.0945535\ttotal: 10.5ms\tremaining: 0us\n",
      "0:\tlearn: 22.2517294\ttotal: 10.8ms\tremaining: 0us\n",
      "0:\tlearn: 23.4474333\ttotal: 11.2ms\tremaining: 0us\n",
      "0:\tlearn: 23.4910829\ttotal: 12.3ms\tremaining: 0us\n",
      "0:\tlearn: 23.7649298\ttotal: 13.2ms\tremaining: 0us\n",
      "0:\tlearn: 24.5850555\ttotal: 12.9ms\tremaining: 0us\n",
      "0:\tlearn: 24.5317185\ttotal: 13.7ms\tremaining: 0us\n",
      "0:\tlearn: 19.4538292\ttotal: 8.92ms\tremaining: 8.92ms\n",
      "1:\tlearn: 15.8864931\ttotal: 17.2ms\tremaining: 0us\n",
      "0:\tlearn: 20.8803252\ttotal: 10.1ms\tremaining: 10.1ms\n",
      "1:\tlearn: 18.5502895\ttotal: 19.4ms\tremaining: 0us\n",
      "0:\tlearn: 19.8486502\ttotal: 10.5ms\tremaining: 10.5ms\n",
      "1:\tlearn: 18.0033947\ttotal: 20.6ms\tremaining: 0us\n",
      "0:\tlearn: 22.0945535\ttotal: 10.5ms\tremaining: 10.5ms\n",
      "1:\tlearn: 19.9603430\ttotal: 20.3ms\tremaining: 0us\n",
      "0:\tlearn: 22.2517294\ttotal: 11.9ms\tremaining: 11.9ms\n",
      "1:\tlearn: 20.1979368\ttotal: 22.8ms\tremaining: 0us\n",
      "0:\tlearn: 23.4474333\ttotal: 10.6ms\tremaining: 10.6ms\n",
      "1:\tlearn: 21.1377619\ttotal: 21ms\tremaining: 0us\n",
      "0:\tlearn: 23.4910829\ttotal: 11.6ms\tremaining: 11.6ms\n",
      "1:\tlearn: 21.0440373\ttotal: 22.3ms\tremaining: 0us\n",
      "0:\tlearn: 23.7649298\ttotal: 13.6ms\tremaining: 13.6ms\n",
      "1:\tlearn: 21.7325210\ttotal: 26.8ms\tremaining: 0us\n",
      "0:\tlearn: 24.5850555\ttotal: 12.2ms\tremaining: 12.2ms\n",
      "1:\tlearn: 22.5997862\ttotal: 23.7ms\tremaining: 0us\n",
      "0:\tlearn: 24.5317185\ttotal: 12.7ms\tremaining: 12.7ms\n",
      "1:\tlearn: 22.7571501\ttotal: 25.2ms\tremaining: 0us\n",
      "0:\tlearn: 19.4538292\ttotal: 9.32ms\tremaining: 18.6ms\n",
      "1:\tlearn: 15.8864931\ttotal: 16.7ms\tremaining: 8.36ms\n",
      "2:\tlearn: 14.1879872\ttotal: 24.1ms\tremaining: 0us\n",
      "0:\tlearn: 20.8803252\ttotal: 9.19ms\tremaining: 18.4ms\n",
      "1:\tlearn: 18.5502895\ttotal: 17.9ms\tremaining: 8.94ms\n",
      "2:\tlearn: 16.5594235\ttotal: 26.6ms\tremaining: 0us\n",
      "0:\tlearn: 19.8486502\ttotal: 10.5ms\tremaining: 21.1ms\n",
      "1:\tlearn: 18.0033947\ttotal: 20.8ms\tremaining: 10.4ms\n",
      "2:\tlearn: 16.5136784\ttotal: 30.5ms\tremaining: 0us\n",
      "0:\tlearn: 22.0945535\ttotal: 10.6ms\tremaining: 21.2ms\n",
      "1:\tlearn: 19.9603430\ttotal: 20.7ms\tremaining: 10.4ms\n",
      "2:\tlearn: 18.1725959\ttotal: 30.8ms\tremaining: 0us\n",
      "0:\tlearn: 22.2517294\ttotal: 11.3ms\tremaining: 22.5ms\n",
      "1:\tlearn: 20.1979368\ttotal: 21.9ms\tremaining: 10.9ms\n",
      "2:\tlearn: 18.9445187\ttotal: 32.9ms\tremaining: 0us\n",
      "0:\tlearn: 23.4474333\ttotal: 11.4ms\tremaining: 22.8ms\n",
      "1:\tlearn: 21.1377619\ttotal: 22.2ms\tremaining: 11.1ms\n",
      "2:\tlearn: 19.8846015\ttotal: 33.2ms\tremaining: 0us\n",
      "0:\tlearn: 23.4910829\ttotal: 11.5ms\tremaining: 23ms\n",
      "1:\tlearn: 21.0440373\ttotal: 22.8ms\tremaining: 11.4ms\n",
      "2:\tlearn: 20.0856334\ttotal: 33.9ms\tremaining: 0us\n",
      "0:\tlearn: 23.7649298\ttotal: 11.8ms\tremaining: 23.7ms\n",
      "1:\tlearn: 21.7325210\ttotal: 22.8ms\tremaining: 11.4ms\n",
      "2:\tlearn: 20.4548522\ttotal: 34ms\tremaining: 0us\n",
      "0:\tlearn: 24.5850555\ttotal: 12.2ms\tremaining: 24.3ms\n",
      "1:\tlearn: 22.5997862\ttotal: 23.6ms\tremaining: 11.8ms\n",
      "2:\tlearn: 21.3671526\ttotal: 35.6ms\tremaining: 0us\n",
      "0:\tlearn: 24.5317185\ttotal: 12.3ms\tremaining: 24.6ms\n",
      "1:\tlearn: 22.7571501\ttotal: 24ms\tremaining: 12ms\n",
      "2:\tlearn: 21.3211368\ttotal: 35.9ms\tremaining: 0us\n",
      "0:\tlearn: 19.4538292\ttotal: 8.59ms\tremaining: 25.8ms\n",
      "1:\tlearn: 15.8864931\ttotal: 16.6ms\tremaining: 16.6ms\n",
      "2:\tlearn: 14.1879872\ttotal: 24.3ms\tremaining: 8.11ms\n",
      "3:\tlearn: 12.7905018\ttotal: 32.1ms\tremaining: 0us\n",
      "0:\tlearn: 20.8803252\ttotal: 9.64ms\tremaining: 28.9ms\n",
      "1:\tlearn: 18.5502895\ttotal: 19ms\tremaining: 19ms\n",
      "2:\tlearn: 16.5594235\ttotal: 28.3ms\tremaining: 9.43ms\n",
      "3:\tlearn: 15.1743450\ttotal: 37.3ms\tremaining: 0us\n",
      "0:\tlearn: 19.8486502\ttotal: 10.8ms\tremaining: 32.5ms\n",
      "1:\tlearn: 18.0033947\ttotal: 20.1ms\tremaining: 20.1ms\n",
      "2:\tlearn: 16.5136784\ttotal: 29.3ms\tremaining: 9.77ms\n",
      "3:\tlearn: 15.3456937\ttotal: 38.3ms\tremaining: 0us\n",
      "0:\tlearn: 22.0945535\ttotal: 11.5ms\tremaining: 34.4ms\n",
      "1:\tlearn: 19.9603430\ttotal: 23.8ms\tremaining: 23.8ms\n",
      "2:\tlearn: 18.1725959\ttotal: 36.5ms\tremaining: 12.2ms\n",
      "3:\tlearn: 17.4052891\ttotal: 46.3ms\tremaining: 0us\n",
      "0:\tlearn: 22.2517294\ttotal: 10.6ms\tremaining: 31.7ms\n",
      "1:\tlearn: 20.1979368\ttotal: 20.8ms\tremaining: 20.8ms\n",
      "2:\tlearn: 18.9445187\ttotal: 31.3ms\tremaining: 10.4ms\n",
      "3:\tlearn: 18.3687500\ttotal: 41.5ms\tremaining: 0us\n",
      "0:\tlearn: 23.4474333\ttotal: 11ms\tremaining: 32.9ms\n",
      "1:\tlearn: 21.1377619\ttotal: 21.5ms\tremaining: 21.5ms\n",
      "2:\tlearn: 19.8846015\ttotal: 31.8ms\tremaining: 10.6ms\n",
      "3:\tlearn: 19.1787812\ttotal: 42.2ms\tremaining: 0us\n",
      "0:\tlearn: 23.4910829\ttotal: 11.3ms\tremaining: 33.8ms\n",
      "1:\tlearn: 21.0440373\ttotal: 22.3ms\tremaining: 22.3ms\n",
      "2:\tlearn: 20.0856334\ttotal: 33.5ms\tremaining: 11.2ms\n",
      "3:\tlearn: 19.3620204\ttotal: 44.2ms\tremaining: 0us\n",
      "0:\tlearn: 23.7649298\ttotal: 11.9ms\tremaining: 35.8ms\n",
      "1:\tlearn: 21.7325210\ttotal: 22.9ms\tremaining: 22.9ms\n",
      "2:\tlearn: 20.4548522\ttotal: 34.1ms\tremaining: 11.4ms\n",
      "3:\tlearn: 19.3900118\ttotal: 45ms\tremaining: 0us\n",
      "0:\tlearn: 24.5850555\ttotal: 12.5ms\tremaining: 37.5ms\n",
      "1:\tlearn: 22.5997862\ttotal: 25ms\tremaining: 25ms\n",
      "2:\tlearn: 21.3671526\ttotal: 37.8ms\tremaining: 12.6ms\n",
      "3:\tlearn: 20.9253798\ttotal: 50.3ms\tremaining: 0us\n",
      "0:\tlearn: 24.5317185\ttotal: 12.3ms\tremaining: 36.8ms\n",
      "1:\tlearn: 22.7571501\ttotal: 24ms\tremaining: 24ms\n",
      "2:\tlearn: 21.3211368\ttotal: 35.8ms\tremaining: 11.9ms\n",
      "3:\tlearn: 20.5532766\ttotal: 47.5ms\tremaining: 0us\n",
      "0:\tlearn: 19.4538292\ttotal: 7.82ms\tremaining: 31.3ms\n",
      "1:\tlearn: 15.8864931\ttotal: 15.3ms\tremaining: 23ms\n",
      "2:\tlearn: 14.1879872\ttotal: 22.7ms\tremaining: 15.1ms\n",
      "3:\tlearn: 12.7905018\ttotal: 29.8ms\tremaining: 7.46ms\n",
      "4:\tlearn: 11.2903404\ttotal: 37.5ms\tremaining: 0us\n",
      "0:\tlearn: 20.8803252\ttotal: 8.93ms\tremaining: 35.7ms\n",
      "1:\tlearn: 18.5502895\ttotal: 17.7ms\tremaining: 26.5ms\n",
      "2:\tlearn: 16.5594235\ttotal: 26.5ms\tremaining: 17.7ms\n",
      "3:\tlearn: 15.1743450\ttotal: 35.3ms\tremaining: 8.82ms\n",
      "4:\tlearn: 14.4718143\ttotal: 44.2ms\tremaining: 0us\n",
      "0:\tlearn: 19.8486502\ttotal: 9.93ms\tremaining: 39.7ms\n",
      "1:\tlearn: 18.0033947\ttotal: 19.4ms\tremaining: 29ms\n",
      "2:\tlearn: 16.5136784\ttotal: 28.6ms\tremaining: 19.1ms\n",
      "3:\tlearn: 15.3456937\ttotal: 37.7ms\tremaining: 9.43ms\n",
      "4:\tlearn: 14.3927571\ttotal: 47.2ms\tremaining: 0us\n",
      "0:\tlearn: 22.0945535\ttotal: 10.5ms\tremaining: 41.9ms\n",
      "1:\tlearn: 19.9603430\ttotal: 20.2ms\tremaining: 30.4ms\n",
      "2:\tlearn: 18.1725959\ttotal: 30.3ms\tremaining: 20.2ms\n",
      "3:\tlearn: 17.4052891\ttotal: 40.1ms\tremaining: 10ms\n",
      "4:\tlearn: 16.6251281\ttotal: 50.4ms\tremaining: 0us\n",
      "0:\tlearn: 22.2517294\ttotal: 11.4ms\tremaining: 45.5ms\n",
      "1:\tlearn: 20.1979368\ttotal: 22.1ms\tremaining: 33.1ms\n",
      "2:\tlearn: 18.9445187\ttotal: 33.4ms\tremaining: 22.2ms\n",
      "3:\tlearn: 18.3687500\ttotal: 43.5ms\tremaining: 10.9ms\n",
      "4:\tlearn: 17.2802673\ttotal: 54.4ms\tremaining: 0us\n",
      "0:\tlearn: 23.4474333\ttotal: 12.1ms\tremaining: 48.5ms\n",
      "1:\tlearn: 21.1377619\ttotal: 23.8ms\tremaining: 35.7ms\n",
      "2:\tlearn: 19.8846015\ttotal: 35.6ms\tremaining: 23.7ms\n",
      "3:\tlearn: 19.1787812\ttotal: 48.1ms\tremaining: 12ms\n",
      "4:\tlearn: 18.6040931\ttotal: 60.7ms\tremaining: 0us\n",
      "0:\tlearn: 23.4910829\ttotal: 12.4ms\tremaining: 49.4ms\n",
      "1:\tlearn: 21.0440373\ttotal: 23.5ms\tremaining: 35.3ms\n",
      "2:\tlearn: 20.0856334\ttotal: 34.8ms\tremaining: 23.2ms\n",
      "3:\tlearn: 19.3620204\ttotal: 45.7ms\tremaining: 11.4ms\n",
      "4:\tlearn: 18.3556213\ttotal: 57.3ms\tremaining: 0us\n",
      "0:\tlearn: 23.7649298\ttotal: 12.7ms\tremaining: 50.8ms\n",
      "1:\tlearn: 21.7325210\ttotal: 24.1ms\tremaining: 36.1ms\n",
      "2:\tlearn: 20.4548522\ttotal: 35.2ms\tremaining: 23.5ms\n",
      "3:\tlearn: 19.3900118\ttotal: 46.9ms\tremaining: 11.7ms\n",
      "4:\tlearn: 18.6873310\ttotal: 59ms\tremaining: 0us\n",
      "0:\tlearn: 24.5850555\ttotal: 12.1ms\tremaining: 48.3ms\n",
      "1:\tlearn: 22.5997862\ttotal: 23.8ms\tremaining: 35.7ms\n",
      "2:\tlearn: 21.3671526\ttotal: 35.2ms\tremaining: 23.5ms\n",
      "3:\tlearn: 20.9253798\ttotal: 46.5ms\tremaining: 11.6ms\n",
      "4:\tlearn: 19.8608791\ttotal: 58.5ms\tremaining: 0us\n",
      "0:\tlearn: 24.5317185\ttotal: 12.2ms\tremaining: 48.7ms\n",
      "1:\tlearn: 22.7571501\ttotal: 25.5ms\tremaining: 38.3ms\n",
      "2:\tlearn: 21.3211368\ttotal: 37.7ms\tremaining: 25.1ms\n",
      "3:\tlearn: 20.5532766\ttotal: 49.1ms\tremaining: 12.3ms\n",
      "4:\tlearn: 19.6831450\ttotal: 61.1ms\tremaining: 0us\n",
      "0:\tlearn: 19.4538292\ttotal: 7.77ms\tremaining: 38.9ms\n",
      "1:\tlearn: 15.8864931\ttotal: 15.3ms\tremaining: 30.7ms\n",
      "2:\tlearn: 14.1879872\ttotal: 23ms\tremaining: 23ms\n",
      "3:\tlearn: 12.7905018\ttotal: 30.2ms\tremaining: 15.1ms\n",
      "4:\tlearn: 11.2903404\ttotal: 37.8ms\tremaining: 7.56ms\n",
      "5:\tlearn: 9.9647642\ttotal: 45ms\tremaining: 0us\n",
      "0:\tlearn: 20.8803252\ttotal: 9.49ms\tremaining: 47.4ms\n",
      "1:\tlearn: 18.5502895\ttotal: 18.7ms\tremaining: 37.4ms\n",
      "2:\tlearn: 16.5594235\ttotal: 28.9ms\tremaining: 28.9ms\n",
      "3:\tlearn: 15.1743450\ttotal: 38ms\tremaining: 19ms\n",
      "4:\tlearn: 14.4718143\ttotal: 47.5ms\tremaining: 9.5ms\n",
      "5:\tlearn: 13.5409108\ttotal: 56.3ms\tremaining: 0us\n",
      "0:\tlearn: 19.8486502\ttotal: 10.2ms\tremaining: 51.1ms\n",
      "1:\tlearn: 18.0033947\ttotal: 19.7ms\tremaining: 39.5ms\n",
      "2:\tlearn: 16.5136784\ttotal: 29.1ms\tremaining: 29.1ms\n",
      "3:\tlearn: 15.3456937\ttotal: 38.3ms\tremaining: 19.2ms\n",
      "4:\tlearn: 14.3927571\ttotal: 48.1ms\tremaining: 9.61ms\n",
      "5:\tlearn: 13.6223986\ttotal: 57.6ms\tremaining: 0us\n",
      "0:\tlearn: 22.0945535\ttotal: 10.8ms\tremaining: 53.9ms\n",
      "1:\tlearn: 19.9603430\ttotal: 20.4ms\tremaining: 40.8ms\n",
      "2:\tlearn: 18.1725959\ttotal: 30.1ms\tremaining: 30.1ms\n",
      "3:\tlearn: 17.4052891\ttotal: 40ms\tremaining: 20ms\n",
      "4:\tlearn: 16.6251281\ttotal: 50.4ms\tremaining: 10.1ms\n",
      "5:\tlearn: 15.7892240\ttotal: 61ms\tremaining: 0us\n",
      "0:\tlearn: 22.2517294\ttotal: 11.6ms\tremaining: 58ms\n",
      "1:\tlearn: 20.1979368\ttotal: 22.4ms\tremaining: 44.8ms\n",
      "2:\tlearn: 18.9445187\ttotal: 33.6ms\tremaining: 33.6ms\n",
      "3:\tlearn: 18.3687500\ttotal: 44.2ms\tremaining: 22.1ms\n",
      "4:\tlearn: 17.2802673\ttotal: 55.6ms\tremaining: 11.1ms\n",
      "5:\tlearn: 16.5189384\ttotal: 66.3ms\tremaining: 0us\n",
      "0:\tlearn: 23.4474333\ttotal: 11.2ms\tremaining: 56.2ms\n",
      "1:\tlearn: 21.1377619\ttotal: 21.4ms\tremaining: 42.9ms\n",
      "2:\tlearn: 19.8846015\ttotal: 31.7ms\tremaining: 31.7ms\n",
      "3:\tlearn: 19.1787812\ttotal: 42.2ms\tremaining: 21.1ms\n",
      "4:\tlearn: 18.6040931\ttotal: 52.5ms\tremaining: 10.5ms\n",
      "5:\tlearn: 18.1019193\ttotal: 63.1ms\tremaining: 0us\n",
      "0:\tlearn: 23.4910829\ttotal: 11.2ms\tremaining: 56.2ms\n",
      "1:\tlearn: 21.0440373\ttotal: 21.9ms\tremaining: 43.8ms\n",
      "2:\tlearn: 20.0856334\ttotal: 32.9ms\tremaining: 32.9ms\n",
      "3:\tlearn: 19.3620204\ttotal: 43.6ms\tremaining: 21.8ms\n",
      "4:\tlearn: 18.3556213\ttotal: 54.7ms\tremaining: 10.9ms\n",
      "5:\tlearn: 17.7917311\ttotal: 65.5ms\tremaining: 0us\n",
      "0:\tlearn: 23.7649298\ttotal: 11.9ms\tremaining: 59.4ms\n",
      "1:\tlearn: 21.7325210\ttotal: 22.8ms\tremaining: 45.7ms\n",
      "2:\tlearn: 20.4548522\ttotal: 33.7ms\tremaining: 33.7ms\n",
      "3:\tlearn: 19.3900118\ttotal: 44.7ms\tremaining: 22.4ms\n",
      "4:\tlearn: 18.6873310\ttotal: 56.2ms\tremaining: 11.2ms\n",
      "5:\tlearn: 18.0024258\ttotal: 67.6ms\tremaining: 0us\n",
      "0:\tlearn: 24.5850555\ttotal: 11.9ms\tremaining: 59.7ms\n",
      "1:\tlearn: 22.5997862\ttotal: 23.6ms\tremaining: 47.3ms\n",
      "2:\tlearn: 21.3671526\ttotal: 35.2ms\tremaining: 35.2ms\n",
      "3:\tlearn: 20.9253798\ttotal: 46.7ms\tremaining: 23.4ms\n",
      "4:\tlearn: 19.8608791\ttotal: 58.4ms\tremaining: 11.7ms\n",
      "5:\tlearn: 19.1540603\ttotal: 69.6ms\tremaining: 0us\n",
      "0:\tlearn: 24.5317185\ttotal: 12.1ms\tremaining: 60.7ms\n",
      "1:\tlearn: 22.7571501\ttotal: 23.7ms\tremaining: 47.5ms\n",
      "2:\tlearn: 21.3211368\ttotal: 35.5ms\tremaining: 35.5ms\n",
      "3:\tlearn: 20.5532766\ttotal: 46.9ms\tremaining: 23.4ms\n",
      "4:\tlearn: 19.6831450\ttotal: 58.8ms\tremaining: 11.8ms\n",
      "5:\tlearn: 19.0960373\ttotal: 70.5ms\tremaining: 0us\n",
      "0:\tlearn: 19.4538292\ttotal: 10.7ms\tremaining: 64.1ms\n",
      "1:\tlearn: 15.8864931\ttotal: 19.3ms\tremaining: 48.2ms\n",
      "2:\tlearn: 14.1879872\ttotal: 27.1ms\tremaining: 36.1ms\n",
      "3:\tlearn: 12.7905018\ttotal: 34.9ms\tremaining: 26.2ms\n",
      "4:\tlearn: 11.2903404\ttotal: 43.2ms\tremaining: 17.3ms\n",
      "5:\tlearn: 9.9647642\ttotal: 51.2ms\tremaining: 8.53ms\n",
      "6:\tlearn: 9.1365561\ttotal: 59.3ms\tremaining: 0us\n",
      "0:\tlearn: 20.8803252\ttotal: 9.26ms\tremaining: 55.5ms\n",
      "1:\tlearn: 18.5502895\ttotal: 18ms\tremaining: 45.1ms\n",
      "2:\tlearn: 16.5594235\ttotal: 26.8ms\tremaining: 35.7ms\n",
      "3:\tlearn: 15.1743450\ttotal: 35.1ms\tremaining: 26.3ms\n",
      "4:\tlearn: 14.4718143\ttotal: 43.9ms\tremaining: 17.5ms\n",
      "5:\tlearn: 13.5409108\ttotal: 52.8ms\tremaining: 8.79ms\n",
      "6:\tlearn: 12.7254542\ttotal: 61.4ms\tremaining: 0us\n",
      "0:\tlearn: 19.8486502\ttotal: 10.2ms\tremaining: 61.3ms\n",
      "1:\tlearn: 18.0033947\ttotal: 19.4ms\tremaining: 48.4ms\n",
      "2:\tlearn: 16.5136784\ttotal: 28.6ms\tremaining: 38.1ms\n",
      "3:\tlearn: 15.3456937\ttotal: 38ms\tremaining: 28.5ms\n",
      "4:\tlearn: 14.3927571\ttotal: 47.6ms\tremaining: 19ms\n",
      "5:\tlearn: 13.6223986\ttotal: 57.1ms\tremaining: 9.51ms\n",
      "6:\tlearn: 12.7742435\ttotal: 66.7ms\tremaining: 0us\n",
      "0:\tlearn: 22.0945535\ttotal: 10.5ms\tremaining: 62.9ms\n",
      "1:\tlearn: 19.9603430\ttotal: 20.7ms\tremaining: 51.7ms\n",
      "2:\tlearn: 18.1725959\ttotal: 30.5ms\tremaining: 40.7ms\n",
      "3:\tlearn: 17.4052891\ttotal: 40.5ms\tremaining: 30.3ms\n",
      "4:\tlearn: 16.6251281\ttotal: 50.6ms\tremaining: 20.3ms\n",
      "5:\tlearn: 15.7892240\ttotal: 60.9ms\tremaining: 10.1ms\n",
      "6:\tlearn: 14.8151019\ttotal: 70.6ms\tremaining: 0us\n",
      "0:\tlearn: 22.2517294\ttotal: 11.1ms\tremaining: 66.6ms\n",
      "1:\tlearn: 20.1979368\ttotal: 21.4ms\tremaining: 53.6ms\n",
      "2:\tlearn: 18.9445187\ttotal: 31.8ms\tremaining: 42.4ms\n",
      "3:\tlearn: 18.3687500\ttotal: 41.7ms\tremaining: 31.3ms\n",
      "4:\tlearn: 17.2802673\ttotal: 52.5ms\tremaining: 21ms\n",
      "5:\tlearn: 16.5189384\ttotal: 63.5ms\tremaining: 10.6ms\n",
      "6:\tlearn: 15.9225855\ttotal: 73.7ms\tremaining: 0us\n",
      "0:\tlearn: 23.4474333\ttotal: 10.6ms\tremaining: 63.8ms\n",
      "1:\tlearn: 21.1377619\ttotal: 23.9ms\tremaining: 59.7ms\n",
      "2:\tlearn: 19.8846015\ttotal: 34.7ms\tremaining: 46.2ms\n",
      "3:\tlearn: 19.1787812\ttotal: 45.5ms\tremaining: 34.1ms\n",
      "4:\tlearn: 18.6040931\ttotal: 56.2ms\tremaining: 22.5ms\n",
      "5:\tlearn: 18.1019193\ttotal: 66.8ms\tremaining: 11.1ms\n",
      "6:\tlearn: 17.2090412\ttotal: 79.6ms\tremaining: 0us\n",
      "0:\tlearn: 23.4910829\ttotal: 12.6ms\tremaining: 75.4ms\n",
      "1:\tlearn: 21.0440373\ttotal: 23.9ms\tremaining: 59.6ms\n",
      "2:\tlearn: 20.0856334\ttotal: 35.2ms\tremaining: 46.9ms\n",
      "3:\tlearn: 19.3620204\ttotal: 46ms\tremaining: 34.5ms\n",
      "4:\tlearn: 18.3556213\ttotal: 57.2ms\tremaining: 22.9ms\n",
      "5:\tlearn: 17.7917311\ttotal: 67.9ms\tremaining: 11.3ms\n",
      "6:\tlearn: 17.2392500\ttotal: 78.5ms\tremaining: 0us\n",
      "0:\tlearn: 23.7649298\ttotal: 11.7ms\tremaining: 70ms\n",
      "1:\tlearn: 21.7325210\ttotal: 22.8ms\tremaining: 57ms\n",
      "2:\tlearn: 20.4548522\ttotal: 33.6ms\tremaining: 44.8ms\n",
      "3:\tlearn: 19.3900118\ttotal: 44.4ms\tremaining: 33.3ms\n",
      "4:\tlearn: 18.6873310\ttotal: 55.3ms\tremaining: 22.1ms\n",
      "5:\tlearn: 18.0024258\ttotal: 66.5ms\tremaining: 11.1ms\n",
      "6:\tlearn: 17.3913581\ttotal: 77.3ms\tremaining: 0us\n",
      "0:\tlearn: 24.5850555\ttotal: 12ms\tremaining: 71.8ms\n",
      "1:\tlearn: 22.5997862\ttotal: 23.5ms\tremaining: 58.9ms\n",
      "2:\tlearn: 21.3671526\ttotal: 35.1ms\tremaining: 46.7ms\n",
      "3:\tlearn: 20.9253798\ttotal: 46.8ms\tremaining: 35.1ms\n",
      "4:\tlearn: 19.8608791\ttotal: 58.3ms\tremaining: 23.3ms\n",
      "5:\tlearn: 19.1540603\ttotal: 69.5ms\tremaining: 11.6ms\n",
      "6:\tlearn: 18.6267690\ttotal: 80.7ms\tremaining: 0us\n",
      "0:\tlearn: 24.5317185\ttotal: 13.3ms\tremaining: 80.1ms\n",
      "1:\tlearn: 22.7571501\ttotal: 26ms\tremaining: 64.9ms\n",
      "2:\tlearn: 21.3211368\ttotal: 39.7ms\tremaining: 53ms\n",
      "3:\tlearn: 20.5532766\ttotal: 52.5ms\tremaining: 39.4ms\n",
      "4:\tlearn: 19.6831450\ttotal: 65.2ms\tremaining: 26.1ms\n",
      "5:\tlearn: 19.0960373\ttotal: 77.8ms\tremaining: 13ms\n",
      "6:\tlearn: 18.5564898\ttotal: 90.7ms\tremaining: 0us\n",
      "0:\tlearn: 19.4538292\ttotal: 8.01ms\tremaining: 56.1ms\n",
      "1:\tlearn: 15.8864931\ttotal: 15.8ms\tremaining: 47.5ms\n",
      "2:\tlearn: 14.1879872\ttotal: 23.6ms\tremaining: 39.4ms\n",
      "3:\tlearn: 12.7905018\ttotal: 32ms\tremaining: 32ms\n",
      "4:\tlearn: 11.2903404\ttotal: 40.1ms\tremaining: 24ms\n",
      "5:\tlearn: 9.9647642\ttotal: 47.5ms\tremaining: 15.8ms\n",
      "6:\tlearn: 9.1365561\ttotal: 55.1ms\tremaining: 7.87ms\n",
      "7:\tlearn: 8.0147563\ttotal: 62.7ms\tremaining: 0us\n",
      "0:\tlearn: 20.8803252\ttotal: 9.39ms\tremaining: 65.7ms\n",
      "1:\tlearn: 18.5502895\ttotal: 18.1ms\tremaining: 54.3ms\n",
      "2:\tlearn: 16.5594235\ttotal: 26.8ms\tremaining: 44.7ms\n",
      "3:\tlearn: 15.1743450\ttotal: 36ms\tremaining: 36ms\n",
      "4:\tlearn: 14.4718143\ttotal: 45.2ms\tremaining: 27.1ms\n",
      "5:\tlearn: 13.5409108\ttotal: 54.2ms\tremaining: 18.1ms\n",
      "6:\tlearn: 12.7254542\ttotal: 63.1ms\tremaining: 9.02ms\n",
      "7:\tlearn: 12.0168651\ttotal: 71.9ms\tremaining: 0us\n",
      "0:\tlearn: 19.8486502\ttotal: 10.8ms\tremaining: 75.8ms\n",
      "1:\tlearn: 18.0033947\ttotal: 21.1ms\tremaining: 63.4ms\n",
      "2:\tlearn: 16.5136784\ttotal: 31.5ms\tremaining: 52.5ms\n",
      "3:\tlearn: 15.3456937\ttotal: 42.2ms\tremaining: 42.2ms\n",
      "4:\tlearn: 14.3927571\ttotal: 52.3ms\tremaining: 31.4ms\n",
      "5:\tlearn: 13.6223986\ttotal: 62.5ms\tremaining: 20.8ms\n",
      "6:\tlearn: 12.7742435\ttotal: 72.7ms\tremaining: 10.4ms\n",
      "7:\tlearn: 12.4137026\ttotal: 83.1ms\tremaining: 0us\n",
      "0:\tlearn: 22.0945535\ttotal: 10.8ms\tremaining: 75.9ms\n",
      "1:\tlearn: 19.9603430\ttotal: 21.3ms\tremaining: 64ms\n",
      "2:\tlearn: 18.1725959\ttotal: 31.3ms\tremaining: 52.1ms\n",
      "3:\tlearn: 17.4052891\ttotal: 41.3ms\tremaining: 41.3ms\n",
      "4:\tlearn: 16.6251281\ttotal: 51.4ms\tremaining: 30.9ms\n",
      "5:\tlearn: 15.7892240\ttotal: 62ms\tremaining: 20.7ms\n",
      "6:\tlearn: 14.8151019\ttotal: 71.8ms\tremaining: 10.3ms\n",
      "7:\tlearn: 14.2886984\ttotal: 82.1ms\tremaining: 0us\n",
      "0:\tlearn: 22.2517294\ttotal: 10.8ms\tremaining: 75.5ms\n",
      "1:\tlearn: 20.1979368\ttotal: 21ms\tremaining: 63.1ms\n",
      "2:\tlearn: 18.9445187\ttotal: 31.5ms\tremaining: 52.5ms\n",
      "3:\tlearn: 18.3687500\ttotal: 41.4ms\tremaining: 41.4ms\n",
      "4:\tlearn: 17.2802673\ttotal: 51.8ms\tremaining: 31.1ms\n",
      "5:\tlearn: 16.5189384\ttotal: 62.1ms\tremaining: 20.7ms\n",
      "6:\tlearn: 15.9225855\ttotal: 73.2ms\tremaining: 10.5ms\n",
      "7:\tlearn: 15.2227354\ttotal: 83.1ms\tremaining: 0us\n",
      "0:\tlearn: 23.4474333\ttotal: 12.4ms\tremaining: 86.5ms\n",
      "1:\tlearn: 21.1377619\ttotal: 23.9ms\tremaining: 71.6ms\n",
      "2:\tlearn: 19.8846015\ttotal: 35.7ms\tremaining: 59.4ms\n",
      "3:\tlearn: 19.1787812\ttotal: 46.7ms\tremaining: 46.7ms\n",
      "4:\tlearn: 18.6040931\ttotal: 57.6ms\tremaining: 34.6ms\n",
      "5:\tlearn: 18.1019193\ttotal: 69.2ms\tremaining: 23.1ms\n",
      "6:\tlearn: 17.2090412\ttotal: 81.2ms\tremaining: 11.6ms\n",
      "7:\tlearn: 16.3820006\ttotal: 93.1ms\tremaining: 0us\n",
      "0:\tlearn: 23.4910829\ttotal: 12.9ms\tremaining: 90ms\n",
      "1:\tlearn: 21.0440373\ttotal: 25.2ms\tremaining: 75.6ms\n",
      "2:\tlearn: 20.0856334\ttotal: 36.5ms\tremaining: 60.9ms\n",
      "3:\tlearn: 19.3620204\ttotal: 47.9ms\tremaining: 47.9ms\n",
      "4:\tlearn: 18.3556213\ttotal: 59.5ms\tremaining: 35.7ms\n",
      "5:\tlearn: 17.7917311\ttotal: 70.5ms\tremaining: 23.5ms\n",
      "6:\tlearn: 17.2392500\ttotal: 81.3ms\tremaining: 11.6ms\n",
      "7:\tlearn: 16.2805239\ttotal: 92ms\tremaining: 0us\n",
      "0:\tlearn: 23.7649298\ttotal: 11.9ms\tremaining: 83.6ms\n",
      "1:\tlearn: 21.7325210\ttotal: 23.4ms\tremaining: 70.3ms\n",
      "2:\tlearn: 20.4548522\ttotal: 35ms\tremaining: 58.3ms\n",
      "3:\tlearn: 19.3900118\ttotal: 46.5ms\tremaining: 46.5ms\n",
      "4:\tlearn: 18.6873310\ttotal: 58.1ms\tremaining: 34.9ms\n",
      "5:\tlearn: 18.0024258\ttotal: 69.7ms\tremaining: 23.2ms\n",
      "6:\tlearn: 17.3913581\ttotal: 81.4ms\tremaining: 11.6ms\n",
      "7:\tlearn: 16.9377998\ttotal: 92.7ms\tremaining: 0us\n",
      "0:\tlearn: 24.5850555\ttotal: 12.5ms\tremaining: 87.4ms\n",
      "1:\tlearn: 22.5997862\ttotal: 24.5ms\tremaining: 73.5ms\n",
      "2:\tlearn: 21.3671526\ttotal: 38.3ms\tremaining: 63.9ms\n",
      "3:\tlearn: 20.9253798\ttotal: 50.7ms\tremaining: 50.7ms\n",
      "4:\tlearn: 19.8608791\ttotal: 64.3ms\tremaining: 38.6ms\n",
      "5:\tlearn: 19.1540603\ttotal: 78.7ms\tremaining: 26.2ms\n",
      "6:\tlearn: 18.6267690\ttotal: 92.4ms\tremaining: 13.2ms\n",
      "7:\tlearn: 17.8675532\ttotal: 106ms\tremaining: 0us\n",
      "0:\tlearn: 24.5317185\ttotal: 13.2ms\tremaining: 92.5ms\n",
      "1:\tlearn: 22.7571501\ttotal: 26.3ms\tremaining: 78.8ms\n",
      "2:\tlearn: 21.3211368\ttotal: 39.6ms\tremaining: 65.9ms\n",
      "3:\tlearn: 20.5532766\ttotal: 53.1ms\tremaining: 53.1ms\n",
      "4:\tlearn: 19.6831450\ttotal: 67.2ms\tremaining: 40.3ms\n",
      "5:\tlearn: 19.0960373\ttotal: 81.1ms\tremaining: 27ms\n",
      "6:\tlearn: 18.5564898\ttotal: 94.9ms\tremaining: 13.6ms\n",
      "7:\tlearn: 17.9187889\ttotal: 109ms\tremaining: 0us\n",
      "0:\tlearn: 30.3772176\ttotal: 1.5ms\tremaining: 10.5ms\n",
      "1:\tlearn: 28.3806165\ttotal: 2.95ms\tremaining: 8.85ms\n",
      "2:\tlearn: 28.1479683\ttotal: 4.14ms\tremaining: 6.91ms\n",
      "3:\tlearn: 26.5011101\ttotal: 5.33ms\tremaining: 5.33ms\n",
      "4:\tlearn: 26.1396995\ttotal: 6.61ms\tremaining: 3.96ms\n",
      "5:\tlearn: 25.6891753\ttotal: 7.75ms\tremaining: 2.58ms\n",
      "6:\tlearn: 25.1168898\ttotal: 8.9ms\tremaining: 1.27ms\n",
      "7:\tlearn: 24.1409346\ttotal: 10ms\tremaining: 0us\n"
     ]
    },
    {
     "data": {
      "text/plain": [
       "{'depth': 4, 'iterations': 8}"
      ]
     },
     "execution_count": 24,
     "metadata": {},
     "output_type": "execute_result"
    }
   ],
   "source": [
    "parametrs = {'depth': range(1, 10),\n",
    "            'iterations': range(1,9) }\n",
    "\n",
    "             \n",
    "catboost = CatBoostRegressor(random_state=12345, learning_rate=1)\n",
    "train_pool = Pool(features_train, target_train)\n",
    "tscv = TimeSeriesSplit(n_splits=10)\n",
    "grid = GridSearchCV(catboost, parametrs, cv=tscv, scoring= 'neg_root_mean_squared_error')\n",
    "grid.fit(features_train, target_train)\n",
    "grid.best_params_\n"
   ]
  },
  {
   "cell_type": "code",
   "execution_count": 25,
   "metadata": {},
   "outputs": [
    {
     "data": {
      "text/plain": [
       "-26.404168340672083"
      ]
     },
     "execution_count": 25,
     "metadata": {},
     "output_type": "execute_result"
    }
   ],
   "source": [
    "grid.best_score_"
   ]
  },
  {
   "cell_type": "markdown",
   "metadata": {},
   "source": [
    "После перебора всех параметров видно, что минимум RMSE равный 26.40 достигается при depth=4, iterations=8."
   ]
  },
  {
   "cell_type": "markdown",
   "metadata": {},
   "source": [
    "Оформим результаты работы моделей в виде сравнительной таблицы:"
   ]
  },
  {
   "cell_type": "code",
   "execution_count": 26,
   "metadata": {},
   "outputs": [
    {
     "data": {
      "text/html": [
       "<div>\n",
       "<style scoped>\n",
       "    .dataframe tbody tr th:only-of-type {\n",
       "        vertical-align: middle;\n",
       "    }\n",
       "\n",
       "    .dataframe tbody tr th {\n",
       "        vertical-align: top;\n",
       "    }\n",
       "\n",
       "    .dataframe thead th {\n",
       "        text-align: right;\n",
       "    }\n",
       "</style>\n",
       "<table border=\"1\" class=\"dataframe\">\n",
       "  <thead>\n",
       "    <tr style=\"text-align: right;\">\n",
       "      <th></th>\n",
       "      <th>model</th>\n",
       "      <th>best_rmse_score</th>\n",
       "    </tr>\n",
       "  </thead>\n",
       "  <tbody>\n",
       "    <tr>\n",
       "      <th>0</th>\n",
       "      <td>LinearRegression</td>\n",
       "      <td>31.04</td>\n",
       "    </tr>\n",
       "    <tr>\n",
       "      <th>1</th>\n",
       "      <td>RandomForestRegressor</td>\n",
       "      <td>25.09</td>\n",
       "    </tr>\n",
       "    <tr>\n",
       "      <th>2</th>\n",
       "      <td>CatBoostRegressor</td>\n",
       "      <td>26.40</td>\n",
       "    </tr>\n",
       "  </tbody>\n",
       "</table>\n",
       "</div>"
      ],
      "text/plain": [
       "                   model  best_rmse_score\n",
       "0       LinearRegression            31.04\n",
       "1  RandomForestRegressor            25.09\n",
       "2      CatBoostRegressor            26.40"
      ]
     },
     "execution_count": 26,
     "metadata": {},
     "output_type": "execute_result"
    }
   ],
   "source": [
    "cols = ['model', 'best_rmse_score']\n",
    "model_data = [['LinearRegression', 31.04],\n",
    "             ['RandomForestRegressor', 25.09],\n",
    "             ['CatBoostRegressor', 26.40]]\n",
    "model_comparison_table = pd.DataFrame(data= model_data, columns = cols)\n",
    "model_comparison_table"
   ]
  },
  {
   "cell_type": "markdown",
   "metadata": {},
   "source": [
    "Как видно из сравнительной таблицы, лучше всего работает модель случайного леса в регрессии (25.09), хуже всего - модель линейной регрессии (31.04)."
   ]
  },
  {
   "cell_type": "markdown",
   "metadata": {},
   "source": [
    "## Тестирование"
   ]
  },
  {
   "cell_type": "markdown",
   "metadata": {},
   "source": [
    "Протестируем модель случайного леса в регрессии с гиперпараметром n_estimators=9 на тестовой выборке:"
   ]
  },
  {
   "cell_type": "code",
   "execution_count": 27,
   "metadata": {},
   "outputs": [
    {
     "data": {
      "text/plain": [
       "46.55408971805134"
      ]
     },
     "execution_count": 27,
     "metadata": {},
     "output_type": "execute_result"
    }
   ],
   "source": [
    "random_forest = RandomForestRegressor(random_state=12345, n_estimators=9)\n",
    "random_forest.fit(features_train, target_train)\n",
    "predictions = random_forest.predict(features_test)\n",
    "rmse = mean_squared_error(target_test, predictions, squared=False)\n",
    "rmse"
   ]
  },
  {
   "cell_type": "markdown",
   "metadata": {},
   "source": [
    "Как видим, метрика RMSE равна 46.55 на тестовой выборке. Это удовлетворяет первоначальным требованиям."
   ]
  },
  {
   "cell_type": "markdown",
   "metadata": {},
   "source": [
    "Для наглядной интерпретации результатов выведем график реальных и предсказанных заказов:"
   ]
  },
  {
   "cell_type": "code",
   "execution_count": 28,
   "metadata": {},
   "outputs": [
    {
     "data": {
      "image/png": "[encoded data removed]",
      "text/plain": [
       "<Figure size 1080x360 with 1 Axes>"
      ]
     },
     "metadata": {
      "needs_background": "light"
     },
     "output_type": "display_data"
    }
   ],
   "source": [
    "train_predictions = pd.DataFrame()\n",
    "train_predictions['real_orders'] = target_test\n",
    "train_predictions['predictions'] = predictions\n",
    "train_predictions.plot(figsize=(15,5), title='Количество реальных и предсказанных заказов на тестовой выборке')\n",
    "plt.show()"
   ]
  },
  {
   "cell_type": "markdown",
   "metadata": {},
   "source": [
    "### Общий вывод"
   ]
  },
  {
   "cell_type": "markdown",
   "metadata": {},
   "source": [
    "В этой работе:\n",
    "\n",
    "* Выявили, что наш временной ряд является нестационарным\n",
    "\n",
    "* Определили тренд - общее количество заказов такси увеличивается.\n",
    "\n",
    "* Нашли часовую сезонность: 3 пика заказов приходятся на периоды с 8 до 10,  с 15 до 17, с 22 до 01 часов. При этом каждый день абсолютный минимум заказов приходится на время около 6 часов утра.\n",
    "\n",
    "* Выявили недельную сезонность: минимум заказов приходится на вторники и воскресенья, максимум - на понедельники и пятницы.\n",
    "\n",
    "* Создали дополнительные признаки: календарные (месяц, день, день недели, часы), предыдущие значения с  размером отставания в 1-5 часов, скользящие средние с шириной окна в 3 часа, по дням (24 часа) и за 3 дня. Дополнительно создали столбец, который содержит разницу между количеством заказов в предыдущий и предшествующий тому часы.\n",
    "\n",
    "* Обучили три различные модели: линейной регрессии, случайного леса и градиентного бустинга из библиотеки CatBoost. \n",
    "\n",
    "\n",
    "Лучше всего на обучающей выборке справилась модель случайного леса в регрессии (25.09), хуже всего - модель линейной регрессии (31.04).\n",
    "\n",
    "Лучшая модель (модель случайного леса в регрессии с  гиперпараметром n_estimators=9)  на тестовой выборке она показывает \n",
    "значение метрики RMSE 46.55."
   ]
  }
 ],
 "metadata": {
  "ExecuteTimeLog": [
   {
    "duration": 362,
    "start_time": "2022-11-17T00:19:28.350Z"
   },
   {
    "duration": 85,
    "start_time": "2022-11-17T00:19:54.810Z"
   },
   {
    "duration": 11,
    "start_time": "2022-11-17T00:20:08.714Z"
   },
   {
    "duration": 32,
    "start_time": "2022-11-17T00:20:13.988Z"
   },
   {
    "duration": 121,
    "start_time": "2022-11-17T00:20:49.684Z"
   },
   {
    "duration": 15,
    "start_time": "2022-11-17T00:20:53.470Z"
   },
   {
    "duration": 12,
    "start_time": "2022-11-17T00:21:48.079Z"
   },
   {
    "duration": 8,
    "start_time": "2022-11-17T00:22:15.895Z"
   },
   {
    "duration": 5,
    "start_time": "2022-11-17T00:22:22.804Z"
   },
   {
    "duration": 9,
    "start_time": "2022-11-17T00:22:36.270Z"
   },
   {
    "duration": 2,
    "start_time": "2022-11-17T00:22:43.936Z"
   },
   {
    "duration": 50,
    "start_time": "2022-11-17T00:22:43.941Z"
   },
   {
    "duration": 8,
    "start_time": "2022-11-17T00:22:43.993Z"
   },
   {
    "duration": 11,
    "start_time": "2022-11-17T00:22:44.002Z"
   },
   {
    "duration": 4,
    "start_time": "2022-11-17T00:22:59.422Z"
   },
   {
    "duration": 9,
    "start_time": "2022-11-17T00:23:13.769Z"
   },
   {
    "duration": 11,
    "start_time": "2022-11-17T00:23:49.951Z"
   },
   {
    "duration": 2,
    "start_time": "2022-11-17T00:23:54.671Z"
   },
   {
    "duration": 45,
    "start_time": "2022-11-17T00:23:54.676Z"
   },
   {
    "duration": 10,
    "start_time": "2022-11-17T00:23:54.722Z"
   },
   {
    "duration": 21,
    "start_time": "2022-11-17T00:23:54.734Z"
   },
   {
    "duration": 14,
    "start_time": "2022-11-17T00:25:00.894Z"
   },
   {
    "duration": 4,
    "start_time": "2022-11-17T00:25:21.755Z"
   },
   {
    "duration": 4,
    "start_time": "2022-11-17T00:25:23.537Z"
   },
   {
    "duration": 4,
    "start_time": "2022-11-17T00:25:25.829Z"
   },
   {
    "duration": 8,
    "start_time": "2022-11-17T00:25:29.693Z"
   },
   {
    "duration": 3,
    "start_time": "2022-11-17T00:25:37.525Z"
   },
   {
    "duration": 4,
    "start_time": "2022-11-17T00:25:39.431Z"
   },
   {
    "duration": 4,
    "start_time": "2022-11-17T00:25:45.867Z"
   },
   {
    "duration": 2,
    "start_time": "2022-11-17T00:26:33.214Z"
   },
   {
    "duration": 44,
    "start_time": "2022-11-17T00:26:33.218Z"
   },
   {
    "duration": 8,
    "start_time": "2022-11-17T00:26:33.263Z"
   },
   {
    "duration": 12,
    "start_time": "2022-11-17T00:26:33.273Z"
   },
   {
    "duration": 7,
    "start_time": "2022-11-17T00:26:33.287Z"
   },
   {
    "duration": 6,
    "start_time": "2022-11-17T00:26:33.295Z"
   },
   {
    "duration": 4,
    "start_time": "2022-11-17T00:26:33.303Z"
   },
   {
    "duration": 7,
    "start_time": "2022-11-17T00:26:37.457Z"
   },
   {
    "duration": 8,
    "start_time": "2022-11-17T00:26:38.894Z"
   },
   {
    "duration": 407,
    "start_time": "2022-11-17T00:29:03.276Z"
   },
   {
    "duration": 656,
    "start_time": "2022-11-17T00:30:05.300Z"
   },
   {
    "duration": 225,
    "start_time": "2022-11-17T00:30:23.402Z"
   },
   {
    "duration": 227,
    "start_time": "2022-11-17T00:30:38.509Z"
   },
   {
    "duration": 300,
    "start_time": "2022-11-17T00:31:21.076Z"
   },
   {
    "duration": 3,
    "start_time": "2022-11-17T00:32:17.568Z"
   },
   {
    "duration": 50,
    "start_time": "2022-11-17T00:32:17.572Z"
   },
   {
    "duration": 8,
    "start_time": "2022-11-17T00:32:17.624Z"
   },
   {
    "duration": 14,
    "start_time": "2022-11-17T00:32:17.633Z"
   },
   {
    "duration": 8,
    "start_time": "2022-11-17T00:32:17.649Z"
   },
   {
    "duration": 11,
    "start_time": "2022-11-17T00:32:17.658Z"
   },
   {
    "duration": 3,
    "start_time": "2022-11-17T00:32:17.696Z"
   },
   {
    "duration": 10,
    "start_time": "2022-11-17T00:32:17.701Z"
   },
   {
    "duration": 37,
    "start_time": "2022-11-17T00:32:17.712Z"
   },
   {
    "duration": 51,
    "start_time": "2022-11-17T00:32:17.750Z"
   },
   {
    "duration": 8,
    "start_time": "2022-11-17T00:32:23.987Z"
   },
   {
    "duration": 45,
    "start_time": "2022-11-17T00:33:09.358Z"
   },
   {
    "duration": 3,
    "start_time": "2022-11-17T00:33:22.772Z"
   },
   {
    "duration": 680,
    "start_time": "2022-11-17T00:33:26.935Z"
   },
   {
    "duration": 730,
    "start_time": "2022-11-17T00:34:42.542Z"
   },
   {
    "duration": 3,
    "start_time": "2022-11-17T00:52:36.926Z"
   },
   {
    "duration": 46,
    "start_time": "2022-11-17T00:52:36.930Z"
   },
   {
    "duration": 9,
    "start_time": "2022-11-17T00:52:36.977Z"
   },
   {
    "duration": 15,
    "start_time": "2022-11-17T00:52:36.987Z"
   },
   {
    "duration": 9,
    "start_time": "2022-11-17T00:52:37.005Z"
   },
   {
    "duration": 5,
    "start_time": "2022-11-17T00:52:37.015Z"
   },
   {
    "duration": 5,
    "start_time": "2022-11-17T00:52:37.022Z"
   },
   {
    "duration": 9,
    "start_time": "2022-11-17T00:52:37.029Z"
   },
   {
    "duration": 11,
    "start_time": "2022-11-17T00:52:37.039Z"
   },
   {
    "duration": 11,
    "start_time": "2022-11-17T00:52:37.051Z"
   },
   {
    "duration": 776,
    "start_time": "2022-11-17T00:52:37.064Z"
   },
   {
    "duration": 233,
    "start_time": "2022-11-17T00:55:01.351Z"
   },
   {
    "duration": 23,
    "start_time": "2022-11-17T00:56:53.076Z"
   },
   {
    "duration": 34,
    "start_time": "2022-11-17T00:56:58.471Z"
   },
   {
    "duration": 2,
    "start_time": "2022-11-17T00:57:12.868Z"
   },
   {
    "duration": 206,
    "start_time": "2022-11-17T00:57:16.226Z"
   },
   {
    "duration": 112,
    "start_time": "2022-11-17T00:57:43.213Z"
   },
   {
    "duration": 22,
    "start_time": "2022-11-17T00:58:35.638Z"
   },
   {
    "duration": 22,
    "start_time": "2022-11-17T00:58:42.210Z"
   },
   {
    "duration": 92,
    "start_time": "2022-11-17T00:58:49.631Z"
   },
   {
    "duration": 27,
    "start_time": "2022-11-17T00:58:58.307Z"
   },
   {
    "duration": 151,
    "start_time": "2022-11-17T00:59:02.770Z"
   },
   {
    "duration": 113,
    "start_time": "2022-11-17T00:59:07.912Z"
   },
   {
    "duration": 41,
    "start_time": "2022-11-17T00:59:14.282Z"
   },
   {
    "duration": 116,
    "start_time": "2022-11-17T00:59:29.508Z"
   },
   {
    "duration": 3,
    "start_time": "2022-11-17T00:59:35.271Z"
   },
   {
    "duration": 60,
    "start_time": "2022-11-17T00:59:35.276Z"
   },
   {
    "duration": 11,
    "start_time": "2022-11-17T00:59:35.337Z"
   },
   {
    "duration": 13,
    "start_time": "2022-11-17T00:59:35.349Z"
   },
   {
    "duration": 12,
    "start_time": "2022-11-17T00:59:35.365Z"
   },
   {
    "duration": 21,
    "start_time": "2022-11-17T00:59:35.378Z"
   },
   {
    "duration": 14,
    "start_time": "2022-11-17T00:59:35.400Z"
   },
   {
    "duration": 12,
    "start_time": "2022-11-17T00:59:35.416Z"
   },
   {
    "duration": 10,
    "start_time": "2022-11-17T00:59:35.429Z"
   },
   {
    "duration": 12,
    "start_time": "2022-11-17T00:59:35.441Z"
   },
   {
    "duration": 670,
    "start_time": "2022-11-17T00:59:35.454Z"
   },
   {
    "duration": 194,
    "start_time": "2022-11-17T00:59:36.126Z"
   },
   {
    "duration": 119,
    "start_time": "2022-11-17T00:59:58.707Z"
   },
   {
    "duration": 156,
    "start_time": "2022-11-17T01:00:09.165Z"
   },
   {
    "duration": 71,
    "start_time": "2022-11-17T01:00:16.853Z"
   },
   {
    "duration": 3,
    "start_time": "2022-11-17T01:00:21.909Z"
   },
   {
    "duration": 53,
    "start_time": "2022-11-17T01:00:21.913Z"
   },
   {
    "duration": 8,
    "start_time": "2022-11-17T01:00:21.967Z"
   },
   {
    "duration": 15,
    "start_time": "2022-11-17T01:00:21.976Z"
   },
   {
    "duration": 7,
    "start_time": "2022-11-17T01:00:21.993Z"
   },
   {
    "duration": 8,
    "start_time": "2022-11-17T01:00:22.002Z"
   },
   {
    "duration": 7,
    "start_time": "2022-11-17T01:00:22.012Z"
   },
   {
    "duration": 10,
    "start_time": "2022-11-17T01:00:22.020Z"
   },
   {
    "duration": 10,
    "start_time": "2022-11-17T01:00:22.031Z"
   },
   {
    "duration": 7,
    "start_time": "2022-11-17T01:00:22.043Z"
   },
   {
    "duration": 819,
    "start_time": "2022-11-17T01:00:22.052Z"
   },
   {
    "duration": 51,
    "start_time": "2022-11-17T01:00:22.872Z"
   },
   {
    "duration": 4,
    "start_time": "2022-11-17T01:00:32.787Z"
   },
   {
    "duration": 51,
    "start_time": "2022-11-17T01:00:32.793Z"
   },
   {
    "duration": 12,
    "start_time": "2022-11-17T01:00:32.846Z"
   },
   {
    "duration": 17,
    "start_time": "2022-11-17T01:00:32.863Z"
   },
   {
    "duration": 15,
    "start_time": "2022-11-17T01:00:32.883Z"
   },
   {
    "duration": 9,
    "start_time": "2022-11-17T01:00:32.900Z"
   },
   {
    "duration": 11,
    "start_time": "2022-11-17T01:00:32.910Z"
   },
   {
    "duration": 10,
    "start_time": "2022-11-17T01:00:32.923Z"
   },
   {
    "duration": 8,
    "start_time": "2022-11-17T01:00:32.935Z"
   },
   {
    "duration": 6,
    "start_time": "2022-11-17T01:00:32.944Z"
   },
   {
    "duration": 688,
    "start_time": "2022-11-17T01:00:32.952Z"
   },
   {
    "duration": 28,
    "start_time": "2022-11-17T01:00:39.197Z"
   },
   {
    "duration": 18,
    "start_time": "2022-11-17T01:01:25.712Z"
   },
   {
    "duration": 4,
    "start_time": "2022-11-17T01:02:51.203Z"
   },
   {
    "duration": 44,
    "start_time": "2022-11-17T01:02:51.208Z"
   },
   {
    "duration": 8,
    "start_time": "2022-11-17T01:02:51.254Z"
   },
   {
    "duration": 12,
    "start_time": "2022-11-17T01:02:51.264Z"
   },
   {
    "duration": 7,
    "start_time": "2022-11-17T01:02:51.278Z"
   },
   {
    "duration": 6,
    "start_time": "2022-11-17T01:02:51.287Z"
   },
   {
    "duration": 7,
    "start_time": "2022-11-17T01:02:51.294Z"
   },
   {
    "duration": 11,
    "start_time": "2022-11-17T01:02:51.302Z"
   },
   {
    "duration": 10,
    "start_time": "2022-11-17T01:02:51.314Z"
   },
   {
    "duration": 9,
    "start_time": "2022-11-17T01:02:51.326Z"
   },
   {
    "duration": 697,
    "start_time": "2022-11-17T01:02:51.336Z"
   },
   {
    "duration": 190,
    "start_time": "2022-11-17T01:02:52.035Z"
   },
   {
    "duration": 102,
    "start_time": "2022-11-17T01:02:52.226Z"
   },
   {
    "duration": 17,
    "start_time": "2022-11-17T01:04:35.886Z"
   },
   {
    "duration": 17,
    "start_time": "2022-11-17T01:05:06.450Z"
   },
   {
    "duration": 17,
    "start_time": "2022-11-17T01:05:11.505Z"
   },
   {
    "duration": 56,
    "start_time": "2022-11-22T01:29:33.384Z"
   },
   {
    "duration": 1664,
    "start_time": "2022-11-22T01:29:37.870Z"
   },
   {
    "duration": 308,
    "start_time": "2022-11-22T01:29:39.536Z"
   },
   {
    "duration": 19,
    "start_time": "2022-11-22T01:29:39.846Z"
   },
   {
    "duration": 12,
    "start_time": "2022-11-22T01:29:39.868Z"
   },
   {
    "duration": 13,
    "start_time": "2022-11-22T01:29:39.883Z"
   },
   {
    "duration": 9,
    "start_time": "2022-11-22T01:29:39.899Z"
   },
   {
    "duration": 17,
    "start_time": "2022-11-22T01:29:39.910Z"
   },
   {
    "duration": 255,
    "start_time": "2022-11-22T01:29:42.148Z"
   },
   {
    "duration": 8,
    "start_time": "2022-11-22T01:30:34.880Z"
   },
   {
    "duration": 236,
    "start_time": "2022-11-22T01:32:06.236Z"
   },
   {
    "duration": 309,
    "start_time": "2022-11-22T01:32:18.297Z"
   },
   {
    "duration": 4,
    "start_time": "2022-11-22T01:33:49.610Z"
   },
   {
    "duration": 58,
    "start_time": "2022-11-22T01:33:49.617Z"
   },
   {
    "duration": 15,
    "start_time": "2022-11-22T01:33:49.678Z"
   },
   {
    "duration": 19,
    "start_time": "2022-11-22T01:33:49.695Z"
   },
   {
    "duration": 10,
    "start_time": "2022-11-22T01:33:49.718Z"
   },
   {
    "duration": 10,
    "start_time": "2022-11-22T01:33:49.730Z"
   },
   {
    "duration": 9,
    "start_time": "2022-11-22T01:33:49.751Z"
   },
   {
    "duration": 15,
    "start_time": "2022-11-22T01:33:49.762Z"
   },
   {
    "duration": 255,
    "start_time": "2022-11-22T01:33:49.779Z"
   },
   {
    "duration": 7,
    "start_time": "2022-11-22T01:33:50.036Z"
   },
   {
    "duration": 928,
    "start_time": "2022-11-22T01:33:50.045Z"
   },
   {
    "duration": 85,
    "start_time": "2022-11-22T01:33:50.974Z"
   },
   {
    "duration": 20,
    "start_time": "2022-11-22T01:33:51.152Z"
   },
   {
    "duration": 732,
    "start_time": "2022-11-22T01:35:08.019Z"
   },
   {
    "duration": 3,
    "start_time": "2022-11-22T01:35:15.117Z"
   },
   {
    "duration": 48,
    "start_time": "2022-11-22T01:35:15.122Z"
   },
   {
    "duration": 13,
    "start_time": "2022-11-22T01:35:15.172Z"
   },
   {
    "duration": 17,
    "start_time": "2022-11-22T01:35:15.187Z"
   },
   {
    "duration": 8,
    "start_time": "2022-11-22T01:35:15.207Z"
   },
   {
    "duration": 6,
    "start_time": "2022-11-22T01:35:15.216Z"
   },
   {
    "duration": 16,
    "start_time": "2022-11-22T01:35:15.223Z"
   },
   {
    "duration": 17,
    "start_time": "2022-11-22T01:35:15.251Z"
   },
   {
    "duration": 258,
    "start_time": "2022-11-22T01:35:15.269Z"
   },
   {
    "duration": 283,
    "start_time": "2022-11-22T01:35:15.528Z"
   },
   {
    "duration": 296,
    "start_time": "2022-11-22T01:35:30.567Z"
   },
   {
    "duration": 3,
    "start_time": "2022-11-22T01:36:40.405Z"
   },
   {
    "duration": 72,
    "start_time": "2022-11-22T01:36:40.410Z"
   },
   {
    "duration": 14,
    "start_time": "2022-11-22T01:36:40.484Z"
   },
   {
    "duration": 13,
    "start_time": "2022-11-22T01:36:40.500Z"
   },
   {
    "duration": 19,
    "start_time": "2022-11-22T01:36:40.515Z"
   },
   {
    "duration": 1264,
    "start_time": "2022-11-22T01:37:18.542Z"
   },
   {
    "duration": 6,
    "start_time": "2022-11-22T01:37:23.751Z"
   },
   {
    "duration": 22,
    "start_time": "2022-11-22T01:37:32.633Z"
   },
   {
    "duration": 13,
    "start_time": "2022-11-22T01:37:51.536Z"
   },
   {
    "duration": 9,
    "start_time": "2022-11-22T01:38:58.580Z"
   },
   {
    "duration": 3,
    "start_time": "2022-11-22T01:39:48.559Z"
   },
   {
    "duration": 59,
    "start_time": "2022-11-22T01:39:48.564Z"
   },
   {
    "duration": 13,
    "start_time": "2022-11-22T01:39:48.625Z"
   },
   {
    "duration": 23,
    "start_time": "2022-11-22T01:39:48.639Z"
   },
   {
    "duration": 27,
    "start_time": "2022-11-22T01:39:48.664Z"
   },
   {
    "duration": 21,
    "start_time": "2022-11-22T01:39:48.692Z"
   },
   {
    "duration": 10,
    "start_time": "2022-11-22T01:46:44.908Z"
   },
   {
    "duration": 125,
    "start_time": "2022-11-22T01:46:57.708Z"
   },
   {
    "duration": 4,
    "start_time": "2022-11-22T01:47:56.539Z"
   },
   {
    "duration": 49,
    "start_time": "2022-11-22T01:47:56.545Z"
   },
   {
    "duration": 13,
    "start_time": "2022-11-22T01:47:56.596Z"
   },
   {
    "duration": 32,
    "start_time": "2022-11-22T01:47:56.611Z"
   },
   {
    "duration": 8,
    "start_time": "2022-11-22T01:47:56.647Z"
   },
   {
    "duration": 11,
    "start_time": "2022-11-22T01:47:56.656Z"
   },
   {
    "duration": 6,
    "start_time": "2022-11-22T01:47:56.668Z"
   },
   {
    "duration": 13,
    "start_time": "2022-11-22T01:47:56.675Z"
   },
   {
    "duration": 7,
    "start_time": "2022-11-22T01:47:56.690Z"
   },
   {
    "duration": 365,
    "start_time": "2022-11-22T01:47:56.699Z"
   },
   {
    "duration": 8,
    "start_time": "2022-11-22T01:47:57.065Z"
   },
   {
    "duration": 763,
    "start_time": "2022-11-22T01:47:57.075Z"
   },
   {
    "duration": 120,
    "start_time": "2022-11-22T01:48:06.567Z"
   },
   {
    "duration": 218,
    "start_time": "2022-11-22T01:48:20.248Z"
   },
   {
    "duration": 180,
    "start_time": "2022-11-22T01:48:54.566Z"
   },
   {
    "duration": 206,
    "start_time": "2022-11-22T01:49:15.036Z"
   },
   {
    "duration": 176,
    "start_time": "2022-11-22T01:49:33.133Z"
   },
   {
    "duration": 152,
    "start_time": "2022-11-22T01:50:15.857Z"
   },
   {
    "duration": 182,
    "start_time": "2022-11-22T01:50:42.081Z"
   },
   {
    "duration": 204,
    "start_time": "2022-11-22T01:52:17.510Z"
   },
   {
    "duration": 170,
    "start_time": "2022-11-22T01:52:44.891Z"
   },
   {
    "duration": 179,
    "start_time": "2022-11-22T01:55:01.377Z"
   },
   {
    "duration": 176,
    "start_time": "2022-11-22T01:55:53.500Z"
   },
   {
    "duration": 164,
    "start_time": "2022-11-22T01:56:36.492Z"
   },
   {
    "duration": 168,
    "start_time": "2022-11-22T01:57:06.667Z"
   },
   {
    "duration": 346,
    "start_time": "2022-11-22T01:58:03.798Z"
   },
   {
    "duration": 196,
    "start_time": "2022-11-22T01:58:16.209Z"
   },
   {
    "duration": 158,
    "start_time": "2022-11-22T02:00:27.073Z"
   },
   {
    "duration": 67,
    "start_time": "2022-11-22T02:08:13.654Z"
   },
   {
    "duration": 791,
    "start_time": "2022-11-22T02:21:01.800Z"
   },
   {
    "duration": 783,
    "start_time": "2022-11-22T02:21:10.871Z"
   },
   {
    "duration": 942,
    "start_time": "2022-11-22T02:21:18.199Z"
   },
   {
    "duration": 743,
    "start_time": "2022-11-22T02:21:28.088Z"
   },
   {
    "duration": 774,
    "start_time": "2022-11-22T02:21:44.413Z"
   },
   {
    "duration": 243,
    "start_time": "2022-11-22T02:23:40.998Z"
   },
   {
    "duration": 922,
    "start_time": "2022-11-22T02:24:01.856Z"
   },
   {
    "duration": 734,
    "start_time": "2022-11-22T02:24:13.617Z"
   },
   {
    "duration": 260,
    "start_time": "2022-11-22T02:27:15.754Z"
   },
   {
    "duration": 202,
    "start_time": "2022-11-22T02:27:36.699Z"
   },
   {
    "duration": 184,
    "start_time": "2022-11-22T02:31:00.439Z"
   },
   {
    "duration": 171,
    "start_time": "2022-11-22T02:39:59.240Z"
   },
   {
    "duration": 194,
    "start_time": "2022-11-22T02:40:41.833Z"
   },
   {
    "duration": 1403,
    "start_time": "2022-11-22T02:54:40.387Z"
   },
   {
    "duration": 43,
    "start_time": "2022-11-22T02:54:41.792Z"
   },
   {
    "duration": 13,
    "start_time": "2022-11-22T02:54:41.836Z"
   },
   {
    "duration": 11,
    "start_time": "2022-11-22T02:54:41.851Z"
   },
   {
    "duration": 7,
    "start_time": "2022-11-22T02:54:41.864Z"
   },
   {
    "duration": 15,
    "start_time": "2022-11-22T02:54:41.872Z"
   },
   {
    "duration": 4,
    "start_time": "2022-11-22T02:54:41.888Z"
   },
   {
    "duration": 10,
    "start_time": "2022-11-22T02:54:41.894Z"
   },
   {
    "duration": 7,
    "start_time": "2022-11-22T02:54:41.905Z"
   },
   {
    "duration": 293,
    "start_time": "2022-11-22T02:54:41.914Z"
   },
   {
    "duration": 10,
    "start_time": "2022-11-22T02:54:42.208Z"
   },
   {
    "duration": 825,
    "start_time": "2022-11-22T02:54:42.219Z"
   },
   {
    "duration": 201,
    "start_time": "2022-11-22T02:54:43.046Z"
   },
   {
    "duration": 246,
    "start_time": "2022-11-22T02:54:43.251Z"
   },
   {
    "duration": 53,
    "start_time": "2022-11-22T02:54:43.499Z"
   },
   {
    "duration": 111,
    "start_time": "2022-11-22T02:54:43.554Z"
   },
   {
    "duration": 1564,
    "start_time": "2022-11-22T11:34:49.965Z"
   },
   {
    "duration": 134,
    "start_time": "2022-11-22T11:34:51.531Z"
   },
   {
    "duration": 18,
    "start_time": "2022-11-22T11:34:51.668Z"
   },
   {
    "duration": 14,
    "start_time": "2022-11-22T11:34:51.688Z"
   },
   {
    "duration": 11,
    "start_time": "2022-11-22T11:34:51.705Z"
   },
   {
    "duration": 18,
    "start_time": "2022-11-22T11:34:51.718Z"
   },
   {
    "duration": 4,
    "start_time": "2022-11-22T11:34:51.738Z"
   },
   {
    "duration": 11,
    "start_time": "2022-11-22T11:34:51.744Z"
   },
   {
    "duration": 7,
    "start_time": "2022-11-22T11:34:51.757Z"
   },
   {
    "duration": 299,
    "start_time": "2022-11-22T11:34:51.765Z"
   },
   {
    "duration": 10,
    "start_time": "2022-11-22T11:34:52.066Z"
   },
   {
    "duration": 958,
    "start_time": "2022-11-22T11:34:52.078Z"
   },
   {
    "duration": 294,
    "start_time": "2022-11-22T11:34:53.038Z"
   },
   {
    "duration": 215,
    "start_time": "2022-11-22T11:34:53.334Z"
   },
   {
    "duration": 84,
    "start_time": "2022-11-22T11:34:53.551Z"
   },
   {
    "duration": 192,
    "start_time": "2022-11-22T11:34:53.637Z"
   },
   {
    "duration": 1474,
    "start_time": "2022-11-22T11:35:21.196Z"
   },
   {
    "duration": 44,
    "start_time": "2022-11-22T11:35:22.672Z"
   },
   {
    "duration": 14,
    "start_time": "2022-11-22T11:35:22.718Z"
   },
   {
    "duration": 11,
    "start_time": "2022-11-22T11:35:22.734Z"
   },
   {
    "duration": 7,
    "start_time": "2022-11-22T11:35:22.747Z"
   },
   {
    "duration": 15,
    "start_time": "2022-11-22T11:35:22.755Z"
   },
   {
    "duration": 7,
    "start_time": "2022-11-22T11:35:22.771Z"
   },
   {
    "duration": 10,
    "start_time": "2022-11-22T11:35:22.780Z"
   },
   {
    "duration": 9,
    "start_time": "2022-11-22T11:35:22.792Z"
   },
   {
    "duration": 262,
    "start_time": "2022-11-22T11:35:22.824Z"
   },
   {
    "duration": 9,
    "start_time": "2022-11-22T11:35:23.088Z"
   },
   {
    "duration": 832,
    "start_time": "2022-11-22T11:35:23.099Z"
   },
   {
    "duration": 210,
    "start_time": "2022-11-22T11:35:23.933Z"
   },
   {
    "duration": 304,
    "start_time": "2022-11-22T11:35:24.145Z"
   },
   {
    "duration": 72,
    "start_time": "2022-11-22T11:35:24.451Z"
   },
   {
    "duration": 106,
    "start_time": "2022-11-22T11:35:24.524Z"
   },
   {
    "duration": 4,
    "start_time": "2022-11-22T11:36:44.910Z"
   },
   {
    "duration": 67,
    "start_time": "2022-11-22T11:36:44.916Z"
   },
   {
    "duration": 13,
    "start_time": "2022-11-22T11:36:44.985Z"
   },
   {
    "duration": 43,
    "start_time": "2022-11-22T11:36:45.000Z"
   },
   {
    "duration": 30,
    "start_time": "2022-11-22T11:36:45.045Z"
   },
   {
    "duration": 35,
    "start_time": "2022-11-22T11:36:45.077Z"
   },
   {
    "duration": 32,
    "start_time": "2022-11-22T11:36:45.114Z"
   },
   {
    "duration": 24,
    "start_time": "2022-11-22T11:36:45.148Z"
   },
   {
    "duration": 24,
    "start_time": "2022-11-22T11:36:45.174Z"
   },
   {
    "duration": 277,
    "start_time": "2022-11-22T11:36:45.200Z"
   },
   {
    "duration": 9,
    "start_time": "2022-11-22T11:36:45.479Z"
   },
   {
    "duration": 800,
    "start_time": "2022-11-22T11:36:45.489Z"
   },
   {
    "duration": 212,
    "start_time": "2022-11-22T11:36:46.291Z"
   },
   {
    "duration": 187,
    "start_time": "2022-11-22T11:36:46.506Z"
   },
   {
    "duration": 42,
    "start_time": "2022-11-22T11:36:46.694Z"
   },
   {
    "duration": 193,
    "start_time": "2022-11-22T11:36:46.738Z"
   },
   {
    "duration": 4,
    "start_time": "2022-11-22T11:37:05.176Z"
   },
   {
    "duration": 76,
    "start_time": "2022-11-22T11:37:05.182Z"
   },
   {
    "duration": 11,
    "start_time": "2022-11-22T11:37:05.260Z"
   },
   {
    "duration": 24,
    "start_time": "2022-11-22T11:37:05.272Z"
   },
   {
    "duration": 19,
    "start_time": "2022-11-22T11:37:05.298Z"
   },
   {
    "duration": 33,
    "start_time": "2022-11-22T11:37:05.319Z"
   },
   {
    "duration": 28,
    "start_time": "2022-11-22T11:37:05.354Z"
   },
   {
    "duration": 13,
    "start_time": "2022-11-22T11:37:05.383Z"
   },
   {
    "duration": 19,
    "start_time": "2022-11-22T11:37:05.398Z"
   },
   {
    "duration": 284,
    "start_time": "2022-11-22T11:37:05.419Z"
   },
   {
    "duration": 18,
    "start_time": "2022-11-22T11:37:05.704Z"
   },
   {
    "duration": 935,
    "start_time": "2022-11-22T11:37:05.725Z"
   },
   {
    "duration": 211,
    "start_time": "2022-11-22T11:37:06.662Z"
   },
   {
    "duration": 182,
    "start_time": "2022-11-22T11:37:06.876Z"
   },
   {
    "duration": 74,
    "start_time": "2022-11-22T11:37:07.060Z"
   },
   {
    "duration": 104,
    "start_time": "2022-11-22T11:37:07.143Z"
   },
   {
    "duration": 4,
    "start_time": "2022-11-22T11:37:21.903Z"
   },
   {
    "duration": 65,
    "start_time": "2022-11-22T11:37:21.908Z"
   },
   {
    "duration": 13,
    "start_time": "2022-11-22T11:37:21.975Z"
   },
   {
    "duration": 25,
    "start_time": "2022-11-22T11:37:21.990Z"
   },
   {
    "duration": 47,
    "start_time": "2022-11-22T11:37:22.017Z"
   },
   {
    "duration": 18,
    "start_time": "2022-11-22T11:37:22.065Z"
   },
   {
    "duration": 25,
    "start_time": "2022-11-22T11:37:22.085Z"
   },
   {
    "duration": 30,
    "start_time": "2022-11-22T11:37:22.112Z"
   },
   {
    "duration": 28,
    "start_time": "2022-11-22T11:37:22.145Z"
   },
   {
    "duration": 298,
    "start_time": "2022-11-22T11:37:22.175Z"
   },
   {
    "duration": 8,
    "start_time": "2022-11-22T11:37:22.474Z"
   },
   {
    "duration": 965,
    "start_time": "2022-11-22T11:37:22.484Z"
   },
   {
    "duration": 230,
    "start_time": "2022-11-22T11:37:23.452Z"
   },
   {
    "duration": 205,
    "start_time": "2022-11-22T11:37:23.684Z"
   },
   {
    "duration": 55,
    "start_time": "2022-11-22T11:37:23.891Z"
   },
   {
    "duration": 97,
    "start_time": "2022-11-22T11:37:24.027Z"
   },
   {
    "duration": 3,
    "start_time": "2022-11-22T11:37:34.546Z"
   },
   {
    "duration": 76,
    "start_time": "2022-11-22T11:37:34.551Z"
   },
   {
    "duration": 22,
    "start_time": "2022-11-22T11:37:34.630Z"
   },
   {
    "duration": 30,
    "start_time": "2022-11-22T11:37:34.654Z"
   },
   {
    "duration": 45,
    "start_time": "2022-11-22T11:37:34.687Z"
   },
   {
    "duration": 37,
    "start_time": "2022-11-22T11:37:34.734Z"
   },
   {
    "duration": 27,
    "start_time": "2022-11-22T11:37:34.772Z"
   },
   {
    "duration": 26,
    "start_time": "2022-11-22T11:37:34.800Z"
   },
   {
    "duration": 40,
    "start_time": "2022-11-22T11:37:34.829Z"
   },
   {
    "duration": 272,
    "start_time": "2022-11-22T11:37:34.871Z"
   },
   {
    "duration": 9,
    "start_time": "2022-11-22T11:37:35.147Z"
   },
   {
    "duration": 912,
    "start_time": "2022-11-22T11:37:35.158Z"
   },
   {
    "duration": 232,
    "start_time": "2022-11-22T11:37:36.072Z"
   },
   {
    "duration": 200,
    "start_time": "2022-11-22T11:37:36.306Z"
   },
   {
    "duration": 118,
    "start_time": "2022-11-22T11:37:36.508Z"
   },
   {
    "duration": 119,
    "start_time": "2022-11-22T11:37:36.628Z"
   },
   {
    "duration": 4,
    "start_time": "2022-11-22T11:37:51.592Z"
   },
   {
    "duration": 59,
    "start_time": "2022-11-22T11:37:51.598Z"
   },
   {
    "duration": 16,
    "start_time": "2022-11-22T11:37:51.659Z"
   },
   {
    "duration": 49,
    "start_time": "2022-11-22T11:37:51.677Z"
   },
   {
    "duration": 27,
    "start_time": "2022-11-22T11:37:51.728Z"
   },
   {
    "duration": 49,
    "start_time": "2022-11-22T11:37:51.757Z"
   },
   {
    "duration": 68,
    "start_time": "2022-11-22T11:37:51.808Z"
   },
   {
    "duration": 25,
    "start_time": "2022-11-22T11:37:51.878Z"
   },
   {
    "duration": 43,
    "start_time": "2022-11-22T11:37:51.906Z"
   },
   {
    "duration": 389,
    "start_time": "2022-11-22T11:37:51.951Z"
   },
   {
    "duration": 9,
    "start_time": "2022-11-22T11:37:52.343Z"
   },
   {
    "duration": 838,
    "start_time": "2022-11-22T11:37:52.353Z"
   },
   {
    "duration": 245,
    "start_time": "2022-11-22T11:37:53.193Z"
   },
   {
    "duration": 218,
    "start_time": "2022-11-22T11:37:53.441Z"
   },
   {
    "duration": 76,
    "start_time": "2022-11-22T11:37:53.660Z"
   },
   {
    "duration": 117,
    "start_time": "2022-11-22T11:37:53.739Z"
   },
   {
    "duration": 4,
    "start_time": "2022-11-22T11:38:09.529Z"
   },
   {
    "duration": 60,
    "start_time": "2022-11-22T11:38:09.536Z"
   },
   {
    "duration": 12,
    "start_time": "2022-11-22T11:38:09.598Z"
   },
   {
    "duration": 28,
    "start_time": "2022-11-22T11:38:09.612Z"
   },
   {
    "duration": 19,
    "start_time": "2022-11-22T11:38:09.643Z"
   },
   {
    "duration": 19,
    "start_time": "2022-11-22T11:38:09.664Z"
   },
   {
    "duration": 12,
    "start_time": "2022-11-22T11:38:09.685Z"
   },
   {
    "duration": 16,
    "start_time": "2022-11-22T11:38:09.698Z"
   },
   {
    "duration": 10,
    "start_time": "2022-11-22T11:38:09.716Z"
   },
   {
    "duration": 287,
    "start_time": "2022-11-22T11:38:09.729Z"
   },
   {
    "duration": 14,
    "start_time": "2022-11-22T11:38:10.021Z"
   },
   {
    "duration": 999,
    "start_time": "2022-11-22T11:38:10.039Z"
   },
   {
    "duration": 255,
    "start_time": "2022-11-22T11:38:11.040Z"
   },
   {
    "duration": 209,
    "start_time": "2022-11-22T11:38:11.296Z"
   },
   {
    "duration": 219,
    "start_time": "2022-11-22T11:38:11.507Z"
   },
   {
    "duration": 26,
    "start_time": "2022-11-22T11:38:11.730Z"
   },
   {
    "duration": 4,
    "start_time": "2022-11-22T11:42:14.648Z"
   },
   {
    "duration": 57,
    "start_time": "2022-11-22T11:42:14.654Z"
   },
   {
    "duration": 16,
    "start_time": "2022-11-22T11:42:14.713Z"
   },
   {
    "duration": 15,
    "start_time": "2022-11-22T11:42:14.731Z"
   },
   {
    "duration": 7,
    "start_time": "2022-11-22T11:42:14.748Z"
   },
   {
    "duration": 10,
    "start_time": "2022-11-22T11:42:14.757Z"
   },
   {
    "duration": 5,
    "start_time": "2022-11-22T11:42:14.769Z"
   },
   {
    "duration": 8,
    "start_time": "2022-11-22T11:42:14.776Z"
   },
   {
    "duration": 40,
    "start_time": "2022-11-22T11:42:14.786Z"
   },
   {
    "duration": 260,
    "start_time": "2022-11-22T11:42:14.828Z"
   },
   {
    "duration": 8,
    "start_time": "2022-11-22T11:42:15.090Z"
   },
   {
    "duration": 834,
    "start_time": "2022-11-22T11:42:15.100Z"
   },
   {
    "duration": 221,
    "start_time": "2022-11-22T11:42:15.936Z"
   },
   {
    "duration": 176,
    "start_time": "2022-11-22T11:42:16.160Z"
   },
   {
    "duration": 90,
    "start_time": "2022-11-22T11:42:16.339Z"
   },
   {
    "duration": 106,
    "start_time": "2022-11-22T11:42:16.432Z"
   },
   {
    "duration": 4,
    "start_time": "2022-11-22T11:42:58.605Z"
   },
   {
    "duration": 77,
    "start_time": "2022-11-22T11:42:58.611Z"
   },
   {
    "duration": 12,
    "start_time": "2022-11-22T11:42:58.690Z"
   },
   {
    "duration": 10,
    "start_time": "2022-11-22T11:42:58.704Z"
   },
   {
    "duration": 21,
    "start_time": "2022-11-22T11:42:58.716Z"
   },
   {
    "duration": 22,
    "start_time": "2022-11-22T11:42:58.740Z"
   },
   {
    "duration": 17,
    "start_time": "2022-11-22T11:42:58.764Z"
   },
   {
    "duration": 36,
    "start_time": "2022-11-22T11:42:58.783Z"
   },
   {
    "duration": 15,
    "start_time": "2022-11-22T11:42:58.821Z"
   },
   {
    "duration": 310,
    "start_time": "2022-11-22T11:42:58.837Z"
   },
   {
    "duration": 10,
    "start_time": "2022-11-22T11:42:59.152Z"
   },
   {
    "duration": 1004,
    "start_time": "2022-11-22T11:42:59.163Z"
   },
   {
    "duration": 241,
    "start_time": "2022-11-22T11:43:00.169Z"
   },
   {
    "duration": 204,
    "start_time": "2022-11-22T11:43:00.413Z"
   },
   {
    "duration": 40,
    "start_time": "2022-11-22T11:43:00.619Z"
   },
   {
    "duration": 207,
    "start_time": "2022-11-22T11:43:00.661Z"
   },
   {
    "duration": 4,
    "start_time": "2022-11-22T11:43:37.226Z"
   },
   {
    "duration": 56,
    "start_time": "2022-11-22T11:43:37.233Z"
   },
   {
    "duration": 17,
    "start_time": "2022-11-22T11:43:37.291Z"
   },
   {
    "duration": 19,
    "start_time": "2022-11-22T11:43:37.310Z"
   },
   {
    "duration": 16,
    "start_time": "2022-11-22T11:43:37.331Z"
   },
   {
    "duration": 10,
    "start_time": "2022-11-22T11:43:37.349Z"
   },
   {
    "duration": 12,
    "start_time": "2022-11-22T11:43:37.361Z"
   },
   {
    "duration": 17,
    "start_time": "2022-11-22T11:43:37.375Z"
   },
   {
    "duration": 8,
    "start_time": "2022-11-22T11:43:37.393Z"
   },
   {
    "duration": 277,
    "start_time": "2022-11-22T11:43:37.403Z"
   },
   {
    "duration": 7,
    "start_time": "2022-11-22T11:43:37.682Z"
   },
   {
    "duration": 842,
    "start_time": "2022-11-22T11:43:37.691Z"
   },
   {
    "duration": 235,
    "start_time": "2022-11-22T11:43:38.535Z"
   },
   {
    "duration": 191,
    "start_time": "2022-11-22T11:43:38.772Z"
   },
   {
    "duration": 158,
    "start_time": "2022-11-22T11:43:38.965Z"
   },
   {
    "duration": 17,
    "start_time": "2022-11-22T11:43:39.125Z"
   },
   {
    "duration": 25,
    "start_time": "2022-11-22T11:43:49.967Z"
   },
   {
    "duration": 6,
    "start_time": "2022-11-22T11:51:49.142Z"
   },
   {
    "duration": 63,
    "start_time": "2022-11-22T11:51:49.150Z"
   },
   {
    "duration": 23,
    "start_time": "2022-11-22T11:51:49.215Z"
   },
   {
    "duration": 34,
    "start_time": "2022-11-22T11:51:49.241Z"
   },
   {
    "duration": 12,
    "start_time": "2022-11-22T11:51:49.276Z"
   },
   {
    "duration": 30,
    "start_time": "2022-11-22T11:51:49.289Z"
   },
   {
    "duration": 26,
    "start_time": "2022-11-22T11:51:49.320Z"
   },
   {
    "duration": 16,
    "start_time": "2022-11-22T11:51:49.348Z"
   },
   {
    "duration": 14,
    "start_time": "2022-11-22T11:51:49.366Z"
   },
   {
    "duration": 288,
    "start_time": "2022-11-22T11:51:49.382Z"
   },
   {
    "duration": 7,
    "start_time": "2022-11-22T11:51:49.672Z"
   },
   {
    "duration": 1059,
    "start_time": "2022-11-22T11:51:49.681Z"
   },
   {
    "duration": 218,
    "start_time": "2022-11-22T11:51:50.742Z"
   },
   {
    "duration": 181,
    "start_time": "2022-11-22T11:51:50.962Z"
   },
   {
    "duration": 11,
    "start_time": "2022-11-22T11:51:51.145Z"
   },
   {
    "duration": 169,
    "start_time": "2022-11-22T11:51:51.157Z"
   },
   {
    "duration": 25,
    "start_time": "2022-11-22T11:51:51.328Z"
   },
   {
    "duration": 3,
    "start_time": "2022-11-22T11:52:37.816Z"
   },
   {
    "duration": 89,
    "start_time": "2022-11-22T11:52:37.823Z"
   },
   {
    "duration": 16,
    "start_time": "2022-11-22T11:52:37.914Z"
   },
   {
    "duration": 32,
    "start_time": "2022-11-22T11:52:37.934Z"
   },
   {
    "duration": 48,
    "start_time": "2022-11-22T11:52:37.967Z"
   },
   {
    "duration": 43,
    "start_time": "2022-11-22T11:52:38.017Z"
   },
   {
    "duration": 37,
    "start_time": "2022-11-22T11:52:38.061Z"
   },
   {
    "duration": 46,
    "start_time": "2022-11-22T11:52:38.100Z"
   },
   {
    "duration": 30,
    "start_time": "2022-11-22T11:52:38.149Z"
   },
   {
    "duration": 326,
    "start_time": "2022-11-22T11:52:38.181Z"
   },
   {
    "duration": 16,
    "start_time": "2022-11-22T11:52:38.508Z"
   },
   {
    "duration": 798,
    "start_time": "2022-11-22T11:52:38.527Z"
   },
   {
    "duration": 223,
    "start_time": "2022-11-22T11:52:39.327Z"
   },
   {
    "duration": 208,
    "start_time": "2022-11-22T11:52:39.552Z"
   },
   {
    "duration": 10,
    "start_time": "2022-11-22T11:52:39.761Z"
   },
   {
    "duration": 63,
    "start_time": "2022-11-22T11:52:39.772Z"
   },
   {
    "duration": 131,
    "start_time": "2022-11-22T11:52:39.837Z"
   },
   {
    "duration": 4,
    "start_time": "2022-11-22T11:53:26.483Z"
   },
   {
    "duration": 47,
    "start_time": "2022-11-22T11:53:26.490Z"
   },
   {
    "duration": 15,
    "start_time": "2022-11-22T11:53:26.539Z"
   },
   {
    "duration": 10,
    "start_time": "2022-11-22T11:53:26.557Z"
   },
   {
    "duration": 9,
    "start_time": "2022-11-22T11:53:26.568Z"
   },
   {
    "duration": 11,
    "start_time": "2022-11-22T11:53:26.579Z"
   },
   {
    "duration": 6,
    "start_time": "2022-11-22T11:53:26.592Z"
   },
   {
    "duration": 34,
    "start_time": "2022-11-22T11:53:26.600Z"
   },
   {
    "duration": 22,
    "start_time": "2022-11-22T11:53:26.643Z"
   },
   {
    "duration": 257,
    "start_time": "2022-11-22T11:53:26.667Z"
   },
   {
    "duration": 11,
    "start_time": "2022-11-22T11:53:26.926Z"
   },
   {
    "duration": 1042,
    "start_time": "2022-11-22T11:53:26.939Z"
   },
   {
    "duration": 235,
    "start_time": "2022-11-22T11:53:27.983Z"
   },
   {
    "duration": 201,
    "start_time": "2022-11-22T11:53:28.219Z"
   },
   {
    "duration": 14,
    "start_time": "2022-11-22T11:53:28.423Z"
   },
   {
    "duration": 100,
    "start_time": "2022-11-22T11:53:28.439Z"
   },
   {
    "duration": 99,
    "start_time": "2022-11-22T11:53:28.542Z"
   },
   {
    "duration": 4,
    "start_time": "2022-11-22T12:05:30.172Z"
   },
   {
    "duration": 74,
    "start_time": "2022-11-22T12:05:30.178Z"
   },
   {
    "duration": 13,
    "start_time": "2022-11-22T12:05:30.254Z"
   },
   {
    "duration": 31,
    "start_time": "2022-11-22T12:05:30.269Z"
   },
   {
    "duration": 49,
    "start_time": "2022-11-22T12:05:30.303Z"
   },
   {
    "duration": 46,
    "start_time": "2022-11-22T12:05:30.354Z"
   },
   {
    "duration": 27,
    "start_time": "2022-11-22T12:05:30.402Z"
   },
   {
    "duration": 33,
    "start_time": "2022-11-22T12:05:30.430Z"
   },
   {
    "duration": 22,
    "start_time": "2022-11-22T12:05:30.465Z"
   },
   {
    "duration": 271,
    "start_time": "2022-11-22T12:05:30.489Z"
   },
   {
    "duration": 8,
    "start_time": "2022-11-22T12:05:30.763Z"
   },
   {
    "duration": 921,
    "start_time": "2022-11-22T12:05:30.772Z"
   },
   {
    "duration": 248,
    "start_time": "2022-11-22T12:05:31.695Z"
   },
   {
    "duration": 203,
    "start_time": "2022-11-22T12:05:31.946Z"
   },
   {
    "duration": 11,
    "start_time": "2022-11-22T12:05:32.151Z"
   },
   {
    "duration": 63,
    "start_time": "2022-11-22T12:05:32.164Z"
   },
   {
    "duration": 114,
    "start_time": "2022-11-22T12:05:32.229Z"
   },
   {
    "duration": 16,
    "start_time": "2022-11-22T12:14:43.267Z"
   },
   {
    "duration": 19,
    "start_time": "2022-11-22T12:14:54.344Z"
   },
   {
    "duration": 6,
    "start_time": "2022-11-22T12:15:02.095Z"
   },
   {
    "duration": 7,
    "start_time": "2022-11-22T12:15:35.026Z"
   },
   {
    "duration": 36,
    "start_time": "2022-11-22T12:16:36.525Z"
   },
   {
    "duration": 4,
    "start_time": "2022-11-22T12:16:58.554Z"
   },
   {
    "duration": 55,
    "start_time": "2022-11-22T12:16:58.560Z"
   },
   {
    "duration": 19,
    "start_time": "2022-11-22T12:16:58.617Z"
   },
   {
    "duration": 31,
    "start_time": "2022-11-22T12:16:58.641Z"
   },
   {
    "duration": 10,
    "start_time": "2022-11-22T12:16:58.676Z"
   },
   {
    "duration": 17,
    "start_time": "2022-11-22T12:16:58.688Z"
   },
   {
    "duration": 7,
    "start_time": "2022-11-22T12:16:58.706Z"
   },
   {
    "duration": 12,
    "start_time": "2022-11-22T12:16:58.715Z"
   },
   {
    "duration": 38,
    "start_time": "2022-11-22T12:16:58.730Z"
   },
   {
    "duration": 280,
    "start_time": "2022-11-22T12:16:58.771Z"
   },
   {
    "duration": 12,
    "start_time": "2022-11-22T12:16:59.053Z"
   },
   {
    "duration": 849,
    "start_time": "2022-11-22T12:16:59.068Z"
   },
   {
    "duration": 242,
    "start_time": "2022-11-22T12:16:59.922Z"
   },
   {
    "duration": 212,
    "start_time": "2022-11-22T12:17:00.168Z"
   },
   {
    "duration": 17,
    "start_time": "2022-11-22T12:17:00.382Z"
   },
   {
    "duration": 26,
    "start_time": "2022-11-22T12:17:00.401Z"
   },
   {
    "duration": 25,
    "start_time": "2022-11-22T12:17:00.430Z"
   },
   {
    "duration": 65,
    "start_time": "2022-11-22T12:17:00.458Z"
   },
   {
    "duration": 17,
    "start_time": "2022-11-22T12:17:00.526Z"
   },
   {
    "duration": 222,
    "start_time": "2022-11-22T12:17:00.545Z"
   },
   {
    "duration": 4,
    "start_time": "2022-11-22T12:18:45.677Z"
   },
   {
    "duration": 68,
    "start_time": "2022-11-22T12:18:45.683Z"
   },
   {
    "duration": 14,
    "start_time": "2022-11-22T12:18:45.753Z"
   },
   {
    "duration": 22,
    "start_time": "2022-11-22T12:18:45.769Z"
   },
   {
    "duration": 33,
    "start_time": "2022-11-22T12:18:45.793Z"
   },
   {
    "duration": 33,
    "start_time": "2022-11-22T12:18:45.828Z"
   },
   {
    "duration": 36,
    "start_time": "2022-11-22T12:18:45.863Z"
   },
   {
    "duration": 30,
    "start_time": "2022-11-22T12:18:45.901Z"
   },
   {
    "duration": 23,
    "start_time": "2022-11-22T12:18:45.934Z"
   },
   {
    "duration": 428,
    "start_time": "2022-11-22T12:18:45.960Z"
   },
   {
    "duration": 8,
    "start_time": "2022-11-22T12:18:46.390Z"
   },
   {
    "duration": 789,
    "start_time": "2022-11-22T12:18:46.399Z"
   },
   {
    "duration": 211,
    "start_time": "2022-11-22T12:18:47.190Z"
   },
   {
    "duration": 176,
    "start_time": "2022-11-22T12:18:47.403Z"
   },
   {
    "duration": 11,
    "start_time": "2022-11-22T12:18:47.580Z"
   },
   {
    "duration": 35,
    "start_time": "2022-11-22T12:18:47.592Z"
   },
   {
    "duration": 22,
    "start_time": "2022-11-22T12:18:47.629Z"
   },
   {
    "duration": 40,
    "start_time": "2022-11-22T12:18:47.652Z"
   },
   {
    "duration": 138,
    "start_time": "2022-11-22T12:18:47.694Z"
   },
   {
    "duration": 109,
    "start_time": "2022-11-22T12:18:47.834Z"
   },
   {
    "duration": 8,
    "start_time": "2022-11-22T12:20:15.644Z"
   },
   {
    "duration": 134,
    "start_time": "2022-11-22T12:23:14.165Z"
   },
   {
    "duration": 27,
    "start_time": "2022-11-22T12:23:35.305Z"
   },
   {
    "duration": 383,
    "start_time": "2022-11-22T12:23:47.605Z"
   },
   {
    "duration": 352,
    "start_time": "2022-11-22T12:24:34.779Z"
   },
   {
    "duration": 277,
    "start_time": "2022-11-22T12:25:41.075Z"
   },
   {
    "duration": 288,
    "start_time": "2022-11-22T12:26:08.967Z"
   },
   {
    "duration": 366,
    "start_time": "2022-11-22T12:26:35.592Z"
   },
   {
    "duration": 275,
    "start_time": "2022-11-22T12:26:38.506Z"
   },
   {
    "duration": 21,
    "start_time": "2022-11-22T12:32:23.158Z"
   },
   {
    "duration": 25,
    "start_time": "2022-11-22T12:33:27.347Z"
   },
   {
    "duration": 24220,
    "start_time": "2022-11-22T12:33:47.828Z"
   },
   {
    "duration": 178842,
    "start_time": "2022-11-22T12:34:33.289Z"
   },
   {
    "duration": 159431,
    "start_time": "2022-11-22T12:37:44.908Z"
   },
   {
    "duration": 1892374,
    "start_time": "2022-11-22T12:40:38.564Z"
   },
   {
    "duration": 10,
    "start_time": "2022-11-22T13:19:29.762Z"
   },
   {
    "duration": 4,
    "start_time": "2022-11-22T13:19:37.473Z"
   },
   {
    "duration": 9,
    "start_time": "2022-11-22T13:20:09.096Z"
   },
   {
    "duration": 5,
    "start_time": "2022-11-22T13:20:11.303Z"
   },
   {
    "duration": 73,
    "start_time": "2022-11-22T14:15:33.009Z"
   },
   {
    "duration": 4,
    "start_time": "2022-11-22T14:15:37.811Z"
   },
   {
    "duration": 44,
    "start_time": "2022-11-22T14:15:37.827Z"
   },
   {
    "duration": 12,
    "start_time": "2022-11-22T14:15:37.882Z"
   },
   {
    "duration": 17,
    "start_time": "2022-11-22T14:15:37.896Z"
   },
   {
    "duration": 4,
    "start_time": "2022-11-22T14:15:37.926Z"
   },
   {
    "duration": 9,
    "start_time": "2022-11-22T14:15:37.953Z"
   },
   {
    "duration": 5,
    "start_time": "2022-11-22T14:15:37.969Z"
   },
   {
    "duration": 8,
    "start_time": "2022-11-22T14:15:37.994Z"
   },
   {
    "duration": 7,
    "start_time": "2022-11-22T14:15:38.016Z"
   },
   {
    "duration": 253,
    "start_time": "2022-11-22T14:15:38.046Z"
   },
   {
    "duration": 21,
    "start_time": "2022-11-22T14:15:38.301Z"
   },
   {
    "duration": 786,
    "start_time": "2022-11-22T14:15:38.324Z"
   },
   {
    "duration": 206,
    "start_time": "2022-11-22T14:15:39.112Z"
   },
   {
    "duration": 169,
    "start_time": "2022-11-22T14:15:39.319Z"
   },
   {
    "duration": 10,
    "start_time": "2022-11-22T14:15:39.490Z"
   },
   {
    "duration": 20,
    "start_time": "2022-11-22T14:15:39.502Z"
   },
   {
    "duration": 9,
    "start_time": "2022-11-22T14:15:39.524Z"
   },
   {
    "duration": 29,
    "start_time": "2022-11-22T14:15:39.535Z"
   },
   {
    "duration": 454,
    "start_time": "2022-11-22T14:15:39.566Z"
   },
   {
    "duration": 268,
    "start_time": "2022-11-22T14:15:40.022Z"
   },
   {
    "duration": 7,
    "start_time": "2022-11-22T14:15:40.292Z"
   },
   {
    "duration": 22,
    "start_time": "2022-11-22T14:15:40.301Z"
   },
   {
    "duration": 132,
    "start_time": "2022-11-22T14:15:40.325Z"
   },
   {
    "duration": 15,
    "start_time": "2022-11-22T14:15:40.459Z"
   },
   {
    "duration": 4,
    "start_time": "2022-11-22T14:15:49.628Z"
   },
   {
    "duration": 1455,
    "start_time": "2022-11-22T14:16:31.780Z"
   },
   {
    "duration": 44,
    "start_time": "2022-11-22T14:16:33.237Z"
   },
   {
    "duration": 12,
    "start_time": "2022-11-22T14:16:33.283Z"
   },
   {
    "duration": 10,
    "start_time": "2022-11-22T14:16:33.297Z"
   },
   {
    "duration": 7,
    "start_time": "2022-11-22T14:16:33.309Z"
   },
   {
    "duration": 13,
    "start_time": "2022-11-22T14:16:33.318Z"
   },
   {
    "duration": 12,
    "start_time": "2022-11-22T14:16:33.333Z"
   },
   {
    "duration": 16,
    "start_time": "2022-11-22T14:16:33.346Z"
   },
   {
    "duration": 7,
    "start_time": "2022-11-22T14:16:33.364Z"
   },
   {
    "duration": 273,
    "start_time": "2022-11-22T14:16:33.374Z"
   },
   {
    "duration": 8,
    "start_time": "2022-11-22T14:16:33.649Z"
   },
   {
    "duration": 945,
    "start_time": "2022-11-22T14:16:33.659Z"
   },
   {
    "duration": 209,
    "start_time": "2022-11-22T14:16:34.606Z"
   },
   {
    "duration": 178,
    "start_time": "2022-11-22T14:16:34.817Z"
   },
   {
    "duration": 12,
    "start_time": "2022-11-22T14:16:34.997Z"
   },
   {
    "duration": 35,
    "start_time": "2022-11-22T14:16:35.010Z"
   },
   {
    "duration": 23,
    "start_time": "2022-11-22T14:16:35.047Z"
   },
   {
    "duration": 64,
    "start_time": "2022-11-22T14:16:35.072Z"
   },
   {
    "duration": 485,
    "start_time": "2022-11-22T14:16:35.138Z"
   },
   {
    "duration": 333,
    "start_time": "2022-11-22T14:16:35.625Z"
   },
   {
    "duration": 8,
    "start_time": "2022-11-22T14:16:35.960Z"
   },
   {
    "duration": 57,
    "start_time": "2022-11-22T14:16:35.970Z"
   },
   {
    "duration": 155,
    "start_time": "2022-11-22T14:16:36.029Z"
   },
   {
    "duration": 4,
    "start_time": "2022-11-22T14:16:36.185Z"
   },
   {
    "duration": 46,
    "start_time": "2022-11-22T14:16:36.192Z"
   },
   {
    "duration": 6,
    "start_time": "2022-11-22T14:16:48.471Z"
   },
   {
    "duration": 44,
    "start_time": "2022-11-22T14:16:48.479Z"
   },
   {
    "duration": 12,
    "start_time": "2022-11-22T14:16:48.525Z"
   },
   {
    "duration": 20,
    "start_time": "2022-11-22T14:16:48.540Z"
   },
   {
    "duration": 26,
    "start_time": "2022-11-22T14:16:48.562Z"
   },
   {
    "duration": 19,
    "start_time": "2022-11-22T14:16:48.590Z"
   },
   {
    "duration": 12,
    "start_time": "2022-11-22T14:16:48.611Z"
   },
   {
    "duration": 14,
    "start_time": "2022-11-22T14:16:48.626Z"
   },
   {
    "duration": 13,
    "start_time": "2022-11-22T14:16:48.643Z"
   },
   {
    "duration": 263,
    "start_time": "2022-11-22T14:16:48.659Z"
   },
   {
    "duration": 9,
    "start_time": "2022-11-22T14:16:48.924Z"
   },
   {
    "duration": 793,
    "start_time": "2022-11-22T14:16:48.934Z"
   },
   {
    "duration": 228,
    "start_time": "2022-11-22T14:16:49.729Z"
   },
   {
    "duration": 183,
    "start_time": "2022-11-22T14:16:49.959Z"
   },
   {
    "duration": 11,
    "start_time": "2022-11-22T14:16:50.144Z"
   },
   {
    "duration": 6,
    "start_time": "2022-11-22T14:16:50.157Z"
   },
   {
    "duration": 14,
    "start_time": "2022-11-22T14:16:50.165Z"
   },
   {
    "duration": 55,
    "start_time": "2022-11-22T14:16:50.181Z"
   },
   {
    "duration": 594,
    "start_time": "2022-11-22T14:16:50.238Z"
   },
   {
    "duration": 352,
    "start_time": "2022-11-22T14:16:50.834Z"
   },
   {
    "duration": 10,
    "start_time": "2022-11-22T14:16:51.188Z"
   },
   {
    "duration": 23,
    "start_time": "2022-11-22T14:16:51.200Z"
   },
   {
    "duration": 155,
    "start_time": "2022-11-22T14:16:51.225Z"
   },
   {
    "duration": 3,
    "start_time": "2022-11-22T14:16:51.382Z"
   },
   {
    "duration": 22,
    "start_time": "2022-11-22T14:16:51.387Z"
   },
   {
    "duration": 1523,
    "start_time": "2022-11-22T14:17:12.384Z"
   },
   {
    "duration": 45,
    "start_time": "2022-11-22T14:17:13.909Z"
   },
   {
    "duration": 13,
    "start_time": "2022-11-22T14:17:13.956Z"
   },
   {
    "duration": 14,
    "start_time": "2022-11-22T14:17:13.971Z"
   },
   {
    "duration": 7,
    "start_time": "2022-11-22T14:17:13.987Z"
   },
   {
    "duration": 13,
    "start_time": "2022-11-22T14:17:13.996Z"
   },
   {
    "duration": 13,
    "start_time": "2022-11-22T14:17:14.010Z"
   },
   {
    "duration": 17,
    "start_time": "2022-11-22T14:17:14.025Z"
   },
   {
    "duration": 9,
    "start_time": "2022-11-22T14:17:14.044Z"
   },
   {
    "duration": 334,
    "start_time": "2022-11-22T14:17:14.057Z"
   },
   {
    "duration": 9,
    "start_time": "2022-11-22T14:17:14.393Z"
   },
   {
    "duration": 916,
    "start_time": "2022-11-22T14:17:14.404Z"
   },
   {
    "duration": 217,
    "start_time": "2022-11-22T14:17:15.322Z"
   },
   {
    "duration": 178,
    "start_time": "2022-11-22T14:17:15.541Z"
   },
   {
    "duration": 11,
    "start_time": "2022-11-22T14:17:15.722Z"
   },
   {
    "duration": 22,
    "start_time": "2022-11-22T14:17:15.735Z"
   },
   {
    "duration": 36,
    "start_time": "2022-11-22T14:17:15.759Z"
   },
   {
    "duration": 69,
    "start_time": "2022-11-22T14:17:15.797Z"
   },
   {
    "duration": 529,
    "start_time": "2022-11-22T14:17:15.869Z"
   },
   {
    "duration": 363,
    "start_time": "2022-11-22T14:17:16.400Z"
   },
   {
    "duration": 10,
    "start_time": "2022-11-22T14:17:16.765Z"
   },
   {
    "duration": 48,
    "start_time": "2022-11-22T14:17:16.777Z"
   },
   {
    "duration": 154,
    "start_time": "2022-11-22T14:17:16.827Z"
   },
   {
    "duration": 4,
    "start_time": "2022-11-22T14:17:16.983Z"
   },
   {
    "duration": 41,
    "start_time": "2022-11-22T14:17:16.988Z"
   },
   {
    "duration": 5,
    "start_time": "2022-11-22T14:17:31.221Z"
   },
   {
    "duration": 84,
    "start_time": "2022-11-22T14:17:31.228Z"
   },
   {
    "duration": 12,
    "start_time": "2022-11-22T14:17:31.314Z"
   },
   {
    "duration": 31,
    "start_time": "2022-11-22T14:17:31.328Z"
   },
   {
    "duration": 29,
    "start_time": "2022-11-22T14:17:31.361Z"
   },
   {
    "duration": 67,
    "start_time": "2022-11-22T14:17:31.392Z"
   },
   {
    "duration": 33,
    "start_time": "2022-11-22T14:17:31.460Z"
   },
   {
    "duration": 37,
    "start_time": "2022-11-22T14:17:31.495Z"
   },
   {
    "duration": 32,
    "start_time": "2022-11-22T14:17:31.533Z"
   },
   {
    "duration": 283,
    "start_time": "2022-11-22T14:17:31.569Z"
   },
   {
    "duration": 8,
    "start_time": "2022-11-22T14:17:31.854Z"
   },
   {
    "duration": 843,
    "start_time": "2022-11-22T14:17:31.864Z"
   },
   {
    "duration": 239,
    "start_time": "2022-11-22T14:17:32.709Z"
   },
   {
    "duration": 180,
    "start_time": "2022-11-22T14:17:32.950Z"
   },
   {
    "duration": 11,
    "start_time": "2022-11-22T14:17:33.132Z"
   },
   {
    "duration": 31,
    "start_time": "2022-11-22T14:17:33.144Z"
   },
   {
    "duration": 42,
    "start_time": "2022-11-22T14:17:33.176Z"
   },
   {
    "duration": 56,
    "start_time": "2022-11-22T14:17:33.220Z"
   },
   {
    "duration": 625,
    "start_time": "2022-11-22T14:17:33.278Z"
   },
   {
    "duration": 401,
    "start_time": "2022-11-22T14:17:33.905Z"
   },
   {
    "duration": 17,
    "start_time": "2022-11-22T14:17:34.308Z"
   },
   {
    "duration": 5,
    "start_time": "2022-11-22T14:17:34.327Z"
   },
   {
    "duration": 152,
    "start_time": "2022-11-22T14:17:34.335Z"
   },
   {
    "duration": 4,
    "start_time": "2022-11-22T14:17:34.489Z"
   },
   {
    "duration": 20,
    "start_time": "2022-11-22T14:17:34.521Z"
   },
   {
    "duration": 10,
    "start_time": "2022-11-22T14:17:44.022Z"
   },
   {
    "duration": 4,
    "start_time": "2022-11-22T14:17:46.471Z"
   },
   {
    "duration": 9,
    "start_time": "2022-11-22T14:17:51.861Z"
   },
   {
    "duration": 5,
    "start_time": "2022-11-22T14:17:53.832Z"
   },
   {
    "duration": 156,
    "start_time": "2022-11-22T14:35:54.068Z"
   },
   {
    "duration": 4,
    "start_time": "2022-11-22T14:35:59.213Z"
   },
   {
    "duration": 1217,
    "start_time": "2022-11-22T14:36:08.812Z"
   },
   {
    "duration": 373,
    "start_time": "2022-11-22T14:36:14.860Z"
   },
   {
    "duration": 235,
    "start_time": "2022-11-22T14:36:19.888Z"
   },
   {
    "duration": 48,
    "start_time": "2022-11-22T14:36:24.588Z"
   },
   {
    "duration": 329,
    "start_time": "2022-11-22T14:36:34.702Z"
   },
   {
    "duration": 164,
    "start_time": "2022-11-22T14:36:43.762Z"
   },
   {
    "duration": 28,
    "start_time": "2022-11-22T14:36:52.902Z"
   },
   {
    "duration": 65,
    "start_time": "2022-11-22T14:36:58.068Z"
   },
   {
    "duration": 604,
    "start_time": "2022-11-22T14:37:03.929Z"
   },
   {
    "duration": 590,
    "start_time": "2022-11-22T14:37:08.845Z"
   },
   {
    "duration": 152,
    "start_time": "2022-11-22T14:37:13.771Z"
   },
   {
    "duration": 88,
    "start_time": "2022-11-22T14:37:24.645Z"
   },
   {
    "duration": 246,
    "start_time": "2022-11-22T14:37:27.992Z"
   },
   {
    "duration": 30,
    "start_time": "2022-11-22T14:37:31.808Z"
   },
   {
    "duration": 471,
    "start_time": "2022-11-22T14:37:35.052Z"
   },
   {
    "duration": 716,
    "start_time": "2022-11-22T14:37:41.124Z"
   },
   {
    "duration": 875,
    "start_time": "2022-11-22T14:37:46.048Z"
   },
   {
    "duration": 960,
    "start_time": "2022-11-22T14:37:51.871Z"
   },
   {
    "duration": 242,
    "start_time": "2022-11-22T14:37:55.781Z"
   },
   {
    "duration": 389,
    "start_time": "2022-11-22T14:38:00.542Z"
   },
   {
    "duration": 594,
    "start_time": "2022-11-22T14:38:05.142Z"
   },
   {
    "duration": 48,
    "start_time": "2022-11-22T23:07:21.636Z"
   },
   {
    "duration": 1560,
    "start_time": "2022-11-22T23:07:26.322Z"
   },
   {
    "duration": 182,
    "start_time": "2022-11-22T23:07:27.884Z"
   },
   {
    "duration": 12,
    "start_time": "2022-11-22T23:07:28.068Z"
   },
   {
    "duration": 13,
    "start_time": "2022-11-22T23:07:28.081Z"
   },
   {
    "duration": 8,
    "start_time": "2022-11-22T23:07:28.096Z"
   },
   {
    "duration": 15,
    "start_time": "2022-11-22T23:07:28.105Z"
   },
   {
    "duration": 4,
    "start_time": "2022-11-22T23:07:28.121Z"
   },
   {
    "duration": 14,
    "start_time": "2022-11-22T23:07:28.126Z"
   },
   {
    "duration": 17,
    "start_time": "2022-11-22T23:07:28.141Z"
   },
   {
    "duration": 246,
    "start_time": "2022-11-22T23:07:28.160Z"
   },
   {
    "duration": 7,
    "start_time": "2022-11-22T23:07:28.407Z"
   },
   {
    "duration": 849,
    "start_time": "2022-11-22T23:07:28.416Z"
   },
   {
    "duration": 191,
    "start_time": "2022-11-22T23:07:29.267Z"
   },
   {
    "duration": 163,
    "start_time": "2022-11-22T23:07:29.460Z"
   },
   {
    "duration": 18,
    "start_time": "2022-11-22T23:07:29.625Z"
   },
   {
    "duration": 11,
    "start_time": "2022-11-22T23:07:29.645Z"
   },
   {
    "duration": 84,
    "start_time": "2022-11-22T23:07:29.658Z"
   },
   {
    "duration": 5,
    "start_time": "2022-11-22T23:07:43.341Z"
   },
   {
    "duration": 350,
    "start_time": "2022-11-22T23:07:48.587Z"
   },
   {
    "duration": 483,
    "start_time": "2022-11-22T23:08:29.925Z"
   },
   {
    "duration": 391,
    "start_time": "2022-11-22T23:09:17.727Z"
   },
   {
    "duration": 4588,
    "start_time": "2022-11-22T23:10:07.464Z"
   },
   {
    "duration": 12770,
    "start_time": "2022-11-22T23:10:26.282Z"
   },
   {
    "duration": 54254,
    "start_time": "2022-11-22T23:10:51.598Z"
   },
   {
    "duration": 32,
    "start_time": "2022-11-22T23:13:07.601Z"
   },
   {
    "duration": 704,
    "start_time": "2022-11-22T23:14:45.241Z"
   },
   {
    "duration": 1016,
    "start_time": "2022-11-22T23:14:59.832Z"
   },
   {
    "duration": 11,
    "start_time": "2022-11-22T23:16:27.137Z"
   },
   {
    "duration": 12,
    "start_time": "2022-11-22T23:17:12.523Z"
   },
   {
    "duration": 3,
    "start_time": "2022-11-22T23:17:37.458Z"
   },
   {
    "duration": 64,
    "start_time": "2022-11-22T23:17:37.464Z"
   },
   {
    "duration": 11,
    "start_time": "2022-11-22T23:17:37.530Z"
   },
   {
    "duration": 29,
    "start_time": "2022-11-22T23:17:37.542Z"
   },
   {
    "duration": 40,
    "start_time": "2022-11-22T23:17:37.573Z"
   },
   {
    "duration": 33,
    "start_time": "2022-11-22T23:17:37.615Z"
   },
   {
    "duration": 26,
    "start_time": "2022-11-22T23:17:37.649Z"
   },
   {
    "duration": 19,
    "start_time": "2022-11-22T23:17:37.676Z"
   },
   {
    "duration": 26,
    "start_time": "2022-11-22T23:17:37.696Z"
   },
   {
    "duration": 245,
    "start_time": "2022-11-22T23:17:37.724Z"
   },
   {
    "duration": 7,
    "start_time": "2022-11-22T23:17:37.971Z"
   },
   {
    "duration": 716,
    "start_time": "2022-11-22T23:17:37.979Z"
   },
   {
    "duration": 305,
    "start_time": "2022-11-22T23:17:38.697Z"
   },
   {
    "duration": 167,
    "start_time": "2022-11-22T23:17:39.005Z"
   },
   {
    "duration": 10,
    "start_time": "2022-11-22T23:17:39.173Z"
   },
   {
    "duration": 28,
    "start_time": "2022-11-22T23:17:39.184Z"
   },
   {
    "duration": 42,
    "start_time": "2022-11-22T23:17:39.214Z"
   },
   {
    "duration": 184,
    "start_time": "2022-11-22T23:17:39.258Z"
   },
   {
    "duration": 497,
    "start_time": "2022-11-22T23:17:39.444Z"
   },
   {
    "duration": 320,
    "start_time": "2022-11-22T23:17:39.942Z"
   },
   {
    "duration": 65084,
    "start_time": "2022-11-22T23:17:40.264Z"
   },
   {
    "duration": 93,
    "start_time": "2022-11-22T23:18:45.350Z"
   },
   {
    "duration": 4,
    "start_time": "2022-11-22T23:18:45.444Z"
   },
   {
    "duration": 1195,
    "start_time": "2022-11-22T23:18:45.449Z"
   },
   {
    "duration": 11,
    "start_time": "2022-11-22T23:18:46.646Z"
   },
   {
    "duration": 210,
    "start_time": "2022-11-22T23:18:46.660Z"
   },
   {
    "duration": 4,
    "start_time": "2022-11-22T23:18:46.872Z"
   },
   {
    "duration": 182074,
    "start_time": "2022-11-22T23:18:46.878Z"
   },
   {
    "duration": 82,
    "start_time": "2022-11-22T23:21:48.954Z"
   },
   {
    "duration": 3,
    "start_time": "2022-11-22T23:23:31.868Z"
   },
   {
    "duration": 1362,
    "start_time": "2022-11-22T23:24:26.209Z"
   },
   {
    "duration": 42,
    "start_time": "2022-11-22T23:24:27.573Z"
   },
   {
    "duration": 11,
    "start_time": "2022-11-22T23:24:27.616Z"
   },
   {
    "duration": 16,
    "start_time": "2022-11-22T23:24:27.629Z"
   },
   {
    "duration": 10,
    "start_time": "2022-11-22T23:24:27.648Z"
   },
   {
    "duration": 13,
    "start_time": "2022-11-22T23:24:27.659Z"
   },
   {
    "duration": 4,
    "start_time": "2022-11-22T23:24:27.674Z"
   },
   {
    "duration": 21,
    "start_time": "2022-11-22T23:24:27.680Z"
   },
   {
    "duration": 7,
    "start_time": "2022-11-22T23:24:27.703Z"
   },
   {
    "duration": 254,
    "start_time": "2022-11-22T23:24:27.712Z"
   },
   {
    "duration": 9,
    "start_time": "2022-11-22T23:24:27.968Z"
   },
   {
    "duration": 846,
    "start_time": "2022-11-22T23:24:27.979Z"
   },
   {
    "duration": 190,
    "start_time": "2022-11-22T23:24:28.827Z"
   },
   {
    "duration": 164,
    "start_time": "2022-11-22T23:24:29.020Z"
   },
   {
    "duration": 10,
    "start_time": "2022-11-22T23:24:29.186Z"
   },
   {
    "duration": 6,
    "start_time": "2022-11-22T23:24:29.197Z"
   },
   {
    "duration": 13,
    "start_time": "2022-11-22T23:24:29.205Z"
   },
   {
    "duration": 504,
    "start_time": "2022-11-22T23:24:29.234Z"
   },
   {
    "duration": 350,
    "start_time": "2022-11-22T23:24:29.740Z"
   },
   {
    "duration": 289,
    "start_time": "2022-11-22T23:24:30.092Z"
   },
   {
    "duration": 50955,
    "start_time": "2022-11-22T23:24:30.382Z"
   },
   {
    "duration": 25,
    "start_time": "2022-11-22T23:25:21.338Z"
   },
   {
    "duration": 674,
    "start_time": "2022-11-22T23:25:21.364Z"
   },
   {
    "duration": 9,
    "start_time": "2022-11-22T23:25:22.040Z"
   },
   {
    "duration": 188,
    "start_time": "2022-11-22T23:25:22.052Z"
   },
   {
    "duration": 4,
    "start_time": "2022-11-22T23:25:22.241Z"
   },
   {
    "duration": 1361,
    "start_time": "2022-11-22T23:25:42.097Z"
   },
   {
    "duration": 44,
    "start_time": "2022-11-22T23:25:43.460Z"
   },
   {
    "duration": 13,
    "start_time": "2022-11-22T23:25:43.506Z"
   },
   {
    "duration": 21,
    "start_time": "2022-11-22T23:25:43.521Z"
   },
   {
    "duration": 11,
    "start_time": "2022-11-22T23:25:43.544Z"
   },
   {
    "duration": 16,
    "start_time": "2022-11-22T23:25:43.558Z"
   },
   {
    "duration": 4,
    "start_time": "2022-11-22T23:25:43.576Z"
   },
   {
    "duration": 11,
    "start_time": "2022-11-22T23:25:43.582Z"
   },
   {
    "duration": 13,
    "start_time": "2022-11-22T23:25:43.594Z"
   },
   {
    "duration": 261,
    "start_time": "2022-11-22T23:25:43.610Z"
   },
   {
    "duration": 7,
    "start_time": "2022-11-22T23:25:43.872Z"
   },
   {
    "duration": 840,
    "start_time": "2022-11-22T23:25:43.881Z"
   },
   {
    "duration": 193,
    "start_time": "2022-11-22T23:25:44.723Z"
   },
   {
    "duration": 171,
    "start_time": "2022-11-22T23:25:44.918Z"
   },
   {
    "duration": 11,
    "start_time": "2022-11-22T23:25:45.090Z"
   },
   {
    "duration": 14,
    "start_time": "2022-11-22T23:25:45.103Z"
   },
   {
    "duration": 19,
    "start_time": "2022-11-22T23:25:45.119Z"
   },
   {
    "duration": 102,
    "start_time": "2022-11-22T23:25:45.140Z"
   },
   {
    "duration": 531,
    "start_time": "2022-11-22T23:25:45.244Z"
   },
   {
    "duration": 413,
    "start_time": "2022-11-22T23:25:45.777Z"
   },
   {
    "duration": 62063,
    "start_time": "2022-11-22T23:25:46.191Z"
   },
   {
    "duration": 32,
    "start_time": "2022-11-22T23:26:48.334Z"
   },
   {
    "duration": 1078,
    "start_time": "2022-11-22T23:26:48.368Z"
   },
   {
    "duration": 92,
    "start_time": "2022-11-22T23:26:49.448Z"
   },
   {
    "duration": 157,
    "start_time": "2022-11-22T23:26:49.541Z"
   },
   {
    "duration": 37,
    "start_time": "2022-11-22T23:26:49.699Z"
   },
   {
    "duration": 1367,
    "start_time": "2022-11-22T23:30:23.514Z"
   },
   {
    "duration": 45,
    "start_time": "2022-11-22T23:30:24.883Z"
   },
   {
    "duration": 15,
    "start_time": "2022-11-22T23:30:24.930Z"
   },
   {
    "duration": 10,
    "start_time": "2022-11-22T23:30:24.947Z"
   },
   {
    "duration": 18,
    "start_time": "2022-11-22T23:30:24.958Z"
   },
   {
    "duration": 28,
    "start_time": "2022-11-22T23:30:24.978Z"
   },
   {
    "duration": 16,
    "start_time": "2022-11-22T23:30:25.008Z"
   },
   {
    "duration": 17,
    "start_time": "2022-11-22T23:30:25.026Z"
   },
   {
    "duration": 14,
    "start_time": "2022-11-22T23:30:25.044Z"
   },
   {
    "duration": 248,
    "start_time": "2022-11-22T23:30:25.061Z"
   },
   {
    "duration": 7,
    "start_time": "2022-11-22T23:30:25.311Z"
   },
   {
    "duration": 809,
    "start_time": "2022-11-22T23:30:25.320Z"
   },
   {
    "duration": 210,
    "start_time": "2022-11-22T23:30:26.131Z"
   },
   {
    "duration": 162,
    "start_time": "2022-11-22T23:30:26.343Z"
   },
   {
    "duration": 10,
    "start_time": "2022-11-22T23:30:26.507Z"
   },
   {
    "duration": 2,
    "start_time": "2022-11-22T23:30:26.519Z"
   },
   {
    "duration": 9,
    "start_time": "2022-11-22T23:30:26.534Z"
   },
   {
    "duration": 198,
    "start_time": "2022-11-22T23:30:26.544Z"
   },
   {
    "duration": 604,
    "start_time": "2022-11-22T23:30:26.744Z"
   },
   {
    "duration": 383,
    "start_time": "2022-11-22T23:30:27.350Z"
   },
   {
    "duration": 55012,
    "start_time": "2022-11-22T23:30:27.735Z"
   },
   {
    "duration": 34,
    "start_time": "2022-11-22T23:31:22.749Z"
   },
   {
    "duration": 758,
    "start_time": "2022-11-22T23:31:22.784Z"
   },
   {
    "duration": 12,
    "start_time": "2022-11-22T23:31:23.543Z"
   },
   {
    "duration": 220,
    "start_time": "2022-11-22T23:31:23.557Z"
   },
   {
    "duration": 3,
    "start_time": "2022-11-22T23:31:23.779Z"
   },
   {
    "duration": 12672,
    "start_time": "2022-11-22T23:31:54.175Z"
   },
   {
    "duration": 9,
    "start_time": "2022-11-22T23:32:30.643Z"
   },
   {
    "duration": 1356,
    "start_time": "2022-11-22T23:32:38.473Z"
   },
   {
    "duration": 43,
    "start_time": "2022-11-22T23:32:39.831Z"
   },
   {
    "duration": 12,
    "start_time": "2022-11-22T23:32:39.876Z"
   },
   {
    "duration": 10,
    "start_time": "2022-11-22T23:32:39.889Z"
   },
   {
    "duration": 10,
    "start_time": "2022-11-22T23:32:39.901Z"
   },
   {
    "duration": 13,
    "start_time": "2022-11-22T23:32:39.912Z"
   },
   {
    "duration": 10,
    "start_time": "2022-11-22T23:32:39.926Z"
   },
   {
    "duration": 11,
    "start_time": "2022-11-22T23:32:39.937Z"
   },
   {
    "duration": 16,
    "start_time": "2022-11-22T23:32:39.950Z"
   },
   {
    "duration": 261,
    "start_time": "2022-11-22T23:32:39.967Z"
   },
   {
    "duration": 10,
    "start_time": "2022-11-22T23:32:40.229Z"
   },
   {
    "duration": 809,
    "start_time": "2022-11-22T23:32:40.240Z"
   },
   {
    "duration": 193,
    "start_time": "2022-11-22T23:32:41.051Z"
   },
   {
    "duration": 159,
    "start_time": "2022-11-22T23:32:41.247Z"
   },
   {
    "duration": 11,
    "start_time": "2022-11-22T23:32:41.408Z"
   },
   {
    "duration": 2,
    "start_time": "2022-11-22T23:32:41.421Z"
   },
   {
    "duration": 11,
    "start_time": "2022-11-22T23:32:41.434Z"
   },
   {
    "duration": 10,
    "start_time": "2022-11-22T23:32:41.447Z"
   },
   {
    "duration": 286,
    "start_time": "2022-11-22T23:32:41.458Z"
   },
   {
    "duration": 469,
    "start_time": "2022-11-22T23:32:41.836Z"
   },
   {
    "duration": 440,
    "start_time": "2022-11-22T23:32:42.307Z"
   },
   {
    "duration": 13201,
    "start_time": "2022-11-22T23:32:42.749Z"
   },
   {
    "duration": 30,
    "start_time": "2022-11-22T23:32:56.036Z"
   },
   {
    "duration": 871,
    "start_time": "2022-11-22T23:32:56.068Z"
   },
   {
    "duration": 7,
    "start_time": "2022-11-22T23:32:56.940Z"
   },
   {
    "duration": 210,
    "start_time": "2022-11-22T23:32:56.949Z"
   },
   {
    "duration": 4,
    "start_time": "2022-11-22T23:32:57.160Z"
   },
   {
    "duration": 9,
    "start_time": "2022-11-22T23:35:25.506Z"
   },
   {
    "duration": 1482,
    "start_time": "2022-11-22T23:35:31.409Z"
   },
   {
    "duration": 44,
    "start_time": "2022-11-22T23:35:32.893Z"
   },
   {
    "duration": 12,
    "start_time": "2022-11-22T23:35:32.938Z"
   },
   {
    "duration": 9,
    "start_time": "2022-11-22T23:35:32.952Z"
   },
   {
    "duration": 16,
    "start_time": "2022-11-22T23:35:32.963Z"
   },
   {
    "duration": 24,
    "start_time": "2022-11-22T23:35:32.981Z"
   },
   {
    "duration": 4,
    "start_time": "2022-11-22T23:35:33.006Z"
   },
   {
    "duration": 12,
    "start_time": "2022-11-22T23:35:33.011Z"
   },
   {
    "duration": 6,
    "start_time": "2022-11-22T23:35:33.024Z"
   },
   {
    "duration": 251,
    "start_time": "2022-11-22T23:35:33.035Z"
   },
   {
    "duration": 6,
    "start_time": "2022-11-22T23:35:33.288Z"
   },
   {
    "duration": 805,
    "start_time": "2022-11-22T23:35:33.296Z"
   },
   {
    "duration": 186,
    "start_time": "2022-11-22T23:35:34.103Z"
   },
   {
    "duration": 173,
    "start_time": "2022-11-22T23:35:34.292Z"
   },
   {
    "duration": 12,
    "start_time": "2022-11-22T23:35:34.467Z"
   },
   {
    "duration": 7,
    "start_time": "2022-11-22T23:35:34.481Z"
   },
   {
    "duration": 14,
    "start_time": "2022-11-22T23:35:34.489Z"
   },
   {
    "duration": 13,
    "start_time": "2022-11-22T23:35:34.505Z"
   },
   {
    "duration": 218,
    "start_time": "2022-11-22T23:35:34.519Z"
   },
   {
    "duration": 480,
    "start_time": "2022-11-22T23:35:34.738Z"
   },
   {
    "duration": 401,
    "start_time": "2022-11-22T23:35:35.220Z"
   },
   {
    "duration": 12414,
    "start_time": "2022-11-22T23:35:35.623Z"
   },
   {
    "duration": 32,
    "start_time": "2022-11-22T23:35:48.039Z"
   },
   {
    "duration": 871,
    "start_time": "2022-11-22T23:35:48.072Z"
   },
   {
    "duration": 7,
    "start_time": "2022-11-22T23:35:48.944Z"
   },
   {
    "duration": 258,
    "start_time": "2022-11-22T23:35:48.953Z"
   },
   {
    "duration": 4,
    "start_time": "2022-11-22T23:35:49.213Z"
   },
   {
    "duration": 4,
    "start_time": "2022-11-22T23:37:11.885Z"
   },
   {
    "duration": 44,
    "start_time": "2022-11-22T23:37:11.891Z"
   },
   {
    "duration": 12,
    "start_time": "2022-11-22T23:37:11.936Z"
   },
   {
    "duration": 15,
    "start_time": "2022-11-22T23:37:11.950Z"
   },
   {
    "duration": 10,
    "start_time": "2022-11-22T23:37:11.967Z"
   },
   {
    "duration": 19,
    "start_time": "2022-11-22T23:37:11.979Z"
   },
   {
    "duration": 17,
    "start_time": "2022-11-22T23:37:12.000Z"
   },
   {
    "duration": 7,
    "start_time": "2022-11-22T23:37:12.019Z"
   },
   {
    "duration": 10,
    "start_time": "2022-11-22T23:37:12.028Z"
   },
   {
    "duration": 229,
    "start_time": "2022-11-22T23:37:12.040Z"
   },
   {
    "duration": 7,
    "start_time": "2022-11-22T23:37:12.271Z"
   },
   {
    "duration": 792,
    "start_time": "2022-11-22T23:37:12.280Z"
   },
   {
    "duration": 191,
    "start_time": "2022-11-22T23:37:13.073Z"
   },
   {
    "duration": 168,
    "start_time": "2022-11-22T23:37:13.267Z"
   },
   {
    "duration": 11,
    "start_time": "2022-11-22T23:37:13.437Z"
   },
   {
    "duration": 14,
    "start_time": "2022-11-22T23:37:13.449Z"
   },
   {
    "duration": 21,
    "start_time": "2022-11-22T23:37:13.465Z"
   },
   {
    "duration": 11,
    "start_time": "2022-11-22T23:37:13.488Z"
   },
   {
    "duration": 137,
    "start_time": "2022-11-22T23:37:13.501Z"
   },
   {
    "duration": 435,
    "start_time": "2022-11-22T23:37:13.640Z"
   },
   {
    "duration": 390,
    "start_time": "2022-11-22T23:37:14.076Z"
   },
   {
    "duration": 12578,
    "start_time": "2022-11-22T23:37:14.468Z"
   },
   {
    "duration": 28,
    "start_time": "2022-11-22T23:37:27.048Z"
   },
   {
    "duration": 765,
    "start_time": "2022-11-22T23:37:27.077Z"
   },
   {
    "duration": 7,
    "start_time": "2022-11-22T23:37:27.844Z"
   },
   {
    "duration": 209,
    "start_time": "2022-11-22T23:37:27.853Z"
   },
   {
    "duration": 4,
    "start_time": "2022-11-22T23:37:28.064Z"
   },
   {
    "duration": 4,
    "start_time": "2022-11-22T23:38:08.839Z"
   },
   {
    "duration": 46,
    "start_time": "2022-11-22T23:38:08.845Z"
   },
   {
    "duration": 12,
    "start_time": "2022-11-22T23:38:08.892Z"
   },
   {
    "duration": 12,
    "start_time": "2022-11-22T23:38:08.906Z"
   },
   {
    "duration": 11,
    "start_time": "2022-11-22T23:38:08.920Z"
   },
   {
    "duration": 19,
    "start_time": "2022-11-22T23:38:08.933Z"
   },
   {
    "duration": 10,
    "start_time": "2022-11-22T23:38:08.954Z"
   },
   {
    "duration": 23,
    "start_time": "2022-11-22T23:38:08.966Z"
   },
   {
    "duration": 7,
    "start_time": "2022-11-22T23:38:08.992Z"
   },
   {
    "duration": 249,
    "start_time": "2022-11-22T23:38:09.001Z"
   },
   {
    "duration": 8,
    "start_time": "2022-11-22T23:38:09.251Z"
   },
   {
    "duration": 839,
    "start_time": "2022-11-22T23:38:09.261Z"
   },
   {
    "duration": 198,
    "start_time": "2022-11-22T23:38:10.101Z"
   },
   {
    "duration": 171,
    "start_time": "2022-11-22T23:38:10.301Z"
   },
   {
    "duration": 11,
    "start_time": "2022-11-22T23:38:10.474Z"
   },
   {
    "duration": 4,
    "start_time": "2022-11-22T23:38:10.486Z"
   },
   {
    "duration": 19,
    "start_time": "2022-11-22T23:38:10.491Z"
   },
   {
    "duration": 8,
    "start_time": "2022-11-22T23:38:10.512Z"
   },
   {
    "duration": 223,
    "start_time": "2022-11-22T23:38:10.521Z"
   },
   {
    "duration": 430,
    "start_time": "2022-11-22T23:38:10.836Z"
   },
   {
    "duration": 343,
    "start_time": "2022-11-22T23:38:11.269Z"
   },
   {
    "duration": 11834,
    "start_time": "2022-11-22T23:38:11.613Z"
   },
   {
    "duration": 30,
    "start_time": "2022-11-22T23:38:23.449Z"
   },
   {
    "duration": 759,
    "start_time": "2022-11-22T23:38:23.480Z"
   },
   {
    "duration": 6,
    "start_time": "2022-11-22T23:38:24.241Z"
   },
   {
    "duration": 214,
    "start_time": "2022-11-22T23:38:24.249Z"
   },
   {
    "duration": 4,
    "start_time": "2022-11-22T23:38:24.465Z"
   },
   {
    "duration": 1325,
    "start_time": "2022-11-22T23:39:22.021Z"
   },
   {
    "duration": 42,
    "start_time": "2022-11-22T23:39:23.347Z"
   },
   {
    "duration": 13,
    "start_time": "2022-11-22T23:39:23.391Z"
   },
   {
    "duration": 23,
    "start_time": "2022-11-22T23:39:23.406Z"
   },
   {
    "duration": 25,
    "start_time": "2022-11-22T23:39:23.431Z"
   },
   {
    "duration": 17,
    "start_time": "2022-11-22T23:39:23.458Z"
   },
   {
    "duration": 19,
    "start_time": "2022-11-22T23:39:23.477Z"
   },
   {
    "duration": 36,
    "start_time": "2022-11-22T23:39:23.499Z"
   },
   {
    "duration": 26,
    "start_time": "2022-11-22T23:39:23.537Z"
   },
   {
    "duration": 272,
    "start_time": "2022-11-22T23:39:23.565Z"
   },
   {
    "duration": 9,
    "start_time": "2022-11-22T23:39:23.838Z"
   },
   {
    "duration": 841,
    "start_time": "2022-11-22T23:39:23.848Z"
   },
   {
    "duration": 187,
    "start_time": "2022-11-22T23:39:24.691Z"
   },
   {
    "duration": 163,
    "start_time": "2022-11-22T23:39:24.880Z"
   },
   {
    "duration": 10,
    "start_time": "2022-11-22T23:39:25.045Z"
   },
   {
    "duration": 9,
    "start_time": "2022-11-22T23:39:25.057Z"
   },
   {
    "duration": 15,
    "start_time": "2022-11-22T23:39:25.067Z"
   },
   {
    "duration": 9,
    "start_time": "2022-11-22T23:39:25.084Z"
   },
   {
    "duration": 143,
    "start_time": "2022-11-22T23:39:25.094Z"
   },
   {
    "duration": 384,
    "start_time": "2022-11-22T23:39:25.239Z"
   },
   {
    "duration": 257,
    "start_time": "2022-11-22T23:39:25.626Z"
   },
   {
    "duration": 171871,
    "start_time": "2022-11-22T23:39:25.884Z"
   },
   {
    "duration": 23,
    "start_time": "2022-11-22T23:42:17.758Z"
   },
   {
    "duration": 5108,
    "start_time": "2022-11-22T23:42:17.841Z"
   },
   {
    "duration": 8,
    "start_time": "2022-11-22T23:42:22.951Z"
   },
   {
    "duration": 203,
    "start_time": "2022-11-22T23:42:22.960Z"
   },
   {
    "duration": 3,
    "start_time": "2022-11-22T23:42:23.165Z"
   },
   {
    "duration": 1389,
    "start_time": "2022-11-22T23:42:49.349Z"
   },
   {
    "duration": 45,
    "start_time": "2022-11-22T23:42:50.740Z"
   },
   {
    "duration": 12,
    "start_time": "2022-11-22T23:42:50.787Z"
   },
   {
    "duration": 13,
    "start_time": "2022-11-22T23:42:50.801Z"
   },
   {
    "duration": 13,
    "start_time": "2022-11-22T23:42:50.816Z"
   },
   {
    "duration": 32,
    "start_time": "2022-11-22T23:42:50.830Z"
   },
   {
    "duration": 10,
    "start_time": "2022-11-22T23:42:50.864Z"
   },
   {
    "duration": 16,
    "start_time": "2022-11-22T23:42:50.876Z"
   },
   {
    "duration": 11,
    "start_time": "2022-11-22T23:42:50.893Z"
   },
   {
    "duration": 279,
    "start_time": "2022-11-22T23:42:50.906Z"
   },
   {
    "duration": 9,
    "start_time": "2022-11-22T23:42:51.187Z"
   },
   {
    "duration": 892,
    "start_time": "2022-11-22T23:42:51.197Z"
   },
   {
    "duration": 212,
    "start_time": "2022-11-22T23:42:52.092Z"
   },
   {
    "duration": 220,
    "start_time": "2022-11-22T23:42:52.308Z"
   },
   {
    "duration": 16,
    "start_time": "2022-11-22T23:42:52.530Z"
   },
   {
    "duration": 20,
    "start_time": "2022-11-22T23:42:52.548Z"
   },
   {
    "duration": 25,
    "start_time": "2022-11-22T23:42:52.572Z"
   },
   {
    "duration": 23,
    "start_time": "2022-11-22T23:42:52.599Z"
   },
   {
    "duration": 213,
    "start_time": "2022-11-22T23:42:52.625Z"
   },
   {
    "duration": 452,
    "start_time": "2022-11-22T23:42:52.841Z"
   },
   {
    "duration": 323,
    "start_time": "2022-11-22T23:42:53.294Z"
   },
   {
    "duration": 17331,
    "start_time": "2022-11-22T23:42:53.619Z"
   },
   {
    "duration": 27,
    "start_time": "2022-11-22T23:43:11.036Z"
   },
   {
    "duration": 676,
    "start_time": "2022-11-22T23:43:11.065Z"
   },
   {
    "duration": 7,
    "start_time": "2022-11-22T23:43:11.742Z"
   },
   {
    "duration": 191,
    "start_time": "2022-11-22T23:43:11.751Z"
   },
   {
    "duration": 3,
    "start_time": "2022-11-22T23:43:11.944Z"
   },
   {
    "duration": 1275,
    "start_time": "2022-11-22T23:43:36.602Z"
   },
   {
    "duration": 43,
    "start_time": "2022-11-22T23:43:37.879Z"
   },
   {
    "duration": 11,
    "start_time": "2022-11-22T23:43:37.924Z"
   },
   {
    "duration": 10,
    "start_time": "2022-11-22T23:43:37.937Z"
   },
   {
    "duration": 9,
    "start_time": "2022-11-22T23:43:37.950Z"
   },
   {
    "duration": 16,
    "start_time": "2022-11-22T23:43:37.960Z"
   },
   {
    "duration": 7,
    "start_time": "2022-11-22T23:43:37.977Z"
   },
   {
    "duration": 21,
    "start_time": "2022-11-22T23:43:37.985Z"
   },
   {
    "duration": 17,
    "start_time": "2022-11-22T23:43:38.008Z"
   },
   {
    "duration": 258,
    "start_time": "2022-11-22T23:43:38.027Z"
   },
   {
    "duration": 7,
    "start_time": "2022-11-22T23:43:38.287Z"
   },
   {
    "duration": 834,
    "start_time": "2022-11-22T23:43:38.295Z"
   },
   {
    "duration": 198,
    "start_time": "2022-11-22T23:43:39.130Z"
   },
   {
    "duration": 167,
    "start_time": "2022-11-22T23:43:39.330Z"
   },
   {
    "duration": 12,
    "start_time": "2022-11-22T23:43:39.498Z"
   },
   {
    "duration": 32,
    "start_time": "2022-11-22T23:43:39.511Z"
   },
   {
    "duration": 33,
    "start_time": "2022-11-22T23:43:39.544Z"
   },
   {
    "duration": 41,
    "start_time": "2022-11-22T23:43:39.579Z"
   },
   {
    "duration": 415,
    "start_time": "2022-11-22T23:43:39.622Z"
   },
   {
    "duration": 473,
    "start_time": "2022-11-22T23:43:40.039Z"
   },
   {
    "duration": 368,
    "start_time": "2022-11-22T23:43:40.513Z"
   },
   {
    "duration": 32963,
    "start_time": "2022-11-22T23:43:40.883Z"
   },
   {
    "duration": 88,
    "start_time": "2022-11-22T23:44:13.848Z"
   },
   {
    "duration": 703,
    "start_time": "2022-11-22T23:44:13.938Z"
   },
   {
    "duration": 7,
    "start_time": "2022-11-22T23:44:14.642Z"
   },
   {
    "duration": 246,
    "start_time": "2022-11-22T23:44:14.650Z"
   },
   {
    "duration": 3,
    "start_time": "2022-11-22T23:44:14.898Z"
   },
   {
    "duration": 1308,
    "start_time": "2022-11-22T23:44:39.665Z"
   },
   {
    "duration": 44,
    "start_time": "2022-11-22T23:44:40.975Z"
   },
   {
    "duration": 11,
    "start_time": "2022-11-22T23:44:41.021Z"
   },
   {
    "duration": 20,
    "start_time": "2022-11-22T23:44:41.034Z"
   },
   {
    "duration": 11,
    "start_time": "2022-11-22T23:44:41.056Z"
   },
   {
    "duration": 15,
    "start_time": "2022-11-22T23:44:41.068Z"
   },
   {
    "duration": 11,
    "start_time": "2022-11-22T23:44:41.084Z"
   },
   {
    "duration": 17,
    "start_time": "2022-11-22T23:44:41.096Z"
   },
   {
    "duration": 20,
    "start_time": "2022-11-22T23:44:41.115Z"
   },
   {
    "duration": 251,
    "start_time": "2022-11-22T23:44:41.137Z"
   },
   {
    "duration": 8,
    "start_time": "2022-11-22T23:44:41.389Z"
   },
   {
    "duration": 891,
    "start_time": "2022-11-22T23:44:41.398Z"
   },
   {
    "duration": 217,
    "start_time": "2022-11-22T23:44:42.291Z"
   },
   {
    "duration": 183,
    "start_time": "2022-11-22T23:44:42.511Z"
   },
   {
    "duration": 14,
    "start_time": "2022-11-22T23:44:42.696Z"
   },
   {
    "duration": 12,
    "start_time": "2022-11-22T23:44:42.712Z"
   },
   {
    "duration": 10,
    "start_time": "2022-11-22T23:44:42.735Z"
   },
   {
    "duration": 594,
    "start_time": "2022-11-22T23:44:42.747Z"
   },
   {
    "duration": 503,
    "start_time": "2022-11-22T23:44:43.346Z"
   },
   {
    "duration": 389,
    "start_time": "2022-11-22T23:44:43.851Z"
   },
   {
    "duration": 12495,
    "start_time": "2022-11-22T23:44:44.242Z"
   },
   {
    "duration": 39,
    "start_time": "2022-11-22T23:44:56.740Z"
   },
   {
    "duration": 761,
    "start_time": "2022-11-22T23:44:56.781Z"
   },
   {
    "duration": 11,
    "start_time": "2022-11-22T23:44:57.544Z"
   },
   {
    "duration": 258,
    "start_time": "2022-11-22T23:44:57.557Z"
   },
   {
    "duration": 3,
    "start_time": "2022-11-22T23:44:57.817Z"
   },
   {
    "duration": 1339,
    "start_time": "2022-11-22T23:47:19.260Z"
   },
   {
    "duration": 43,
    "start_time": "2022-11-22T23:47:20.601Z"
   },
   {
    "duration": 12,
    "start_time": "2022-11-22T23:47:20.646Z"
   },
   {
    "duration": 17,
    "start_time": "2022-11-22T23:47:20.660Z"
   },
   {
    "duration": 23,
    "start_time": "2022-11-22T23:47:20.680Z"
   },
   {
    "duration": 29,
    "start_time": "2022-11-22T23:47:20.705Z"
   },
   {
    "duration": 32,
    "start_time": "2022-11-22T23:47:20.735Z"
   },
   {
    "duration": 34,
    "start_time": "2022-11-22T23:47:20.768Z"
   },
   {
    "duration": 29,
    "start_time": "2022-11-22T23:47:20.804Z"
   },
   {
    "duration": 272,
    "start_time": "2022-11-22T23:47:20.835Z"
   },
   {
    "duration": 9,
    "start_time": "2022-11-22T23:47:21.109Z"
   },
   {
    "duration": 906,
    "start_time": "2022-11-22T23:47:21.119Z"
   },
   {
    "duration": 197,
    "start_time": "2022-11-22T23:47:22.027Z"
   },
   {
    "duration": 170,
    "start_time": "2022-11-22T23:47:22.227Z"
   },
   {
    "duration": 15,
    "start_time": "2022-11-22T23:47:22.399Z"
   },
   {
    "duration": 33,
    "start_time": "2022-11-22T23:47:22.416Z"
   },
   {
    "duration": 26,
    "start_time": "2022-11-22T23:47:22.451Z"
   },
   {
    "duration": 23,
    "start_time": "2022-11-22T23:47:22.479Z"
   },
   {
    "duration": 134,
    "start_time": "2022-11-22T23:47:22.504Z"
   },
   {
    "duration": 545,
    "start_time": "2022-11-22T23:47:22.640Z"
   },
   {
    "duration": 398,
    "start_time": "2022-11-22T23:47:23.186Z"
   },
   {
    "duration": 23260,
    "start_time": "2022-11-22T23:47:23.586Z"
   },
   {
    "duration": 33,
    "start_time": "2022-11-22T23:47:46.848Z"
   },
   {
    "duration": 856,
    "start_time": "2022-11-22T23:47:46.883Z"
   },
   {
    "duration": 7,
    "start_time": "2022-11-22T23:47:47.741Z"
   },
   {
    "duration": 251,
    "start_time": "2022-11-22T23:47:47.750Z"
   },
   {
    "duration": 5,
    "start_time": "2022-11-22T23:47:48.003Z"
   },
   {
    "duration": 1307,
    "start_time": "2022-11-23T00:11:29.396Z"
   },
   {
    "duration": 44,
    "start_time": "2022-11-23T00:11:30.705Z"
   },
   {
    "duration": 35,
    "start_time": "2022-11-23T00:11:30.751Z"
   },
   {
    "duration": 42,
    "start_time": "2022-11-23T00:11:30.788Z"
   },
   {
    "duration": 27,
    "start_time": "2022-11-23T00:11:30.832Z"
   },
   {
    "duration": 51,
    "start_time": "2022-11-23T00:11:30.861Z"
   },
   {
    "duration": 55,
    "start_time": "2022-11-23T00:11:30.914Z"
   },
   {
    "duration": 45,
    "start_time": "2022-11-23T00:11:30.970Z"
   },
   {
    "duration": 10,
    "start_time": "2022-11-23T00:11:31.017Z"
   },
   {
    "duration": 278,
    "start_time": "2022-11-23T00:11:31.029Z"
   },
   {
    "duration": 9,
    "start_time": "2022-11-23T00:11:31.309Z"
   },
   {
    "duration": 858,
    "start_time": "2022-11-23T00:11:31.319Z"
   },
   {
    "duration": 195,
    "start_time": "2022-11-23T00:11:32.179Z"
   },
   {
    "duration": 236,
    "start_time": "2022-11-23T00:11:32.376Z"
   },
   {
    "duration": 12,
    "start_time": "2022-11-23T00:11:32.614Z"
   },
   {
    "duration": 11,
    "start_time": "2022-11-23T00:11:32.628Z"
   },
   {
    "duration": 14,
    "start_time": "2022-11-23T00:11:32.641Z"
   },
   {
    "duration": 12,
    "start_time": "2022-11-23T00:11:32.656Z"
   },
   {
    "duration": 167,
    "start_time": "2022-11-23T00:11:32.670Z"
   },
   {
    "duration": 628,
    "start_time": "2022-11-23T00:11:32.839Z"
   },
   {
    "duration": 396,
    "start_time": "2022-11-23T00:11:33.469Z"
   },
   {
    "duration": 12577,
    "start_time": "2022-11-23T00:11:33.867Z"
   },
   {
    "duration": 32,
    "start_time": "2022-11-23T00:11:46.445Z"
   },
   {
    "duration": 867,
    "start_time": "2022-11-23T00:11:46.478Z"
   },
   {
    "duration": 7,
    "start_time": "2022-11-23T00:11:47.347Z"
   },
   {
    "duration": 254,
    "start_time": "2022-11-23T00:11:47.355Z"
   },
   {
    "duration": 4,
    "start_time": "2022-11-23T00:11:47.611Z"
   },
   {
    "duration": 1260,
    "start_time": "2022-11-23T00:12:07.201Z"
   },
   {
    "duration": 43,
    "start_time": "2022-11-23T00:12:08.463Z"
   },
   {
    "duration": 12,
    "start_time": "2022-11-23T00:12:08.507Z"
   },
   {
    "duration": 34,
    "start_time": "2022-11-23T00:12:08.521Z"
   },
   {
    "duration": 18,
    "start_time": "2022-11-23T00:12:08.556Z"
   },
   {
    "duration": 31,
    "start_time": "2022-11-23T00:12:08.575Z"
   },
   {
    "duration": 22,
    "start_time": "2022-11-23T00:12:08.608Z"
   },
   {
    "duration": 30,
    "start_time": "2022-11-23T00:12:08.632Z"
   },
   {
    "duration": 22,
    "start_time": "2022-11-23T00:12:08.664Z"
   },
   {
    "duration": 266,
    "start_time": "2022-11-23T00:12:08.688Z"
   },
   {
    "duration": 7,
    "start_time": "2022-11-23T00:12:08.956Z"
   },
   {
    "duration": 813,
    "start_time": "2022-11-23T00:12:08.964Z"
   },
   {
    "duration": 169,
    "start_time": "2022-11-23T00:12:09.779Z"
   },
   {
    "duration": 168,
    "start_time": "2022-11-23T00:12:09.949Z"
   },
   {
    "duration": 18,
    "start_time": "2022-11-23T00:12:10.119Z"
   },
   {
    "duration": 38,
    "start_time": "2022-11-23T00:12:10.138Z"
   },
   {
    "duration": 38,
    "start_time": "2022-11-23T00:12:10.178Z"
   },
   {
    "duration": 45,
    "start_time": "2022-11-23T00:12:10.218Z"
   },
   {
    "duration": 272,
    "start_time": "2022-11-23T00:12:10.264Z"
   },
   {
    "duration": 427,
    "start_time": "2022-11-23T00:12:10.538Z"
   },
   {
    "duration": 360,
    "start_time": "2022-11-23T00:12:10.966Z"
   },
   {
    "duration": 12018,
    "start_time": "2022-11-23T00:12:11.328Z"
   },
   {
    "duration": 32,
    "start_time": "2022-11-23T00:12:23.347Z"
   },
   {
    "duration": 856,
    "start_time": "2022-11-23T00:12:23.381Z"
   },
   {
    "duration": 7,
    "start_time": "2022-11-23T00:12:24.239Z"
   },
   {
    "duration": 260,
    "start_time": "2022-11-23T00:12:24.249Z"
   },
   {
    "duration": 3,
    "start_time": "2022-11-23T00:12:24.511Z"
   },
   {
    "duration": 1358,
    "start_time": "2022-11-23T00:12:52.240Z"
   },
   {
    "duration": 48,
    "start_time": "2022-11-23T00:12:53.600Z"
   },
   {
    "duration": 12,
    "start_time": "2022-11-23T00:12:53.649Z"
   },
   {
    "duration": 22,
    "start_time": "2022-11-23T00:12:53.663Z"
   },
   {
    "duration": 26,
    "start_time": "2022-11-23T00:12:53.687Z"
   },
   {
    "duration": 22,
    "start_time": "2022-11-23T00:12:53.714Z"
   },
   {
    "duration": 16,
    "start_time": "2022-11-23T00:12:53.738Z"
   },
   {
    "duration": 11,
    "start_time": "2022-11-23T00:12:53.756Z"
   },
   {
    "duration": 7,
    "start_time": "2022-11-23T00:12:53.768Z"
   },
   {
    "duration": 241,
    "start_time": "2022-11-23T00:12:53.776Z"
   },
   {
    "duration": 7,
    "start_time": "2022-11-23T00:12:54.019Z"
   },
   {
    "duration": 834,
    "start_time": "2022-11-23T00:12:54.035Z"
   },
   {
    "duration": 184,
    "start_time": "2022-11-23T00:12:54.871Z"
   },
   {
    "duration": 167,
    "start_time": "2022-11-23T00:12:55.058Z"
   },
   {
    "duration": 14,
    "start_time": "2022-11-23T00:12:55.227Z"
   },
   {
    "duration": 17,
    "start_time": "2022-11-23T00:12:55.243Z"
   },
   {
    "duration": 25,
    "start_time": "2022-11-23T00:12:55.262Z"
   },
   {
    "duration": 13,
    "start_time": "2022-11-23T00:12:55.289Z"
   },
   {
    "duration": 134,
    "start_time": "2022-11-23T00:12:55.304Z"
   },
   {
    "duration": 533,
    "start_time": "2022-11-23T00:12:55.439Z"
   },
   {
    "duration": 400,
    "start_time": "2022-11-23T00:12:55.973Z"
   },
   {
    "duration": 11771,
    "start_time": "2022-11-23T00:12:56.375Z"
   },
   {
    "duration": 30,
    "start_time": "2022-11-23T00:13:08.148Z"
   },
   {
    "duration": 707,
    "start_time": "2022-11-23T00:13:08.236Z"
   },
   {
    "duration": 6,
    "start_time": "2022-11-23T00:13:08.944Z"
   },
   {
    "duration": 247,
    "start_time": "2022-11-23T00:13:08.952Z"
   },
   {
    "duration": 4,
    "start_time": "2022-11-23T00:13:09.201Z"
   },
   {
    "duration": 1630,
    "start_time": "2022-11-23T18:00:48.946Z"
   },
   {
    "duration": 142,
    "start_time": "2022-11-23T18:00:50.578Z"
   },
   {
    "duration": 12,
    "start_time": "2022-11-23T18:00:50.722Z"
   },
   {
    "duration": 20,
    "start_time": "2022-11-23T18:00:50.736Z"
   },
   {
    "duration": 26,
    "start_time": "2022-11-23T18:00:50.758Z"
   },
   {
    "duration": 42,
    "start_time": "2022-11-23T18:00:50.785Z"
   },
   {
    "duration": 17,
    "start_time": "2022-11-23T18:00:50.829Z"
   },
   {
    "duration": 21,
    "start_time": "2022-11-23T18:00:50.848Z"
   },
   {
    "duration": 17,
    "start_time": "2022-11-23T18:00:50.871Z"
   },
   {
    "duration": 278,
    "start_time": "2022-11-23T18:00:50.890Z"
   },
   {
    "duration": 13,
    "start_time": "2022-11-23T18:00:51.170Z"
   },
   {
    "duration": 893,
    "start_time": "2022-11-23T18:00:51.184Z"
   },
   {
    "duration": 200,
    "start_time": "2022-11-23T18:00:52.079Z"
   },
   {
    "duration": 159,
    "start_time": "2022-11-23T18:00:52.281Z"
   },
   {
    "duration": 12,
    "start_time": "2022-11-23T18:00:52.442Z"
   },
   {
    "duration": 20,
    "start_time": "2022-11-23T18:01:28.773Z"
   },
   {
    "duration": 1357,
    "start_time": "2022-11-23T18:02:05.931Z"
   },
   {
    "duration": 47,
    "start_time": "2022-11-23T18:02:07.290Z"
   },
   {
    "duration": 13,
    "start_time": "2022-11-23T18:02:07.339Z"
   },
   {
    "duration": 24,
    "start_time": "2022-11-23T18:02:07.355Z"
   },
   {
    "duration": 7,
    "start_time": "2022-11-23T18:02:07.382Z"
   },
   {
    "duration": 17,
    "start_time": "2022-11-23T18:02:07.390Z"
   },
   {
    "duration": 5,
    "start_time": "2022-11-23T18:02:07.409Z"
   },
   {
    "duration": 13,
    "start_time": "2022-11-23T18:02:07.416Z"
   },
   {
    "duration": 10,
    "start_time": "2022-11-23T18:02:07.431Z"
   },
   {
    "duration": 261,
    "start_time": "2022-11-23T18:02:07.443Z"
   },
   {
    "duration": 8,
    "start_time": "2022-11-23T18:02:07.705Z"
   },
   {
    "duration": 822,
    "start_time": "2022-11-23T18:02:07.715Z"
   },
   {
    "duration": 181,
    "start_time": "2022-11-23T18:02:08.539Z"
   },
   {
    "duration": 160,
    "start_time": "2022-11-23T18:02:08.721Z"
   },
   {
    "duration": 13,
    "start_time": "2022-11-23T18:02:08.884Z"
   },
   {
    "duration": 19,
    "start_time": "2022-11-23T18:02:08.899Z"
   },
   {
    "duration": 3,
    "start_time": "2022-11-23T18:02:08.919Z"
   },
   {
    "duration": 20,
    "start_time": "2022-11-23T18:02:08.924Z"
   },
   {
    "duration": 10,
    "start_time": "2022-11-23T18:02:08.946Z"
   },
   {
    "duration": 102,
    "start_time": "2022-11-23T18:02:08.978Z"
   },
   {
    "duration": 544,
    "start_time": "2022-11-23T18:02:09.082Z"
   },
   {
    "duration": 390,
    "start_time": "2022-11-23T18:02:09.627Z"
   },
   {
    "duration": 67001,
    "start_time": "2022-11-23T18:02:10.019Z"
   },
   {
    "duration": 0,
    "start_time": "2022-11-23T18:03:17.022Z"
   },
   {
    "duration": 0,
    "start_time": "2022-11-23T18:03:17.024Z"
   },
   {
    "duration": 0,
    "start_time": "2022-11-23T18:03:17.025Z"
   },
   {
    "duration": 0,
    "start_time": "2022-11-23T18:03:17.027Z"
   },
   {
    "duration": 0,
    "start_time": "2022-11-23T18:03:17.028Z"
   },
   {
    "duration": 1437,
    "start_time": "2022-11-23T18:03:23.697Z"
   },
   {
    "duration": 51,
    "start_time": "2022-11-23T18:03:25.136Z"
   },
   {
    "duration": 13,
    "start_time": "2022-11-23T18:03:25.188Z"
   },
   {
    "duration": 11,
    "start_time": "2022-11-23T18:03:25.203Z"
   },
   {
    "duration": 8,
    "start_time": "2022-11-23T18:03:25.216Z"
   },
   {
    "duration": 17,
    "start_time": "2022-11-23T18:03:25.226Z"
   },
   {
    "duration": 4,
    "start_time": "2022-11-23T18:03:25.244Z"
   },
   {
    "duration": 37,
    "start_time": "2022-11-23T18:03:25.250Z"
   },
   {
    "duration": 8,
    "start_time": "2022-11-23T18:03:25.289Z"
   },
   {
    "duration": 262,
    "start_time": "2022-11-23T18:03:25.300Z"
   },
   {
    "duration": 18,
    "start_time": "2022-11-23T18:03:25.563Z"
   },
   {
    "duration": 826,
    "start_time": "2022-11-23T18:03:25.583Z"
   },
   {
    "duration": 189,
    "start_time": "2022-11-23T18:03:26.411Z"
   },
   {
    "duration": 163,
    "start_time": "2022-11-23T18:03:26.602Z"
   },
   {
    "duration": 18,
    "start_time": "2022-11-23T18:03:26.767Z"
   },
   {
    "duration": 19,
    "start_time": "2022-11-23T18:03:26.787Z"
   },
   {
    "duration": 2,
    "start_time": "2022-11-23T18:03:26.807Z"
   },
   {
    "duration": 13,
    "start_time": "2022-11-23T18:03:26.811Z"
   },
   {
    "duration": 9,
    "start_time": "2022-11-23T18:03:26.826Z"
   },
   {
    "duration": 148,
    "start_time": "2022-11-23T18:03:26.837Z"
   },
   {
    "duration": 547,
    "start_time": "2022-11-23T18:03:26.986Z"
   },
   {
    "duration": 384,
    "start_time": "2022-11-23T18:03:27.535Z"
   },
   {
    "duration": 31,
    "start_time": "2022-11-23T18:03:27.921Z"
   },
   {
    "duration": 180428,
    "start_time": "2022-11-23T18:03:27.954Z"
   },
   {
    "duration": 0,
    "start_time": "2022-11-23T18:06:28.384Z"
   },
   {
    "duration": 0,
    "start_time": "2022-11-23T18:06:28.385Z"
   },
   {
    "duration": 0,
    "start_time": "2022-11-23T18:06:28.386Z"
   },
   {
    "duration": 49225,
    "start_time": "2022-11-23T18:06:30.669Z"
   },
   {
    "duration": 1369,
    "start_time": "2022-11-23T18:08:46.598Z"
   },
   {
    "duration": 43,
    "start_time": "2022-11-23T18:08:47.969Z"
   },
   {
    "duration": 11,
    "start_time": "2022-11-23T18:08:48.014Z"
   },
   {
    "duration": 12,
    "start_time": "2022-11-23T18:08:48.027Z"
   },
   {
    "duration": 6,
    "start_time": "2022-11-23T18:08:48.040Z"
   },
   {
    "duration": 17,
    "start_time": "2022-11-23T18:08:48.047Z"
   },
   {
    "duration": 4,
    "start_time": "2022-11-23T18:08:48.065Z"
   },
   {
    "duration": 11,
    "start_time": "2022-11-23T18:08:48.070Z"
   },
   {
    "duration": 6,
    "start_time": "2022-11-23T18:08:48.082Z"
   },
   {
    "duration": 254,
    "start_time": "2022-11-23T18:08:48.091Z"
   },
   {
    "duration": 7,
    "start_time": "2022-11-23T18:08:48.346Z"
   },
   {
    "duration": 955,
    "start_time": "2022-11-23T18:08:48.355Z"
   },
   {
    "duration": 181,
    "start_time": "2022-11-23T18:08:49.311Z"
   },
   {
    "duration": 159,
    "start_time": "2022-11-23T18:08:49.494Z"
   },
   {
    "duration": 12,
    "start_time": "2022-11-23T18:08:49.655Z"
   },
   {
    "duration": 22,
    "start_time": "2022-11-23T18:08:49.678Z"
   },
   {
    "duration": 2,
    "start_time": "2022-11-23T18:08:49.703Z"
   },
   {
    "duration": 11,
    "start_time": "2022-11-23T18:08:49.707Z"
   },
   {
    "duration": 8,
    "start_time": "2022-11-23T18:08:49.720Z"
   },
   {
    "duration": 155,
    "start_time": "2022-11-23T18:08:49.730Z"
   },
   {
    "duration": 548,
    "start_time": "2022-11-23T18:08:49.887Z"
   },
   {
    "duration": 375,
    "start_time": "2022-11-23T18:08:50.436Z"
   },
   {
    "duration": 30,
    "start_time": "2022-11-23T18:08:50.813Z"
   },
   {
    "duration": 135457,
    "start_time": "2022-11-23T18:08:50.845Z"
   },
   {
    "duration": 0,
    "start_time": "2022-11-23T18:11:06.304Z"
   },
   {
    "duration": 0,
    "start_time": "2022-11-23T18:11:06.305Z"
   },
   {
    "duration": 0,
    "start_time": "2022-11-23T18:11:06.306Z"
   },
   {
    "duration": 10,
    "start_time": "2022-11-23T18:11:12.072Z"
   },
   {
    "duration": 132,
    "start_time": "2022-11-23T18:11:16.471Z"
   },
   {
    "duration": 3,
    "start_time": "2022-11-23T18:11:18.620Z"
   },
   {
    "duration": 5,
    "start_time": "2022-11-23T18:12:32.694Z"
   },
   {
    "duration": 50,
    "start_time": "2022-11-23T18:12:32.701Z"
   },
   {
    "duration": 12,
    "start_time": "2022-11-23T18:12:32.754Z"
   },
   {
    "duration": 11,
    "start_time": "2022-11-23T18:12:32.767Z"
   },
   {
    "duration": 8,
    "start_time": "2022-11-23T18:12:32.780Z"
   },
   {
    "duration": 18,
    "start_time": "2022-11-23T18:12:32.790Z"
   },
   {
    "duration": 5,
    "start_time": "2022-11-23T18:12:32.810Z"
   },
   {
    "duration": 8,
    "start_time": "2022-11-23T18:12:32.816Z"
   },
   {
    "duration": 11,
    "start_time": "2022-11-23T18:12:32.825Z"
   },
   {
    "duration": 255,
    "start_time": "2022-11-23T18:12:32.840Z"
   },
   {
    "duration": 6,
    "start_time": "2022-11-23T18:12:33.098Z"
   },
   {
    "duration": 723,
    "start_time": "2022-11-23T18:12:33.106Z"
   },
   {
    "duration": 278,
    "start_time": "2022-11-23T18:12:33.831Z"
   },
   {
    "duration": 176,
    "start_time": "2022-11-23T18:12:34.112Z"
   },
   {
    "duration": 11,
    "start_time": "2022-11-23T18:12:34.289Z"
   },
   {
    "duration": 19,
    "start_time": "2022-11-23T18:12:34.302Z"
   },
   {
    "duration": 7,
    "start_time": "2022-11-23T18:12:34.322Z"
   },
   {
    "duration": 6,
    "start_time": "2022-11-23T18:12:34.330Z"
   },
   {
    "duration": 9,
    "start_time": "2022-11-23T18:12:34.338Z"
   },
   {
    "duration": 416,
    "start_time": "2022-11-23T18:12:34.349Z"
   },
   {
    "duration": 501,
    "start_time": "2022-11-23T18:12:34.767Z"
   },
   {
    "duration": 385,
    "start_time": "2022-11-23T18:12:35.270Z"
   },
   {
    "duration": 38,
    "start_time": "2022-11-23T18:12:35.657Z"
   },
   {
    "duration": 7,
    "start_time": "2022-11-23T18:12:35.697Z"
   },
   {
    "duration": 220,
    "start_time": "2022-11-23T18:12:35.705Z"
   },
   {
    "duration": 4,
    "start_time": "2022-11-23T18:12:35.927Z"
   },
   {
    "duration": 6,
    "start_time": "2022-11-23T18:14:23.187Z"
   },
   {
    "duration": 3,
    "start_time": "2022-11-23T18:14:47.124Z"
   },
   {
    "duration": 51,
    "start_time": "2022-11-23T18:14:47.129Z"
   },
   {
    "duration": 12,
    "start_time": "2022-11-23T18:14:47.182Z"
   },
   {
    "duration": 20,
    "start_time": "2022-11-23T18:14:47.195Z"
   },
   {
    "duration": 9,
    "start_time": "2022-11-23T18:14:47.217Z"
   },
   {
    "duration": 10,
    "start_time": "2022-11-23T18:14:47.228Z"
   },
   {
    "duration": 5,
    "start_time": "2022-11-23T18:14:47.239Z"
   },
   {
    "duration": 7,
    "start_time": "2022-11-23T18:14:47.246Z"
   },
   {
    "duration": 7,
    "start_time": "2022-11-23T18:14:47.255Z"
   },
   {
    "duration": 230,
    "start_time": "2022-11-23T18:14:47.278Z"
   },
   {
    "duration": 8,
    "start_time": "2022-11-23T18:14:47.510Z"
   },
   {
    "duration": 727,
    "start_time": "2022-11-23T18:14:47.520Z"
   },
   {
    "duration": 191,
    "start_time": "2022-11-23T18:14:48.250Z"
   },
   {
    "duration": 159,
    "start_time": "2022-11-23T18:14:48.442Z"
   },
   {
    "duration": 12,
    "start_time": "2022-11-23T18:14:48.603Z"
   },
   {
    "duration": 25,
    "start_time": "2022-11-23T18:14:48.617Z"
   },
   {
    "duration": 9,
    "start_time": "2022-11-23T18:14:48.643Z"
   },
   {
    "duration": 19,
    "start_time": "2022-11-23T18:14:48.654Z"
   },
   {
    "duration": 21,
    "start_time": "2022-11-23T18:14:48.677Z"
   },
   {
    "duration": 26,
    "start_time": "2022-11-23T18:14:48.699Z"
   },
   {
    "duration": 158,
    "start_time": "2022-11-23T18:14:48.727Z"
   },
   {
    "duration": 618,
    "start_time": "2022-11-23T18:14:48.887Z"
   },
   {
    "duration": 419,
    "start_time": "2022-11-23T18:14:49.507Z"
   },
   {
    "duration": 34,
    "start_time": "2022-11-23T18:14:49.928Z"
   },
   {
    "duration": 20,
    "start_time": "2022-11-23T18:14:49.964Z"
   },
   {
    "duration": 247,
    "start_time": "2022-11-23T18:14:49.986Z"
   },
   {
    "duration": 5,
    "start_time": "2022-11-23T18:14:50.235Z"
   },
   {
    "duration": 4,
    "start_time": "2022-11-23T18:16:05.106Z"
   },
   {
    "duration": 66,
    "start_time": "2022-11-23T18:16:05.112Z"
   },
   {
    "duration": 11,
    "start_time": "2022-11-23T18:16:05.180Z"
   },
   {
    "duration": 12,
    "start_time": "2022-11-23T18:16:05.193Z"
   },
   {
    "duration": 12,
    "start_time": "2022-11-23T18:16:05.207Z"
   },
   {
    "duration": 10,
    "start_time": "2022-11-23T18:16:05.220Z"
   },
   {
    "duration": 6,
    "start_time": "2022-11-23T18:16:05.231Z"
   },
   {
    "duration": 14,
    "start_time": "2022-11-23T18:16:05.239Z"
   },
   {
    "duration": 8,
    "start_time": "2022-11-23T18:16:05.255Z"
   },
   {
    "duration": 258,
    "start_time": "2022-11-23T18:16:05.278Z"
   },
   {
    "duration": 7,
    "start_time": "2022-11-23T18:16:05.537Z"
   },
   {
    "duration": 885,
    "start_time": "2022-11-23T18:16:05.546Z"
   },
   {
    "duration": 203,
    "start_time": "2022-11-23T18:16:06.433Z"
   },
   {
    "duration": 169,
    "start_time": "2022-11-23T18:16:06.638Z"
   },
   {
    "duration": 13,
    "start_time": "2022-11-23T18:16:06.808Z"
   },
   {
    "duration": 35,
    "start_time": "2022-11-23T18:16:06.823Z"
   },
   {
    "duration": 19,
    "start_time": "2022-11-23T18:16:06.860Z"
   },
   {
    "duration": 34,
    "start_time": "2022-11-23T18:16:06.881Z"
   },
   {
    "duration": 18,
    "start_time": "2022-11-23T18:16:06.917Z"
   },
   {
    "duration": 18,
    "start_time": "2022-11-23T18:16:06.938Z"
   },
   {
    "duration": 621,
    "start_time": "2022-11-23T18:16:06.957Z"
   },
   {
    "duration": 574,
    "start_time": "2022-11-23T18:16:07.580Z"
   },
   {
    "duration": 460,
    "start_time": "2022-11-23T18:16:08.156Z"
   },
   {
    "duration": 39,
    "start_time": "2022-11-23T18:16:08.618Z"
   },
   {
    "duration": 19,
    "start_time": "2022-11-23T18:16:08.660Z"
   },
   {
    "duration": 245,
    "start_time": "2022-11-23T18:16:08.681Z"
   },
   {
    "duration": 3,
    "start_time": "2022-11-23T18:16:08.928Z"
   },
   {
    "duration": 4,
    "start_time": "2022-11-23T18:16:29.745Z"
   },
   {
    "duration": 50,
    "start_time": "2022-11-23T18:16:29.751Z"
   },
   {
    "duration": 12,
    "start_time": "2022-11-23T18:16:29.803Z"
   },
   {
    "duration": 9,
    "start_time": "2022-11-23T18:16:29.817Z"
   },
   {
    "duration": 9,
    "start_time": "2022-11-23T18:16:29.828Z"
   },
   {
    "duration": 19,
    "start_time": "2022-11-23T18:16:29.839Z"
   },
   {
    "duration": 7,
    "start_time": "2022-11-23T18:16:29.859Z"
   },
   {
    "duration": 9,
    "start_time": "2022-11-23T18:16:29.878Z"
   },
   {
    "duration": 7,
    "start_time": "2022-11-23T18:16:29.889Z"
   },
   {
    "duration": 241,
    "start_time": "2022-11-23T18:16:29.898Z"
   },
   {
    "duration": 7,
    "start_time": "2022-11-23T18:16:30.141Z"
   },
   {
    "duration": 784,
    "start_time": "2022-11-23T18:16:30.149Z"
   },
   {
    "duration": 301,
    "start_time": "2022-11-23T18:16:30.935Z"
   },
   {
    "duration": 161,
    "start_time": "2022-11-23T18:16:31.238Z"
   },
   {
    "duration": 12,
    "start_time": "2022-11-23T18:16:31.401Z"
   },
   {
    "duration": 25,
    "start_time": "2022-11-23T18:16:31.415Z"
   },
   {
    "duration": 8,
    "start_time": "2022-11-23T18:16:31.442Z"
   },
   {
    "duration": 30,
    "start_time": "2022-11-23T18:16:31.452Z"
   },
   {
    "duration": 10,
    "start_time": "2022-11-23T18:16:31.484Z"
   },
   {
    "duration": 50,
    "start_time": "2022-11-23T18:16:31.496Z"
   },
   {
    "duration": 231,
    "start_time": "2022-11-23T18:16:31.548Z"
   },
   {
    "duration": 623,
    "start_time": "2022-11-23T18:16:31.781Z"
   },
   {
    "duration": 421,
    "start_time": "2022-11-23T18:16:32.405Z"
   },
   {
    "duration": 51,
    "start_time": "2022-11-23T18:16:32.828Z"
   },
   {
    "duration": 9,
    "start_time": "2022-11-23T18:16:32.881Z"
   },
   {
    "duration": 248,
    "start_time": "2022-11-23T18:16:32.892Z"
   },
   {
    "duration": 4,
    "start_time": "2022-11-23T18:16:33.142Z"
   },
   {
    "duration": 4,
    "start_time": "2022-11-23T18:17:05.920Z"
   },
   {
    "duration": 45,
    "start_time": "2022-11-23T18:17:05.926Z"
   },
   {
    "duration": 11,
    "start_time": "2022-11-23T18:17:05.973Z"
   },
   {
    "duration": 10,
    "start_time": "2022-11-23T18:17:05.986Z"
   },
   {
    "duration": 7,
    "start_time": "2022-11-23T18:17:05.998Z"
   },
   {
    "duration": 13,
    "start_time": "2022-11-23T18:17:06.007Z"
   },
   {
    "duration": 12,
    "start_time": "2022-11-23T18:17:06.021Z"
   },
   {
    "duration": 9,
    "start_time": "2022-11-23T18:17:06.035Z"
   },
   {
    "duration": 7,
    "start_time": "2022-11-23T18:17:06.045Z"
   },
   {
    "duration": 243,
    "start_time": "2022-11-23T18:17:06.054Z"
   },
   {
    "duration": 7,
    "start_time": "2022-11-23T18:17:06.299Z"
   },
   {
    "duration": 735,
    "start_time": "2022-11-23T18:17:06.307Z"
   },
   {
    "duration": 204,
    "start_time": "2022-11-23T18:17:07.044Z"
   },
   {
    "duration": 160,
    "start_time": "2022-11-23T18:17:07.251Z"
   },
   {
    "duration": 12,
    "start_time": "2022-11-23T18:17:07.413Z"
   },
   {
    "duration": 18,
    "start_time": "2022-11-23T18:17:07.427Z"
   },
   {
    "duration": 7,
    "start_time": "2022-11-23T18:17:07.447Z"
   },
   {
    "duration": 27,
    "start_time": "2022-11-23T18:17:07.455Z"
   },
   {
    "duration": 9,
    "start_time": "2022-11-23T18:17:07.483Z"
   },
   {
    "duration": 8,
    "start_time": "2022-11-23T18:17:07.494Z"
   },
   {
    "duration": 88,
    "start_time": "2022-11-23T18:17:07.504Z"
   },
   {
    "duration": 600,
    "start_time": "2022-11-23T18:17:07.680Z"
   },
   {
    "duration": 410,
    "start_time": "2022-11-23T18:17:08.282Z"
   },
   {
    "duration": 1207796,
    "start_time": "2022-11-23T18:17:08.693Z"
   },
   {
    "duration": 37,
    "start_time": "2022-11-23T18:37:16.491Z"
   },
   {
    "duration": 803,
    "start_time": "2022-11-23T18:37:16.577Z"
   },
   {
    "duration": 9,
    "start_time": "2022-11-23T18:37:17.381Z"
   },
   {
    "duration": 269,
    "start_time": "2022-11-23T18:37:17.392Z"
   },
   {
    "duration": 3,
    "start_time": "2022-11-23T18:37:17.663Z"
   },
   {
    "duration": 1741,
    "start_time": "2022-11-23T18:39:20.779Z"
   },
   {
    "duration": 480,
    "start_time": "2022-11-23T18:39:38.661Z"
   },
   {
    "duration": 606,
    "start_time": "2022-11-23T18:39:49.908Z"
   },
   {
    "duration": 653,
    "start_time": "2022-11-23T18:39:56.980Z"
   },
   {
    "duration": 2145,
    "start_time": "2022-11-23T18:40:02.338Z"
   },
   {
    "duration": 1542,
    "start_time": "2022-11-23T18:40:09.841Z"
   },
   {
    "duration": 673,
    "start_time": "2022-11-23T18:40:16.746Z"
   },
   {
    "duration": 890,
    "start_time": "2022-11-23T18:40:23.485Z"
   },
   {
    "duration": 492,
    "start_time": "2022-11-23T18:40:31.800Z"
   },
   {
    "duration": 513,
    "start_time": "2022-11-23T18:40:35.881Z"
   },
   {
    "duration": 496,
    "start_time": "2022-11-23T18:40:40.957Z"
   },
   {
    "duration": 621,
    "start_time": "2022-11-23T18:40:45.715Z"
   },
   {
    "duration": 552,
    "start_time": "2022-11-23T18:40:50.302Z"
   },
   {
    "duration": 565,
    "start_time": "2022-11-23T18:40:54.496Z"
   },
   {
    "duration": 628,
    "start_time": "2022-11-23T18:41:00.396Z"
   },
   {
    "duration": 549,
    "start_time": "2022-11-23T18:41:07.734Z"
   },
   {
    "duration": 553,
    "start_time": "2022-11-23T18:41:12.402Z"
   },
   {
    "duration": 547,
    "start_time": "2022-11-23T18:41:16.922Z"
   },
   {
    "duration": 535,
    "start_time": "2022-11-23T18:41:25.173Z"
   },
   {
    "duration": 577,
    "start_time": "2022-11-23T18:41:31.517Z"
   },
   {
    "duration": 509,
    "start_time": "2022-11-23T18:41:38.298Z"
   },
   {
    "duration": 528,
    "start_time": "2022-11-23T18:41:44.436Z"
   },
   {
    "duration": 528,
    "start_time": "2022-11-23T18:42:06.458Z"
   },
   {
    "duration": 533,
    "start_time": "2022-11-23T18:42:10.883Z"
   },
   {
    "duration": 517,
    "start_time": "2022-11-23T18:42:15.964Z"
   },
   {
    "duration": 588,
    "start_time": "2022-11-23T18:42:20.111Z"
   },
   {
    "duration": 4,
    "start_time": "2022-11-23T18:47:35.812Z"
   },
   {
    "duration": 490,
    "start_time": "2022-11-23T18:51:34.282Z"
   },
   {
    "duration": 32027,
    "start_time": "2022-11-23T18:51:57.862Z"
   },
   {
    "duration": 655,
    "start_time": "2022-11-23T18:53:06.022Z"
   },
   {
    "duration": 536,
    "start_time": "2022-11-23T18:53:15.458Z"
   },
   {
    "duration": 4,
    "start_time": "2022-11-23T19:13:51.542Z"
   },
   {
    "duration": 48,
    "start_time": "2022-11-23T19:13:51.547Z"
   },
   {
    "duration": 11,
    "start_time": "2022-11-23T19:13:51.597Z"
   },
   {
    "duration": 14,
    "start_time": "2022-11-23T19:13:51.610Z"
   },
   {
    "duration": 5,
    "start_time": "2022-11-23T19:13:51.627Z"
   },
   {
    "duration": 11,
    "start_time": "2022-11-23T19:13:51.633Z"
   },
   {
    "duration": 8,
    "start_time": "2022-11-23T19:13:51.645Z"
   },
   {
    "duration": 9,
    "start_time": "2022-11-23T19:13:51.654Z"
   },
   {
    "duration": 17,
    "start_time": "2022-11-23T19:13:51.665Z"
   },
   {
    "duration": 327,
    "start_time": "2022-11-23T19:13:51.684Z"
   },
   {
    "duration": 7,
    "start_time": "2022-11-23T19:13:52.013Z"
   },
   {
    "duration": 681,
    "start_time": "2022-11-23T19:13:52.022Z"
   },
   {
    "duration": 201,
    "start_time": "2022-11-23T19:13:52.705Z"
   },
   {
    "duration": 173,
    "start_time": "2022-11-23T19:13:52.908Z"
   },
   {
    "duration": 12,
    "start_time": "2022-11-23T19:13:53.082Z"
   },
   {
    "duration": 22,
    "start_time": "2022-11-23T19:13:53.095Z"
   },
   {
    "duration": 11,
    "start_time": "2022-11-23T19:13:53.119Z"
   },
   {
    "duration": 5,
    "start_time": "2022-11-23T19:13:53.131Z"
   },
   {
    "duration": 10,
    "start_time": "2022-11-23T19:13:53.138Z"
   },
   {
    "duration": 32,
    "start_time": "2022-11-23T19:13:53.150Z"
   },
   {
    "duration": 16,
    "start_time": "2022-11-23T19:13:53.183Z"
   },
   {
    "duration": 0,
    "start_time": "2022-11-23T19:13:53.201Z"
   },
   {
    "duration": 0,
    "start_time": "2022-11-23T19:13:53.202Z"
   },
   {
    "duration": 0,
    "start_time": "2022-11-23T19:13:53.204Z"
   },
   {
    "duration": 0,
    "start_time": "2022-11-23T19:13:53.205Z"
   },
   {
    "duration": 4,
    "start_time": "2022-11-23T19:14:47.534Z"
   },
   {
    "duration": 50,
    "start_time": "2022-11-23T19:14:47.540Z"
   },
   {
    "duration": 10,
    "start_time": "2022-11-23T19:14:47.592Z"
   },
   {
    "duration": 8,
    "start_time": "2022-11-23T19:14:47.604Z"
   },
   {
    "duration": 14,
    "start_time": "2022-11-23T19:14:47.614Z"
   },
   {
    "duration": 9,
    "start_time": "2022-11-23T19:14:47.630Z"
   },
   {
    "duration": 7,
    "start_time": "2022-11-23T19:14:47.641Z"
   },
   {
    "duration": 10,
    "start_time": "2022-11-23T19:14:47.650Z"
   },
   {
    "duration": 18,
    "start_time": "2022-11-23T19:14:47.661Z"
   },
   {
    "duration": 223,
    "start_time": "2022-11-23T19:14:47.681Z"
   },
   {
    "duration": 7,
    "start_time": "2022-11-23T19:14:47.906Z"
   },
   {
    "duration": 835,
    "start_time": "2022-11-23T19:14:47.914Z"
   },
   {
    "duration": 186,
    "start_time": "2022-11-23T19:14:48.751Z"
   },
   {
    "duration": 163,
    "start_time": "2022-11-23T19:14:48.939Z"
   },
   {
    "duration": 13,
    "start_time": "2022-11-23T19:14:49.104Z"
   },
   {
    "duration": 21,
    "start_time": "2022-11-23T19:14:49.119Z"
   },
   {
    "duration": 6,
    "start_time": "2022-11-23T19:14:49.142Z"
   },
   {
    "duration": 14,
    "start_time": "2022-11-23T19:14:49.150Z"
   },
   {
    "duration": 10,
    "start_time": "2022-11-23T19:14:49.179Z"
   },
   {
    "duration": 14,
    "start_time": "2022-11-23T19:14:49.191Z"
   },
   {
    "duration": 18,
    "start_time": "2022-11-23T19:14:49.207Z"
   },
   {
    "duration": 418,
    "start_time": "2022-11-23T19:14:49.277Z"
   },
   {
    "duration": 33967,
    "start_time": "2022-11-23T19:14:49.697Z"
   },
   {
    "duration": 100,
    "start_time": "2022-11-23T19:15:23.666Z"
   },
   {
    "duration": 4,
    "start_time": "2022-11-23T19:15:23.767Z"
   },
   {
    "duration": 505,
    "start_time": "2022-11-23T19:17:28.925Z"
   },
   {
    "duration": 484,
    "start_time": "2022-11-23T19:17:40.805Z"
   },
   {
    "duration": 622,
    "start_time": "2022-11-23T19:17:47.565Z"
   },
   {
    "duration": 608,
    "start_time": "2022-11-23T19:17:55.949Z"
   },
   {
    "duration": 640,
    "start_time": "2022-11-23T19:17:59.913Z"
   },
   {
    "duration": 690,
    "start_time": "2022-11-23T19:18:06.991Z"
   },
   {
    "duration": 509,
    "start_time": "2022-11-23T19:18:16.750Z"
   },
   {
    "duration": 542,
    "start_time": "2022-11-23T19:18:21.743Z"
   },
   {
    "duration": 514,
    "start_time": "2022-11-23T19:18:25.835Z"
   },
   {
    "duration": 563,
    "start_time": "2022-11-23T19:18:29.273Z"
   },
   {
    "duration": 518,
    "start_time": "2022-11-23T19:18:33.467Z"
   },
   {
    "duration": 21477,
    "start_time": "2022-11-23T19:21:05.513Z"
   },
   {
    "duration": 841,
    "start_time": "2022-11-23T19:22:43.848Z"
   },
   {
    "duration": 68,
    "start_time": "2022-11-23T19:23:22.527Z"
   },
   {
    "duration": 3641,
    "start_time": "2022-11-23T19:23:34.494Z"
   },
   {
    "duration": 3972,
    "start_time": "2022-11-23T19:24:32.383Z"
   },
   {
    "duration": 34527,
    "start_time": "2022-11-23T19:25:12.044Z"
   },
   {
    "duration": 34334,
    "start_time": "2022-11-23T19:26:08.384Z"
   },
   {
    "duration": 32350,
    "start_time": "2022-11-23T19:28:20.251Z"
   },
   {
    "duration": 619,
    "start_time": "2022-11-23T19:42:00.740Z"
   },
   {
    "duration": 4,
    "start_time": "2022-11-23T19:42:32.652Z"
   },
   {
    "duration": 79,
    "start_time": "2022-11-23T19:42:32.659Z"
   },
   {
    "duration": 12,
    "start_time": "2022-11-23T19:42:32.740Z"
   },
   {
    "duration": 29,
    "start_time": "2022-11-23T19:42:32.754Z"
   },
   {
    "duration": 25,
    "start_time": "2022-11-23T19:42:32.785Z"
   },
   {
    "duration": 32,
    "start_time": "2022-11-23T19:42:32.812Z"
   },
   {
    "duration": 18,
    "start_time": "2022-11-23T19:42:32.846Z"
   },
   {
    "duration": 21,
    "start_time": "2022-11-23T19:42:32.866Z"
   },
   {
    "duration": 44,
    "start_time": "2022-11-23T19:42:32.889Z"
   },
   {
    "duration": 242,
    "start_time": "2022-11-23T19:42:32.936Z"
   },
   {
    "duration": 10,
    "start_time": "2022-11-23T19:42:33.179Z"
   },
   {
    "duration": 714,
    "start_time": "2022-11-23T19:42:33.191Z"
   },
   {
    "duration": 251,
    "start_time": "2022-11-23T19:42:33.907Z"
   },
   {
    "duration": 173,
    "start_time": "2022-11-23T19:42:34.160Z"
   },
   {
    "duration": 17,
    "start_time": "2022-11-23T19:42:34.335Z"
   },
   {
    "duration": 39,
    "start_time": "2022-11-23T19:42:34.354Z"
   },
   {
    "duration": 9,
    "start_time": "2022-11-23T19:42:34.395Z"
   },
   {
    "duration": 11,
    "start_time": "2022-11-23T19:42:34.406Z"
   },
   {
    "duration": 14,
    "start_time": "2022-11-23T19:42:34.418Z"
   },
   {
    "duration": 29,
    "start_time": "2022-11-23T19:42:34.434Z"
   },
   {
    "duration": 34,
    "start_time": "2022-11-23T19:42:34.465Z"
   },
   {
    "duration": 538,
    "start_time": "2022-11-23T19:42:34.501Z"
   },
   {
    "duration": 4090,
    "start_time": "2022-11-23T19:42:35.041Z"
   },
   {
    "duration": 4090,
    "start_time": "2022-11-23T19:42:39.132Z"
   },
   {
    "duration": 31253,
    "start_time": "2022-11-23T19:42:43.224Z"
   },
   {
    "duration": 128,
    "start_time": "2022-11-23T19:43:14.479Z"
   },
   {
    "duration": 4,
    "start_time": "2022-11-23T19:43:14.609Z"
   },
   {
    "duration": 555,
    "start_time": "2022-11-23T19:43:14.615Z"
   },
   {
    "duration": 711,
    "start_time": "2022-11-23T19:49:39.731Z"
   },
   {
    "duration": 21,
    "start_time": "2022-11-23T19:52:47.655Z"
   },
   {
    "duration": 6,
    "start_time": "2022-11-23T19:57:27.269Z"
   },
   {
    "duration": 3,
    "start_time": "2022-11-23T19:57:29.727Z"
   },
   {
    "duration": 49,
    "start_time": "2022-11-23T19:57:31.349Z"
   },
   {
    "duration": 7,
    "start_time": "2022-11-23T19:58:03.682Z"
   },
   {
    "duration": 373,
    "start_time": "2022-11-23T19:58:09.837Z"
   },
   {
    "duration": 4,
    "start_time": "2022-11-23T19:58:30.208Z"
   },
   {
    "duration": 502,
    "start_time": "2022-11-23T19:58:37.893Z"
   },
   {
    "duration": 98487,
    "start_time": "2022-11-23T20:02:52.506Z"
   },
   {
    "duration": 4,
    "start_time": "2022-11-23T20:59:46.222Z"
   },
   {
    "duration": 51,
    "start_time": "2022-11-23T20:59:46.228Z"
   },
   {
    "duration": 12,
    "start_time": "2022-11-23T20:59:46.289Z"
   },
   {
    "duration": 12,
    "start_time": "2022-11-23T20:59:46.303Z"
   },
   {
    "duration": 6,
    "start_time": "2022-11-23T20:59:46.317Z"
   },
   {
    "duration": 11,
    "start_time": "2022-11-23T20:59:46.325Z"
   },
   {
    "duration": 5,
    "start_time": "2022-11-23T20:59:46.337Z"
   },
   {
    "duration": 7,
    "start_time": "2022-11-23T20:59:46.344Z"
   },
   {
    "duration": 6,
    "start_time": "2022-11-23T20:59:46.353Z"
   },
   {
    "duration": 256,
    "start_time": "2022-11-23T20:59:46.360Z"
   },
   {
    "duration": 7,
    "start_time": "2022-11-23T20:59:46.617Z"
   },
   {
    "duration": 730,
    "start_time": "2022-11-23T20:59:46.625Z"
   },
   {
    "duration": 187,
    "start_time": "2022-11-23T20:59:47.357Z"
   },
   {
    "duration": 165,
    "start_time": "2022-11-23T20:59:47.547Z"
   },
   {
    "duration": 13,
    "start_time": "2022-11-23T20:59:47.714Z"
   },
   {
    "duration": 18,
    "start_time": "2022-11-23T20:59:47.728Z"
   },
   {
    "duration": 6,
    "start_time": "2022-11-23T20:59:47.747Z"
   },
   {
    "duration": 26,
    "start_time": "2022-11-23T20:59:47.755Z"
   },
   {
    "duration": 31,
    "start_time": "2022-11-23T20:59:47.784Z"
   },
   {
    "duration": 8,
    "start_time": "2022-11-23T20:59:47.817Z"
   },
   {
    "duration": 21,
    "start_time": "2022-11-23T20:59:47.827Z"
   },
   {
    "duration": 227,
    "start_time": "2022-11-23T20:59:47.850Z"
   },
   {
    "duration": 426,
    "start_time": "2022-11-23T20:59:48.079Z"
   },
   {
    "duration": 4319,
    "start_time": "2022-11-23T20:59:48.506Z"
   },
   {
    "duration": 4199,
    "start_time": "2022-11-23T20:59:52.827Z"
   },
   {
    "duration": 36898,
    "start_time": "2022-11-23T20:59:57.028Z"
   },
   {
    "duration": 132,
    "start_time": "2022-11-23T21:00:33.927Z"
   },
   {
    "duration": 5,
    "start_time": "2022-11-23T21:00:34.061Z"
   },
   {
    "duration": 557,
    "start_time": "2022-11-23T21:00:34.068Z"
   },
   {
    "duration": 634,
    "start_time": "2022-11-23T21:00:49.561Z"
   },
   {
    "duration": 2013,
    "start_time": "2022-11-23T21:01:14.954Z"
   },
   {
    "duration": 51,
    "start_time": "2022-11-23T21:01:16.969Z"
   },
   {
    "duration": 13,
    "start_time": "2022-11-23T21:01:17.021Z"
   },
   {
    "duration": 10,
    "start_time": "2022-11-23T21:01:17.037Z"
   },
   {
    "duration": 5,
    "start_time": "2022-11-23T21:01:17.048Z"
   },
   {
    "duration": 13,
    "start_time": "2022-11-23T21:01:17.055Z"
   },
   {
    "duration": 4,
    "start_time": "2022-11-23T21:01:17.070Z"
   },
   {
    "duration": 15,
    "start_time": "2022-11-23T21:01:17.084Z"
   },
   {
    "duration": 6,
    "start_time": "2022-11-23T21:01:17.100Z"
   },
   {
    "duration": 255,
    "start_time": "2022-11-23T21:01:17.109Z"
   },
   {
    "duration": 22,
    "start_time": "2022-11-23T21:01:17.366Z"
   },
   {
    "duration": 803,
    "start_time": "2022-11-23T21:01:17.390Z"
   },
   {
    "duration": 181,
    "start_time": "2022-11-23T21:01:18.195Z"
   },
   {
    "duration": 153,
    "start_time": "2022-11-23T21:01:18.389Z"
   },
   {
    "duration": 12,
    "start_time": "2022-11-23T21:01:18.543Z"
   },
   {
    "duration": 37,
    "start_time": "2022-11-23T21:01:18.556Z"
   },
   {
    "duration": 10,
    "start_time": "2022-11-23T21:01:18.595Z"
   },
   {
    "duration": 18,
    "start_time": "2022-11-23T21:01:18.607Z"
   },
   {
    "duration": 30,
    "start_time": "2022-11-23T21:01:18.627Z"
   },
   {
    "duration": 18,
    "start_time": "2022-11-23T21:01:18.659Z"
   },
   {
    "duration": 23,
    "start_time": "2022-11-23T21:01:18.679Z"
   },
   {
    "duration": 88,
    "start_time": "2022-11-23T21:01:18.703Z"
   },
   {
    "duration": 503,
    "start_time": "2022-11-23T21:01:18.792Z"
   },
   {
    "duration": 4447,
    "start_time": "2022-11-23T21:01:19.297Z"
   },
   {
    "duration": 4408,
    "start_time": "2022-11-23T21:01:23.746Z"
   },
   {
    "duration": 4282,
    "start_time": "2022-11-23T21:01:28.156Z"
   },
   {
    "duration": 0,
    "start_time": "2022-11-23T21:01:32.440Z"
   },
   {
    "duration": 0,
    "start_time": "2022-11-23T21:01:32.441Z"
   },
   {
    "duration": 0,
    "start_time": "2022-11-23T21:01:32.442Z"
   },
   {
    "duration": 5,
    "start_time": "2022-11-23T21:02:21.220Z"
   },
   {
    "duration": 52,
    "start_time": "2022-11-23T21:02:21.226Z"
   },
   {
    "duration": 12,
    "start_time": "2022-11-23T21:02:21.280Z"
   },
   {
    "duration": 13,
    "start_time": "2022-11-23T21:02:21.293Z"
   },
   {
    "duration": 6,
    "start_time": "2022-11-23T21:02:21.308Z"
   },
   {
    "duration": 10,
    "start_time": "2022-11-23T21:02:21.315Z"
   },
   {
    "duration": 11,
    "start_time": "2022-11-23T21:02:21.327Z"
   },
   {
    "duration": 12,
    "start_time": "2022-11-23T21:02:21.339Z"
   },
   {
    "duration": 27,
    "start_time": "2022-11-23T21:02:21.352Z"
   },
   {
    "duration": 346,
    "start_time": "2022-11-23T21:02:21.381Z"
   },
   {
    "duration": 7,
    "start_time": "2022-11-23T21:02:21.729Z"
   },
   {
    "duration": 739,
    "start_time": "2022-11-23T21:02:21.737Z"
   },
   {
    "duration": 215,
    "start_time": "2022-11-23T21:02:22.478Z"
   },
   {
    "duration": 174,
    "start_time": "2022-11-23T21:02:22.696Z"
   },
   {
    "duration": 17,
    "start_time": "2022-11-23T21:02:22.880Z"
   },
   {
    "duration": 38,
    "start_time": "2022-11-23T21:02:22.899Z"
   },
   {
    "duration": 15,
    "start_time": "2022-11-23T21:02:22.938Z"
   },
   {
    "duration": 18,
    "start_time": "2022-11-23T21:02:22.955Z"
   },
   {
    "duration": 42,
    "start_time": "2022-11-23T21:02:22.974Z"
   },
   {
    "duration": 6,
    "start_time": "2022-11-23T21:02:23.017Z"
   },
   {
    "duration": 19,
    "start_time": "2022-11-23T21:02:23.025Z"
   },
   {
    "duration": 139,
    "start_time": "2022-11-23T21:02:23.046Z"
   },
   {
    "duration": 549,
    "start_time": "2022-11-23T21:02:23.187Z"
   },
   {
    "duration": 4263,
    "start_time": "2022-11-23T21:02:23.738Z"
   },
   {
    "duration": 4918,
    "start_time": "2022-11-23T21:02:28.002Z"
   },
   {
    "duration": 32995,
    "start_time": "2022-11-23T21:02:32.921Z"
   },
   {
    "duration": 127,
    "start_time": "2022-11-23T21:03:05.918Z"
   },
   {
    "duration": 4,
    "start_time": "2022-11-23T21:03:06.047Z"
   },
   {
    "duration": 597,
    "start_time": "2022-11-23T21:03:06.053Z"
   },
   {
    "duration": 3,
    "start_time": "2022-11-23T21:03:35.192Z"
   },
   {
    "duration": 45,
    "start_time": "2022-11-23T21:03:35.198Z"
   },
   {
    "duration": 10,
    "start_time": "2022-11-23T21:03:35.245Z"
   },
   {
    "duration": 14,
    "start_time": "2022-11-23T21:03:35.257Z"
   },
   {
    "duration": 23,
    "start_time": "2022-11-23T21:03:35.273Z"
   },
   {
    "duration": 13,
    "start_time": "2022-11-23T21:03:35.298Z"
   },
   {
    "duration": 9,
    "start_time": "2022-11-23T21:03:35.313Z"
   },
   {
    "duration": 9,
    "start_time": "2022-11-23T21:03:35.324Z"
   },
   {
    "duration": 11,
    "start_time": "2022-11-23T21:03:35.335Z"
   },
   {
    "duration": 235,
    "start_time": "2022-11-23T21:03:35.348Z"
   },
   {
    "duration": 12,
    "start_time": "2022-11-23T21:03:35.584Z"
   },
   {
    "duration": 841,
    "start_time": "2022-11-23T21:03:35.598Z"
   },
   {
    "duration": 194,
    "start_time": "2022-11-23T21:03:36.440Z"
   },
   {
    "duration": 177,
    "start_time": "2022-11-23T21:03:36.636Z"
   },
   {
    "duration": 12,
    "start_time": "2022-11-23T21:03:36.815Z"
   },
   {
    "duration": 19,
    "start_time": "2022-11-23T21:03:36.829Z"
   },
   {
    "duration": 39,
    "start_time": "2022-11-23T21:03:36.850Z"
   },
   {
    "duration": 8,
    "start_time": "2022-11-23T21:03:36.891Z"
   },
   {
    "duration": 23,
    "start_time": "2022-11-23T21:03:36.901Z"
   },
   {
    "duration": 10,
    "start_time": "2022-11-23T21:03:36.926Z"
   },
   {
    "duration": 10,
    "start_time": "2022-11-23T21:03:36.938Z"
   },
   {
    "duration": 150,
    "start_time": "2022-11-23T21:03:36.950Z"
   },
   {
    "duration": 528,
    "start_time": "2022-11-23T21:03:37.180Z"
   },
   {
    "duration": 4319,
    "start_time": "2022-11-23T21:03:37.710Z"
   },
   {
    "duration": 4464,
    "start_time": "2022-11-23T21:03:42.031Z"
   },
   {
    "duration": 32472,
    "start_time": "2022-11-23T21:03:46.496Z"
   },
   {
    "duration": 132,
    "start_time": "2022-11-23T21:04:18.970Z"
   },
   {
    "duration": 4,
    "start_time": "2022-11-23T21:04:19.104Z"
   },
   {
    "duration": 562,
    "start_time": "2022-11-23T21:04:19.110Z"
   },
   {
    "duration": 682,
    "start_time": "2022-11-23T21:04:40.441Z"
   },
   {
    "duration": 659,
    "start_time": "2022-11-23T21:04:45.690Z"
   },
   {
    "duration": 5,
    "start_time": "2022-11-23T21:21:09.351Z"
   },
   {
    "duration": 4,
    "start_time": "2022-11-23T21:23:05.659Z"
   },
   {
    "duration": 46,
    "start_time": "2022-11-23T21:23:05.665Z"
   },
   {
    "duration": 11,
    "start_time": "2022-11-23T21:23:05.712Z"
   },
   {
    "duration": 10,
    "start_time": "2022-11-23T21:23:05.725Z"
   },
   {
    "duration": 4,
    "start_time": "2022-11-23T21:23:05.737Z"
   },
   {
    "duration": 10,
    "start_time": "2022-11-23T21:23:05.743Z"
   },
   {
    "duration": 8,
    "start_time": "2022-11-23T21:23:05.754Z"
   },
   {
    "duration": 13,
    "start_time": "2022-11-23T21:23:05.763Z"
   },
   {
    "duration": 11,
    "start_time": "2022-11-23T21:23:05.778Z"
   },
   {
    "duration": 227,
    "start_time": "2022-11-23T21:23:05.790Z"
   },
   {
    "duration": 8,
    "start_time": "2022-11-23T21:23:06.018Z"
   },
   {
    "duration": 710,
    "start_time": "2022-11-23T21:23:06.027Z"
   },
   {
    "duration": 189,
    "start_time": "2022-11-23T21:23:06.739Z"
   },
   {
    "duration": 165,
    "start_time": "2022-11-23T21:23:06.930Z"
   },
   {
    "duration": 13,
    "start_time": "2022-11-23T21:23:07.096Z"
   },
   {
    "duration": 7,
    "start_time": "2022-11-23T21:23:07.111Z"
   },
   {
    "duration": 4,
    "start_time": "2022-11-23T21:23:07.120Z"
   },
   {
    "duration": 6,
    "start_time": "2022-11-23T21:23:07.126Z"
   },
   {
    "duration": 246,
    "start_time": "2022-11-23T21:23:07.134Z"
   },
   {
    "duration": 512,
    "start_time": "2022-11-23T21:23:07.382Z"
   },
   {
    "duration": 517,
    "start_time": "2022-11-23T21:23:07.895Z"
   },
   {
    "duration": 0,
    "start_time": "2022-11-23T21:23:08.413Z"
   },
   {
    "duration": 0,
    "start_time": "2022-11-23T21:23:08.414Z"
   },
   {
    "duration": 32314,
    "start_time": "2022-11-23T21:25:01.001Z"
   },
   {
    "duration": 119,
    "start_time": "2022-11-23T21:25:43.012Z"
   },
   {
    "duration": 6,
    "start_time": "2022-11-23T21:25:45.185Z"
   },
   {
    "duration": 4,
    "start_time": "2022-11-23T21:25:58.269Z"
   },
   {
    "duration": 52,
    "start_time": "2022-11-23T21:25:58.275Z"
   },
   {
    "duration": 10,
    "start_time": "2022-11-23T21:25:58.328Z"
   },
   {
    "duration": 18,
    "start_time": "2022-11-23T21:25:58.340Z"
   },
   {
    "duration": 9,
    "start_time": "2022-11-23T21:25:58.359Z"
   },
   {
    "duration": 22,
    "start_time": "2022-11-23T21:25:58.369Z"
   },
   {
    "duration": 16,
    "start_time": "2022-11-23T21:25:58.392Z"
   },
   {
    "duration": 19,
    "start_time": "2022-11-23T21:25:58.409Z"
   },
   {
    "duration": 17,
    "start_time": "2022-11-23T21:25:58.430Z"
   },
   {
    "duration": 340,
    "start_time": "2022-11-23T21:25:58.448Z"
   },
   {
    "duration": 7,
    "start_time": "2022-11-23T21:25:58.790Z"
   },
   {
    "duration": 701,
    "start_time": "2022-11-23T21:25:58.799Z"
   },
   {
    "duration": 185,
    "start_time": "2022-11-23T21:25:59.502Z"
   },
   {
    "duration": 159,
    "start_time": "2022-11-23T21:25:59.690Z"
   },
   {
    "duration": 12,
    "start_time": "2022-11-23T21:25:59.851Z"
   },
   {
    "duration": 17,
    "start_time": "2022-11-23T21:25:59.864Z"
   },
   {
    "duration": 17,
    "start_time": "2022-11-23T21:25:59.883Z"
   },
   {
    "duration": 14,
    "start_time": "2022-11-23T21:25:59.902Z"
   },
   {
    "duration": 252,
    "start_time": "2022-11-23T21:25:59.928Z"
   },
   {
    "duration": 538,
    "start_time": "2022-11-23T21:26:00.182Z"
   },
   {
    "duration": 32411,
    "start_time": "2022-11-23T21:26:00.722Z"
   },
   {
    "duration": 112,
    "start_time": "2022-11-23T21:26:33.135Z"
   },
   {
    "duration": 4,
    "start_time": "2022-11-23T21:26:33.249Z"
   },
   {
    "duration": 4,
    "start_time": "2022-11-23T21:27:33.182Z"
   },
   {
    "duration": 48,
    "start_time": "2022-11-23T21:27:33.188Z"
   },
   {
    "duration": 11,
    "start_time": "2022-11-23T21:27:33.237Z"
   },
   {
    "duration": 12,
    "start_time": "2022-11-23T21:27:33.250Z"
   },
   {
    "duration": 7,
    "start_time": "2022-11-23T21:27:33.264Z"
   },
   {
    "duration": 11,
    "start_time": "2022-11-23T21:27:33.272Z"
   },
   {
    "duration": 6,
    "start_time": "2022-11-23T21:27:33.284Z"
   },
   {
    "duration": 10,
    "start_time": "2022-11-23T21:27:33.291Z"
   },
   {
    "duration": 10,
    "start_time": "2022-11-23T21:27:33.302Z"
   },
   {
    "duration": 230,
    "start_time": "2022-11-23T21:27:33.314Z"
   },
   {
    "duration": 7,
    "start_time": "2022-11-23T21:27:33.546Z"
   },
   {
    "duration": 770,
    "start_time": "2022-11-23T21:27:33.555Z"
   },
   {
    "duration": 322,
    "start_time": "2022-11-23T21:27:34.327Z"
   },
   {
    "duration": 165,
    "start_time": "2022-11-23T21:27:34.652Z"
   },
   {
    "duration": 12,
    "start_time": "2022-11-23T21:27:34.819Z"
   },
   {
    "duration": 6,
    "start_time": "2022-11-23T21:27:34.832Z"
   },
   {
    "duration": 4,
    "start_time": "2022-11-23T21:27:34.840Z"
   },
   {
    "duration": 32,
    "start_time": "2022-11-23T21:27:34.846Z"
   },
   {
    "duration": 9,
    "start_time": "2022-11-23T21:27:34.879Z"
   },
   {
    "duration": 93,
    "start_time": "2022-11-23T21:27:34.889Z"
   },
   {
    "duration": 518,
    "start_time": "2022-11-23T21:27:34.987Z"
   },
   {
    "duration": 34222,
    "start_time": "2022-11-23T21:27:35.507Z"
   },
   {
    "duration": 116,
    "start_time": "2022-11-23T21:28:09.731Z"
   },
   {
    "duration": 5,
    "start_time": "2022-11-23T21:28:09.849Z"
   },
   {
    "duration": 72,
    "start_time": "2022-11-23T21:34:19.681Z"
   },
   {
    "duration": 690,
    "start_time": "2022-11-23T21:34:25.642Z"
   },
   {
    "duration": 150,
    "start_time": "2022-11-23T21:34:36.736Z"
   },
   {
    "duration": 3,
    "start_time": "2022-11-23T21:34:39.370Z"
   },
   {
    "duration": 5724,
    "start_time": "2022-11-23T21:34:50.617Z"
   },
   {
    "duration": 450,
    "start_time": "2022-11-23T21:35:06.770Z"
   },
   {
    "duration": 4,
    "start_time": "2022-11-23T21:35:08.781Z"
   },
   {
    "duration": 164,
    "start_time": "2022-11-23T21:35:16.290Z"
   },
   {
    "duration": 183,
    "start_time": "2022-11-23T21:35:22.822Z"
   },
   {
    "duration": 166,
    "start_time": "2022-11-23T21:35:32.719Z"
   },
   {
    "duration": 706,
    "start_time": "2022-11-23T21:35:46.125Z"
   },
   {
    "duration": 6,
    "start_time": "2022-11-23T21:35:58.583Z"
   },
   {
    "duration": 1100,
    "start_time": "2022-11-23T21:36:12.411Z"
   },
   {
    "duration": 6,
    "start_time": "2022-11-23T21:36:15.802Z"
   },
   {
    "duration": 183,
    "start_time": "2022-11-23T21:36:25.212Z"
   },
   {
    "duration": 150,
    "start_time": "2022-11-23T21:36:29.384Z"
   },
   {
    "duration": 687,
    "start_time": "2022-11-23T21:36:45.502Z"
   },
   {
    "duration": 689,
    "start_time": "2022-11-23T21:37:07.176Z"
   },
   {
    "duration": 10,
    "start_time": "2022-11-23T21:48:43.990Z"
   },
   {
    "duration": 8,
    "start_time": "2022-11-23T21:49:47.919Z"
   },
   {
    "duration": 4,
    "start_time": "2022-11-23T23:23:50.479Z"
   },
   {
    "duration": 43,
    "start_time": "2022-11-23T23:23:50.485Z"
   },
   {
    "duration": 11,
    "start_time": "2022-11-23T23:23:50.530Z"
   },
   {
    "duration": 12,
    "start_time": "2022-11-23T23:23:50.542Z"
   },
   {
    "duration": 4,
    "start_time": "2022-11-23T23:23:50.556Z"
   },
   {
    "duration": 18,
    "start_time": "2022-11-23T23:23:50.562Z"
   },
   {
    "duration": 4,
    "start_time": "2022-11-23T23:23:50.582Z"
   },
   {
    "duration": 7,
    "start_time": "2022-11-23T23:23:50.588Z"
   },
   {
    "duration": 8,
    "start_time": "2022-11-23T23:23:50.597Z"
   },
   {
    "duration": 239,
    "start_time": "2022-11-23T23:23:50.607Z"
   },
   {
    "duration": 8,
    "start_time": "2022-11-23T23:23:50.848Z"
   },
   {
    "duration": 709,
    "start_time": "2022-11-23T23:23:50.857Z"
   },
   {
    "duration": 190,
    "start_time": "2022-11-23T23:23:51.567Z"
   },
   {
    "duration": 157,
    "start_time": "2022-11-23T23:23:51.759Z"
   },
   {
    "duration": 11,
    "start_time": "2022-11-23T23:23:51.918Z"
   },
   {
    "duration": 16,
    "start_time": "2022-11-23T23:23:51.931Z"
   },
   {
    "duration": 4,
    "start_time": "2022-11-23T23:23:51.949Z"
   },
   {
    "duration": 11,
    "start_time": "2022-11-23T23:23:51.955Z"
   },
   {
    "duration": 414,
    "start_time": "2022-11-23T23:23:51.968Z"
   },
   {
    "duration": 724,
    "start_time": "2022-11-23T23:23:52.383Z"
   },
   {
    "duration": 32114,
    "start_time": "2022-11-23T23:23:53.109Z"
   },
   {
    "duration": 74,
    "start_time": "2022-11-23T23:24:25.224Z"
   },
   {
    "duration": 0,
    "start_time": "2022-11-23T23:24:25.299Z"
   },
   {
    "duration": 0,
    "start_time": "2022-11-23T23:24:25.300Z"
   },
   {
    "duration": 9,
    "start_time": "2022-11-23T23:24:36.788Z"
   },
   {
    "duration": 157,
    "start_time": "2022-11-23T23:24:36.798Z"
   },
   {
    "duration": 3083,
    "start_time": "2022-11-24T18:30:47.673Z"
   },
   {
    "duration": 135,
    "start_time": "2022-11-24T18:30:50.758Z"
   },
   {
    "duration": 13,
    "start_time": "2022-11-24T18:30:50.895Z"
   },
   {
    "duration": 15,
    "start_time": "2022-11-24T18:30:50.910Z"
   },
   {
    "duration": 19,
    "start_time": "2022-11-24T18:30:50.926Z"
   },
   {
    "duration": 14,
    "start_time": "2022-11-24T18:30:50.947Z"
   },
   {
    "duration": 4,
    "start_time": "2022-11-24T18:30:50.962Z"
   },
   {
    "duration": 8,
    "start_time": "2022-11-24T18:30:51.115Z"
   },
   {
    "duration": 7,
    "start_time": "2022-11-24T18:30:51.419Z"
   },
   {
    "duration": 263,
    "start_time": "2022-11-24T18:50:03.061Z"
   },
   {
    "duration": 8,
    "start_time": "2022-11-24T19:09:36.641Z"
   },
   {
    "duration": 826,
    "start_time": "2022-11-24T19:09:37.351Z"
   },
   {
    "duration": 204,
    "start_time": "2022-11-24T19:09:38.179Z"
   },
   {
    "duration": 148,
    "start_time": "2022-11-24T19:09:38.502Z"
   },
   {
    "duration": 12,
    "start_time": "2022-11-24T19:09:41.119Z"
   },
   {
    "duration": 9,
    "start_time": "2022-11-24T19:11:27.018Z"
   },
   {
    "duration": 5,
    "start_time": "2022-11-24T19:11:32.026Z"
   },
   {
    "duration": 54,
    "start_time": "2022-11-24T19:14:23.959Z"
   },
   {
    "duration": 18,
    "start_time": "2022-11-24T19:14:29.672Z"
   },
   {
    "duration": 28,
    "start_time": "2022-11-24T19:18:58.543Z"
   },
   {
    "duration": 10,
    "start_time": "2022-11-24T19:19:00.568Z"
   },
   {
    "duration": 4,
    "start_time": "2022-11-24T19:19:04.641Z"
   },
   {
    "duration": 50,
    "start_time": "2022-11-24T19:19:05.704Z"
   },
   {
    "duration": 42,
    "start_time": "2022-11-24T19:19:18.210Z"
   },
   {
    "duration": 106,
    "start_time": "2022-11-24T19:19:37.486Z"
   },
   {
    "duration": 15,
    "start_time": "2022-11-24T19:19:45.736Z"
   },
   {
    "duration": 9,
    "start_time": "2022-11-24T19:19:52.721Z"
   },
   {
    "duration": 44,
    "start_time": "2022-11-24T19:20:04.665Z"
   },
   {
    "duration": 9,
    "start_time": "2022-11-24T19:20:31.938Z"
   },
   {
    "duration": 8,
    "start_time": "2022-11-24T19:20:35.835Z"
   },
   {
    "duration": 5,
    "start_time": "2022-11-24T19:20:36.618Z"
   },
   {
    "duration": 3,
    "start_time": "2022-11-24T19:20:40.386Z"
   },
   {
    "duration": 43,
    "start_time": "2022-11-24T19:20:40.621Z"
   },
   {
    "duration": 49,
    "start_time": "2022-11-24T19:20:58.123Z"
   },
   {
    "duration": 0,
    "start_time": "2022-11-24T19:20:58.173Z"
   },
   {
    "duration": 7,
    "start_time": "2022-11-24T19:20:58.185Z"
   },
   {
    "duration": 9,
    "start_time": "2022-11-24T19:20:58.849Z"
   },
   {
    "duration": 1827,
    "start_time": "2022-11-24T19:21:10.618Z"
   },
   {
    "duration": 43,
    "start_time": "2022-11-24T19:21:12.447Z"
   },
   {
    "duration": 12,
    "start_time": "2022-11-24T19:21:12.491Z"
   },
   {
    "duration": 15,
    "start_time": "2022-11-24T19:21:12.505Z"
   },
   {
    "duration": 7,
    "start_time": "2022-11-24T19:21:12.521Z"
   },
   {
    "duration": 15,
    "start_time": "2022-11-24T19:21:12.529Z"
   },
   {
    "duration": 4,
    "start_time": "2022-11-24T19:21:12.818Z"
   },
   {
    "duration": 10,
    "start_time": "2022-11-24T19:21:13.426Z"
   },
   {
    "duration": 9,
    "start_time": "2022-11-24T19:21:13.882Z"
   },
   {
    "duration": 249,
    "start_time": "2022-11-24T19:21:14.651Z"
   },
   {
    "duration": 9,
    "start_time": "2022-11-24T19:21:15.618Z"
   },
   {
    "duration": 883,
    "start_time": "2022-11-24T19:21:15.939Z"
   },
   {
    "duration": 227,
    "start_time": "2022-11-24T19:21:16.824Z"
   },
   {
    "duration": 180,
    "start_time": "2022-11-24T19:21:17.053Z"
   },
   {
    "duration": 13,
    "start_time": "2022-11-24T19:21:18.450Z"
   },
   {
    "duration": 7,
    "start_time": "2022-11-24T19:21:19.818Z"
   },
   {
    "duration": 5,
    "start_time": "2022-11-24T19:21:20.811Z"
   },
   {
    "duration": 8,
    "start_time": "2022-11-24T19:21:22.514Z"
   },
   {
    "duration": 248,
    "start_time": "2022-11-24T19:21:54.939Z"
   },
   {
    "duration": 713,
    "start_time": "2022-11-24T19:24:54.965Z"
   },
   {
    "duration": 37296,
    "start_time": "2022-11-24T19:25:41.531Z"
   },
   {
    "duration": 57,
    "start_time": "2022-11-25T11:44:38.983Z"
   },
   {
    "duration": 1745,
    "start_time": "2022-11-25T11:44:42.772Z"
   },
   {
    "duration": 143,
    "start_time": "2022-11-25T11:44:46.465Z"
   },
   {
    "duration": 12,
    "start_time": "2022-11-25T11:44:50.044Z"
   },
   {
    "duration": 3,
    "start_time": "2022-11-25T11:47:07.273Z"
   },
   {
    "duration": 48,
    "start_time": "2022-11-25T11:47:07.278Z"
   },
   {
    "duration": 9,
    "start_time": "2022-11-25T11:47:07.328Z"
   },
   {
    "duration": 6,
    "start_time": "2022-11-25T11:47:07.339Z"
   },
   {
    "duration": 79,
    "start_time": "2022-11-25T11:47:07.347Z"
   },
   {
    "duration": 0,
    "start_time": "2022-11-25T11:47:07.427Z"
   },
   {
    "duration": 3,
    "start_time": "2022-11-25T11:47:27.768Z"
   },
   {
    "duration": 11,
    "start_time": "2022-11-25T11:47:30.167Z"
   },
   {
    "duration": 4,
    "start_time": "2022-11-25T11:50:04.217Z"
   },
   {
    "duration": 1255,
    "start_time": "2022-11-25T11:52:20.434Z"
   },
   {
    "duration": 1203,
    "start_time": "2022-11-25T11:52:35.877Z"
   },
   {
    "duration": 1160,
    "start_time": "2022-11-25T11:53:05.440Z"
   },
   {
    "duration": 800,
    "start_time": "2022-11-25T11:55:21.555Z"
   },
   {
    "duration": 1933,
    "start_time": "2022-11-25T11:55:54.897Z"
   },
   {
    "duration": 4,
    "start_time": "2022-11-25T11:56:05.341Z"
   },
   {
    "duration": 55,
    "start_time": "2022-11-25T11:56:05.346Z"
   },
   {
    "duration": 11,
    "start_time": "2022-11-25T11:56:05.403Z"
   },
   {
    "duration": 6,
    "start_time": "2022-11-25T11:56:05.416Z"
   },
   {
    "duration": 10,
    "start_time": "2022-11-25T11:56:05.424Z"
   },
   {
    "duration": 7,
    "start_time": "2022-11-25T11:56:05.436Z"
   },
   {
    "duration": 14,
    "start_time": "2022-11-25T11:56:05.444Z"
   },
   {
    "duration": 6,
    "start_time": "2022-11-25T11:56:05.460Z"
   },
   {
    "duration": 279,
    "start_time": "2022-11-25T11:56:18.549Z"
   },
   {
    "duration": 333,
    "start_time": "2022-11-25T11:58:41.084Z"
   },
   {
    "duration": 258,
    "start_time": "2022-11-25T12:03:43.435Z"
   },
   {
    "duration": 4,
    "start_time": "2022-11-25T12:04:47.403Z"
   },
   {
    "duration": 76,
    "start_time": "2022-11-25T12:04:47.410Z"
   },
   {
    "duration": 10,
    "start_time": "2022-11-25T12:04:47.488Z"
   },
   {
    "duration": 17,
    "start_time": "2022-11-25T12:04:47.500Z"
   },
   {
    "duration": 32,
    "start_time": "2022-11-25T12:04:47.519Z"
   },
   {
    "duration": 49,
    "start_time": "2022-11-25T12:04:47.553Z"
   },
   {
    "duration": 96,
    "start_time": "2022-11-25T12:04:47.604Z"
   },
   {
    "duration": 59,
    "start_time": "2022-11-25T12:04:47.701Z"
   },
   {
    "duration": 281,
    "start_time": "2022-11-25T12:04:50.725Z"
   },
   {
    "duration": 307,
    "start_time": "2022-11-25T12:05:00.476Z"
   },
   {
    "duration": 4,
    "start_time": "2022-11-25T12:05:15.093Z"
   },
   {
    "duration": 52,
    "start_time": "2022-11-25T12:05:15.099Z"
   },
   {
    "duration": 11,
    "start_time": "2022-11-25T12:05:15.152Z"
   },
   {
    "duration": 8,
    "start_time": "2022-11-25T12:05:15.165Z"
   },
   {
    "duration": 22,
    "start_time": "2022-11-25T12:05:15.175Z"
   },
   {
    "duration": 7,
    "start_time": "2022-11-25T12:05:15.199Z"
   },
   {
    "duration": 8,
    "start_time": "2022-11-25T12:05:15.208Z"
   },
   {
    "duration": 8,
    "start_time": "2022-11-25T12:05:15.218Z"
   },
   {
    "duration": 272,
    "start_time": "2022-11-25T12:05:15.228Z"
   },
   {
    "duration": 11,
    "start_time": "2022-11-25T12:05:25.259Z"
   },
   {
    "duration": 392,
    "start_time": "2022-11-25T12:09:58.478Z"
   },
   {
    "duration": 1722,
    "start_time": "2022-11-25T12:35:40.357Z"
   },
   {
    "duration": 5,
    "start_time": "2022-11-25T12:35:47.793Z"
   },
   {
    "duration": 5,
    "start_time": "2022-11-25T12:35:57.330Z"
   },
   {
    "duration": 6,
    "start_time": "2022-11-25T14:32:05.896Z"
   },
   {
    "duration": 1495,
    "start_time": "2022-11-25T14:54:27.987Z"
   },
   {
    "duration": 4,
    "start_time": "2022-11-25T14:54:49.976Z"
   },
   {
    "duration": 4,
    "start_time": "2022-11-25T15:02:08.665Z"
   },
   {
    "duration": 60,
    "start_time": "2022-11-25T15:02:08.671Z"
   },
   {
    "duration": 10,
    "start_time": "2022-11-25T15:02:08.733Z"
   },
   {
    "duration": 3,
    "start_time": "2022-11-25T15:02:08.745Z"
   },
   {
    "duration": 13,
    "start_time": "2022-11-25T15:02:08.749Z"
   },
   {
    "duration": 4,
    "start_time": "2022-11-25T15:02:08.853Z"
   },
   {
    "duration": 9,
    "start_time": "2022-11-25T15:02:08.859Z"
   },
   {
    "duration": 9,
    "start_time": "2022-11-25T15:02:08.869Z"
   },
   {
    "duration": 258,
    "start_time": "2022-11-25T15:02:08.889Z"
   },
   {
    "duration": 1737,
    "start_time": "2022-11-25T15:02:09.149Z"
   },
   {
    "duration": 96,
    "start_time": "2022-11-25T15:02:10.888Z"
   },
   {
    "duration": 835,
    "start_time": "2022-11-25T15:02:10.986Z"
   },
   {
    "duration": 189,
    "start_time": "2022-11-25T15:02:11.823Z"
   },
   {
    "duration": 160,
    "start_time": "2022-11-25T15:02:12.014Z"
   },
   {
    "duration": 147,
    "start_time": "2022-11-25T15:02:24.348Z"
   },
   {
    "duration": 38,
    "start_time": "2022-11-25T15:03:40.797Z"
   },
   {
    "duration": 32,
    "start_time": "2022-11-25T15:03:57.311Z"
   },
   {
    "duration": 30,
    "start_time": "2022-11-25T15:04:01.116Z"
   },
   {
    "duration": 149,
    "start_time": "2022-11-25T15:04:16.932Z"
   },
   {
    "duration": 190,
    "start_time": "2022-11-25T15:04:31.677Z"
   },
   {
    "duration": 221,
    "start_time": "2022-11-25T15:04:42.206Z"
   },
   {
    "duration": 208,
    "start_time": "2022-11-25T15:05:00.823Z"
   },
   {
    "duration": 204,
    "start_time": "2022-11-25T15:05:25.415Z"
   },
   {
    "duration": 156,
    "start_time": "2022-11-25T15:05:47.640Z"
   },
   {
    "duration": 4,
    "start_time": "2022-11-25T15:06:07.042Z"
   },
   {
    "duration": 67,
    "start_time": "2022-11-25T15:06:07.048Z"
   },
   {
    "duration": 11,
    "start_time": "2022-11-25T15:06:07.117Z"
   },
   {
    "duration": 5,
    "start_time": "2022-11-25T15:06:07.130Z"
   },
   {
    "duration": 9,
    "start_time": "2022-11-25T15:06:07.137Z"
   },
   {
    "duration": 5,
    "start_time": "2022-11-25T15:06:07.148Z"
   },
   {
    "duration": 9,
    "start_time": "2022-11-25T15:06:07.155Z"
   },
   {
    "duration": 16,
    "start_time": "2022-11-25T15:06:07.166Z"
   },
   {
    "duration": 380,
    "start_time": "2022-11-25T15:06:07.184Z"
   },
   {
    "duration": 1519,
    "start_time": "2022-11-25T15:06:07.566Z"
   },
   {
    "duration": 91,
    "start_time": "2022-11-25T15:06:09.087Z"
   },
   {
    "duration": 840,
    "start_time": "2022-11-25T15:06:09.180Z"
   },
   {
    "duration": 207,
    "start_time": "2022-11-25T15:06:10.022Z"
   },
   {
    "duration": 161,
    "start_time": "2022-11-25T15:06:10.231Z"
   },
   {
    "duration": 222,
    "start_time": "2022-11-25T15:06:10.394Z"
   },
   {
    "duration": 198,
    "start_time": "2022-11-25T15:13:43.669Z"
   },
   {
    "duration": 4,
    "start_time": "2022-11-25T15:14:02.417Z"
   },
   {
    "duration": 48,
    "start_time": "2022-11-25T15:14:02.423Z"
   },
   {
    "duration": 10,
    "start_time": "2022-11-25T15:14:02.472Z"
   },
   {
    "duration": 14,
    "start_time": "2022-11-25T15:14:02.484Z"
   },
   {
    "duration": 14,
    "start_time": "2022-11-25T15:14:02.500Z"
   },
   {
    "duration": 6,
    "start_time": "2022-11-25T15:14:02.516Z"
   },
   {
    "duration": 9,
    "start_time": "2022-11-25T15:14:02.523Z"
   },
   {
    "duration": 14,
    "start_time": "2022-11-25T15:14:02.534Z"
   },
   {
    "duration": 268,
    "start_time": "2022-11-25T15:14:02.550Z"
   },
   {
    "duration": 1859,
    "start_time": "2022-11-25T15:14:02.819Z"
   },
   {
    "duration": 14,
    "start_time": "2022-11-25T15:14:04.680Z"
   },
   {
    "duration": 993,
    "start_time": "2022-11-25T15:14:04.699Z"
   },
   {
    "duration": 227,
    "start_time": "2022-11-25T15:14:05.694Z"
   },
   {
    "duration": 189,
    "start_time": "2022-11-25T15:14:05.924Z"
   },
   {
    "duration": 225,
    "start_time": "2022-11-25T15:14:06.115Z"
   },
   {
    "duration": 4,
    "start_time": "2022-11-25T15:14:43.623Z"
   },
   {
    "duration": 48,
    "start_time": "2022-11-25T15:14:43.650Z"
   },
   {
    "duration": 10,
    "start_time": "2022-11-25T15:14:43.700Z"
   },
   {
    "duration": 3,
    "start_time": "2022-11-25T15:14:43.711Z"
   },
   {
    "duration": 10,
    "start_time": "2022-11-25T15:14:43.716Z"
   },
   {
    "duration": 7,
    "start_time": "2022-11-25T15:14:43.728Z"
   },
   {
    "duration": 11,
    "start_time": "2022-11-25T15:14:43.737Z"
   },
   {
    "duration": 7,
    "start_time": "2022-11-25T15:14:43.749Z"
   },
   {
    "duration": 350,
    "start_time": "2022-11-25T15:14:43.758Z"
   },
   {
    "duration": 1583,
    "start_time": "2022-11-25T15:14:44.111Z"
   },
   {
    "duration": 86,
    "start_time": "2022-11-25T15:14:45.697Z"
   },
   {
    "duration": 852,
    "start_time": "2022-11-25T15:14:45.795Z"
   },
   {
    "duration": 230,
    "start_time": "2022-11-25T15:14:46.648Z"
   },
   {
    "duration": 170,
    "start_time": "2022-11-25T15:15:22.220Z"
   },
   {
    "duration": 167,
    "start_time": "2022-11-25T15:15:36.318Z"
   },
   {
    "duration": 219,
    "start_time": "2022-11-25T15:16:33.629Z"
   },
   {
    "duration": 4,
    "start_time": "2022-11-25T15:20:06.155Z"
   },
   {
    "duration": 59,
    "start_time": "2022-11-25T15:20:06.161Z"
   },
   {
    "duration": 12,
    "start_time": "2022-11-25T15:20:06.222Z"
   },
   {
    "duration": 7,
    "start_time": "2022-11-25T15:20:06.235Z"
   },
   {
    "duration": 10,
    "start_time": "2022-11-25T15:20:06.245Z"
   },
   {
    "duration": 6,
    "start_time": "2022-11-25T15:20:06.257Z"
   },
   {
    "duration": 11,
    "start_time": "2022-11-25T15:20:06.265Z"
   },
   {
    "duration": 13,
    "start_time": "2022-11-25T15:20:06.278Z"
   },
   {
    "duration": 267,
    "start_time": "2022-11-25T15:20:06.292Z"
   },
   {
    "duration": 2728,
    "start_time": "2022-11-25T15:20:06.561Z"
   },
   {
    "duration": 9,
    "start_time": "2022-11-25T15:20:09.379Z"
   },
   {
    "duration": 950,
    "start_time": "2022-11-25T15:20:09.389Z"
   },
   {
    "duration": 206,
    "start_time": "2022-11-25T15:20:10.340Z"
   },
   {
    "duration": 170,
    "start_time": "2022-11-25T15:20:10.549Z"
   },
   {
    "duration": 212,
    "start_time": "2022-11-25T15:20:10.720Z"
   },
   {
    "duration": 10,
    "start_time": "2022-11-25T15:20:10.934Z"
   },
   {
    "duration": 10,
    "start_time": "2022-11-25T15:20:10.945Z"
   },
   {
    "duration": 24,
    "start_time": "2022-11-25T15:20:10.957Z"
   },
   {
    "duration": 12,
    "start_time": "2022-11-25T15:20:10.982Z"
   },
   {
    "duration": 192,
    "start_time": "2022-11-25T15:20:10.995Z"
   },
   {
    "duration": 795,
    "start_time": "2022-11-25T15:20:11.188Z"
   },
   {
    "duration": 36258,
    "start_time": "2022-11-25T15:20:11.984Z"
   },
   {
    "duration": 8,
    "start_time": "2022-11-25T15:20:48.244Z"
   },
   {
    "duration": 138,
    "start_time": "2022-11-25T15:20:48.254Z"
   },
   {
    "duration": 177,
    "start_time": "2022-11-25T15:21:16.776Z"
   },
   {
    "duration": 337,
    "start_time": "2022-11-25T15:21:20.894Z"
   },
   {
    "duration": 251,
    "start_time": "2022-11-25T15:21:25.452Z"
   },
   {
    "duration": 866,
    "start_time": "2022-11-25T15:21:29.647Z"
   },
   {
    "duration": 388,
    "start_time": "2022-11-25T15:21:34.684Z"
   },
   {
    "duration": 210,
    "start_time": "2022-11-25T15:21:38.614Z"
   },
   {
    "duration": 186,
    "start_time": "2022-11-25T15:21:42.244Z"
   },
   {
    "duration": 1569,
    "start_time": "2022-11-25T15:27:20.082Z"
   },
   {
    "duration": 61,
    "start_time": "2022-11-25T15:27:21.654Z"
   },
   {
    "duration": 12,
    "start_time": "2022-11-25T15:27:21.718Z"
   },
   {
    "duration": 5,
    "start_time": "2022-11-25T15:27:21.733Z"
   },
   {
    "duration": 17,
    "start_time": "2022-11-25T15:27:21.740Z"
   },
   {
    "duration": 20,
    "start_time": "2022-11-25T15:27:21.760Z"
   },
   {
    "duration": 19,
    "start_time": "2022-11-25T15:27:21.782Z"
   },
   {
    "duration": 17,
    "start_time": "2022-11-25T15:27:21.803Z"
   },
   {
    "duration": 386,
    "start_time": "2022-11-25T15:27:21.822Z"
   },
   {
    "duration": 3078,
    "start_time": "2022-11-25T15:27:22.211Z"
   },
   {
    "duration": 98,
    "start_time": "2022-11-25T15:27:25.290Z"
   },
   {
    "duration": 838,
    "start_time": "2022-11-25T15:27:25.477Z"
   },
   {
    "duration": 211,
    "start_time": "2022-11-25T15:27:26.316Z"
   },
   {
    "duration": 174,
    "start_time": "2022-11-25T15:27:26.529Z"
   },
   {
    "duration": 224,
    "start_time": "2022-11-25T15:27:26.705Z"
   },
   {
    "duration": 17,
    "start_time": "2022-11-25T15:27:26.930Z"
   },
   {
    "duration": 8,
    "start_time": "2022-11-25T15:27:26.949Z"
   },
   {
    "duration": 28,
    "start_time": "2022-11-25T15:27:26.959Z"
   },
   {
    "duration": 12,
    "start_time": "2022-11-25T15:27:26.991Z"
   },
   {
    "duration": 371,
    "start_time": "2022-11-25T15:27:27.006Z"
   },
   {
    "duration": 721,
    "start_time": "2022-11-25T15:27:27.379Z"
   },
   {
    "duration": 33057,
    "start_time": "2022-11-25T15:27:28.101Z"
   },
   {
    "duration": 9,
    "start_time": "2022-11-25T15:28:01.160Z"
   },
   {
    "duration": 226,
    "start_time": "2022-11-25T15:28:01.172Z"
   },
   {
    "duration": 4,
    "start_time": "2022-11-25T15:29:31.769Z"
   },
   {
    "duration": 80,
    "start_time": "2022-11-25T15:29:31.775Z"
   },
   {
    "duration": 11,
    "start_time": "2022-11-25T15:29:31.857Z"
   },
   {
    "duration": 11,
    "start_time": "2022-11-25T15:29:31.869Z"
   },
   {
    "duration": 34,
    "start_time": "2022-11-25T15:29:31.882Z"
   },
   {
    "duration": 18,
    "start_time": "2022-11-25T15:29:31.918Z"
   },
   {
    "duration": 20,
    "start_time": "2022-11-25T15:29:31.937Z"
   },
   {
    "duration": 17,
    "start_time": "2022-11-25T15:29:31.959Z"
   },
   {
    "duration": 280,
    "start_time": "2022-11-25T15:29:31.977Z"
   },
   {
    "duration": 1537,
    "start_time": "2022-11-25T15:29:32.259Z"
   },
   {
    "duration": 17,
    "start_time": "2022-11-25T15:29:33.877Z"
   },
   {
    "duration": 945,
    "start_time": "2022-11-25T15:29:33.897Z"
   },
   {
    "duration": 199,
    "start_time": "2022-11-25T15:29:34.843Z"
   },
   {
    "duration": 174,
    "start_time": "2022-11-25T15:29:35.043Z"
   },
   {
    "duration": 219,
    "start_time": "2022-11-25T15:29:35.219Z"
   },
   {
    "duration": 11,
    "start_time": "2022-11-25T15:29:35.440Z"
   },
   {
    "duration": 8,
    "start_time": "2022-11-25T15:29:35.453Z"
   },
   {
    "duration": 29,
    "start_time": "2022-11-25T15:29:35.462Z"
   },
   {
    "duration": 17,
    "start_time": "2022-11-25T15:29:35.493Z"
   },
   {
    "duration": 82,
    "start_time": "2022-11-25T15:29:35.512Z"
   },
   {
    "duration": 940,
    "start_time": "2022-11-25T15:29:35.596Z"
   },
   {
    "duration": 36787,
    "start_time": "2022-11-25T15:29:36.538Z"
   },
   {
    "duration": 8,
    "start_time": "2022-11-25T15:30:13.327Z"
   },
   {
    "duration": 210,
    "start_time": "2022-11-25T15:30:13.337Z"
   },
   {
    "duration": 5,
    "start_time": "2022-11-25T15:30:53.797Z"
   },
   {
    "duration": 53,
    "start_time": "2022-11-25T15:30:53.803Z"
   },
   {
    "duration": 9,
    "start_time": "2022-11-25T15:30:53.858Z"
   },
   {
    "duration": 9,
    "start_time": "2022-11-25T15:30:53.869Z"
   },
   {
    "duration": 29,
    "start_time": "2022-11-25T15:30:53.880Z"
   },
   {
    "duration": 10,
    "start_time": "2022-11-25T15:30:53.911Z"
   },
   {
    "duration": 10,
    "start_time": "2022-11-25T15:30:53.923Z"
   },
   {
    "duration": 13,
    "start_time": "2022-11-25T15:30:53.935Z"
   },
   {
    "duration": 328,
    "start_time": "2022-11-25T15:30:53.952Z"
   },
   {
    "duration": 1718,
    "start_time": "2022-11-25T15:30:54.281Z"
   },
   {
    "duration": 15,
    "start_time": "2022-11-25T15:30:56.079Z"
   },
   {
    "duration": 856,
    "start_time": "2022-11-25T15:30:56.097Z"
   },
   {
    "duration": 227,
    "start_time": "2022-11-25T15:30:56.955Z"
   },
   {
    "duration": 321,
    "start_time": "2022-11-25T15:30:57.184Z"
   },
   {
    "duration": 242,
    "start_time": "2022-11-25T15:30:57.507Z"
   },
   {
    "duration": 14,
    "start_time": "2022-11-25T15:30:57.751Z"
   },
   {
    "duration": 17,
    "start_time": "2022-11-25T15:30:57.767Z"
   },
   {
    "duration": 18,
    "start_time": "2022-11-25T15:30:57.787Z"
   },
   {
    "duration": 10,
    "start_time": "2022-11-25T15:30:57.807Z"
   },
   {
    "duration": 373,
    "start_time": "2022-11-25T15:30:57.820Z"
   },
   {
    "duration": 960,
    "start_time": "2022-11-25T15:30:58.197Z"
   },
   {
    "duration": 35869,
    "start_time": "2022-11-25T15:30:59.158Z"
   },
   {
    "duration": 9,
    "start_time": "2022-11-25T15:31:35.029Z"
   },
   {
    "duration": 228,
    "start_time": "2022-11-25T15:31:35.041Z"
   },
   {
    "duration": 161,
    "start_time": "2022-11-25T15:32:02.998Z"
   },
   {
    "duration": 5,
    "start_time": "2022-11-28T00:08:10.209Z"
   },
   {
    "duration": 60,
    "start_time": "2022-11-28T00:08:10.216Z"
   },
   {
    "duration": 10,
    "start_time": "2022-11-28T00:08:10.278Z"
   },
   {
    "duration": 10,
    "start_time": "2022-11-28T00:08:10.289Z"
   },
   {
    "duration": 17,
    "start_time": "2022-11-28T00:08:10.301Z"
   },
   {
    "duration": 6,
    "start_time": "2022-11-28T00:08:10.321Z"
   },
   {
    "duration": 14,
    "start_time": "2022-11-28T00:08:10.329Z"
   },
   {
    "duration": 9,
    "start_time": "2022-11-28T00:08:10.345Z"
   },
   {
    "duration": 290,
    "start_time": "2022-11-28T00:08:10.355Z"
   },
   {
    "duration": 1641,
    "start_time": "2022-11-28T00:08:10.647Z"
   },
   {
    "duration": 91,
    "start_time": "2022-11-28T00:08:12.290Z"
   },
   {
    "duration": 842,
    "start_time": "2022-11-28T00:08:12.383Z"
   },
   {
    "duration": 218,
    "start_time": "2022-11-28T00:08:13.226Z"
   },
   {
    "duration": 181,
    "start_time": "2022-11-28T00:08:13.446Z"
   },
   {
    "duration": 216,
    "start_time": "2022-11-28T00:08:13.629Z"
   },
   {
    "duration": 13,
    "start_time": "2022-11-28T00:08:13.846Z"
   },
   {
    "duration": 20,
    "start_time": "2022-11-28T00:08:13.861Z"
   },
   {
    "duration": 17,
    "start_time": "2022-11-28T00:08:13.883Z"
   },
   {
    "duration": 25,
    "start_time": "2022-11-28T00:08:13.902Z"
   },
   {
    "duration": 452,
    "start_time": "2022-11-28T00:08:13.930Z"
   },
   {
    "duration": 971,
    "start_time": "2022-11-28T00:08:14.385Z"
   },
   {
    "duration": 79,
    "start_time": "2022-11-28T00:08:18.833Z"
   },
   {
    "duration": 5,
    "start_time": "2022-11-28T00:08:32.506Z"
   },
   {
    "duration": 177337,
    "start_time": "2022-11-28T00:08:46.967Z"
   },
   {
    "duration": 200907,
    "start_time": "2022-11-28T00:11:55.674Z"
   },
   {
    "duration": 12446,
    "start_time": "2022-11-28T00:16:20.954Z"
   },
   {
    "duration": 109,
    "start_time": "2022-11-28T00:17:29.395Z"
   },
   {
    "duration": 12256,
    "start_time": "2022-11-28T00:18:07.510Z"
   },
   {
    "duration": 18769,
    "start_time": "2022-11-28T00:18:24.747Z"
   },
   {
    "duration": 143,
    "start_time": "2022-11-28T00:19:04.135Z"
   },
   {
    "duration": 109,
    "start_time": "2022-11-28T00:19:09.568Z"
   },
   {
    "duration": 109,
    "start_time": "2022-11-28T00:19:49.223Z"
   },
   {
    "duration": 124,
    "start_time": "2022-11-28T00:19:58.736Z"
   },
   {
    "duration": 168,
    "start_time": "2022-11-28T00:20:13.340Z"
   },
   {
    "duration": 177,
    "start_time": "2022-11-28T00:20:18.976Z"
   },
   {
    "duration": 185,
    "start_time": "2022-11-28T00:20:22.353Z"
   },
   {
    "duration": 165,
    "start_time": "2022-11-28T00:20:25.923Z"
   },
   {
    "duration": 162,
    "start_time": "2022-11-28T00:20:34.133Z"
   },
   {
    "duration": 159,
    "start_time": "2022-11-28T00:20:39.718Z"
   },
   {
    "duration": 162,
    "start_time": "2022-11-28T00:20:42.790Z"
   },
   {
    "duration": 8144,
    "start_time": "2022-11-28T00:21:00.526Z"
   },
   {
    "duration": 5140,
    "start_time": "2022-11-28T00:21:18.356Z"
   },
   {
    "duration": 188,
    "start_time": "2022-11-28T00:21:36.182Z"
   },
   {
    "duration": 5453,
    "start_time": "2022-11-28T00:22:00.975Z"
   },
   {
    "duration": 175,
    "start_time": "2022-11-28T00:22:20.220Z"
   },
   {
    "duration": 4,
    "start_time": "2022-11-28T00:23:22.698Z"
   },
   {
    "duration": 0,
    "start_time": "2022-11-28T00:27:34.957Z"
   },
   {
    "duration": 141272,
    "start_time": "2022-11-28T00:27:41.088Z"
   },
   {
    "duration": 19,
    "start_time": "2022-11-28T00:30:45.128Z"
   },
   {
    "duration": 376281,
    "start_time": "2022-11-28T00:31:22.861Z"
   },
   {
    "duration": 564,
    "start_time": "2022-11-28T00:53:34.903Z"
   },
   {
    "duration": 481,
    "start_time": "2022-11-28T00:54:16.788Z"
   },
   {
    "duration": 9,
    "start_time": "2022-11-28T00:55:09.606Z"
   },
   {
    "duration": 10,
    "start_time": "2022-11-28T00:55:12.652Z"
   },
   {
    "duration": 5,
    "start_time": "2022-11-28T00:55:26.661Z"
   },
   {
    "duration": 6,
    "start_time": "2022-11-28T00:56:16.975Z"
   },
   {
    "duration": 5,
    "start_time": "2022-11-28T00:56:39.197Z"
   },
   {
    "duration": 5,
    "start_time": "2022-11-28T00:56:47.679Z"
   },
   {
    "duration": 4999,
    "start_time": "2022-11-28T01:00:06.360Z"
   },
   {
    "duration": 4,
    "start_time": "2022-11-28T01:00:18.808Z"
   },
   {
    "duration": 674,
    "start_time": "2022-11-28T01:05:14.614Z"
   },
   {
    "duration": 5,
    "start_time": "2022-11-28T01:05:26.275Z"
   },
   {
    "duration": 3,
    "start_time": "2022-11-28T01:06:32.371Z"
   },
   {
    "duration": 9,
    "start_time": "2022-11-28T01:06:49.107Z"
   },
   {
    "duration": 185,
    "start_time": "2022-11-28T01:07:17.197Z"
   },
   {
    "duration": 200,
    "start_time": "2022-11-28T01:09:32.992Z"
   },
   {
    "duration": 249,
    "start_time": "2022-11-28T01:09:53.241Z"
   },
   {
    "duration": 16,
    "start_time": "2022-11-28T01:15:14.791Z"
   },
   {
    "duration": 251,
    "start_time": "2022-11-28T01:16:06.261Z"
   },
   {
    "duration": 17,
    "start_time": "2022-11-28T01:16:14.469Z"
   },
   {
    "duration": 8,
    "start_time": "2022-11-28T01:16:32.141Z"
   },
   {
    "duration": 109,
    "start_time": "2022-11-28T01:16:40.287Z"
   },
   {
    "duration": 10,
    "start_time": "2022-11-28T01:33:11.646Z"
   },
   {
    "duration": 4,
    "start_time": "2022-11-28T01:33:17.072Z"
   },
   {
    "duration": 71,
    "start_time": "2022-11-28T01:33:27.332Z"
   },
   {
    "duration": 321,
    "start_time": "2022-11-28T01:35:23.107Z"
   },
   {
    "duration": 215,
    "start_time": "2022-11-28T01:35:39.157Z"
   },
   {
    "duration": 75,
    "start_time": "2022-11-28T01:36:30.618Z"
   },
   {
    "duration": 1402,
    "start_time": "2022-11-28T01:42:43.871Z"
   },
   {
    "duration": 49,
    "start_time": "2022-11-28T01:42:45.275Z"
   },
   {
    "duration": 11,
    "start_time": "2022-11-28T01:42:45.326Z"
   },
   {
    "duration": 13,
    "start_time": "2022-11-28T01:42:45.339Z"
   },
   {
    "duration": 17,
    "start_time": "2022-11-28T01:42:45.353Z"
   },
   {
    "duration": 15,
    "start_time": "2022-11-28T01:42:45.372Z"
   },
   {
    "duration": 17,
    "start_time": "2022-11-28T01:42:45.389Z"
   },
   {
    "duration": 14,
    "start_time": "2022-11-28T01:42:45.408Z"
   },
   {
    "duration": 316,
    "start_time": "2022-11-28T01:42:45.424Z"
   },
   {
    "duration": 2236,
    "start_time": "2022-11-28T01:42:45.743Z"
   },
   {
    "duration": 97,
    "start_time": "2022-11-28T01:42:47.981Z"
   },
   {
    "duration": 764,
    "start_time": "2022-11-28T01:42:48.080Z"
   },
   {
    "duration": 222,
    "start_time": "2022-11-28T01:42:48.845Z"
   },
   {
    "duration": 173,
    "start_time": "2022-11-28T01:42:49.068Z"
   },
   {
    "duration": 202,
    "start_time": "2022-11-28T01:42:49.242Z"
   },
   {
    "duration": 12,
    "start_time": "2022-11-28T01:42:49.446Z"
   },
   {
    "duration": 21,
    "start_time": "2022-11-28T01:42:49.459Z"
   },
   {
    "duration": 5,
    "start_time": "2022-11-28T01:42:49.482Z"
   },
   {
    "duration": 34,
    "start_time": "2022-11-28T01:42:49.488Z"
   },
   {
    "duration": 481,
    "start_time": "2022-11-28T01:42:49.523Z"
   },
   {
    "duration": 73,
    "start_time": "2022-11-28T01:42:50.005Z"
   },
   {
    "duration": 4942,
    "start_time": "2022-11-28T01:42:50.080Z"
   },
   {
    "duration": 3,
    "start_time": "2022-11-28T01:42:55.024Z"
   },
   {
    "duration": 367452,
    "start_time": "2022-11-28T01:42:55.029Z"
   },
   {
    "duration": 4,
    "start_time": "2022-11-28T01:49:02.483Z"
   },
   {
    "duration": 15,
    "start_time": "2022-11-28T01:49:02.489Z"
   },
   {
    "duration": 204,
    "start_time": "2022-11-28T01:49:02.505Z"
   },
   {
    "duration": 258,
    "start_time": "2022-11-28T01:49:02.712Z"
   },
   {
    "duration": 1989,
    "start_time": "2022-11-28T11:53:29.637Z"
   },
   {
    "duration": 122,
    "start_time": "2022-11-28T11:53:31.629Z"
   },
   {
    "duration": 11,
    "start_time": "2022-11-28T11:53:31.756Z"
   },
   {
    "duration": 19,
    "start_time": "2022-11-28T11:53:31.768Z"
   },
   {
    "duration": 33,
    "start_time": "2022-11-28T11:53:31.789Z"
   },
   {
    "duration": 19,
    "start_time": "2022-11-28T11:53:31.824Z"
   },
   {
    "duration": 9,
    "start_time": "2022-11-28T11:53:31.970Z"
   },
   {
    "duration": 9,
    "start_time": "2022-11-28T11:53:32.450Z"
   },
   {
    "duration": 322,
    "start_time": "2022-11-28T11:53:33.899Z"
   },
   {
    "duration": 3332,
    "start_time": "2022-11-28T11:53:34.223Z"
   },
   {
    "duration": 97,
    "start_time": "2022-11-28T11:53:37.558Z"
   },
   {
    "duration": 920,
    "start_time": "2022-11-28T11:53:37.658Z"
   },
   {
    "duration": 220,
    "start_time": "2022-11-28T11:53:38.580Z"
   },
   {
    "duration": 193,
    "start_time": "2022-11-28T11:53:38.801Z"
   },
   {
    "duration": 238,
    "start_time": "2022-11-28T11:53:39.005Z"
   },
   {
    "duration": 25,
    "start_time": "2022-11-28T11:53:43.843Z"
   },
   {
    "duration": 9,
    "start_time": "2022-11-28T11:53:49.410Z"
   },
   {
    "duration": 21,
    "start_time": "2022-11-28T11:53:55.571Z"
   }
  ],
  "kernelspec": {
   "display_name": "Python 3 (ipykernel)",
   "language": "python",
   "name": "python3"
  },
  "language_info": {
   "codemirror_mode": {
    "name": "ipython",
    "version": 3
   },
   "file_extension": ".py",
   "mimetype": "text/x-python",
   "name": "python",
   "nbconvert_exporter": "python",
   "pygments_lexer": "ipython3",
   "version": "3.9.7"
  },
  "toc": {
   "base_numbering": 1,
   "nav_menu": {},
   "number_sections": true,
   "sideBar": true,
   "skip_h1_title": true,
   "title_cell": "Содержание",
   "title_sidebar": "Contents",
   "toc_cell": true,
   "toc_position": {
    "height": "calc(100% - 180px)",
    "left": "10px",
    "top": "150px",
    "width": "270.188px"
   },
   "toc_section_display": true,
   "toc_window_display": true
  }
 },
 "nbformat": 4,
 "nbformat_minor": 2
}
